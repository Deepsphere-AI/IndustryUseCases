{
 "cells": [
  {
   "cell_type": "markdown",
   "metadata": {},
   "source": [
    "## .INI FILE CONFIGURATION"
   ]
  },
  {
   "cell_type": "code",
   "execution_count": 2,
   "metadata": {},
   "outputs": [],
   "source": [
    "import configparser\n",
    "import os\n",
    "vAR_read_config = configparser.ConfigParser(allow_no_value=True)\n",
    "vAR_INI_FILE_PATH = os.environ.get('SCORE_PREDICTION_INI_FILE_PATH')\n",
    "vAR_read_config.read(vAR_INI_FILE_PATH)\n",
    "vAR_Training_Path = vAR_read_config['PATH']['Training_file']            \n",
    "vAR_Test_Path = vAR_read_config['PATH']['Test_file']"
   ]
  },
  {
   "cell_type": "markdown",
   "metadata": {},
   "source": [
    "## IMPORTING LIBRARIES"
   ]
  },
  {
   "cell_type": "code",
   "execution_count": 3,
   "metadata": {},
   "outputs": [],
   "source": [
    "import configparser\n",
    "import pandas as vAR_pd\n",
    "import numpy as np\n",
    "from sklearn.linear_model import LinearRegression\n",
    "from sklearn.model_selection import cross_val_predict\n",
    "import matplotlib.pyplot as vAR_plt"
   ]
  },
  {
   "cell_type": "markdown",
   "metadata": {},
   "source": [
    "## IMPORTING TRAINING DATA"
   ]
  },
  {
   "cell_type": "code",
   "execution_count": 4,
   "metadata": {
    "scrolled": false
   },
   "outputs": [
    {
     "data": {
      "text/html": [
       "<div>\n",
       "<style scoped>\n",
       "    .dataframe tbody tr th:only-of-type {\n",
       "        vertical-align: middle;\n",
       "    }\n",
       "\n",
       "    .dataframe tbody tr th {\n",
       "        vertical-align: top;\n",
       "    }\n",
       "\n",
       "    .dataframe thead th {\n",
       "        text-align: right;\n",
       "    }\n",
       "</style>\n",
       "<table border=\"1\" class=\"dataframe\">\n",
       "  <thead>\n",
       "    <tr style=\"text-align: right;\">\n",
       "      <th></th>\n",
       "      <th>Id no.</th>\n",
       "      <th>Name</th>\n",
       "      <th>Assignment 1(%)</th>\n",
       "      <th>Assignment 2(%)</th>\n",
       "      <th>Assignment 3(%)</th>\n",
       "      <th>Semester 1(%)</th>\n",
       "      <th>Semester 2(%)</th>\n",
       "      <th>Backlogs</th>\n",
       "      <th>Tech-fest participation</th>\n",
       "      <th>Class</th>\n",
       "      <th>...</th>\n",
       "      <th>Attendance</th>\n",
       "      <th>Quiz Voluntering</th>\n",
       "      <th>Maths Olympiad</th>\n",
       "      <th>Final grade</th>\n",
       "      <th>Science olympiad</th>\n",
       "      <th>Adaptiveness</th>\n",
       "      <th>Social activity</th>\n",
       "      <th>Primary Language(Reading &amp;writing)</th>\n",
       "      <th>Secondary Language(Reading&amp;writing)</th>\n",
       "      <th>Status</th>\n",
       "    </tr>\n",
       "  </thead>\n",
       "  <tbody>\n",
       "    <tr>\n",
       "      <th>0</th>\n",
       "      <td>1</td>\n",
       "      <td>Abhishek</td>\n",
       "      <td>72</td>\n",
       "      <td>79</td>\n",
       "      <td>84</td>\n",
       "      <td>76</td>\n",
       "      <td>81</td>\n",
       "      <td>0</td>\n",
       "      <td>1</td>\n",
       "      <td>6</td>\n",
       "      <td>...</td>\n",
       "      <td>81</td>\n",
       "      <td>1</td>\n",
       "      <td>1</td>\n",
       "      <td>A</td>\n",
       "      <td>1</td>\n",
       "      <td>1</td>\n",
       "      <td>1</td>\n",
       "      <td>Y</td>\n",
       "      <td>Y</td>\n",
       "      <td>Pass</td>\n",
       "    </tr>\n",
       "    <tr>\n",
       "      <th>1</th>\n",
       "      <td>2</td>\n",
       "      <td>Kiran</td>\n",
       "      <td>62</td>\n",
       "      <td>56</td>\n",
       "      <td>29</td>\n",
       "      <td>42</td>\n",
       "      <td>49</td>\n",
       "      <td>1</td>\n",
       "      <td>0</td>\n",
       "      <td>7</td>\n",
       "      <td>...</td>\n",
       "      <td>54</td>\n",
       "      <td>0</td>\n",
       "      <td>0</td>\n",
       "      <td>C</td>\n",
       "      <td>0</td>\n",
       "      <td>0</td>\n",
       "      <td>0</td>\n",
       "      <td>N</td>\n",
       "      <td>N</td>\n",
       "      <td>Fail</td>\n",
       "    </tr>\n",
       "    <tr>\n",
       "      <th>2</th>\n",
       "      <td>3</td>\n",
       "      <td>Anu</td>\n",
       "      <td>82</td>\n",
       "      <td>89</td>\n",
       "      <td>95</td>\n",
       "      <td>92</td>\n",
       "      <td>87</td>\n",
       "      <td>0</td>\n",
       "      <td>1</td>\n",
       "      <td>6</td>\n",
       "      <td>...</td>\n",
       "      <td>93</td>\n",
       "      <td>1</td>\n",
       "      <td>0</td>\n",
       "      <td>A+</td>\n",
       "      <td>1</td>\n",
       "      <td>1</td>\n",
       "      <td>0</td>\n",
       "      <td>Y</td>\n",
       "      <td>Y</td>\n",
       "      <td>Pass</td>\n",
       "    </tr>\n",
       "    <tr>\n",
       "      <th>3</th>\n",
       "      <td>4</td>\n",
       "      <td>Varun</td>\n",
       "      <td>66</td>\n",
       "      <td>71</td>\n",
       "      <td>64</td>\n",
       "      <td>79</td>\n",
       "      <td>78</td>\n",
       "      <td>0</td>\n",
       "      <td>0</td>\n",
       "      <td>8</td>\n",
       "      <td>...</td>\n",
       "      <td>73</td>\n",
       "      <td>0</td>\n",
       "      <td>0</td>\n",
       "      <td>B</td>\n",
       "      <td>0</td>\n",
       "      <td>0</td>\n",
       "      <td>0</td>\n",
       "      <td>N</td>\n",
       "      <td>N</td>\n",
       "      <td>Pass</td>\n",
       "    </tr>\n",
       "    <tr>\n",
       "      <th>4</th>\n",
       "      <td>5</td>\n",
       "      <td>Saumya</td>\n",
       "      <td>74</td>\n",
       "      <td>85</td>\n",
       "      <td>67</td>\n",
       "      <td>83</td>\n",
       "      <td>79</td>\n",
       "      <td>0</td>\n",
       "      <td>1</td>\n",
       "      <td>7</td>\n",
       "      <td>...</td>\n",
       "      <td>82</td>\n",
       "      <td>1</td>\n",
       "      <td>0</td>\n",
       "      <td>A</td>\n",
       "      <td>0</td>\n",
       "      <td>1</td>\n",
       "      <td>1</td>\n",
       "      <td>Y</td>\n",
       "      <td>Y</td>\n",
       "      <td>Pass</td>\n",
       "    </tr>\n",
       "    <tr>\n",
       "      <th>...</th>\n",
       "      <td>...</td>\n",
       "      <td>...</td>\n",
       "      <td>...</td>\n",
       "      <td>...</td>\n",
       "      <td>...</td>\n",
       "      <td>...</td>\n",
       "      <td>...</td>\n",
       "      <td>...</td>\n",
       "      <td>...</td>\n",
       "      <td>...</td>\n",
       "      <td>...</td>\n",
       "      <td>...</td>\n",
       "      <td>...</td>\n",
       "      <td>...</td>\n",
       "      <td>...</td>\n",
       "      <td>...</td>\n",
       "      <td>...</td>\n",
       "      <td>...</td>\n",
       "      <td>...</td>\n",
       "      <td>...</td>\n",
       "      <td>...</td>\n",
       "    </tr>\n",
       "    <tr>\n",
       "      <th>1995</th>\n",
       "      <td>1996</td>\n",
       "      <td>Anu</td>\n",
       "      <td>43</td>\n",
       "      <td>53</td>\n",
       "      <td>30</td>\n",
       "      <td>48</td>\n",
       "      <td>59</td>\n",
       "      <td>1</td>\n",
       "      <td>0</td>\n",
       "      <td>8</td>\n",
       "      <td>...</td>\n",
       "      <td>78</td>\n",
       "      <td>0</td>\n",
       "      <td>0</td>\n",
       "      <td>C</td>\n",
       "      <td>0</td>\n",
       "      <td>0</td>\n",
       "      <td>0</td>\n",
       "      <td>N</td>\n",
       "      <td>N</td>\n",
       "      <td>Fail</td>\n",
       "    </tr>\n",
       "    <tr>\n",
       "      <th>1996</th>\n",
       "      <td>1997</td>\n",
       "      <td>Om</td>\n",
       "      <td>34</td>\n",
       "      <td>46</td>\n",
       "      <td>41</td>\n",
       "      <td>39</td>\n",
       "      <td>52</td>\n",
       "      <td>1</td>\n",
       "      <td>1</td>\n",
       "      <td>7</td>\n",
       "      <td>...</td>\n",
       "      <td>49</td>\n",
       "      <td>0</td>\n",
       "      <td>0</td>\n",
       "      <td>D</td>\n",
       "      <td>0</td>\n",
       "      <td>0</td>\n",
       "      <td>1</td>\n",
       "      <td>N</td>\n",
       "      <td>N</td>\n",
       "      <td>Fail</td>\n",
       "    </tr>\n",
       "    <tr>\n",
       "      <th>1997</th>\n",
       "      <td>1998</td>\n",
       "      <td>Rishi</td>\n",
       "      <td>59</td>\n",
       "      <td>45</td>\n",
       "      <td>41</td>\n",
       "      <td>56</td>\n",
       "      <td>31</td>\n",
       "      <td>1</td>\n",
       "      <td>0</td>\n",
       "      <td>6</td>\n",
       "      <td>...</td>\n",
       "      <td>81</td>\n",
       "      <td>0</td>\n",
       "      <td>0</td>\n",
       "      <td>C</td>\n",
       "      <td>0</td>\n",
       "      <td>0</td>\n",
       "      <td>1</td>\n",
       "      <td>N</td>\n",
       "      <td>N</td>\n",
       "      <td>Fail</td>\n",
       "    </tr>\n",
       "    <tr>\n",
       "      <th>1998</th>\n",
       "      <td>1999</td>\n",
       "      <td>Rohan</td>\n",
       "      <td>92</td>\n",
       "      <td>86</td>\n",
       "      <td>81</td>\n",
       "      <td>93</td>\n",
       "      <td>89</td>\n",
       "      <td>0</td>\n",
       "      <td>1</td>\n",
       "      <td>7</td>\n",
       "      <td>...</td>\n",
       "      <td>89</td>\n",
       "      <td>1</td>\n",
       "      <td>0</td>\n",
       "      <td>A+</td>\n",
       "      <td>1</td>\n",
       "      <td>1</td>\n",
       "      <td>1</td>\n",
       "      <td>Y</td>\n",
       "      <td>Y</td>\n",
       "      <td>Pass</td>\n",
       "    </tr>\n",
       "    <tr>\n",
       "      <th>1999</th>\n",
       "      <td>2000</td>\n",
       "      <td>Vandana</td>\n",
       "      <td>78</td>\n",
       "      <td>72</td>\n",
       "      <td>81</td>\n",
       "      <td>76</td>\n",
       "      <td>80</td>\n",
       "      <td>0</td>\n",
       "      <td>0</td>\n",
       "      <td>7</td>\n",
       "      <td>...</td>\n",
       "      <td>86</td>\n",
       "      <td>1</td>\n",
       "      <td>0</td>\n",
       "      <td>B+</td>\n",
       "      <td>0</td>\n",
       "      <td>0</td>\n",
       "      <td>1</td>\n",
       "      <td>Y</td>\n",
       "      <td>N</td>\n",
       "      <td>Pass</td>\n",
       "    </tr>\n",
       "  </tbody>\n",
       "</table>\n",
       "<p>2000 rows × 21 columns</p>\n",
       "</div>"
      ],
      "text/plain": [
       "      Id no.     Name   Assignment 1(%)  Assignment 2(%)  Assignment 3(%)  \\\n",
       "0          1  Abhishek               72               79               84   \n",
       "1          2     Kiran               62               56               29   \n",
       "2          3       Anu               82               89               95   \n",
       "3          4     Varun               66               71               64   \n",
       "4          5    Saumya               74               85               67   \n",
       "...      ...       ...              ...              ...              ...   \n",
       "1995    1996       Anu               43               53               30   \n",
       "1996    1997        Om               34               46               41   \n",
       "1997    1998     Rishi               59               45               41   \n",
       "1998    1999     Rohan               92               86               81   \n",
       "1999    2000   Vandana               78               72               81   \n",
       "\n",
       "      Semester 1(%)  Semester 2(%)  Backlogs  Tech-fest participation  Class  \\\n",
       "0                76             81         0                        1      6   \n",
       "1                42             49         1                        0      7   \n",
       "2                92             87         0                        1      6   \n",
       "3                79             78         0                        0      8   \n",
       "4                83             79         0                        1      7   \n",
       "...             ...            ...       ...                      ...    ...   \n",
       "1995             48             59         1                        0      8   \n",
       "1996             39             52         1                        1      7   \n",
       "1997             56             31         1                        0      6   \n",
       "1998             93             89         0                        1      7   \n",
       "1999             76             80         0                        0      7   \n",
       "\n",
       "      ...  Attendance  Quiz Voluntering  Maths Olympiad  Final grade  \\\n",
       "0     ...          81                 1               1            A   \n",
       "1     ...          54                 0               0            C   \n",
       "2     ...          93                 1               0           A+   \n",
       "3     ...          73                 0               0            B   \n",
       "4     ...          82                 1               0            A   \n",
       "...   ...         ...               ...             ...          ...   \n",
       "1995  ...          78                 0               0            C   \n",
       "1996  ...          49                 0               0            D   \n",
       "1997  ...          81                 0               0            C   \n",
       "1998  ...          89                 1               0           A+   \n",
       "1999  ...          86                 1               0           B+   \n",
       "\n",
       "     Science olympiad  Adaptiveness  Social activity  \\\n",
       "0                   1             1                1   \n",
       "1                   0             0                0   \n",
       "2                   1             1                0   \n",
       "3                   0             0                0   \n",
       "4                   0             1                1   \n",
       "...               ...           ...              ...   \n",
       "1995                0             0                0   \n",
       "1996                0             0                1   \n",
       "1997                0             0                1   \n",
       "1998                1             1                1   \n",
       "1999                0             0                1   \n",
       "\n",
       "      Primary Language(Reading &writing) Secondary Language(Reading&writing)  \\\n",
       "0                                      Y                                   Y   \n",
       "1                                      N                                   N   \n",
       "2                                      Y                                   Y   \n",
       "3                                      N                                   N   \n",
       "4                                      Y                                   Y   \n",
       "...                                  ...                                 ...   \n",
       "1995                                   N                                   N   \n",
       "1996                                   N                                   N   \n",
       "1997                                   N                                   N   \n",
       "1998                                   Y                                   Y   \n",
       "1999                                   Y                                   N   \n",
       "\n",
       "     Status  \n",
       "0      Pass  \n",
       "1      Fail  \n",
       "2      Pass  \n",
       "3      Pass  \n",
       "4      Pass  \n",
       "...     ...  \n",
       "1995   Fail  \n",
       "1996   Fail  \n",
       "1997   Fail  \n",
       "1998   Pass  \n",
       "1999   Pass  \n",
       "\n",
       "[2000 rows x 21 columns]"
      ]
     },
     "execution_count": 4,
     "metadata": {},
     "output_type": "execute_result"
    }
   ],
   "source": [
    "vAR_df=vAR_pd.read_excel(vAR_Training_Path)\n",
    "vAR_df"
   ]
  },
  {
   "cell_type": "markdown",
   "metadata": {},
   "source": [
    "### Converting categorical to numerical variable"
   ]
  },
  {
   "cell_type": "code",
   "execution_count": 5,
   "metadata": {},
   "outputs": [
    {
     "data": {
      "text/html": [
       "<div>\n",
       "<style scoped>\n",
       "    .dataframe tbody tr th:only-of-type {\n",
       "        vertical-align: middle;\n",
       "    }\n",
       "\n",
       "    .dataframe tbody tr th {\n",
       "        vertical-align: top;\n",
       "    }\n",
       "\n",
       "    .dataframe thead th {\n",
       "        text-align: right;\n",
       "    }\n",
       "</style>\n",
       "<table border=\"1\" class=\"dataframe\">\n",
       "  <thead>\n",
       "    <tr style=\"text-align: right;\">\n",
       "      <th></th>\n",
       "      <th>Name</th>\n",
       "      <th>Final grade</th>\n",
       "      <th>Primary Language(Reading &amp;writing)</th>\n",
       "      <th>Secondary Language(Reading&amp;writing)</th>\n",
       "      <th>Status</th>\n",
       "    </tr>\n",
       "  </thead>\n",
       "  <tbody>\n",
       "    <tr>\n",
       "      <th>0</th>\n",
       "      <td>Abhishek</td>\n",
       "      <td>A</td>\n",
       "      <td>Y</td>\n",
       "      <td>Y</td>\n",
       "      <td>Pass</td>\n",
       "    </tr>\n",
       "    <tr>\n",
       "      <th>1</th>\n",
       "      <td>Kiran</td>\n",
       "      <td>C</td>\n",
       "      <td>N</td>\n",
       "      <td>N</td>\n",
       "      <td>Fail</td>\n",
       "    </tr>\n",
       "    <tr>\n",
       "      <th>2</th>\n",
       "      <td>Anu</td>\n",
       "      <td>A+</td>\n",
       "      <td>Y</td>\n",
       "      <td>Y</td>\n",
       "      <td>Pass</td>\n",
       "    </tr>\n",
       "    <tr>\n",
       "      <th>3</th>\n",
       "      <td>Varun</td>\n",
       "      <td>B</td>\n",
       "      <td>N</td>\n",
       "      <td>N</td>\n",
       "      <td>Pass</td>\n",
       "    </tr>\n",
       "    <tr>\n",
       "      <th>4</th>\n",
       "      <td>Saumya</td>\n",
       "      <td>A</td>\n",
       "      <td>Y</td>\n",
       "      <td>Y</td>\n",
       "      <td>Pass</td>\n",
       "    </tr>\n",
       "    <tr>\n",
       "      <th>...</th>\n",
       "      <td>...</td>\n",
       "      <td>...</td>\n",
       "      <td>...</td>\n",
       "      <td>...</td>\n",
       "      <td>...</td>\n",
       "    </tr>\n",
       "    <tr>\n",
       "      <th>1995</th>\n",
       "      <td>Anu</td>\n",
       "      <td>C</td>\n",
       "      <td>N</td>\n",
       "      <td>N</td>\n",
       "      <td>Fail</td>\n",
       "    </tr>\n",
       "    <tr>\n",
       "      <th>1996</th>\n",
       "      <td>Om</td>\n",
       "      <td>D</td>\n",
       "      <td>N</td>\n",
       "      <td>N</td>\n",
       "      <td>Fail</td>\n",
       "    </tr>\n",
       "    <tr>\n",
       "      <th>1997</th>\n",
       "      <td>Rishi</td>\n",
       "      <td>C</td>\n",
       "      <td>N</td>\n",
       "      <td>N</td>\n",
       "      <td>Fail</td>\n",
       "    </tr>\n",
       "    <tr>\n",
       "      <th>1998</th>\n",
       "      <td>Rohan</td>\n",
       "      <td>A+</td>\n",
       "      <td>Y</td>\n",
       "      <td>Y</td>\n",
       "      <td>Pass</td>\n",
       "    </tr>\n",
       "    <tr>\n",
       "      <th>1999</th>\n",
       "      <td>Vandana</td>\n",
       "      <td>B+</td>\n",
       "      <td>Y</td>\n",
       "      <td>N</td>\n",
       "      <td>Pass</td>\n",
       "    </tr>\n",
       "  </tbody>\n",
       "</table>\n",
       "<p>2000 rows × 5 columns</p>\n",
       "</div>"
      ],
      "text/plain": [
       "         Name  Final grade Primary Language(Reading &writing)  \\\n",
       "0     Abhishek           A                                  Y   \n",
       "1        Kiran           C                                  N   \n",
       "2          Anu          A+                                  Y   \n",
       "3        Varun           B                                  N   \n",
       "4       Saumya           A                                  Y   \n",
       "...        ...         ...                                ...   \n",
       "1995       Anu           C                                  N   \n",
       "1996        Om           D                                  N   \n",
       "1997     Rishi           C                                  N   \n",
       "1998     Rohan          A+                                  Y   \n",
       "1999   Vandana          B+                                  Y   \n",
       "\n",
       "     Secondary Language(Reading&writing) Status  \n",
       "0                                      Y   Pass  \n",
       "1                                      N   Fail  \n",
       "2                                      Y   Pass  \n",
       "3                                      N   Pass  \n",
       "4                                      Y   Pass  \n",
       "...                                  ...    ...  \n",
       "1995                                   N   Fail  \n",
       "1996                                   N   Fail  \n",
       "1997                                   N   Fail  \n",
       "1998                                   Y   Pass  \n",
       "1999                                   N   Pass  \n",
       "\n",
       "[2000 rows x 5 columns]"
      ]
     },
     "execution_count": 5,
     "metadata": {},
     "output_type": "execute_result"
    }
   ],
   "source": [
    "\n",
    "obj_vAR_df=vAR_df.select_dtypes(include=['object']).copy()\n",
    "obj_vAR_df"
   ]
  },
  {
   "cell_type": "code",
   "execution_count": 6,
   "metadata": {},
   "outputs": [
    {
     "data": {
      "text/html": [
       "<div>\n",
       "<style scoped>\n",
       "    .dataframe tbody tr th:only-of-type {\n",
       "        vertical-align: middle;\n",
       "    }\n",
       "\n",
       "    .dataframe tbody tr th {\n",
       "        vertical-align: top;\n",
       "    }\n",
       "\n",
       "    .dataframe thead th {\n",
       "        text-align: right;\n",
       "    }\n",
       "</style>\n",
       "<table border=\"1\" class=\"dataframe\">\n",
       "  <thead>\n",
       "    <tr style=\"text-align: right;\">\n",
       "      <th></th>\n",
       "      <th>Name</th>\n",
       "      <th>Final grade</th>\n",
       "      <th>Primary Language(Reading &amp;writing)</th>\n",
       "      <th>Secondary Language(Reading&amp;writing)</th>\n",
       "      <th>Status</th>\n",
       "    </tr>\n",
       "  </thead>\n",
       "  <tbody>\n",
       "  </tbody>\n",
       "</table>\n",
       "</div>"
      ],
      "text/plain": [
       "Empty DataFrame\n",
       "Columns: [Name , Final grade, Primary Language(Reading &writing), Secondary Language(Reading&writing), Status]\n",
       "Index: []"
      ]
     },
     "execution_count": 6,
     "metadata": {},
     "output_type": "execute_result"
    }
   ],
   "source": [
    "obj_vAR_df[obj_vAR_df.isnull().any(axis=1)]\n"
   ]
  },
  {
   "cell_type": "code",
   "execution_count": 7,
   "metadata": {},
   "outputs": [
    {
     "data": {
      "text/plain": [
       "Name                                     object\n",
       "Final grade                            category\n",
       "Primary Language(Reading &writing)     category\n",
       "Secondary Language(Reading&writing)    category\n",
       "Status                                   object\n",
       "dtype: object"
      ]
     },
     "execution_count": 7,
     "metadata": {},
     "output_type": "execute_result"
    }
   ],
   "source": [
    "obj_vAR_df[\"Final grade\"] = obj_vAR_df[\"Final grade\"].astype('category')\n",
    "obj_vAR_df[\"Primary Language(Reading &writing)\"]=obj_vAR_df[\"Primary Language(Reading &writing)\"].astype('category')\n",
    "obj_vAR_df[\"Secondary Language(Reading&writing)\"]=obj_vAR_df[\"Secondary Language(Reading&writing)\"].astype('category')\n",
    "obj_vAR_df.dtypes"
   ]
  },
  {
   "cell_type": "code",
   "execution_count": 8,
   "metadata": {},
   "outputs": [
    {
     "data": {
      "text/html": [
       "<div>\n",
       "<style scoped>\n",
       "    .dataframe tbody tr th:only-of-type {\n",
       "        vertical-align: middle;\n",
       "    }\n",
       "\n",
       "    .dataframe tbody tr th {\n",
       "        vertical-align: top;\n",
       "    }\n",
       "\n",
       "    .dataframe thead th {\n",
       "        text-align: right;\n",
       "    }\n",
       "</style>\n",
       "<table border=\"1\" class=\"dataframe\">\n",
       "  <thead>\n",
       "    <tr style=\"text-align: right;\">\n",
       "      <th></th>\n",
       "      <th>Name</th>\n",
       "      <th>Final grade</th>\n",
       "      <th>Primary Language(Reading &amp;writing)</th>\n",
       "      <th>Secondary Language(Reading&amp;writing)</th>\n",
       "      <th>Status</th>\n",
       "      <th>Final grade_cat</th>\n",
       "      <th>Primary Language(Reading &amp;writing)_cat</th>\n",
       "      <th>Secondary Language(Reading&amp;writing)_cat</th>\n",
       "    </tr>\n",
       "  </thead>\n",
       "  <tbody>\n",
       "    <tr>\n",
       "      <th>0</th>\n",
       "      <td>Abhishek</td>\n",
       "      <td>A</td>\n",
       "      <td>Y</td>\n",
       "      <td>Y</td>\n",
       "      <td>Pass</td>\n",
       "      <td>0</td>\n",
       "      <td>1</td>\n",
       "      <td>1</td>\n",
       "    </tr>\n",
       "    <tr>\n",
       "      <th>1</th>\n",
       "      <td>Kiran</td>\n",
       "      <td>C</td>\n",
       "      <td>N</td>\n",
       "      <td>N</td>\n",
       "      <td>Fail</td>\n",
       "      <td>4</td>\n",
       "      <td>0</td>\n",
       "      <td>0</td>\n",
       "    </tr>\n",
       "    <tr>\n",
       "      <th>2</th>\n",
       "      <td>Anu</td>\n",
       "      <td>A+</td>\n",
       "      <td>Y</td>\n",
       "      <td>Y</td>\n",
       "      <td>Pass</td>\n",
       "      <td>1</td>\n",
       "      <td>1</td>\n",
       "      <td>1</td>\n",
       "    </tr>\n",
       "    <tr>\n",
       "      <th>3</th>\n",
       "      <td>Varun</td>\n",
       "      <td>B</td>\n",
       "      <td>N</td>\n",
       "      <td>N</td>\n",
       "      <td>Pass</td>\n",
       "      <td>2</td>\n",
       "      <td>0</td>\n",
       "      <td>0</td>\n",
       "    </tr>\n",
       "    <tr>\n",
       "      <th>4</th>\n",
       "      <td>Saumya</td>\n",
       "      <td>A</td>\n",
       "      <td>Y</td>\n",
       "      <td>Y</td>\n",
       "      <td>Pass</td>\n",
       "      <td>0</td>\n",
       "      <td>1</td>\n",
       "      <td>1</td>\n",
       "    </tr>\n",
       "    <tr>\n",
       "      <th>...</th>\n",
       "      <td>...</td>\n",
       "      <td>...</td>\n",
       "      <td>...</td>\n",
       "      <td>...</td>\n",
       "      <td>...</td>\n",
       "      <td>...</td>\n",
       "      <td>...</td>\n",
       "      <td>...</td>\n",
       "    </tr>\n",
       "    <tr>\n",
       "      <th>1995</th>\n",
       "      <td>Anu</td>\n",
       "      <td>C</td>\n",
       "      <td>N</td>\n",
       "      <td>N</td>\n",
       "      <td>Fail</td>\n",
       "      <td>4</td>\n",
       "      <td>0</td>\n",
       "      <td>0</td>\n",
       "    </tr>\n",
       "    <tr>\n",
       "      <th>1996</th>\n",
       "      <td>Om</td>\n",
       "      <td>D</td>\n",
       "      <td>N</td>\n",
       "      <td>N</td>\n",
       "      <td>Fail</td>\n",
       "      <td>6</td>\n",
       "      <td>0</td>\n",
       "      <td>0</td>\n",
       "    </tr>\n",
       "    <tr>\n",
       "      <th>1997</th>\n",
       "      <td>Rishi</td>\n",
       "      <td>C</td>\n",
       "      <td>N</td>\n",
       "      <td>N</td>\n",
       "      <td>Fail</td>\n",
       "      <td>4</td>\n",
       "      <td>0</td>\n",
       "      <td>0</td>\n",
       "    </tr>\n",
       "    <tr>\n",
       "      <th>1998</th>\n",
       "      <td>Rohan</td>\n",
       "      <td>A+</td>\n",
       "      <td>Y</td>\n",
       "      <td>Y</td>\n",
       "      <td>Pass</td>\n",
       "      <td>1</td>\n",
       "      <td>1</td>\n",
       "      <td>1</td>\n",
       "    </tr>\n",
       "    <tr>\n",
       "      <th>1999</th>\n",
       "      <td>Vandana</td>\n",
       "      <td>B+</td>\n",
       "      <td>Y</td>\n",
       "      <td>N</td>\n",
       "      <td>Pass</td>\n",
       "      <td>3</td>\n",
       "      <td>1</td>\n",
       "      <td>0</td>\n",
       "    </tr>\n",
       "  </tbody>\n",
       "</table>\n",
       "<p>2000 rows × 8 columns</p>\n",
       "</div>"
      ],
      "text/plain": [
       "         Name  Final grade Primary Language(Reading &writing)  \\\n",
       "0     Abhishek           A                                  Y   \n",
       "1        Kiran           C                                  N   \n",
       "2          Anu          A+                                  Y   \n",
       "3        Varun           B                                  N   \n",
       "4       Saumya           A                                  Y   \n",
       "...        ...         ...                                ...   \n",
       "1995       Anu           C                                  N   \n",
       "1996        Om           D                                  N   \n",
       "1997     Rishi           C                                  N   \n",
       "1998     Rohan          A+                                  Y   \n",
       "1999   Vandana          B+                                  Y   \n",
       "\n",
       "     Secondary Language(Reading&writing) Status  Final grade_cat  \\\n",
       "0                                      Y   Pass                0   \n",
       "1                                      N   Fail                4   \n",
       "2                                      Y   Pass                1   \n",
       "3                                      N   Pass                2   \n",
       "4                                      Y   Pass                0   \n",
       "...                                  ...    ...              ...   \n",
       "1995                                   N   Fail                4   \n",
       "1996                                   N   Fail                6   \n",
       "1997                                   N   Fail                4   \n",
       "1998                                   Y   Pass                1   \n",
       "1999                                   N   Pass                3   \n",
       "\n",
       "      Primary Language(Reading &writing)_cat  \\\n",
       "0                                          1   \n",
       "1                                          0   \n",
       "2                                          1   \n",
       "3                                          0   \n",
       "4                                          1   \n",
       "...                                      ...   \n",
       "1995                                       0   \n",
       "1996                                       0   \n",
       "1997                                       0   \n",
       "1998                                       1   \n",
       "1999                                       1   \n",
       "\n",
       "      Secondary Language(Reading&writing)_cat  \n",
       "0                                           1  \n",
       "1                                           0  \n",
       "2                                           1  \n",
       "3                                           0  \n",
       "4                                           1  \n",
       "...                                       ...  \n",
       "1995                                        0  \n",
       "1996                                        0  \n",
       "1997                                        0  \n",
       "1998                                        1  \n",
       "1999                                        0  \n",
       "\n",
       "[2000 rows x 8 columns]"
      ]
     },
     "execution_count": 8,
     "metadata": {},
     "output_type": "execute_result"
    }
   ],
   "source": [
    "obj_vAR_df[\"Final grade_cat\"] = obj_vAR_df[\"Final grade\"].cat.codes\n",
    "obj_vAR_df[\"Primary Language(Reading &writing)_cat\"] = obj_vAR_df[\"Primary Language(Reading &writing)\"].cat.codes\n",
    "obj_vAR_df[\"Secondary Language(Reading&writing)_cat\"] = obj_vAR_df[\"Secondary Language(Reading&writing)\"].cat.codes\n",
    "obj_vAR_df"
   ]
  },
  {
   "cell_type": "code",
   "execution_count": 9,
   "metadata": {},
   "outputs": [
    {
     "data": {
      "text/plain": [
       "CategoricalDtype(categories=['N', 'Y'], ordered=False)"
      ]
     },
     "execution_count": 9,
     "metadata": {},
     "output_type": "execute_result"
    }
   ],
   "source": [
    "\n",
    "obj_vAR_df[\"Final grade\"].dtypes\n",
    "obj_vAR_df[\"Primary Language(Reading &writing)\"].dtypes\n",
    "obj_vAR_df[\"Secondary Language(Reading&writing)\"].dtypes"
   ]
  },
  {
   "cell_type": "code",
   "execution_count": 10,
   "metadata": {},
   "outputs": [
    {
     "data": {
      "text/plain": [
       "dtype('int8')"
      ]
     },
     "execution_count": 10,
     "metadata": {},
     "output_type": "execute_result"
    }
   ],
   "source": [
    "obj_vAR_df[\"Final grade_cat\"].dtypes\n"
   ]
  },
  {
   "cell_type": "code",
   "execution_count": 11,
   "metadata": {},
   "outputs": [
    {
     "data": {
      "text/plain": [
       "dtype('int8')"
      ]
     },
     "execution_count": 11,
     "metadata": {},
     "output_type": "execute_result"
    }
   ],
   "source": [
    "obj_vAR_df[\"Primary Language(Reading &writing)_cat\"].dtypes\n"
   ]
  },
  {
   "cell_type": "code",
   "execution_count": 12,
   "metadata": {},
   "outputs": [
    {
     "data": {
      "text/plain": [
       "dtype('int8')"
      ]
     },
     "execution_count": 12,
     "metadata": {},
     "output_type": "execute_result"
    }
   ],
   "source": [
    "obj_vAR_df[\"Secondary Language(Reading&writing)_cat\"].dtypes"
   ]
  },
  {
   "cell_type": "code",
   "execution_count": 13,
   "metadata": {},
   "outputs": [
    {
     "data": {
      "text/html": [
       "<div>\n",
       "<style scoped>\n",
       "    .dataframe tbody tr th:only-of-type {\n",
       "        vertical-align: middle;\n",
       "    }\n",
       "\n",
       "    .dataframe tbody tr th {\n",
       "        vertical-align: top;\n",
       "    }\n",
       "\n",
       "    .dataframe thead th {\n",
       "        text-align: right;\n",
       "    }\n",
       "</style>\n",
       "<table border=\"1\" class=\"dataframe\">\n",
       "  <thead>\n",
       "    <tr style=\"text-align: right;\">\n",
       "      <th></th>\n",
       "      <th>Id no.</th>\n",
       "      <th>Name</th>\n",
       "      <th>Assignment 1(%)</th>\n",
       "      <th>Assignment 2(%)</th>\n",
       "      <th>Assignment 3(%)</th>\n",
       "      <th>Semester 1(%)</th>\n",
       "      <th>Semester 2(%)</th>\n",
       "      <th>Backlogs</th>\n",
       "      <th>Tech-fest participation</th>\n",
       "      <th>Class</th>\n",
       "      <th>...</th>\n",
       "      <th>Final grade</th>\n",
       "      <th>Science olympiad</th>\n",
       "      <th>Adaptiveness</th>\n",
       "      <th>Social activity</th>\n",
       "      <th>Primary Language(Reading &amp;writing)</th>\n",
       "      <th>Secondary Language(Reading&amp;writing)</th>\n",
       "      <th>Status</th>\n",
       "      <th>Final grade_cat</th>\n",
       "      <th>Primary Language(Reading &amp;writing)_cat</th>\n",
       "      <th>Secondary Language(Reading&amp;writing)_cat</th>\n",
       "    </tr>\n",
       "  </thead>\n",
       "  <tbody>\n",
       "    <tr>\n",
       "      <th>0</th>\n",
       "      <td>1</td>\n",
       "      <td>Abhishek</td>\n",
       "      <td>72</td>\n",
       "      <td>79</td>\n",
       "      <td>84</td>\n",
       "      <td>76</td>\n",
       "      <td>81</td>\n",
       "      <td>0</td>\n",
       "      <td>1</td>\n",
       "      <td>6</td>\n",
       "      <td>...</td>\n",
       "      <td>A</td>\n",
       "      <td>1</td>\n",
       "      <td>1</td>\n",
       "      <td>1</td>\n",
       "      <td>Y</td>\n",
       "      <td>Y</td>\n",
       "      <td>Pass</td>\n",
       "      <td>0</td>\n",
       "      <td>1</td>\n",
       "      <td>1</td>\n",
       "    </tr>\n",
       "    <tr>\n",
       "      <th>1</th>\n",
       "      <td>2</td>\n",
       "      <td>Kiran</td>\n",
       "      <td>62</td>\n",
       "      <td>56</td>\n",
       "      <td>29</td>\n",
       "      <td>42</td>\n",
       "      <td>49</td>\n",
       "      <td>1</td>\n",
       "      <td>0</td>\n",
       "      <td>7</td>\n",
       "      <td>...</td>\n",
       "      <td>C</td>\n",
       "      <td>0</td>\n",
       "      <td>0</td>\n",
       "      <td>0</td>\n",
       "      <td>N</td>\n",
       "      <td>N</td>\n",
       "      <td>Fail</td>\n",
       "      <td>4</td>\n",
       "      <td>0</td>\n",
       "      <td>0</td>\n",
       "    </tr>\n",
       "    <tr>\n",
       "      <th>2</th>\n",
       "      <td>3</td>\n",
       "      <td>Anu</td>\n",
       "      <td>82</td>\n",
       "      <td>89</td>\n",
       "      <td>95</td>\n",
       "      <td>92</td>\n",
       "      <td>87</td>\n",
       "      <td>0</td>\n",
       "      <td>1</td>\n",
       "      <td>6</td>\n",
       "      <td>...</td>\n",
       "      <td>A+</td>\n",
       "      <td>1</td>\n",
       "      <td>1</td>\n",
       "      <td>0</td>\n",
       "      <td>Y</td>\n",
       "      <td>Y</td>\n",
       "      <td>Pass</td>\n",
       "      <td>1</td>\n",
       "      <td>1</td>\n",
       "      <td>1</td>\n",
       "    </tr>\n",
       "    <tr>\n",
       "      <th>3</th>\n",
       "      <td>4</td>\n",
       "      <td>Varun</td>\n",
       "      <td>66</td>\n",
       "      <td>71</td>\n",
       "      <td>64</td>\n",
       "      <td>79</td>\n",
       "      <td>78</td>\n",
       "      <td>0</td>\n",
       "      <td>0</td>\n",
       "      <td>8</td>\n",
       "      <td>...</td>\n",
       "      <td>B</td>\n",
       "      <td>0</td>\n",
       "      <td>0</td>\n",
       "      <td>0</td>\n",
       "      <td>N</td>\n",
       "      <td>N</td>\n",
       "      <td>Pass</td>\n",
       "      <td>2</td>\n",
       "      <td>0</td>\n",
       "      <td>0</td>\n",
       "    </tr>\n",
       "    <tr>\n",
       "      <th>4</th>\n",
       "      <td>5</td>\n",
       "      <td>Saumya</td>\n",
       "      <td>74</td>\n",
       "      <td>85</td>\n",
       "      <td>67</td>\n",
       "      <td>83</td>\n",
       "      <td>79</td>\n",
       "      <td>0</td>\n",
       "      <td>1</td>\n",
       "      <td>7</td>\n",
       "      <td>...</td>\n",
       "      <td>A</td>\n",
       "      <td>0</td>\n",
       "      <td>1</td>\n",
       "      <td>1</td>\n",
       "      <td>Y</td>\n",
       "      <td>Y</td>\n",
       "      <td>Pass</td>\n",
       "      <td>0</td>\n",
       "      <td>1</td>\n",
       "      <td>1</td>\n",
       "    </tr>\n",
       "    <tr>\n",
       "      <th>...</th>\n",
       "      <td>...</td>\n",
       "      <td>...</td>\n",
       "      <td>...</td>\n",
       "      <td>...</td>\n",
       "      <td>...</td>\n",
       "      <td>...</td>\n",
       "      <td>...</td>\n",
       "      <td>...</td>\n",
       "      <td>...</td>\n",
       "      <td>...</td>\n",
       "      <td>...</td>\n",
       "      <td>...</td>\n",
       "      <td>...</td>\n",
       "      <td>...</td>\n",
       "      <td>...</td>\n",
       "      <td>...</td>\n",
       "      <td>...</td>\n",
       "      <td>...</td>\n",
       "      <td>...</td>\n",
       "      <td>...</td>\n",
       "      <td>...</td>\n",
       "    </tr>\n",
       "    <tr>\n",
       "      <th>1995</th>\n",
       "      <td>1996</td>\n",
       "      <td>Anu</td>\n",
       "      <td>43</td>\n",
       "      <td>53</td>\n",
       "      <td>30</td>\n",
       "      <td>48</td>\n",
       "      <td>59</td>\n",
       "      <td>1</td>\n",
       "      <td>0</td>\n",
       "      <td>8</td>\n",
       "      <td>...</td>\n",
       "      <td>C</td>\n",
       "      <td>0</td>\n",
       "      <td>0</td>\n",
       "      <td>0</td>\n",
       "      <td>N</td>\n",
       "      <td>N</td>\n",
       "      <td>Fail</td>\n",
       "      <td>4</td>\n",
       "      <td>0</td>\n",
       "      <td>0</td>\n",
       "    </tr>\n",
       "    <tr>\n",
       "      <th>1996</th>\n",
       "      <td>1997</td>\n",
       "      <td>Om</td>\n",
       "      <td>34</td>\n",
       "      <td>46</td>\n",
       "      <td>41</td>\n",
       "      <td>39</td>\n",
       "      <td>52</td>\n",
       "      <td>1</td>\n",
       "      <td>1</td>\n",
       "      <td>7</td>\n",
       "      <td>...</td>\n",
       "      <td>D</td>\n",
       "      <td>0</td>\n",
       "      <td>0</td>\n",
       "      <td>1</td>\n",
       "      <td>N</td>\n",
       "      <td>N</td>\n",
       "      <td>Fail</td>\n",
       "      <td>6</td>\n",
       "      <td>0</td>\n",
       "      <td>0</td>\n",
       "    </tr>\n",
       "    <tr>\n",
       "      <th>1997</th>\n",
       "      <td>1998</td>\n",
       "      <td>Rishi</td>\n",
       "      <td>59</td>\n",
       "      <td>45</td>\n",
       "      <td>41</td>\n",
       "      <td>56</td>\n",
       "      <td>31</td>\n",
       "      <td>1</td>\n",
       "      <td>0</td>\n",
       "      <td>6</td>\n",
       "      <td>...</td>\n",
       "      <td>C</td>\n",
       "      <td>0</td>\n",
       "      <td>0</td>\n",
       "      <td>1</td>\n",
       "      <td>N</td>\n",
       "      <td>N</td>\n",
       "      <td>Fail</td>\n",
       "      <td>4</td>\n",
       "      <td>0</td>\n",
       "      <td>0</td>\n",
       "    </tr>\n",
       "    <tr>\n",
       "      <th>1998</th>\n",
       "      <td>1999</td>\n",
       "      <td>Rohan</td>\n",
       "      <td>92</td>\n",
       "      <td>86</td>\n",
       "      <td>81</td>\n",
       "      <td>93</td>\n",
       "      <td>89</td>\n",
       "      <td>0</td>\n",
       "      <td>1</td>\n",
       "      <td>7</td>\n",
       "      <td>...</td>\n",
       "      <td>A+</td>\n",
       "      <td>1</td>\n",
       "      <td>1</td>\n",
       "      <td>1</td>\n",
       "      <td>Y</td>\n",
       "      <td>Y</td>\n",
       "      <td>Pass</td>\n",
       "      <td>1</td>\n",
       "      <td>1</td>\n",
       "      <td>1</td>\n",
       "    </tr>\n",
       "    <tr>\n",
       "      <th>1999</th>\n",
       "      <td>2000</td>\n",
       "      <td>Vandana</td>\n",
       "      <td>78</td>\n",
       "      <td>72</td>\n",
       "      <td>81</td>\n",
       "      <td>76</td>\n",
       "      <td>80</td>\n",
       "      <td>0</td>\n",
       "      <td>0</td>\n",
       "      <td>7</td>\n",
       "      <td>...</td>\n",
       "      <td>B+</td>\n",
       "      <td>0</td>\n",
       "      <td>0</td>\n",
       "      <td>1</td>\n",
       "      <td>Y</td>\n",
       "      <td>N</td>\n",
       "      <td>Pass</td>\n",
       "      <td>3</td>\n",
       "      <td>1</td>\n",
       "      <td>0</td>\n",
       "    </tr>\n",
       "  </tbody>\n",
       "</table>\n",
       "<p>2000 rows × 24 columns</p>\n",
       "</div>"
      ],
      "text/plain": [
       "      Id no.     Name   Assignment 1(%)  Assignment 2(%)  Assignment 3(%)  \\\n",
       "0          1  Abhishek               72               79               84   \n",
       "1          2     Kiran               62               56               29   \n",
       "2          3       Anu               82               89               95   \n",
       "3          4     Varun               66               71               64   \n",
       "4          5    Saumya               74               85               67   \n",
       "...      ...       ...              ...              ...              ...   \n",
       "1995    1996       Anu               43               53               30   \n",
       "1996    1997        Om               34               46               41   \n",
       "1997    1998     Rishi               59               45               41   \n",
       "1998    1999     Rohan               92               86               81   \n",
       "1999    2000   Vandana               78               72               81   \n",
       "\n",
       "      Semester 1(%)  Semester 2(%)  Backlogs  Tech-fest participation  Class  \\\n",
       "0                76             81         0                        1      6   \n",
       "1                42             49         1                        0      7   \n",
       "2                92             87         0                        1      6   \n",
       "3                79             78         0                        0      8   \n",
       "4                83             79         0                        1      7   \n",
       "...             ...            ...       ...                      ...    ...   \n",
       "1995             48             59         1                        0      8   \n",
       "1996             39             52         1                        1      7   \n",
       "1997             56             31         1                        0      6   \n",
       "1998             93             89         0                        1      7   \n",
       "1999             76             80         0                        0      7   \n",
       "\n",
       "      ...  Final grade  Science olympiad  Adaptiveness  Social activity  \\\n",
       "0     ...            A                 1             1                1   \n",
       "1     ...            C                 0             0                0   \n",
       "2     ...           A+                 1             1                0   \n",
       "3     ...            B                 0             0                0   \n",
       "4     ...            A                 0             1                1   \n",
       "...   ...          ...               ...           ...              ...   \n",
       "1995  ...            C                 0             0                0   \n",
       "1996  ...            D                 0             0                1   \n",
       "1997  ...            C                 0             0                1   \n",
       "1998  ...           A+                 1             1                1   \n",
       "1999  ...           B+                 0             0                1   \n",
       "\n",
       "     Primary Language(Reading &writing)  Secondary Language(Reading&writing)  \\\n",
       "0                                     Y                                    Y   \n",
       "1                                     N                                    N   \n",
       "2                                     Y                                    Y   \n",
       "3                                     N                                    N   \n",
       "4                                     Y                                    Y   \n",
       "...                                 ...                                  ...   \n",
       "1995                                  N                                    N   \n",
       "1996                                  N                                    N   \n",
       "1997                                  N                                    N   \n",
       "1998                                  Y                                    Y   \n",
       "1999                                  Y                                    N   \n",
       "\n",
       "      Status  Final grade_cat Primary Language(Reading &writing)_cat  \\\n",
       "0       Pass                0                                      1   \n",
       "1       Fail                4                                      0   \n",
       "2       Pass                1                                      1   \n",
       "3       Pass                2                                      0   \n",
       "4       Pass                0                                      1   \n",
       "...      ...              ...                                    ...   \n",
       "1995    Fail                4                                      0   \n",
       "1996    Fail                6                                      0   \n",
       "1997    Fail                4                                      0   \n",
       "1998    Pass                1                                      1   \n",
       "1999    Pass                3                                      1   \n",
       "\n",
       "     Secondary Language(Reading&writing)_cat  \n",
       "0                                          1  \n",
       "1                                          0  \n",
       "2                                          1  \n",
       "3                                          0  \n",
       "4                                          1  \n",
       "...                                      ...  \n",
       "1995                                       0  \n",
       "1996                                       0  \n",
       "1997                                       0  \n",
       "1998                                       1  \n",
       "1999                                       0  \n",
       "\n",
       "[2000 rows x 24 columns]"
      ]
     },
     "execution_count": 13,
     "metadata": {},
     "output_type": "execute_result"
    }
   ],
   "source": [
    "vAR_df = vAR_df.merge(obj_vAR_df[\"Final grade_cat\"],left_index=True,right_index=True)\n",
    "vAR_df = vAR_df.merge(obj_vAR_df[\"Primary Language(Reading &writing)_cat\"],left_index=True,right_index=True)\n",
    "vAR_df = vAR_df.merge(obj_vAR_df[\"Secondary Language(Reading&writing)_cat\"],left_index=True,right_index=True)\n",
    "vAR_df"
   ]
  },
  {
   "cell_type": "markdown",
   "metadata": {},
   "source": [
    "## SELECTING FEATURES AND LABELS"
   ]
  },
  {
   "cell_type": "code",
   "execution_count": 14,
   "metadata": {},
   "outputs": [],
   "source": [
    "vAR_Features_Train=vAR_df[['Assignment 1(%)','Assignment 2(%)','Assignment 3(%)','Semester 1(%)',\n",
    "                           'Semester 2(%)','Backlogs','Tech-fest participation','Attendance',\n",
    "                           'Quiz Voluntering','Maths Olympiad','Science olympiad',\n",
    "                           'Secondary Language(Reading&writing)_cat','Adaptiveness','Social activity',\n",
    "                           'Primary Language(Reading &writing)_cat']]\n",
    "vAR_Label_Train=vAR_df['Final grade']\n"
   ]
  },
  {
   "cell_type": "code",
   "execution_count": 15,
   "metadata": {},
   "outputs": [
    {
     "data": {
      "text/html": [
       "<div>\n",
       "<style scoped>\n",
       "    .dataframe tbody tr th:only-of-type {\n",
       "        vertical-align: middle;\n",
       "    }\n",
       "\n",
       "    .dataframe tbody tr th {\n",
       "        vertical-align: top;\n",
       "    }\n",
       "\n",
       "    .dataframe thead th {\n",
       "        text-align: right;\n",
       "    }\n",
       "</style>\n",
       "<table border=\"1\" class=\"dataframe\">\n",
       "  <thead>\n",
       "    <tr style=\"text-align: right;\">\n",
       "      <th></th>\n",
       "      <th>Assignment 1(%)</th>\n",
       "      <th>Assignment 2(%)</th>\n",
       "      <th>Assignment 3(%)</th>\n",
       "      <th>Semester 1(%)</th>\n",
       "      <th>Semester 2(%)</th>\n",
       "      <th>Backlogs</th>\n",
       "      <th>Tech-fest participation</th>\n",
       "      <th>Attendance</th>\n",
       "      <th>Quiz Voluntering</th>\n",
       "      <th>Maths Olympiad</th>\n",
       "      <th>Science olympiad</th>\n",
       "      <th>Secondary Language(Reading&amp;writing)_cat</th>\n",
       "      <th>Adaptiveness</th>\n",
       "      <th>Social activity</th>\n",
       "      <th>Primary Language(Reading &amp;writing)_cat</th>\n",
       "    </tr>\n",
       "  </thead>\n",
       "  <tbody>\n",
       "    <tr>\n",
       "      <th>0</th>\n",
       "      <td>72</td>\n",
       "      <td>79</td>\n",
       "      <td>84</td>\n",
       "      <td>76</td>\n",
       "      <td>81</td>\n",
       "      <td>0</td>\n",
       "      <td>1</td>\n",
       "      <td>81</td>\n",
       "      <td>1</td>\n",
       "      <td>1</td>\n",
       "      <td>1</td>\n",
       "      <td>1</td>\n",
       "      <td>1</td>\n",
       "      <td>1</td>\n",
       "      <td>1</td>\n",
       "    </tr>\n",
       "    <tr>\n",
       "      <th>1</th>\n",
       "      <td>62</td>\n",
       "      <td>56</td>\n",
       "      <td>29</td>\n",
       "      <td>42</td>\n",
       "      <td>49</td>\n",
       "      <td>1</td>\n",
       "      <td>0</td>\n",
       "      <td>54</td>\n",
       "      <td>0</td>\n",
       "      <td>0</td>\n",
       "      <td>0</td>\n",
       "      <td>0</td>\n",
       "      <td>0</td>\n",
       "      <td>0</td>\n",
       "      <td>0</td>\n",
       "    </tr>\n",
       "    <tr>\n",
       "      <th>2</th>\n",
       "      <td>82</td>\n",
       "      <td>89</td>\n",
       "      <td>95</td>\n",
       "      <td>92</td>\n",
       "      <td>87</td>\n",
       "      <td>0</td>\n",
       "      <td>1</td>\n",
       "      <td>93</td>\n",
       "      <td>1</td>\n",
       "      <td>0</td>\n",
       "      <td>1</td>\n",
       "      <td>1</td>\n",
       "      <td>1</td>\n",
       "      <td>0</td>\n",
       "      <td>1</td>\n",
       "    </tr>\n",
       "    <tr>\n",
       "      <th>3</th>\n",
       "      <td>66</td>\n",
       "      <td>71</td>\n",
       "      <td>64</td>\n",
       "      <td>79</td>\n",
       "      <td>78</td>\n",
       "      <td>0</td>\n",
       "      <td>0</td>\n",
       "      <td>73</td>\n",
       "      <td>0</td>\n",
       "      <td>0</td>\n",
       "      <td>0</td>\n",
       "      <td>0</td>\n",
       "      <td>0</td>\n",
       "      <td>0</td>\n",
       "      <td>0</td>\n",
       "    </tr>\n",
       "    <tr>\n",
       "      <th>4</th>\n",
       "      <td>74</td>\n",
       "      <td>85</td>\n",
       "      <td>67</td>\n",
       "      <td>83</td>\n",
       "      <td>79</td>\n",
       "      <td>0</td>\n",
       "      <td>1</td>\n",
       "      <td>82</td>\n",
       "      <td>1</td>\n",
       "      <td>0</td>\n",
       "      <td>0</td>\n",
       "      <td>1</td>\n",
       "      <td>1</td>\n",
       "      <td>1</td>\n",
       "      <td>1</td>\n",
       "    </tr>\n",
       "    <tr>\n",
       "      <th>...</th>\n",
       "      <td>...</td>\n",
       "      <td>...</td>\n",
       "      <td>...</td>\n",
       "      <td>...</td>\n",
       "      <td>...</td>\n",
       "      <td>...</td>\n",
       "      <td>...</td>\n",
       "      <td>...</td>\n",
       "      <td>...</td>\n",
       "      <td>...</td>\n",
       "      <td>...</td>\n",
       "      <td>...</td>\n",
       "      <td>...</td>\n",
       "      <td>...</td>\n",
       "      <td>...</td>\n",
       "    </tr>\n",
       "    <tr>\n",
       "      <th>1995</th>\n",
       "      <td>43</td>\n",
       "      <td>53</td>\n",
       "      <td>30</td>\n",
       "      <td>48</td>\n",
       "      <td>59</td>\n",
       "      <td>1</td>\n",
       "      <td>0</td>\n",
       "      <td>78</td>\n",
       "      <td>0</td>\n",
       "      <td>0</td>\n",
       "      <td>0</td>\n",
       "      <td>0</td>\n",
       "      <td>0</td>\n",
       "      <td>0</td>\n",
       "      <td>0</td>\n",
       "    </tr>\n",
       "    <tr>\n",
       "      <th>1996</th>\n",
       "      <td>34</td>\n",
       "      <td>46</td>\n",
       "      <td>41</td>\n",
       "      <td>39</td>\n",
       "      <td>52</td>\n",
       "      <td>1</td>\n",
       "      <td>1</td>\n",
       "      <td>49</td>\n",
       "      <td>0</td>\n",
       "      <td>0</td>\n",
       "      <td>0</td>\n",
       "      <td>0</td>\n",
       "      <td>0</td>\n",
       "      <td>1</td>\n",
       "      <td>0</td>\n",
       "    </tr>\n",
       "    <tr>\n",
       "      <th>1997</th>\n",
       "      <td>59</td>\n",
       "      <td>45</td>\n",
       "      <td>41</td>\n",
       "      <td>56</td>\n",
       "      <td>31</td>\n",
       "      <td>1</td>\n",
       "      <td>0</td>\n",
       "      <td>81</td>\n",
       "      <td>0</td>\n",
       "      <td>0</td>\n",
       "      <td>0</td>\n",
       "      <td>0</td>\n",
       "      <td>0</td>\n",
       "      <td>1</td>\n",
       "      <td>0</td>\n",
       "    </tr>\n",
       "    <tr>\n",
       "      <th>1998</th>\n",
       "      <td>92</td>\n",
       "      <td>86</td>\n",
       "      <td>81</td>\n",
       "      <td>93</td>\n",
       "      <td>89</td>\n",
       "      <td>0</td>\n",
       "      <td>1</td>\n",
       "      <td>89</td>\n",
       "      <td>1</td>\n",
       "      <td>0</td>\n",
       "      <td>1</td>\n",
       "      <td>1</td>\n",
       "      <td>1</td>\n",
       "      <td>1</td>\n",
       "      <td>1</td>\n",
       "    </tr>\n",
       "    <tr>\n",
       "      <th>1999</th>\n",
       "      <td>78</td>\n",
       "      <td>72</td>\n",
       "      <td>81</td>\n",
       "      <td>76</td>\n",
       "      <td>80</td>\n",
       "      <td>0</td>\n",
       "      <td>0</td>\n",
       "      <td>86</td>\n",
       "      <td>1</td>\n",
       "      <td>0</td>\n",
       "      <td>0</td>\n",
       "      <td>0</td>\n",
       "      <td>0</td>\n",
       "      <td>1</td>\n",
       "      <td>1</td>\n",
       "    </tr>\n",
       "  </tbody>\n",
       "</table>\n",
       "<p>2000 rows × 15 columns</p>\n",
       "</div>"
      ],
      "text/plain": [
       "      Assignment 1(%)  Assignment 2(%)  Assignment 3(%)  Semester 1(%)  \\\n",
       "0                  72               79               84             76   \n",
       "1                  62               56               29             42   \n",
       "2                  82               89               95             92   \n",
       "3                  66               71               64             79   \n",
       "4                  74               85               67             83   \n",
       "...               ...              ...              ...            ...   \n",
       "1995               43               53               30             48   \n",
       "1996               34               46               41             39   \n",
       "1997               59               45               41             56   \n",
       "1998               92               86               81             93   \n",
       "1999               78               72               81             76   \n",
       "\n",
       "      Semester 2(%)  Backlogs  Tech-fest participation  Attendance  \\\n",
       "0                81         0                        1          81   \n",
       "1                49         1                        0          54   \n",
       "2                87         0                        1          93   \n",
       "3                78         0                        0          73   \n",
       "4                79         0                        1          82   \n",
       "...             ...       ...                      ...         ...   \n",
       "1995             59         1                        0          78   \n",
       "1996             52         1                        1          49   \n",
       "1997             31         1                        0          81   \n",
       "1998             89         0                        1          89   \n",
       "1999             80         0                        0          86   \n",
       "\n",
       "      Quiz Voluntering  Maths Olympiad  Science olympiad  \\\n",
       "0                    1               1                 1   \n",
       "1                    0               0                 0   \n",
       "2                    1               0                 1   \n",
       "3                    0               0                 0   \n",
       "4                    1               0                 0   \n",
       "...                ...             ...               ...   \n",
       "1995                 0               0                 0   \n",
       "1996                 0               0                 0   \n",
       "1997                 0               0                 0   \n",
       "1998                 1               0                 1   \n",
       "1999                 1               0                 0   \n",
       "\n",
       "      Secondary Language(Reading&writing)_cat  Adaptiveness  Social activity  \\\n",
       "0                                           1             1                1   \n",
       "1                                           0             0                0   \n",
       "2                                           1             1                0   \n",
       "3                                           0             0                0   \n",
       "4                                           1             1                1   \n",
       "...                                       ...           ...              ...   \n",
       "1995                                        0             0                0   \n",
       "1996                                        0             0                1   \n",
       "1997                                        0             0                1   \n",
       "1998                                        1             1                1   \n",
       "1999                                        0             0                1   \n",
       "\n",
       "      Primary Language(Reading &writing)_cat  \n",
       "0                                          1  \n",
       "1                                          0  \n",
       "2                                          1  \n",
       "3                                          0  \n",
       "4                                          1  \n",
       "...                                      ...  \n",
       "1995                                       0  \n",
       "1996                                       0  \n",
       "1997                                       0  \n",
       "1998                                       1  \n",
       "1999                                       1  \n",
       "\n",
       "[2000 rows x 15 columns]"
      ]
     },
     "execution_count": 15,
     "metadata": {},
     "output_type": "execute_result"
    }
   ],
   "source": [
    "vAR_Features_Train"
   ]
  },
  {
   "cell_type": "code",
   "execution_count": 16,
   "metadata": {},
   "outputs": [
    {
     "data": {
      "text/plain": [
       "0        A\n",
       "1        C\n",
       "2       A+\n",
       "3        B\n",
       "4        A\n",
       "        ..\n",
       "1995     C\n",
       "1996     D\n",
       "1997     C\n",
       "1998    A+\n",
       "1999    B+\n",
       "Name: Final grade, Length: 2000, dtype: object"
      ]
     },
     "execution_count": 16,
     "metadata": {},
     "output_type": "execute_result"
    }
   ],
   "source": [
    "vAR_Label_Train"
   ]
  },
  {
   "cell_type": "markdown",
   "metadata": {},
   "source": [
    "## TRAINING MODEL"
   ]
  },
  {
   "cell_type": "code",
   "execution_count": 17,
   "metadata": {},
   "outputs": [
    {
     "data": {
      "text/plain": [
       "LinearRegression()"
      ]
     },
     "execution_count": 17,
     "metadata": {},
     "output_type": "execute_result"
    }
   ],
   "source": [
    "vAR_model = LinearRegression()\n",
    "vAR_model.fit(vAR_Features_Train,obj_vAR_df[\"Final grade_cat\"])\n"
   ]
  },
  {
   "cell_type": "markdown",
   "metadata": {},
   "source": [
    "### PLOTTING TRAINING DATA"
   ]
  },
  {
   "cell_type": "code",
   "execution_count": 19,
   "metadata": {
    "scrolled": true
   },
   "outputs": [
    {
     "data": {
      "image/png": "[encoded data removed]",
      "text/plain": [
       "<Figure size 432x288 with 1 Axes>"
      ]
     },
     "metadata": {
      "needs_background": "light"
     },
     "output_type": "display_data"
    }
   ],
   "source": [
    "x=vAR_df.iloc[:,0]\n",
    "y=obj_vAR_df[\"Final grade\"]\n",
    "vAR_plt.scatter(x, y)\n",
    "vAR_plt.xticks((x),size=20)\n",
    "vAR_plt.yticks((y),size=20)\n",
    "vAR_plt.title('Scatter point plotting',size=30)\n",
    "vAR_plt.xlabel('id no.',size=6)\n",
    "\n",
    "vAR_plt.ylabel('Final_Marks',size=5)\n",
    "vAR_plt.rc('figure', figsize=(60,80))\n",
    "vAR_plt.show()\n"
   ]
  },
  {
   "cell_type": "markdown",
   "metadata": {},
   "source": [
    "## GRADIENT DESCENT IMPLEMENTATION"
   ]
  },
  {
   "cell_type": "code",
   "execution_count": 20,
   "metadata": {},
   "outputs": [],
   "source": [
    "m = 0\n",
    "b = 0\n",
    "x=vAR_df.iloc[:,0]\n",
    "y=obj_vAR_df[\"Final grade_cat\"]\n",
    "L = 0.01 # The learning Rate\n",
    "epochs = 107  # The number of iterations to perform gradient descent\n",
    "\n",
    "n = len(vAR_df) # Number of elements in training data\n",
    "# Performing Gradient Descent \n",
    "for i in range(epochs): \n",
    "    Y_pred = m*x + b  # The current predicted value of Y\n",
    "    D_m = (-2/n) * sum(x * (y - Y_pred))  # Derivative wrt m\n",
    "    D_b = (-2/n) * sum(y - Y_pred)  # Derivative wrt b\n",
    "    m = m - L * D_m  # Update m\n",
    "    b = b - L * D_b  # Update b\n",
    "\n",
    "\n"
   ]
  },
  {
   "cell_type": "code",
   "execution_count": 21,
   "metadata": {},
   "outputs": [
    {
     "name": "stdout",
     "output_type": "stream",
     "text": [
      "2.847450711862668e-05\n",
      "1.8985112556278132\n"
     ]
    },
    {
     "data": {
      "image/png": "[encoded data removed]",
      "text/plain": [
       "<Figure size 4320x5760 with 1 Axes>"
      ]
     },
     "metadata": {
      "needs_background": "light"
     },
     "output_type": "display_data"
    }
   ],
   "source": [
    "x=vAR_df.iloc[:,0]\n",
    "y=obj_vAR_df[\"Final grade_cat\"]\n",
    "vAR_plt.scatter(x, y)\n",
    "vAR_plt.xlabel('id no.',size=40)\n",
    "vAR_plt.ylabel('Final_Marks',size=30)\n",
    "vAR_plt.rc('figure', figsize=(40,60))\n",
    "vAR_plt.xticks((x),size=20)\n",
    "vAR_plt.yticks((y),size=20)\n",
    "m, b = np.polyfit(x, y,1)\n",
    "print(m)\n",
    "print(b)\n",
    "vAR_plt.plot(x, m*x + b,\"r\")\n",
    "vAR_plt.rc('figure', figsize=(60,80))"
   ]
  },
  {
   "cell_type": "markdown",
   "metadata": {},
   "source": [
    "## REVIEWING LEARNING ALGORITHM"
   ]
  },
  {
   "cell_type": "code",
   "execution_count": 32,
   "metadata": {},
   "outputs": [],
   "source": [
    "y_pred=vAR_model.predict(vAR_Features_Train)\n"
   ]
  },
  {
   "cell_type": "markdown",
   "metadata": {},
   "source": [
    "## ACCURACY"
   ]
  },
  {
   "cell_type": "code",
   "execution_count": 33,
   "metadata": {},
   "outputs": [
    {
     "data": {
      "text/plain": [
       "87.78502903674217"
      ]
     },
     "execution_count": 33,
     "metadata": {},
     "output_type": "execute_result"
    }
   ],
   "source": [
    "accuracy=vAR_model.score(vAR_Features_Train,obj_vAR_df[\"Final grade_cat\"])\n",
    "accuracy=accuracy*100\n",
    "accuracy"
   ]
  },
  {
   "cell_type": "markdown",
   "metadata": {},
   "source": [
    "## CALCULATING SUM SQUARE ERROR"
   ]
  },
  {
   "cell_type": "code",
   "execution_count": 35,
   "metadata": {},
   "outputs": [
    {
     "data": {
      "text/plain": [
       "0       0.399025\n",
       "1       0.256623\n",
       "2       0.007546\n",
       "3       0.640882\n",
       "4       0.531585\n",
       "          ...   \n",
       "1995    0.033821\n",
       "1996    0.330482\n",
       "1997    0.025914\n",
       "1998    0.138659\n",
       "1999    0.571911\n",
       "Name: Final grade_cat, Length: 2000, dtype: float64"
      ]
     },
     "execution_count": 35,
     "metadata": {},
     "output_type": "execute_result"
    }
   ],
   "source": [
    "#finding sum square error\n",
    "sse=(obj_vAR_df[\"Final grade_cat\"]-y_pred)**2\n",
    "sse"
   ]
  },
  {
   "cell_type": "markdown",
   "metadata": {},
   "source": [
    "## CALCULATING MEAN SQUARE ERROR"
   ]
  },
  {
   "cell_type": "code",
   "execution_count": 36,
   "metadata": {},
   "outputs": [
    {
     "data": {
      "text/plain": [
       "0.3394138558144636"
      ]
     },
     "execution_count": 36,
     "metadata": {},
     "output_type": "execute_result"
    }
   ],
   "source": [
    "mse=np.mean(sse)\n",
    "mse"
   ]
  },
  {
   "cell_type": "markdown",
   "metadata": {},
   "source": [
    "# K-FOLD "
   ]
  },
  {
   "cell_type": "code",
   "execution_count": 38,
   "metadata": {},
   "outputs": [],
   "source": [
    "lm_k = vAR_model\n",
    "k_predictions = cross_val_predict(lm_k, vAR_Features_Train, obj_vAR_df[\"Final grade_cat\"], cv=10)"
   ]
  },
  {
   "cell_type": "code",
   "execution_count": 39,
   "metadata": {},
   "outputs": [
    {
     "data": {
      "text/plain": [
       "99.99552627277691"
      ]
     },
     "execution_count": 39,
     "metadata": {},
     "output_type": "execute_result"
    }
   ],
   "source": [
    "accuracy=vAR_model.score(vAR_Features_Train,k_predictions)\n",
    "accuracy=accuracy*100\n",
    "accuracy"
   ]
  },
  {
   "cell_type": "markdown",
   "metadata": {},
   "source": [
    "# LOOCV METHOD"
   ]
  },
  {
   "cell_type": "code",
   "execution_count": 40,
   "metadata": {},
   "outputs": [],
   "source": [
    "LOO_predictions = cross_val_predict(lm_k,vAR_Features_Train , obj_vAR_df[\"Final grade_cat\"], cv=(len(vAR_Features_Train)))\n"
   ]
  },
  {
   "cell_type": "code",
   "execution_count": 41,
   "metadata": {},
   "outputs": [
    {
     "data": {
      "text/plain": [
       "99.99841245233063"
      ]
     },
     "execution_count": 41,
     "metadata": {},
     "output_type": "execute_result"
    }
   ],
   "source": [
    "accuracy=vAR_model.score(vAR_Features_Train,LOO_predictions)\n",
    "accuracy=accuracy*100\n",
    "accuracy"
   ]
  },
  {
   "cell_type": "markdown",
   "metadata": {},
   "source": [
    "## Status Visualisation"
   ]
  },
  {
   "cell_type": "code",
   "execution_count": 22,
   "metadata": {},
   "outputs": [
    {
     "data": {
      "image/png": "[encoded data removed]",
      "text/plain": [
       "<Figure size 360x360 with 1 Axes>"
      ]
     },
     "metadata": {},
     "output_type": "display_data"
    }
   ],
   "source": [
    "data=obj_vAR_df[\"Status\"].value_counts()\n",
    "colors = ['green','blue']\n",
    "plot = data.plot.pie(y='Status',colors=colors, explode = [0,0.1], figsize=(5, 5))"
   ]
  },
  {
   "cell_type": "markdown",
   "metadata": {},
   "source": [
    "#               80-20 MODEL VALIDATION\n"
   ]
  },
  {
   "cell_type": "code",
   "execution_count": 251,
   "metadata": {},
   "outputs": [],
   "source": [
    "from sklearn.model_selection import train_test_split\n",
    "xTrain, xTest, yTrain, yTest = train_test_split(vAR_Features_Train, obj_vAR_df[\"Final grade_cat\"], test_size = 0.2,train_size=0.8)"
   ]
  },
  {
   "cell_type": "code",
   "execution_count": 252,
   "metadata": {},
   "outputs": [
    {
     "data": {
      "text/plain": [
       "(1600, 15)"
      ]
     },
     "execution_count": 252,
     "metadata": {},
     "output_type": "execute_result"
    }
   ],
   "source": [
    "xTrain.shape"
   ]
  },
  {
   "cell_type": "code",
   "execution_count": 253,
   "metadata": {},
   "outputs": [
    {
     "data": {
      "text/plain": [
       "(400, 15)"
      ]
     },
     "execution_count": 253,
     "metadata": {},
     "output_type": "execute_result"
    }
   ],
   "source": [
    "xTest.shape"
   ]
  },
  {
   "cell_type": "code",
   "execution_count": 254,
   "metadata": {},
   "outputs": [
    {
     "data": {
      "text/plain": [
       "(1600,)"
      ]
     },
     "execution_count": 254,
     "metadata": {},
     "output_type": "execute_result"
    }
   ],
   "source": [
    "yTrain.shape"
   ]
  },
  {
   "cell_type": "code",
   "execution_count": 255,
   "metadata": {},
   "outputs": [
    {
     "data": {
      "text/plain": [
       "(400,)"
      ]
     },
     "execution_count": 255,
     "metadata": {},
     "output_type": "execute_result"
    }
   ],
   "source": [
    "yTest.shape"
   ]
  },
  {
   "cell_type": "code",
   "execution_count": 256,
   "metadata": {},
   "outputs": [
    {
     "data": {
      "text/plain": [
       "array([2.18038017, 0.62707042, 0.45847043, ..., 0.13020746, 4.16097751,\n",
       "       0.46186586])"
      ]
     },
     "execution_count": 256,
     "metadata": {},
     "output_type": "execute_result"
    }
   ],
   "source": [
    "#reviewing learning algorithm  \n",
    "y_pred=vAR_model.predict(xTrain)\n",
    "y_pred"
   ]
  },
  {
   "cell_type": "code",
   "execution_count": 257,
   "metadata": {},
   "outputs": [
    {
     "data": {
      "text/plain": [
       "0.33598443512506043"
      ]
     },
     "execution_count": 257,
     "metadata": {},
     "output_type": "execute_result"
    }
   ],
   "source": [
    "from sklearn.metrics import mean_squared_error\n",
    "mean_squared_error(yTrain,y_pred)"
   ]
  },
  {
   "cell_type": "code",
   "execution_count": 258,
   "metadata": {},
   "outputs": [
    {
     "data": {
      "text/plain": [
       "87.75943311435995"
      ]
     },
     "execution_count": 258,
     "metadata": {},
     "output_type": "execute_result"
    }
   ],
   "source": [
    "accuracy=vAR_model.score(xTrain,yTrain)\n",
    "accuracy=accuracy*100\n",
    "accuracy"
   ]
  },
  {
   "cell_type": "markdown",
   "metadata": {},
   "source": [
    "### Probability"
   ]
  },
  {
   "cell_type": "code",
   "execution_count": 278,
   "metadata": {},
   "outputs": [
    {
     "name": "stderr",
     "output_type": "stream",
     "text": [
      "C:\\ProgramData\\Anaconda3\\lib\\site-packages\\sklearn\\linear_model\\_logistic.py:762: ConvergenceWarning: lbfgs failed to converge (status=1):\n",
      "STOP: TOTAL NO. of ITERATIONS REACHED LIMIT.\n",
      "\n",
      "Increase the number of iterations (max_iter) or scale the data as shown in:\n",
      "    https://scikit-learn.org/stable/modules/preprocessing.html\n",
      "Please also refer to the documentation for alternative solver options:\n",
      "    https://scikit-learn.org/stable/modules/linear_model.html#logistic-regression\n",
      "  n_iter_i = _check_optimize_result(\n"
     ]
    },
    {
     "data": {
      "text/plain": [
       "array([[2.31498937e-01, 1.16511765e-01, 1.15288788e-01, ...,\n",
       "        4.68050959e-20, 1.28207786e-19, 2.25602696e-21],\n",
       "       [9.86183969e-01, 1.36889700e-02, 1.26899321e-04, ...,\n",
       "        1.46670325e-40, 2.60616031e-18, 4.29322792e-17],\n",
       "       [9.84589531e-01, 1.52397460e-02, 1.70554020e-04, ...,\n",
       "        1.67079373e-40, 3.12653443e-18, 4.91840696e-17],\n",
       "       ...,\n",
       "       [5.19097029e-05, 9.99948088e-01, 1.80662000e-09, ...,\n",
       "        6.02688776e-51, 1.36606008e-36, 9.42039957e-29],\n",
       "       [1.38147877e-02, 9.69814483e-01, 1.45877144e-02, ...,\n",
       "        3.35173321e-26, 2.84152172e-27, 1.15446039e-25],\n",
       "       [1.10890866e-01, 5.63505950e-03, 5.60805909e-01, ...,\n",
       "        1.46238054e-23, 8.78033118e-13, 2.51382644e-18]])"
      ]
     },
     "execution_count": 278,
     "metadata": {},
     "output_type": "execute_result"
    }
   ],
   "source": [
    "from sklearn.model_selection import train_test_split\n",
    "X = vAR_df[['Assignment 1(%)','Assignment 2(%)','Assignment 3(%)','Semester 1(%)','Semester 2(%)',\n",
    "                'Backlogs','Tech-fest participation','Attendance','Quiz Voluntering',\n",
    "                'Maths Olympiad','Science olympiad','Adaptiveness','Secondary Language(Reading&writing)_cat', \n",
    "                 'Social activity','Primary Language(Reading &writing)_cat']]\n",
    "y = vAR_df['Final grade']\n",
    "\n",
    "xTrain, xTest, yTrain, yTest = train_test_split(X, y, test_size=0.33, random_state=42)\n",
    "\n",
    "\n",
    "# fit Logistic Regression to the training set\n",
    "from sklearn.linear_model import LogisticRegression\n",
    "classifier = LogisticRegression(random_state = 0)\n",
    "classifier.fit(xTrain, yTrain)\n",
    "\n",
    "\n",
    "# predict the Test set results\n",
    "y_pred = classifier.predict(xTest)\n",
    "\n",
    "# make the confusion matrix for evaluation\n",
    "from sklearn.metrics import confusion_matrix\n",
    "confusion_matrix(yTest, y_pred)\n",
    "\n",
    "\n",
    "classifier.predict_proba(xTest)"
   ]
  },
  {
   "cell_type": "markdown",
   "metadata": {},
   "source": [
    "### weightage"
   ]
  },
  {
   "cell_type": "code",
   "execution_count": 289,
   "metadata": {},
   "outputs": [],
   "source": [
    "distribution = obj_vAR_df[\"Final grade_cat\"]\n",
    "weights = vAR_df['Assignment 1(%)']"
   ]
  },
  {
   "cell_type": "code",
   "execution_count": 290,
   "metadata": {},
   "outputs": [
    {
     "data": {
      "text/plain": [
       "1.69"
      ]
     },
     "execution_count": 290,
     "metadata": {},
     "output_type": "execute_result"
    }
   ],
   "source": [
    "def weighted_average_m1(distribution,weights ):\n",
    "    numerator=sum([distribution[i]*weights[i] for i in range (len(distribution))])\n",
    "    denominator=sum(weights)\n",
    "    return round(numerator/denominator,2)\n",
    "weighted_average_m1(distribution,weights)"
   ]
  },
  {
   "cell_type": "code",
   "execution_count": 292,
   "metadata": {},
   "outputs": [],
   "source": [
    "distribution = obj_vAR_df[\"Final grade_cat\"]\n",
    "weights = vAR_df['Assignment 2(%)']"
   ]
  },
  {
   "cell_type": "code",
   "execution_count": 293,
   "metadata": {},
   "outputs": [
    {
     "data": {
      "text/plain": [
       "1.65"
      ]
     },
     "execution_count": 293,
     "metadata": {},
     "output_type": "execute_result"
    }
   ],
   "source": [
    "def weighted_average_m1(distribution,weights ):\n",
    "    numerator=sum([distribution[i]*weights[i] for i in range (len(distribution))])\n",
    "    denominator=sum(weights)\n",
    "    return round(numerator/denominator,2)\n",
    "weighted_average_m1(distribution,weights)"
   ]
  },
  {
   "cell_type": "code",
   "execution_count": 295,
   "metadata": {},
   "outputs": [],
   "source": [
    "distribution = obj_vAR_df[\"Final grade_cat\"]\n",
    "weights = vAR_df['Assignment 3(%)']"
   ]
  },
  {
   "cell_type": "code",
   "execution_count": 296,
   "metadata": {},
   "outputs": [
    {
     "data": {
      "text/plain": [
       "1.6"
      ]
     },
     "execution_count": 296,
     "metadata": {},
     "output_type": "execute_result"
    }
   ],
   "source": [
    "def weighted_average_m1(distribution,weights ):\n",
    "    numerator=sum([distribution[i]*weights[i] for i in range (len(distribution))])\n",
    "    denominator=sum(weights)\n",
    "    return round(numerator/denominator,2)\n",
    "weighted_average_m1(distribution,weights)"
   ]
  },
  {
   "cell_type": "code",
   "execution_count": 297,
   "metadata": {},
   "outputs": [],
   "source": [
    "distribution = obj_vAR_df[\"Final grade_cat\"]\n",
    "weights = vAR_df['Semester 1(%)']"
   ]
  },
  {
   "cell_type": "code",
   "execution_count": 298,
   "metadata": {},
   "outputs": [
    {
     "data": {
      "text/plain": [
       "1.67"
      ]
     },
     "execution_count": 298,
     "metadata": {},
     "output_type": "execute_result"
    }
   ],
   "source": [
    "def weighted_average_m1(distribution,weights ):\n",
    "    numerator=sum([distribution[i]*weights[i] for i in range (len(distribution))])\n",
    "    denominator=sum(weights)\n",
    "    return round(numerator/denominator,2)\n",
    "weighted_average_m1(distribution,weights)"
   ]
  },
  {
   "cell_type": "code",
   "execution_count": 299,
   "metadata": {},
   "outputs": [],
   "source": [
    "distribution = obj_vAR_df[\"Final grade_cat\"]\n",
    "weights = vAR_df['Semester 2(%)']"
   ]
  },
  {
   "cell_type": "code",
   "execution_count": 300,
   "metadata": {},
   "outputs": [
    {
     "data": {
      "text/plain": [
       "1.62"
      ]
     },
     "execution_count": 300,
     "metadata": {},
     "output_type": "execute_result"
    }
   ],
   "source": [
    "def weighted_average_m1(distribution,weights ):\n",
    "    numerator=sum([distribution[i]*weights[i] for i in range (len(distribution))])\n",
    "    denominator=sum(weights)\n",
    "    return round(numerator/denominator,2)\n",
    "weighted_average_m1(distribution,weights)"
   ]
  },
  {
   "cell_type": "code",
   "execution_count": 303,
   "metadata": {},
   "outputs": [],
   "source": [
    "distribution = obj_vAR_df[\"Final grade_cat\"]\n",
    "weights = vAR_df['Backlogs']"
   ]
  },
  {
   "cell_type": "code",
   "execution_count": 304,
   "metadata": {},
   "outputs": [
    {
     "data": {
      "text/plain": [
       "4.29"
      ]
     },
     "execution_count": 304,
     "metadata": {},
     "output_type": "execute_result"
    }
   ],
   "source": [
    "def weighted_average_m1(distribution,weights ):\n",
    "    numerator=sum([distribution[i]*weights[i] for i in range (len(distribution))])\n",
    "    denominator=sum(weights)\n",
    "    return round(numerator/denominator,2)\n",
    "weighted_average_m1(distribution,weights)"
   ]
  },
  {
   "cell_type": "code",
   "execution_count": 305,
   "metadata": {},
   "outputs": [],
   "source": [
    "distribution = obj_vAR_df[\"Final grade_cat\"]\n",
    "weights = vAR_df['Tech-fest participation']"
   ]
  },
  {
   "cell_type": "code",
   "execution_count": 306,
   "metadata": {},
   "outputs": [
    {
     "data": {
      "text/plain": [
       "1.25"
      ]
     },
     "execution_count": 306,
     "metadata": {},
     "output_type": "execute_result"
    }
   ],
   "source": [
    "def weighted_average_m1(distribution,weights ):\n",
    "    numerator=sum([distribution[i]*weights[i] for i in range (len(distribution))])\n",
    "    denominator=sum(weights)\n",
    "    return round(numerator/denominator,2)\n",
    "weighted_average_m1(distribution,weights)"
   ]
  },
  {
   "cell_type": "code",
   "execution_count": 307,
   "metadata": {},
   "outputs": [],
   "source": [
    "distribution = obj_vAR_df[\"Final grade_cat\"]\n",
    "weights = vAR_df['Attendance']"
   ]
  },
  {
   "cell_type": "code",
   "execution_count": 308,
   "metadata": {},
   "outputs": [
    {
     "data": {
      "text/plain": [
       "1.81"
      ]
     },
     "execution_count": 308,
     "metadata": {},
     "output_type": "execute_result"
    }
   ],
   "source": [
    "def weighted_average_m1(distribution,weights ):\n",
    "    numerator=sum([distribution[i]*weights[i] for i in range (len(distribution))])\n",
    "    denominator=sum(weights)\n",
    "    return round(numerator/denominator,2)\n",
    "weighted_average_m1(distribution,weights)"
   ]
  },
  {
   "cell_type": "code",
   "execution_count": 311,
   "metadata": {},
   "outputs": [],
   "source": [
    "distribution = obj_vAR_df[\"Final grade_cat\"]\n",
    "weights = vAR_df['Quiz Voluntering']"
   ]
  },
  {
   "cell_type": "code",
   "execution_count": 312,
   "metadata": {},
   "outputs": [
    {
     "data": {
      "text/plain": [
       "1.11"
      ]
     },
     "execution_count": 312,
     "metadata": {},
     "output_type": "execute_result"
    }
   ],
   "source": [
    "def weighted_average_m1(distribution,weights ):\n",
    "    numerator=sum([distribution[i]*weights[i] for i in range (len(distribution))])\n",
    "    denominator=sum(weights)\n",
    "    return round(numerator/denominator,2)\n",
    "weighted_average_m1(distribution,weights)"
   ]
  },
  {
   "cell_type": "code",
   "execution_count": 313,
   "metadata": {},
   "outputs": [],
   "source": [
    "distribution = obj_vAR_df[\"Final grade_cat\"]\n",
    "weights = vAR_df['Maths Olympiad']"
   ]
  },
  {
   "cell_type": "code",
   "execution_count": 314,
   "metadata": {},
   "outputs": [
    {
     "data": {
      "text/plain": [
       "0.15"
      ]
     },
     "execution_count": 314,
     "metadata": {},
     "output_type": "execute_result"
    }
   ],
   "source": [
    "def weighted_average_m1(distribution,weights ):\n",
    "    numerator=sum([distribution[i]*weights[i] for i in range (len(distribution))])\n",
    "    denominator=sum(weights)\n",
    "    return round(numerator/denominator,2)\n",
    "weighted_average_m1(distribution,weights)"
   ]
  },
  {
   "cell_type": "code",
   "execution_count": 315,
   "metadata": {},
   "outputs": [],
   "source": [
    "distribution = obj_vAR_df[\"Final grade_cat\"]\n",
    "weights = vAR_df['Science olympiad']"
   ]
  },
  {
   "cell_type": "code",
   "execution_count": 316,
   "metadata": {},
   "outputs": [
    {
     "data": {
      "text/plain": [
       "0.5"
      ]
     },
     "execution_count": 316,
     "metadata": {},
     "output_type": "execute_result"
    }
   ],
   "source": [
    "def weighted_average_m1(distribution,weights ):\n",
    "    numerator=sum([distribution[i]*weights[i] for i in range (len(distribution))])\n",
    "    denominator=sum(weights)\n",
    "    return round(numerator/denominator,2)\n",
    "weighted_average_m1(distribution,weights)"
   ]
  },
  {
   "cell_type": "code",
   "execution_count": 317,
   "metadata": {},
   "outputs": [],
   "source": [
    "distribution = obj_vAR_df[\"Final grade_cat\"]\n",
    "weights = vAR_df['Adaptiveness']"
   ]
  },
  {
   "cell_type": "code",
   "execution_count": 318,
   "metadata": {},
   "outputs": [
    {
     "data": {
      "text/plain": [
       "0.98"
      ]
     },
     "execution_count": 318,
     "metadata": {},
     "output_type": "execute_result"
    }
   ],
   "source": [
    "def weighted_average_m1(distribution,weights ):\n",
    "    numerator=sum([distribution[i]*weights[i] for i in range (len(distribution))])\n",
    "    denominator=sum(weights)\n",
    "    return round(numerator/denominator,2)\n",
    "weighted_average_m1(distribution,weights)"
   ]
  },
  {
   "cell_type": "code",
   "execution_count": 319,
   "metadata": {},
   "outputs": [],
   "source": [
    "distribution = obj_vAR_df[\"Final grade_cat\"]\n",
    "weights = vAR_df['Secondary Language(Reading&writing)_cat']"
   ]
  },
  {
   "cell_type": "code",
   "execution_count": 320,
   "metadata": {},
   "outputs": [
    {
     "data": {
      "text/plain": [
       "0.39"
      ]
     },
     "execution_count": 320,
     "metadata": {},
     "output_type": "execute_result"
    }
   ],
   "source": [
    "def weighted_average_m1(distribution,weights ):\n",
    "    numerator=sum([distribution[i]*weights[i] for i in range (len(distribution))])\n",
    "    denominator=sum(weights)\n",
    "    return round(numerator/denominator,2)\n",
    "weighted_average_m1(distribution,weights)"
   ]
  },
  {
   "cell_type": "code",
   "execution_count": 321,
   "metadata": {},
   "outputs": [],
   "source": [
    "distribution = obj_vAR_df[\"Final grade_cat\"]\n",
    "weights = vAR_df['Social activity']"
   ]
  },
  {
   "cell_type": "code",
   "execution_count": 322,
   "metadata": {},
   "outputs": [
    {
     "data": {
      "text/plain": [
       "1.52"
      ]
     },
     "execution_count": 322,
     "metadata": {},
     "output_type": "execute_result"
    }
   ],
   "source": [
    "def weighted_average_m1(distribution,weights ):\n",
    "    numerator=sum([distribution[i]*weights[i] for i in range (len(distribution))])\n",
    "    denominator=sum(weights)\n",
    "    return round(numerator/denominator,2)\n",
    "weighted_average_m1(distribution,weights)"
   ]
  },
  {
   "cell_type": "code",
   "execution_count": 324,
   "metadata": {},
   "outputs": [],
   "source": [
    "distribution = obj_vAR_df[\"Final grade_cat\"]\n",
    "weights = obj_vAR_df[\"Primary Language(Reading &writing)_cat\"]"
   ]
  },
  {
   "cell_type": "code",
   "execution_count": 325,
   "metadata": {},
   "outputs": [
    {
     "data": {
      "text/plain": [
       "1.22"
      ]
     },
     "execution_count": 325,
     "metadata": {},
     "output_type": "execute_result"
    }
   ],
   "source": [
    "def weighted_average_m1(distribution,weights ):\n",
    "    numerator=sum([distribution[i]*weights[i] for i in range (len(distribution))])\n",
    "    denominator=sum(weights)\n",
    "    return round(numerator/denominator,2)\n",
    "weighted_average_m1(distribution,weights)"
   ]
  },
  {
   "cell_type": "markdown",
   "metadata": {},
   "source": [
    "### Weightage visualisation"
   ]
  },
  {
   "cell_type": "code",
   "execution_count": 27,
   "metadata": {},
   "outputs": [
    {
     "data": {
      "image/png": "[encoded data removed]",
      "text/plain": [
       "<Figure size 2016x720 with 1 Axes>"
      ]
     },
     "metadata": {
      "needs_background": "light"
     },
     "output_type": "display_data"
    }
   ],
   "source": [
    "Features=['Assignment 1(%)','Assignment 2(%)','Assignment 3(%)','Semester 1(%)','Semester 2(%)',\n",
    "                'Backlogs','Tech-fest participation','Attendance','Quiz Voluntering',\n",
    "                'Maths Olympiad','Science olympiad','Adaptiveness','Secondary Language(Reading&writing)_cat', \n",
    "                 'Social activity','Primary Language(Reading &writing)_cat']\n",
    "\n",
    "Weightage= [1.69,1.65,1.6,1.67,1.62,4.29,1.25,1.81,1.11,0.15,0.5,0.98,0.39,1.52,1.22]\n",
    "   \n",
    "fig = vAR_plt.figure(figsize = (28,10)) \n",
    "  \n",
    "# creating the bar plot \n",
    "vAR_plt.bar(Features, Weightage, color =['blue','green','black','red'],width = 0.4) \n",
    "vAR_plt.xlabel(\"Features\",size=25) \n",
    "vAR_plt.ylabel(\"Weightage\",size=25) \n",
    "vAR_plt.title(\"Weightage visualisation\",size=35) \n",
    "vAR_plt.show() "
   ]
  },
  {
   "cell_type": "markdown",
   "metadata": {},
   "source": [
    "### Confidence "
   ]
  },
  {
   "cell_type": "code",
   "execution_count": 333,
   "metadata": {},
   "outputs": [],
   "source": [
    "import scipy.stats as st"
   ]
  },
  {
   "cell_type": "code",
   "execution_count": 335,
   "metadata": {},
   "outputs": [
    {
     "data": {
      "text/plain": [
       "(1.8539264412809229, 2.000073558719077)"
      ]
     },
     "execution_count": 335,
     "metadata": {},
     "output_type": "execute_result"
    }
   ],
   "source": [
    "st.norm.interval(alpha=0.95, loc=np.mean(obj_vAR_df[\"Final grade_cat\"]), scale=st.sem(obj_vAR_df[\"Final grade_cat\"]))"
   ]
  },
  {
   "cell_type": "markdown",
   "metadata": {},
   "source": [
    " #                                70-30 MODEL VALIDATION \n"
   ]
  },
  {
   "cell_type": "code",
   "execution_count": 265,
   "metadata": {},
   "outputs": [],
   "source": [
    "xTrain, xTest, yTrain, yTest = train_test_split(vAR_Features_Train, obj_vAR_df[\"Final grade_cat\"], test_size = 0.3,train_size=0.7)"
   ]
  },
  {
   "cell_type": "code",
   "execution_count": 266,
   "metadata": {},
   "outputs": [
    {
     "data": {
      "text/plain": [
       "(1400, 15)"
      ]
     },
     "execution_count": 266,
     "metadata": {},
     "output_type": "execute_result"
    }
   ],
   "source": [
    "xTrain.shape"
   ]
  },
  {
   "cell_type": "code",
   "execution_count": 267,
   "metadata": {},
   "outputs": [
    {
     "data": {
      "text/plain": [
       "(600, 15)"
      ]
     },
     "execution_count": 267,
     "metadata": {},
     "output_type": "execute_result"
    }
   ],
   "source": [
    "xTest.shape"
   ]
  },
  {
   "cell_type": "code",
   "execution_count": 268,
   "metadata": {},
   "outputs": [
    {
     "data": {
      "text/plain": [
       "LinearRegression()"
      ]
     },
     "execution_count": 268,
     "metadata": {},
     "output_type": "execute_result"
    }
   ],
   "source": [
    "vAR_model.fit(xTrain,yTrain)"
   ]
  },
  {
   "cell_type": "code",
   "execution_count": 269,
   "metadata": {},
   "outputs": [
    {
     "data": {
      "text/plain": [
       "array([2.21970196, 2.25892252, 4.07516347, ..., 0.48646848, 2.21970196,\n",
       "       4.6428039 ])"
      ]
     },
     "execution_count": 269,
     "metadata": {},
     "output_type": "execute_result"
    }
   ],
   "source": [
    "y_pred=vAR_model.predict(xTrain)\n",
    "y_pred"
   ]
  },
  {
   "cell_type": "code",
   "execution_count": 270,
   "metadata": {},
   "outputs": [
    {
     "data": {
      "text/plain": [
       "0.3300509021325271"
      ]
     },
     "execution_count": 270,
     "metadata": {},
     "output_type": "execute_result"
    }
   ],
   "source": [
    "mean_squared_error(yTrain,y_pred)"
   ]
  },
  {
   "cell_type": "code",
   "execution_count": 271,
   "metadata": {},
   "outputs": [
    {
     "data": {
      "text/plain": [
       "87.85957245224051"
      ]
     },
     "execution_count": 271,
     "metadata": {},
     "output_type": "execute_result"
    }
   ],
   "source": [
    "accuracy=vAR_model.score(xTrain,yTrain)\n",
    "accuracy=accuracy*100\n",
    "accuracy"
   ]
  },
  {
   "cell_type": "markdown",
   "metadata": {},
   "source": [
    "### Probability"
   ]
  },
  {
   "cell_type": "code",
   "execution_count": 340,
   "metadata": {},
   "outputs": [
    {
     "name": "stderr",
     "output_type": "stream",
     "text": [
      "C:\\ProgramData\\Anaconda3\\lib\\site-packages\\sklearn\\linear_model\\_logistic.py:762: ConvergenceWarning: lbfgs failed to converge (status=1):\n",
      "STOP: TOTAL NO. of ITERATIONS REACHED LIMIT.\n",
      "\n",
      "Increase the number of iterations (max_iter) or scale the data as shown in:\n",
      "    https://scikit-learn.org/stable/modules/preprocessing.html\n",
      "Please also refer to the documentation for alternative solver options:\n",
      "    https://scikit-learn.org/stable/modules/linear_model.html#logistic-regression\n",
      "  n_iter_i = _check_optimize_result(\n"
     ]
    },
    {
     "data": {
      "text/plain": [
       "array([[2.31498937e-01, 1.16511765e-01, 1.15288788e-01, ...,\n",
       "        4.68050959e-20, 1.28207786e-19, 2.25602696e-21],\n",
       "       [9.86183969e-01, 1.36889700e-02, 1.26899321e-04, ...,\n",
       "        1.46670325e-40, 2.60616031e-18, 4.29322792e-17],\n",
       "       [9.84589531e-01, 1.52397460e-02, 1.70554020e-04, ...,\n",
       "        1.67079373e-40, 3.12653443e-18, 4.91840696e-17],\n",
       "       ...,\n",
       "       [5.19097029e-05, 9.99948088e-01, 1.80662000e-09, ...,\n",
       "        6.02688776e-51, 1.36606008e-36, 9.42039957e-29],\n",
       "       [1.38147877e-02, 9.69814483e-01, 1.45877144e-02, ...,\n",
       "        3.35173321e-26, 2.84152172e-27, 1.15446039e-25],\n",
       "       [1.10890866e-01, 5.63505950e-03, 5.60805909e-01, ...,\n",
       "        1.46238054e-23, 8.78033118e-13, 2.51382644e-18]])"
      ]
     },
     "execution_count": 340,
     "metadata": {},
     "output_type": "execute_result"
    }
   ],
   "source": [
    "from sklearn.model_selection import train_test_split\n",
    "X = vAR_df[['Assignment 1(%)','Assignment 2(%)','Assignment 3(%)','Semester 1(%)','Semester 2(%)',\n",
    "                'Backlogs','Tech-fest participation','Attendance','Quiz Voluntering',\n",
    "                'Maths Olympiad','Science olympiad','Adaptiveness','Secondary Language(Reading&writing)_cat', \n",
    "                 'Social activity','Primary Language(Reading &writing)_cat']]\n",
    "y = vAR_df['Final grade']\n",
    "\n",
    "xTrain, xTest, yTrain, yTest = train_test_split(X, y, test_size=0.33, random_state=42)\n",
    "\n",
    "\n",
    "# fit Logistic Regression to the training set\n",
    "from sklearn.linear_model import LogisticRegression\n",
    "classifier = LogisticRegression(random_state = 0)\n",
    "classifier.fit(xTrain, yTrain)\n",
    "\n",
    "\n",
    "# predict the Test set results\n",
    "y_pred = classifier.predict(xTest)\n",
    "\n",
    "# make the confusion matrix for evaluation\n",
    "from sklearn.metrics import confusion_matrix\n",
    "confusion_matrix(yTest, y_pred)\n",
    "\n",
    "\n",
    "classifier.predict_proba(xTest)"
   ]
  },
  {
   "cell_type": "markdown",
   "metadata": {},
   "source": [
    "### Confidence"
   ]
  },
  {
   "cell_type": "code",
   "execution_count": null,
   "metadata": {},
   "outputs": [],
   "source": [
    "import scipy.stats as st"
   ]
  },
  {
   "cell_type": "code",
   "execution_count": 342,
   "metadata": {},
   "outputs": [
    {
     "data": {
      "text/plain": [
       "(1.8539264412809229, 2.000073558719077)"
      ]
     },
     "execution_count": 342,
     "metadata": {},
     "output_type": "execute_result"
    }
   ],
   "source": [
    "st.norm.interval(alpha=0.95, loc=np.mean(obj_vAR_df[\"Final grade_cat\"]), scale=st.sem(obj_vAR_df[\"Final grade_cat\"]))"
   ]
  },
  {
   "cell_type": "markdown",
   "metadata": {},
   "source": [
    "## 90-10 MODEL VALIDATION\n"
   ]
  },
  {
   "cell_type": "code",
   "execution_count": 354,
   "metadata": {},
   "outputs": [],
   "source": [
    "xTrain, xTest, yTrain, yTest = train_test_split(vAR_Features_Train, obj_vAR_df[\"Final grade_cat\"], test_size = 0.1,train_size=0.9)"
   ]
  },
  {
   "cell_type": "code",
   "execution_count": 355,
   "metadata": {},
   "outputs": [
    {
     "data": {
      "text/plain": [
       "(1800, 15)"
      ]
     },
     "execution_count": 355,
     "metadata": {},
     "output_type": "execute_result"
    }
   ],
   "source": [
    "xTrain.shape"
   ]
  },
  {
   "cell_type": "code",
   "execution_count": 356,
   "metadata": {},
   "outputs": [
    {
     "data": {
      "text/plain": [
       "(200, 15)"
      ]
     },
     "execution_count": 356,
     "metadata": {},
     "output_type": "execute_result"
    }
   ],
   "source": [
    "xTest.shape"
   ]
  },
  {
   "cell_type": "code",
   "execution_count": 357,
   "metadata": {},
   "outputs": [
    {
     "data": {
      "text/plain": [
       "LinearRegression()"
      ]
     },
     "execution_count": 357,
     "metadata": {},
     "output_type": "execute_result"
    }
   ],
   "source": [
    "vAR_model.fit(xTrain,yTrain)"
   ]
  },
  {
   "cell_type": "code",
   "execution_count": 358,
   "metadata": {},
   "outputs": [
    {
     "data": {
      "text/plain": [
       "array([ 4.08862389,  0.45180984,  0.62460576, ...,  4.08862389,\n",
       "        2.33890187, -0.24459419])"
      ]
     },
     "execution_count": 358,
     "metadata": {},
     "output_type": "execute_result"
    }
   ],
   "source": [
    "y_pred=vAR_model.predict(xTrain)\n",
    "y_pred"
   ]
  },
  {
   "cell_type": "code",
   "execution_count": 359,
   "metadata": {},
   "outputs": [
    {
     "data": {
      "text/plain": [
       "0.33300322735506105"
      ]
     },
     "execution_count": 359,
     "metadata": {},
     "output_type": "execute_result"
    }
   ],
   "source": [
    "mean_squared_error(yTrain,y_pred)"
   ]
  },
  {
   "cell_type": "code",
   "execution_count": 360,
   "metadata": {},
   "outputs": [
    {
     "data": {
      "text/plain": [
       "87.90056905048223"
      ]
     },
     "execution_count": 360,
     "metadata": {},
     "output_type": "execute_result"
    }
   ],
   "source": [
    "accuracy=vAR_model.score(xTrain,yTrain)\n",
    "accuracy=accuracy*100\n",
    "accuracy"
   ]
  },
  {
   "cell_type": "markdown",
   "metadata": {},
   "source": [
    "### Probability"
   ]
  },
  {
   "cell_type": "code",
   "execution_count": 343,
   "metadata": {},
   "outputs": [
    {
     "name": "stderr",
     "output_type": "stream",
     "text": [
      "C:\\ProgramData\\Anaconda3\\lib\\site-packages\\sklearn\\linear_model\\_logistic.py:762: ConvergenceWarning: lbfgs failed to converge (status=1):\n",
      "STOP: TOTAL NO. of ITERATIONS REACHED LIMIT.\n",
      "\n",
      "Increase the number of iterations (max_iter) or scale the data as shown in:\n",
      "    https://scikit-learn.org/stable/modules/preprocessing.html\n",
      "Please also refer to the documentation for alternative solver options:\n",
      "    https://scikit-learn.org/stable/modules/linear_model.html#logistic-regression\n",
      "  n_iter_i = _check_optimize_result(\n"
     ]
    },
    {
     "data": {
      "text/plain": [
       "array([[2.31498937e-01, 1.16511765e-01, 1.15288788e-01, ...,\n",
       "        4.68050959e-20, 1.28207786e-19, 2.25602696e-21],\n",
       "       [9.86183969e-01, 1.36889700e-02, 1.26899321e-04, ...,\n",
       "        1.46670325e-40, 2.60616031e-18, 4.29322792e-17],\n",
       "       [9.84589531e-01, 1.52397460e-02, 1.70554020e-04, ...,\n",
       "        1.67079373e-40, 3.12653443e-18, 4.91840696e-17],\n",
       "       ...,\n",
       "       [5.19097029e-05, 9.99948088e-01, 1.80662000e-09, ...,\n",
       "        6.02688776e-51, 1.36606008e-36, 9.42039957e-29],\n",
       "       [1.38147877e-02, 9.69814483e-01, 1.45877144e-02, ...,\n",
       "        3.35173321e-26, 2.84152172e-27, 1.15446039e-25],\n",
       "       [1.10890866e-01, 5.63505950e-03, 5.60805909e-01, ...,\n",
       "        1.46238054e-23, 8.78033118e-13, 2.51382644e-18]])"
      ]
     },
     "execution_count": 343,
     "metadata": {},
     "output_type": "execute_result"
    }
   ],
   "source": [
    "from sklearn.model_selection import train_test_split\n",
    "X = vAR_df[['Assignment 1(%)','Assignment 2(%)','Assignment 3(%)','Semester 1(%)','Semester 2(%)',\n",
    "                'Backlogs','Tech-fest participation','Attendance','Quiz Voluntering',\n",
    "                'Maths Olympiad','Science olympiad','Adaptiveness','Secondary Language(Reading&writing)_cat', \n",
    "                 'Social activity','Primary Language(Reading &writing)_cat']]\n",
    "y = vAR_df['Final grade']\n",
    "\n",
    "xTrain, xTest, yTrain, yTest = train_test_split(X, y, test_size=0.33, random_state=42)\n",
    "\n",
    "\n",
    "# fit Logistic Regression to the training set\n",
    "from sklearn.linear_model import LogisticRegression\n",
    "classifier = LogisticRegression(random_state = 0)\n",
    "classifier.fit(xTrain, yTrain)\n",
    "\n",
    "\n",
    "# predict the Test set results\n",
    "y_pred = classifier.predict(xTest)\n",
    "\n",
    "# make the confusion matrix for evaluation\n",
    "from sklearn.metrics import confusion_matrix\n",
    "confusion_matrix(yTest, y_pred)\n",
    "\n",
    "\n",
    "classifier.predict_proba(xTest)"
   ]
  },
  {
   "cell_type": "markdown",
   "metadata": {},
   "source": [
    "### Confidence"
   ]
  },
  {
   "cell_type": "code",
   "execution_count": 344,
   "metadata": {},
   "outputs": [],
   "source": [
    "import scipy.stats as st"
   ]
  },
  {
   "cell_type": "code",
   "execution_count": 345,
   "metadata": {},
   "outputs": [
    {
     "data": {
      "text/plain": [
       "(1.8539264412809229, 2.000073558719077)"
      ]
     },
     "execution_count": 345,
     "metadata": {},
     "output_type": "execute_result"
    }
   ],
   "source": [
    "st.norm.interval(alpha=0.95, loc=np.mean(obj_vAR_df[\"Final grade_cat\"]), scale=st.sem(obj_vAR_df[\"Final grade_cat\"]))"
   ]
  },
  {
   "cell_type": "markdown",
   "metadata": {},
   "source": [
    "## Accuracy visualisation"
   ]
  },
  {
   "cell_type": "code",
   "execution_count": 5,
   "metadata": {},
   "outputs": [
    {
     "data": {
      "image/png": "[encoded data removed]",
      "text/plain": [
       "<Figure size 720x360 with 1 Axes>"
      ]
     },
     "metadata": {
      "needs_background": "light"
     },
     "output_type": "display_data"
    }
   ],
   "source": [
    "Validation = ['70-30','80-20','90-10'] \n",
    "Accuracy = [87.85,87.75,87.90] \n",
    "   \n",
    "fig = vAR_plt.figure(figsize = (10,5)) \n",
    "  \n",
    "# creating the bar plot \n",
    "vAR_plt.bar(Validation,Accuracy, color =['blue','green','red'],width = 0.2) \n",
    "  \n",
    "vAR_plt.xlabel(\"Data splitting\",size=20) \n",
    "vAR_plt.ylabel(\"Accuracy\",size=20) \n",
    " \n",
    "vAR_plt.show() "
   ]
  },
  {
   "cell_type": "code",
   "execution_count": null,
   "metadata": {},
   "outputs": [],
   "source": []
  }
 ],
 "metadata": {
  "kernelspec": {
   "display_name": "Python 3",
   "language": "python",
   "name": "python3"
  },
  "language_info": {
   "codemirror_mode": {
    "name": "ipython",
    "version": 3
   },
   "file_extension": ".py",
   "mimetype": "text/x-python",
   "name": "python",
   "nbconvert_exporter": "python",
   "pygments_lexer": "ipython3",
   "version": "3.8.3"
  }
 },
 "nbformat": 4,
 "nbformat_minor": 4
}
