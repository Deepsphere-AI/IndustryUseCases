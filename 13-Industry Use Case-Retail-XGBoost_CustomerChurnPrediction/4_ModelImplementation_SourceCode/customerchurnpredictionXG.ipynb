{
  "nbformat": 4,
  "nbformat_minor": 0,
  "metadata": {
    "colab": {
      "name": "customerchurnpredictionXG.ipynb",
      "provenance": [],
      "collapsed_sections": [],
      "toc_visible": true
    },
    "kernelspec": {
      "display_name": "Python 3",
      "language": "python",
      "name": "python3"
    },
    "language_info": {
      "codemirror_mode": {
        "name": "ipython",
        "version": 3
      },
      "file_extension": ".py",
      "mimetype": "text/x-python",
      "name": "python",
      "nbconvert_exporter": "python",
      "pygments_lexer": "ipython3",
      "version": "3.8.3"
    }
  },
  "cells": [
    {
      "cell_type": "markdown",
      "metadata": {
        "id": "fkMTjzGtMtCt"
      },
      "source": [
        "# STEP 0: INI FILE CONFIGRATION"
      ]
    },
    {
      "cell_type": "code",
      "metadata": {
        "colab": {
          "background_save": true
        },
        "id": "MyXQcuLePfvT"
      },
      "source": [
        "!pip install colab-env -qU\r\n",
        "import colab_env"
      ],
      "execution_count": null,
      "outputs": []
    },
    {
      "cell_type": "code",
      "metadata": {
        "id": "NQgmNMSvPgKz"
      },
      "source": [
        "from colab_env import envvar_handler"
      ],
      "execution_count": null,
      "outputs": []
    },
    {
      "cell_type": "code",
      "metadata": {
        "id": "CkhcqLGtPgXy"
      },
      "source": [
        "envvar_handler.add_env(\"ini\",\"/content/gdrive/MyDrive/customerchurnpredictionxg.ini\")"
      ],
      "execution_count": null,
      "outputs": []
    },
    {
      "cell_type": "code",
      "metadata": {
        "id": "BotZ5R9qPgif"
      },
      "source": [
        "import os\r\n",
        "ini_path=os.environ['ini']"
      ],
      "execution_count": null,
      "outputs": []
    },
    {
      "cell_type": "code",
      "metadata": {
        "colab": {
          "background_save": true
        },
        "id": "aTDQ0VyhMtCz",
        "outputId": "3b285de7-bb6b-41b0-cee5-fac38b57159d"
      },
      "source": [
        "import configparser\n",
        "\n",
        "import os\n",
        "\n",
        "vAR_Config = configparser.ConfigParser(allow_no_value=True)\n",
        "\n",
        "vAR_INI_FILE_PATH = ini_path\n",
        "\n",
        "vAR_INI_FILE_PATH\n",
        "\n",
        "vAR_Config.read(vAR_INI_FILE_PATH)\n",
        "\n",
        "vAR_Data = vAR_Config.sections()\n",
        "\n",
        "vAR_Config.sections()\n",
        "\n",
        "vAR_Train_Data = vAR_Config['FILE PATH']['TRAINING_DATA']\n",
        "\n",
        "vAR_Training_Data_Excel_Worsheet = vAR_Config['FILE PATH']['TRAINING_DATA_EXCEL_WORKSHEET']\n",
        "print(vAR_Training_Data_Excel_Worsheet)\n",
        "\n",
        "vAR_Test_Data = vAR_Config['FILE PATH']['TEST_DATA']\n",
        "print(vAR_Test_Data)\n",
        "\n",
        "vAR_Test_Data_Excel_Worsheet = vAR_Config['FILE PATH']['TEST_DATA_EXCEL_WORKSHEET']\n",
        "print(vAR_Test_Data_Excel_Worsheet)\n",
        "\n",
        "vAR_Model_Outcome_LG = vAR_Config['FILE PATH']['MODEL_OUTCOME1']\n",
        "print(vAR_Model_Outcome_LG)\n",
        "vAR_Model_Outcome_XG = vAR_Config['FILE PATH']['MODEL_OUTCOME2']\n",
        "print(vAR_Model_Outcome_XG)"
      ],
      "execution_count": null,
      "outputs": [
        {
          "output_type": "stream",
          "text": [
            "CUSTOMER_CHURN_TRAINING_DATA\n",
            "/content/gdrive/MyDrive/CUSTOMER_CHURN_TEST_DATA.xlsx\n",
            "CUSTOMER_CHURN_TEST_DATA\n",
            "/content/gdrive/MyDrive/CUSTOMER_CHURN_PREDICTION_RESULTSLG.xlsx\n",
            "/content/gdrive/MyDrive/CUSTOMER_CHURN_PREDICTION_RESULTSXG.xlsx\n"
          ],
          "name": "stdout"
        }
      ]
    },
    {
      "cell_type": "markdown",
      "metadata": {
        "id": "yhRkBt-iMtC0"
      },
      "source": [
        "# STEP 1: IMPORT THE LIBRARIES"
      ]
    },
    {
      "cell_type": "code",
      "metadata": {
        "colab": {
          "background_save": true
        },
        "id": "5QyP8tzsMtC0"
      },
      "source": [
        "import pandas as vAR_pd\n",
        "\n",
        "import xgboost as vAR_xgb \n",
        "\n",
        "from sklearn.model_selection import train_test_split\n",
        "\n",
        "from sklearn.linear_model import LogisticRegression\n",
        "\n",
        "from xgboost import XGBClassifier"
      ],
      "execution_count": null,
      "outputs": []
    },
    {
      "cell_type": "markdown",
      "metadata": {
        "id": "WbDFn3LOMtC1"
      },
      "source": [
        "# STEP 2: IMPORT THE TRAINING DATA"
      ]
    },
    {
      "cell_type": "code",
      "metadata": {
        "colab": {
          "background_save": true
        },
        "id": "773DS06zMtC1"
      },
      "source": [
        "vAR_TRAINING_DATA = vAR_pd.read_excel(vAR_Train_Data)\n",
        "\n",
        "vAR_TRAINING_DATA.head()\n",
        "\n",
        "vAR_df = vAR_TRAINING_DATA \n"
      ],
      "execution_count": null,
      "outputs": []
    },
    {
      "cell_type": "code",
      "metadata": {
        "colab": {
          "background_save": true
        },
        "id": "y2IoPUwBMtC1",
        "outputId": "44f6a7eb-5360-469a-dda1-ea5cfde95781"
      },
      "source": [
        "vAR_df.shape"
      ],
      "execution_count": null,
      "outputs": [
        {
          "output_type": "execute_result",
          "data": {
            "text/plain": [
              "(2104, 8)"
            ]
          },
          "metadata": {
            "tags": []
          },
          "execution_count": 0
        }
      ]
    },
    {
      "cell_type": "markdown",
      "metadata": {
        "id": "knSTn_97MtC1"
      },
      "source": [
        "# STEP 3: FEATURE SELECTION(MANUAL)"
      ]
    },
    {
      "cell_type": "code",
      "metadata": {
        "colab": {
          "background_save": true
        },
        "id": "BQ4-0iyVMtC2",
        "outputId": "fe0d6b29-602b-4368-937d-539979fda374"
      },
      "source": [
        "vAR_Features_Train = vAR_df[['Quantity(in lots)','Price Amount','Service Call','Service Failure Rate%pa','Customer Lifetime(Days)']]\n",
        "\n",
        "vAR_Features_Train.head()"
      ],
      "execution_count": null,
      "outputs": [
        {
          "output_type": "execute_result",
          "data": {
            "text/html": [
              "<div>\n",
              "<style scoped>\n",
              "    .dataframe tbody tr th:only-of-type {\n",
              "        vertical-align: middle;\n",
              "    }\n",
              "\n",
              "    .dataframe tbody tr th {\n",
              "        vertical-align: top;\n",
              "    }\n",
              "\n",
              "    .dataframe thead th {\n",
              "        text-align: right;\n",
              "    }\n",
              "</style>\n",
              "<table border=\"1\" class=\"dataframe\">\n",
              "  <thead>\n",
              "    <tr style=\"text-align: right;\">\n",
              "      <th></th>\n",
              "      <th>Quantity(in lots)</th>\n",
              "      <th>Price Amount</th>\n",
              "      <th>Service Call</th>\n",
              "      <th>Service Failure Rate%pa</th>\n",
              "      <th>Customer Lifetime(Days)</th>\n",
              "    </tr>\n",
              "  </thead>\n",
              "  <tbody>\n",
              "    <tr>\n",
              "      <th>0</th>\n",
              "      <td>97</td>\n",
              "      <td>1328.664032</td>\n",
              "      <td>40</td>\n",
              "      <td>50</td>\n",
              "      <td>2319</td>\n",
              "    </tr>\n",
              "    <tr>\n",
              "      <th>1</th>\n",
              "      <td>53</td>\n",
              "      <td>1714.146002</td>\n",
              "      <td>28</td>\n",
              "      <td>89</td>\n",
              "      <td>2179</td>\n",
              "    </tr>\n",
              "    <tr>\n",
              "      <th>2</th>\n",
              "      <td>47</td>\n",
              "      <td>861.628336</td>\n",
              "      <td>44</td>\n",
              "      <td>25</td>\n",
              "      <td>2487</td>\n",
              "    </tr>\n",
              "    <tr>\n",
              "      <th>3</th>\n",
              "      <td>95</td>\n",
              "      <td>1249.003693</td>\n",
              "      <td>39</td>\n",
              "      <td>1</td>\n",
              "      <td>2321</td>\n",
              "    </tr>\n",
              "    <tr>\n",
              "      <th>4</th>\n",
              "      <td>41</td>\n",
              "      <td>1856.952776</td>\n",
              "      <td>92</td>\n",
              "      <td>30</td>\n",
              "      <td>2463</td>\n",
              "    </tr>\n",
              "  </tbody>\n",
              "</table>\n",
              "</div>"
            ],
            "text/plain": [
              "   Quantity(in lots)  ...  Customer Lifetime(Days)\n",
              "0                 97  ...                     2319\n",
              "1                 53  ...                     2179\n",
              "2                 47  ...                     2487\n",
              "3                 95  ...                     2321\n",
              "4                 41  ...                     2463\n",
              "\n",
              "[5 rows x 5 columns]"
            ]
          },
          "metadata": {
            "tags": []
          },
          "execution_count": 0
        }
      ]
    },
    {
      "cell_type": "markdown",
      "metadata": {
        "id": "JN23caq3MtC2"
      },
      "source": [
        "# DEFINING THE LABELS"
      ]
    },
    {
      "cell_type": "code",
      "metadata": {
        "colab": {
          "background_save": true
        },
        "id": "9etfhnFaMtC2"
      },
      "source": [
        "vAR_label_train = vAR_df.iloc[:,7]"
      ],
      "execution_count": null,
      "outputs": []
    },
    {
      "cell_type": "markdown",
      "metadata": {
        "id": "qxA26RWcMtC2"
      },
      "source": [
        "# STEP 4: IMPORT THE MODEL"
      ]
    },
    {
      "cell_type": "code",
      "metadata": {
        "colab": {
          "background_save": true
        },
        "id": "aOfD5PSIMtC3"
      },
      "source": [
        "vAR_Model1 = LogisticRegression()\n",
        "\n",
        "vAR_Model2 = XGBClassifier()"
      ],
      "execution_count": null,
      "outputs": []
    },
    {
      "cell_type": "markdown",
      "metadata": {
        "id": "pQeIc24UMtC3"
      },
      "source": [
        "# TRAIN THE MODEL"
      ]
    },
    {
      "cell_type": "code",
      "metadata": {
        "colab": {
          "background_save": true
        },
        "id": "cLyyXP5cMtC3",
        "outputId": "ce083ce9-ba3b-4009-fafa-0c2511e1bcad"
      },
      "source": [
        "vAR_Model1.fit(vAR_Features_Train,vAR_label_train)"
      ],
      "execution_count": null,
      "outputs": [
        {
          "output_type": "execute_result",
          "data": {
            "text/plain": [
              "LogisticRegression(C=1.0, class_weight=None, dual=False, fit_intercept=True,\n",
              "                   intercept_scaling=1, l1_ratio=None, max_iter=100,\n",
              "                   multi_class='auto', n_jobs=None, penalty='l2',\n",
              "                   random_state=None, solver='lbfgs', tol=0.0001, verbose=0,\n",
              "                   warm_start=False)"
            ]
          },
          "metadata": {
            "tags": []
          },
          "execution_count": 0
        }
      ]
    },
    {
      "cell_type": "code",
      "metadata": {
        "colab": {
          "background_save": true
        },
        "id": "F0WwQJ6kMtC3",
        "outputId": "00f045b9-72db-4000-ad0e-9371ff52fe65"
      },
      "source": [
        "vAR_Model2.fit(vAR_Features_Train,vAR_label_train)"
      ],
      "execution_count": null,
      "outputs": [
        {
          "output_type": "execute_result",
          "data": {
            "text/plain": [
              "XGBClassifier(base_score=0.5, booster='gbtree', colsample_bylevel=1,\n",
              "              colsample_bynode=1, colsample_bytree=1, gamma=0,\n",
              "              learning_rate=0.1, max_delta_step=0, max_depth=3,\n",
              "              min_child_weight=1, missing=None, n_estimators=100, n_jobs=1,\n",
              "              nthread=None, objective='binary:logistic', random_state=0,\n",
              "              reg_alpha=0, reg_lambda=1, scale_pos_weight=1, seed=None,\n",
              "              silent=None, subsample=1, verbosity=1)"
            ]
          },
          "metadata": {
            "tags": []
          },
          "execution_count": 0
        }
      ]
    },
    {
      "cell_type": "code",
      "metadata": {
        "colab": {
          "background_save": true
        },
        "id": "yxJLGVPsMtC3",
        "outputId": "7ee28147-b707-44d0-928e-32aa07594ae9"
      },
      "source": [
        "vAR_Score = vAR_Model1.score(vAR_Features_Train, vAR_label_train)\n",
        "\n",
        "print(vAR_Score)"
      ],
      "execution_count": null,
      "outputs": [
        {
          "output_type": "stream",
          "text": [
            "0.5636882129277566\n"
          ],
          "name": "stdout"
        }
      ]
    },
    {
      "cell_type": "code",
      "metadata": {
        "colab": {
          "background_save": true
        },
        "id": "EtXCoh8JMtC4",
        "outputId": "d112f3df-1fac-47c5-e9a6-028c911d5fe4"
      },
      "source": [
        "vAR_Score = vAR_Model2.score(vAR_Features_Train, vAR_label_train)\n",
        "\n",
        "print(vAR_Score)"
      ],
      "execution_count": null,
      "outputs": [
        {
          "output_type": "stream",
          "text": [
            "0.7081749049429658\n"
          ],
          "name": "stdout"
        }
      ]
    },
    {
      "cell_type": "markdown",
      "metadata": {
        "id": "Ox2VERBzMtC4"
      },
      "source": [
        "# HYPERPARAMETER TUNNING"
      ]
    },
    {
      "cell_type": "code",
      "metadata": {
        "colab": {
          "background_save": true
        },
        "id": "PL3WYAS2MtC4"
      },
      "source": [
        "vAR_Model2 = XGBClassifier(eta=0.01,gamma=10)"
      ],
      "execution_count": null,
      "outputs": []
    },
    {
      "cell_type": "code",
      "metadata": {
        "colab": {
          "background_save": true
        },
        "id": "-wrAlZ9RMtC4",
        "outputId": "0f5506e7-93fd-402d-8633-1f0faf747e3e"
      },
      "source": [
        "vAR_Model2.fit(vAR_Features_Train,vAR_label_train)"
      ],
      "execution_count": null,
      "outputs": [
        {
          "output_type": "execute_result",
          "data": {
            "text/plain": [
              "XGBClassifier(base_score=0.5, booster='gbtree', colsample_bylevel=1,\n",
              "              colsample_bynode=1, colsample_bytree=1, eta=0.01, gamma=10,\n",
              "              learning_rate=0.1, max_delta_step=0, max_depth=3,\n",
              "              min_child_weight=1, missing=None, n_estimators=100, n_jobs=1,\n",
              "              nthread=None, objective='binary:logistic', random_state=0,\n",
              "              reg_alpha=0, reg_lambda=1, scale_pos_weight=1, seed=None,\n",
              "              silent=None, subsample=1, verbosity=1)"
            ]
          },
          "metadata": {
            "tags": []
          },
          "execution_count": 0
        }
      ]
    },
    {
      "cell_type": "code",
      "metadata": {
        "colab": {
          "background_save": true
        },
        "id": "sCQ36MzbMtC4",
        "outputId": "1f829ff4-2e8b-42a3-eed1-c448ab83b61b"
      },
      "source": [
        "vAR_Score = vAR_Model2.score(vAR_Features_Train, vAR_label_train)\n",
        "\n",
        "print(vAR_Score)"
      ],
      "execution_count": null,
      "outputs": [
        {
          "output_type": "stream",
          "text": [
            "0.5636882129277566\n"
          ],
          "name": "stdout"
        }
      ]
    },
    {
      "cell_type": "markdown",
      "metadata": {
        "id": "kekNF3A4MtC5"
      },
      "source": [
        "# IMPORT THE TEST DATA"
      ]
    },
    {
      "cell_type": "code",
      "metadata": {
        "colab": {
          "background_save": true
        },
        "id": "DhD8fJftMtC5"
      },
      "source": [
        "vAR_TEST_DATA = vAR_pd.read_excel(vAR_Test_Data)\n",
        "\n",
        "vAR_TEST_DATA.head()\n",
        "\n",
        "vAR_df1 = vAR_TEST_DATA \n"
      ],
      "execution_count": null,
      "outputs": []
    },
    {
      "cell_type": "code",
      "metadata": {
        "colab": {
          "background_save": true
        },
        "id": "voVXHPheMtC5"
      },
      "source": [
        "vAR_Features_Test = vAR_df1[['Quantity(in lots)','Price Amount','Service Call','Service Failure Rate%pa','Customer Lifetime(Days)']]"
      ],
      "execution_count": null,
      "outputs": []
    },
    {
      "cell_type": "markdown",
      "metadata": {
        "id": "NBQ1YIGFMtC5"
      },
      "source": [
        "# USING LOGISTIC REGRESSION"
      ]
    },
    {
      "cell_type": "code",
      "metadata": {
        "colab": {
          "background_save": true
        },
        "id": "RTefZzw0MtC5"
      },
      "source": [
        "vAR_Labels_pred1 = vAR_Model1.predict(vAR_Features_Test)"
      ],
      "execution_count": null,
      "outputs": []
    },
    {
      "cell_type": "code",
      "metadata": {
        "colab": {
          "background_save": true
        },
        "id": "V2cJ9ATSMtC5",
        "outputId": "63b20b2e-b856-4935-9ed6-b7fc5eb9a4ad"
      },
      "source": [
        "vAR_Labels_pred1"
      ],
      "execution_count": null,
      "outputs": [
        {
          "output_type": "execute_result",
          "data": {
            "text/plain": [
              "array([0, 0, 0, ..., 0, 0, 0])"
            ]
          },
          "metadata": {
            "tags": []
          },
          "execution_count": 0
        }
      ]
    },
    {
      "cell_type": "code",
      "metadata": {
        "colab": {
          "background_save": true
        },
        "id": "a2RWKg6XMtC6"
      },
      "source": [
        "vAR_Labels_pred1 = vAR_pd.DataFrame(vAR_Labels_pred1,columns={'Predicted_Customer_Churn'})"
      ],
      "execution_count": null,
      "outputs": []
    },
    {
      "cell_type": "code",
      "metadata": {
        "colab": {
          "background_save": true
        },
        "id": "YyAa-AV1MtC6"
      },
      "source": [
        "vAR_df2 = vAR_df1.merge(vAR_Labels_pred1,left_index=True,right_index=True)"
      ],
      "execution_count": null,
      "outputs": []
    },
    {
      "cell_type": "code",
      "metadata": {
        "colab": {
          "background_save": true
        },
        "id": "oB9wbNKZMtC6"
      },
      "source": [
        "vAR_df3 = vAR_df2.to_excel(vAR_Model_Outcome_LG)"
      ],
      "execution_count": null,
      "outputs": []
    },
    {
      "cell_type": "markdown",
      "metadata": {
        "id": "L_8dIcpHMtC6"
      },
      "source": [
        "# ACCURACY TEST ON LOGISTIC REGRESSION"
      ]
    },
    {
      "cell_type": "code",
      "metadata": {
        "colab": {
          "background_save": true
        },
        "id": "HMQU3iNAMtC6",
        "outputId": "726637b1-29fd-4d1c-ca69-5d9ce3df1b9d"
      },
      "source": [
        "from sklearn.metrics import accuracy_score\n",
        "\n",
        "accuracy_score(vAR_label_train,vAR_Labels_pred1)"
      ],
      "execution_count": null,
      "outputs": [
        {
          "output_type": "execute_result",
          "data": {
            "text/plain": [
              "0.5636882129277566"
            ]
          },
          "metadata": {
            "tags": []
          },
          "execution_count": 0
        }
      ]
    },
    {
      "cell_type": "markdown",
      "metadata": {
        "id": "dySFsANgMtC6"
      },
      "source": [
        "# USING XGBOOST"
      ]
    },
    {
      "cell_type": "code",
      "metadata": {
        "colab": {
          "background_save": true
        },
        "id": "DbznOJFGMtC6"
      },
      "source": [
        "vAR_Labels_predXG = vAR_Model2.predict(vAR_Features_Test)"
      ],
      "execution_count": null,
      "outputs": []
    },
    {
      "cell_type": "code",
      "metadata": {
        "colab": {
          "background_save": true
        },
        "id": "nzsn2pZVMtC7",
        "outputId": "6659242e-514b-49fb-ac86-8b967c54c301"
      },
      "source": [
        "vAR_Labels_predXG"
      ],
      "execution_count": null,
      "outputs": [
        {
          "output_type": "execute_result",
          "data": {
            "text/plain": [
              "array([0, 0, 0, ..., 0, 0, 0])"
            ]
          },
          "metadata": {
            "tags": []
          },
          "execution_count": 0
        }
      ]
    },
    {
      "cell_type": "code",
      "metadata": {
        "colab": {
          "background_save": true
        },
        "id": "djrBqlyWMtC7"
      },
      "source": [
        "vAR_Labels_predXG = vAR_pd.DataFrame(vAR_Labels_predXG,columns={'Predicted_Customer_ChurnXG'})"
      ],
      "execution_count": null,
      "outputs": []
    },
    {
      "cell_type": "code",
      "metadata": {
        "colab": {
          "background_save": true
        },
        "id": "QY7rwmGfMtC7"
      },
      "source": [
        "vAR_df6 = vAR_df1.merge(vAR_Labels_predXG,left_index=True,right_index=True)"
      ],
      "execution_count": null,
      "outputs": []
    },
    {
      "cell_type": "code",
      "metadata": {
        "colab": {
          "background_save": true
        },
        "id": "ELUV70jiMtC7"
      },
      "source": [
        "vAR_df7 = vAR_df6.to_excel(vAR_Model_Outcome_XG)"
      ],
      "execution_count": null,
      "outputs": []
    },
    {
      "cell_type": "markdown",
      "metadata": {
        "id": "OEH-xPlyMtC7"
      },
      "source": [
        "# ACCURACY TEST ON XGBOOST"
      ]
    },
    {
      "cell_type": "code",
      "metadata": {
        "colab": {
          "background_save": true
        },
        "id": "cdIOKh7KMtC7",
        "outputId": "5669dcf1-d012-465e-a8d5-056c291f893e"
      },
      "source": [
        "from sklearn.metrics import accuracy_score\n",
        "\n",
        "accuracy_score(vAR_label_train,vAR_Labels_predXG)"
      ],
      "execution_count": null,
      "outputs": [
        {
          "output_type": "execute_result",
          "data": {
            "text/plain": [
              "0.5636882129277566"
            ]
          },
          "metadata": {
            "tags": []
          },
          "execution_count": 0
        }
      ]
    },
    {
      "cell_type": "code",
      "metadata": {
        "colab": {
          "background_save": true
        },
        "id": "e-6iDD_6MtC8",
        "outputId": "a63a24a9-793d-4994-e657-3b3ef1a85437"
      },
      "source": [
        "import matplotlib.pyplot as plt\n",
        "Logistic = 0.563688212927756\n",
        "XGBoost=0.9928707224334601\n",
        "\n",
        "plt.bar([0 ,2], [Logistic, XGBoost])\n",
        "plt.show()"
      ],
      "execution_count": null,
      "outputs": [
        {
          "output_type": "display_data",
          "data": {
            "image/png": "[encoded data removed]",
            "text/plain": [
              "<Figure size 432x288 with 1 Axes>"
            ]
          },
          "metadata": {
            "tags": []
          }
        }
      ]
    },
    {
      "cell_type": "code",
      "metadata": {
        "colab": {
          "background_save": true
        },
        "id": "m0y5qBXDMtC8",
        "outputId": "db0112dc-6516-4778-96e5-f17ef2c1f80a"
      },
      "source": [
        "vAR_df2.plot(x=\"CustomerID\", y=\"Predicted_Customer_Churn\")"
      ],
      "execution_count": null,
      "outputs": [
        {
          "output_type": "execute_result",
          "data": {
            "text/plain": [
              "<matplotlib.axes._subplots.AxesSubplot at 0x7fe6530a5b00>"
            ]
          },
          "metadata": {
            "tags": []
          },
          "execution_count": 0
        },
        {
          "output_type": "display_data",
          "data": {
            "image/png": "[encoded data removed]",
            "text/plain": [
              "<Figure size 432x288 with 1 Axes>"
            ]
          },
          "metadata": {
            "tags": []
          }
        }
      ]
    },
    {
      "cell_type": "code",
      "metadata": {
        "colab": {
          "background_save": true
        },
        "id": "ULsCHSQ4MtC9",
        "outputId": "df4f6c0f-492f-4f64-a9b1-956c981b2d4a"
      },
      "source": [
        "vAR_df6.plot(x=\"CustomerID\", y=\"Predicted_Customer_ChurnXG\")"
      ],
      "execution_count": null,
      "outputs": [
        {
          "output_type": "execute_result",
          "data": {
            "text/plain": [
              "<matplotlib.axes._subplots.AxesSubplot at 0x7fe653a372e8>"
            ]
          },
          "metadata": {
            "tags": []
          },
          "execution_count": 0
        },
        {
          "output_type": "display_data",
          "data": {
            "image/png": "[encoded data removed]",
            "text/plain": [
              "<Figure size 432x288 with 1 Axes>"
            ]
          },
          "metadata": {
            "tags": []
          }
        }
      ]
    },
    {
      "cell_type": "code",
      "metadata": {
        "colab": {
          "background_save": true
        },
        "id": "BIN1hzZ7MtC9"
      },
      "source": [
        ""
      ],
      "execution_count": null,
      "outputs": []
    }
  ]
}