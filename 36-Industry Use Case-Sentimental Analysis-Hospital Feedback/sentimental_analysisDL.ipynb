{
 "cells": [
  {
   "cell_type": "code",
   "execution_count": 56,
   "id": "fbe0ded2",
   "metadata": {},
   "outputs": [],
   "source": [
    "import pandas as pd\n",
    "import numpy as np\n",
    "import string\n",
    "import re\n",
    "import nltk\n",
    "from bs4 import BeautifulSoup\n",
    "import unicodedata\n",
    "#import contractions\n",
    "from nltk.stem import WordNetLemmatizer \n",
    "from nltk.corpus import stopwords, wordnet\n",
    "from nltk import pos_tag\n",
    "from textblob import TextBlob\n",
    "from sklearn.feature_extraction.text import CountVectorizer, TfidfVectorizer\n",
    "from sklearn.model_selection import train_test_split\n",
    "import matplotlib.pyplot as plt"
   ]
  },
  {
   "cell_type": "code",
   "execution_count": 57,
   "id": "795abd6a",
   "metadata": {},
   "outputs": [],
   "source": [
    "data = pd.read_csv(\"reviews.csv\")"
   ]
  },
  {
   "cell_type": "code",
   "execution_count": 58,
   "id": "3178bb58",
   "metadata": {},
   "outputs": [],
   "source": [
    "def strip_html_tag(text):\n",
    "    soup = BeautifulSoup(text, \"html.parser\")\n",
    "    stripped_text = soup.get_text()\n",
    "    return stripped_text"
   ]
  },
  {
   "cell_type": "code",
   "execution_count": 59,
   "id": "6f22c9bb",
   "metadata": {},
   "outputs": [],
   "source": [
    "# remove accented characters\n",
    "def strip_accents(text):\n",
    "    text = unicodedata.normalize('NFKD', text).encode('ascii', 'ignore').decode('utf-8', 'ignore')\n",
    "    return text"
   ]
  },
  {
   "cell_type": "code",
   "execution_count": 60,
   "id": "58aaaac5",
   "metadata": {},
   "outputs": [],
   "source": [
    "# remove special characters\n",
    "def strip_special_characters(text):\n",
    "    text = re.sub('[^a-zA-z0-9\\s]', '', text)\n",
    "    return text"
   ]
  },
  {
   "cell_type": "code",
   "execution_count": 61,
   "id": "dc42bb36",
   "metadata": {},
   "outputs": [],
   "source": [
    "CONTRACTION_MAP = {\"ain't\": \"is not\",\"aren't\": \"are not\", \"can't\": \"cannot\", \"can't've\": \"cannot have\",\n",
    "                   \"'cause\": \"because\", \"dr\" : \"doctor\",\n",
    "                   \"could've\": \"could have\",\n",
    "                   \"couldn't\": \"could not\",\n",
    "                   \"couldn't've\": \"could not have\",\n",
    "                   \"didn't\": \"did not\",\n",
    "                   \"doesn't\": \"does not\",\n",
    "                   \"don't\": \"do not\",\n",
    "                   \"hadn't\": \"had not\",\n",
    "                   \"hadn't've\": \"had not have\",\n",
    "                   \"hasn't\": \"has not\",\n",
    "                   \"haven't\": \"have not\",\n",
    "                   \"he'd\": \"he would\",\n",
    "                   \"he'd've\": \"he would have\",\n",
    "                   \"he'll\": \"he will\",\n",
    "                   \"he'll've\": \"he will have\",\n",
    "                   \"he's\": \"he is\",\n",
    "                   \"how'd\": \"how did\",\n",
    "                   \"how'd'y\": \"how do you\",\n",
    "                   \"how'll\": \"how will\",\n",
    "                   \"how's\": \"how is\",\n",
    "                   \"I'd\": \"I would\",\n",
    "                   \"I'd've\": \"I would have\",\n",
    "                   \"I'll\": \"I will\",\n",
    "                   \"I'll've\": \"I will have\",\n",
    "                   \"I'm\": \"I am\",\n",
    "                   \"I've\": \"I have\",\n",
    "                   \"i'd\": \"i would\",\n",
    "                   \"i'd've\": \"i would have\",\n",
    "                   \"i'll\": \"i will\",\n",
    "                   \"i'll've\": \"i will have\",\n",
    "                   \"i'm\": \"i am\",\n",
    "                   \"i've\": \"i have\",\n",
    "                   \"isn't\": \"is not\",\n",
    "                   \"it'd\": \"it would\",\n",
    "                   \"it'd've\": \"it would have\",\n",
    "                   \"it'll\": \"it will\",\n",
    "                   \"it'll've\": \"it will have\",\n",
    "                   \"it's\": \"it is\",\n",
    "                   \"let's\": \"let us\",\n",
    "                   \"ma'am\": \"madam\",\n",
    "                   \"mayn't\": \"may not\",\n",
    "                   \"might've\": \"might have\",\n",
    "                   \"mightn't\": \"might not\",\n",
    "                   \"mightn't've\": \"might not have\",\n",
    "                   \"must've\": \"must have\",\n",
    "                   \"mustn't\": \"must not\",\n",
    "                   \"mustn't've\": \"must not have\",\n",
    "                   \"needn't\": \"need not\",\n",
    "                   \"needn't've\": \"need not have\",\n",
    "                   \"o'clock\": \"of the clock\",\n",
    "                   \"oughtn't\": \"ought not\",\n",
    "                   \"oughtn't've\": \"ought not have\",\n",
    "                   \"shan't\": \"shall not\",\n",
    "                   \"sha'n't\": \"shall not\",\n",
    "                   \"shan't've\": \"shall not have\",\n",
    "                   \"she'd\": \"she would\",\n",
    "                   \"she'd've\": \"she would have\",\n",
    "                   \"she'll\": \"she will\",\n",
    "                   \"she'll've\": \"she will have\",\n",
    "                   \"she's\": \"she is\",\n",
    "                   \"should've\": \"should have\",\n",
    "                   \"shouldn't\": \"should not\",\n",
    "                   \"shouldn't've\": \"should not have\",\n",
    "                   \"so've\": \"so have\",\n",
    "                   \"so's\": \"so as\",\n",
    "                   \"that'd\": \"that would\",\n",
    "                   \"that'd've\": \"that would have\",\n",
    "                   \"that's\": \"that is\",\n",
    "                   \"there'd\": \"there would\",\n",
    "                   \"there'd've\": \"there would have\",\n",
    "                   \"there's\": \"there is\",\n",
    "                   \"they'd\": \"they would\",\n",
    "                   \"they'd've\": \"they would have\",\n",
    "                   \"they'll\": \"they will\",\n",
    "                   \"they'll've\": \"they will have\",\n",
    "                   \"they're\": \"they are\",\n",
    "                   \"they've\": \"they have\",\"to've\": \"to have\",\n",
    "                   \"wasn't\": \"was not\",\n",
    "                   \"we'd\": \"we would\",\n",
    "                   \"we'd've\": \"we would have\",\n",
    "                   \"we'll\": \"we will\",\n",
    "                   \"we'll've\": \"we will have\",\n",
    "                   \"we're\": \"we are\",\n",
    "                   \"we've\": \"we have\",\n",
    "                   \"weren't\": \"were not\",\n",
    "                   \"what'll\": \"what will\",\n",
    "                   \"what'll've\": \"what will have\",\n",
    "                   \"what're\": \"what are\",\n",
    "                   \"what's\": \"what is\",\n",
    "                   \"what've\": \"what have\",\n",
    "                   \"when's\": \"when is\",\n",
    "                   \"when've\": \"when have\",\n",
    "                   \"where'd\": \"where did\",\n",
    "                   \"where's\": \"where is\",\n",
    "                   \"where've\": \"where have\",\n",
    "                   \"who'll\": \"who will\",\n",
    "                   \"who'll've\": \"who will have\",\n",
    "                   \"who's\": \"who is\",\n",
    "                   \"who've\": \"who have\",\n",
    "                   \"why's\": \"why is\",\n",
    "                   \"why've\": \"why have\",\n",
    "                   \"will've\": \"will have\",\n",
    "                   \"won't\": \"will not\",\n",
    "                   \"won't've\": \"will not have\",\n",
    "                   \"would've\": \"would have\",\n",
    "                   \"wouldn't\": \"would not\",\n",
    "                   \"wouldn't've\": \"would not have\",\n",
    "                   \"y'all\": \"you all\",\n",
    "                   \"y'all'd\": \"you all would\",\n",
    "                   \"y'all'd've\": \"you all would have\",\n",
    "                   \"y'all're\": \"you all are\",\n",
    "                   \"y'all've\": \"you all have\",\n",
    "                   \"you'd\": \"you would\",\n",
    "                   \"you'd've\": \"you would have\",\n",
    "                   \"you'll\": \"you will\",\n",
    "                   \"you'll've\": \"you will have\",\n",
    "                   \"you're\": \"you are\",\n",
    "                   \"you've\": \"you have\"}"
   ]
  },
  {
   "cell_type": "code",
   "execution_count": 62,
   "id": "f62832dd",
   "metadata": {},
   "outputs": [],
   "source": [
    "def expand_contractions(text, contraction_mapping=CONTRACTION_MAP):\n",
    "    \n",
    "    contractions_pattern = re.compile('({})'.format('|'.join(contraction_mapping.keys())), \n",
    "                                      flags=re.IGNORECASE|re.DOTALL)\n",
    "    def expand_match(contraction):\n",
    "        match = contraction.group(0)\n",
    "        first_char = match[0]\n",
    "        expanded_contraction = contraction_mapping.get(match)\\\n",
    "                                if contraction_mapping.get(match)\\\n",
    "                                else contraction_mapping.get(match.lower())                       \n",
    "        expanded_contraction = first_char+expanded_contraction[1:]\n",
    "        return expanded_contraction\n",
    "        \n",
    "    expanded_text = contractions_pattern.sub(expand_match, text)\n",
    "    expanded_text = re.sub(\"'\", \"\", expanded_text)\n",
    "    return expanded_text"
   ]
  },
  {
   "cell_type": "code",
   "execution_count": 63,
   "id": "6be6beff",
   "metadata": {},
   "outputs": [],
   "source": [
    "#pos tagging\n",
    "def get_wordnet_pos(pos_tag):\n",
    "    if pos_tag.startswith('J'):\n",
    "        return wordnet.ADJ\n",
    "    elif pos_tag.startswith('V'):\n",
    "        return wordnet.VERB\n",
    "    elif pos_tag.startswith('N'):\n",
    "        return wordnet.NOUN\n",
    "    elif pos_tag.startswith('R'):\n",
    "        return wordnet.ADV\n",
    "    else:\n",
    "        return wordnet.NOUN"
   ]
  },
  {
   "cell_type": "code",
   "execution_count": 68,
   "id": "f3bea709",
   "metadata": {},
   "outputs": [],
   "source": [
    "def clean_review(text):\n",
    "    #remove html tags\n",
    "    text = strip_html_tag(text)\n",
    "\n",
    "    #convert accented characters\n",
    "    text = strip_accents(text)\n",
    "  \n",
    "    #expand contractions\n",
    "    text = expand_contractions(text)\n",
    "\n",
    "    #lower case \n",
    "    text = text.lower()\n",
    "    \n",
    "    #remove special characters\n",
    "    text = strip_special_characters(text)\n",
    "\n",
    "    # tokenize text and remove puncutation\n",
    "    text = [word.strip(string.punctuation) for word in text.split(\" \")]\n",
    "\n",
    "    # remove stop words\n",
    "    stopword_list = set(stopwords.words('english'))\n",
    "    stopword_list.remove('not')\n",
    "    stopword_list.remove('no')\n",
    "\n",
    "  \n",
    "    text = [x for x in text if x not in stopword_list]\n",
    " \n",
    "    # pos tag text\n",
    "    pos_tags = pos_tag([word for word in text if word])\n",
    "\n",
    "    # lemmatize text\n",
    "    text = [WordNetLemmatizer().lemmatize(t[0], get_wordnet_pos(t[1])) for t in pos_tags]\n",
    "\n",
    "    text = \" \".join(text)\n",
    "    return(text)"
   ]
  },
  {
   "cell_type": "code",
   "execution_count": 69,
   "id": "4072fb21",
   "metadata": {},
   "outputs": [],
   "source": [
    "data[\"review_clean\"] = data[\"Reviews\"].apply(lambda x: clean_review(x))"
   ]
  },
  {
   "cell_type": "code",
   "execution_count": 70,
   "id": "ade0e54d",
   "metadata": {},
   "outputs": [],
   "source": [
    "# corpus = data[\"review_clean\"].tolist()"
   ]
  },
  {
   "cell_type": "code",
   "execution_count": 71,
   "id": "53bf6cde",
   "metadata": {},
   "outputs": [],
   "source": [
    "def sent(data):\n",
    "    if data['Rating'] < 3:\n",
    "        val = 'neg' #neg\n",
    "        \n",
    "#     elif data['Rating'] >= 3:\n",
    "#         val = '0'\n",
    "    else:\n",
    "        val = 'pos'\n",
    "    return val\n",
    "data['sentiment'] = data.apply(sent, axis=1)"
   ]
  },
  {
   "cell_type": "code",
   "execution_count": 72,
   "id": "e35a1c7a",
   "metadata": {},
   "outputs": [],
   "source": [
    "corpus = data['review_clean'].values"
   ]
  },
  {
   "cell_type": "code",
   "execution_count": 73,
   "id": "724ab8f8",
   "metadata": {},
   "outputs": [],
   "source": [
    "import json\n",
    "import tensorflow as tf\n",
    "\n",
    "from tensorflow.keras.preprocessing.text import Tokenizer\n",
    "from tensorflow.keras.preprocessing.sequence import pad_sequences\n",
    "from keras.models import Sequential\n",
    "from keras.layers import Dense, Embedding, GlobalMaxPooling1D, Flatten, Conv1D, Dropout, Activation"
   ]
  },
  {
   "cell_type": "code",
   "execution_count": 74,
   "id": "45905d9f",
   "metadata": {},
   "outputs": [],
   "source": [
    "vocab_size = 10000\n",
    "embedding_dim = 16\n",
    "max_length = 100\n",
    "trunc_type='post'\n",
    "padding_type='post'\n",
    "oov_tok = \"<OOV>\"\n",
    "training_size = 1700\n"
   ]
  },
  {
   "cell_type": "code",
   "execution_count": 75,
   "id": "f56434d6",
   "metadata": {},
   "outputs": [],
   "source": [
    "from sklearn.preprocessing import LabelEncoder\n",
    "le = LabelEncoder()"
   ]
  },
  {
   "cell_type": "code",
   "execution_count": 76,
   "id": "2015f6e6",
   "metadata": {},
   "outputs": [],
   "source": [
    "y = data['sentiment'].values"
   ]
  },
  {
   "cell_type": "code",
   "execution_count": 77,
   "id": "875e607d",
   "metadata": {},
   "outputs": [],
   "source": [
    "y = le.fit_transform(y)"
   ]
  },
  {
   "cell_type": "code",
   "execution_count": 78,
   "id": "cb5ab319",
   "metadata": {},
   "outputs": [],
   "source": [
    "reviews = data['review_clean'].tolist()\n",
    "labels = y.tolist()"
   ]
  },
  {
   "cell_type": "code",
   "execution_count": 79,
   "id": "7fbf21ed",
   "metadata": {},
   "outputs": [],
   "source": [
    "training_reviews = reviews[0:training_size]\n",
    "testing_reviews = reviews[training_size:]\n",
    "training_labels = labels[0:training_size]\n",
    "testing_labels = labels[training_size:]"
   ]
  },
  {
   "cell_type": "code",
   "execution_count": 80,
   "id": "a7aa64a1",
   "metadata": {},
   "outputs": [],
   "source": [
    "tokenizer = Tokenizer(num_words=vocab_size, oov_token=oov_tok)\n",
    "tokenizer.fit_on_texts(training_reviews)\n",
    "\n",
    "word_index = tokenizer.word_index\n",
    "\n",
    "training_sequences = tokenizer.texts_to_sequences(training_reviews)\n",
    "training_padded = pad_sequences(training_sequences, maxlen=max_length, padding=padding_type, truncating=trunc_type)\n",
    "\n",
    "testing_sequences = tokenizer.texts_to_sequences(testing_reviews)\n",
    "testing_padded = pad_sequences(testing_sequences, maxlen=max_length, padding=padding_type, truncating=trunc_type)"
   ]
  },
  {
   "cell_type": "code",
   "execution_count": 81,
   "id": "81933aae",
   "metadata": {},
   "outputs": [],
   "source": [
    "import numpy as np\n",
    "training_padded = np.array(training_padded)\n",
    "training_labels = np.array(training_labels)\n",
    "testing_padded = np.array(testing_padded)\n",
    "testing_labels = np.array(testing_labels)"
   ]
  },
  {
   "cell_type": "code",
   "execution_count": 82,
   "id": "59a3fb10",
   "metadata": {},
   "outputs": [],
   "source": [
    "model = tf.keras.Sequential([\n",
    "    tf.keras.layers.Embedding(vocab_size, embedding_dim, input_length=max_length),\n",
    "    tf.keras.layers.Conv1D(filters=32, kernel_size=8, activation='relu'),\n",
    "    tf.keras.layers.GlobalAveragePooling1D(),\n",
    "    tf.keras.layers.Dense(24, activation='relu'),\n",
    "    tf.keras.layers.Dense(1, activation='sigmoid')\n",
    "])\n",
    "model.compile(loss='binary_crossentropy',optimizer='adam',metrics=['accuracy'])\n"
   ]
  },
  {
   "cell_type": "code",
   "execution_count": 83,
   "id": "e0c300c3",
   "metadata": {},
   "outputs": [
    {
     "name": "stdout",
     "output_type": "stream",
     "text": [
      "Model: \"sequential_1\"\n",
      "_________________________________________________________________\n",
      "Layer (type)                 Output Shape              Param #   \n",
      "=================================================================\n",
      "embedding_1 (Embedding)      (None, 100, 16)           160000    \n",
      "_________________________________________________________________\n",
      "conv1d_1 (Conv1D)            (None, 93, 32)            4128      \n",
      "_________________________________________________________________\n",
      "global_average_pooling1d_1 ( (None, 32)                0         \n",
      "_________________________________________________________________\n",
      "dense_2 (Dense)              (None, 24)                792       \n",
      "_________________________________________________________________\n",
      "dense_3 (Dense)              (None, 1)                 25        \n",
      "=================================================================\n",
      "Total params: 164,945\n",
      "Trainable params: 164,945\n",
      "Non-trainable params: 0\n",
      "_________________________________________________________________\n"
     ]
    }
   ],
   "source": [
    "model.summary()"
   ]
  },
  {
   "cell_type": "code",
   "execution_count": 84,
   "id": "de106deb",
   "metadata": {},
   "outputs": [
    {
     "name": "stdout",
     "output_type": "stream",
     "text": [
      "Epoch 1/30\n",
      "54/54 - 0s - loss: 0.6304 - accuracy: 0.6624 - val_loss: 0.5532 - val_accuracy: 0.7326\n",
      "Epoch 2/30\n",
      "54/54 - 0s - loss: 0.5495 - accuracy: 0.7388 - val_loss: 0.4909 - val_accuracy: 0.7966\n",
      "Epoch 3/30\n",
      "54/54 - 0s - loss: 0.3881 - accuracy: 0.8524 - val_loss: 0.3731 - val_accuracy: 0.8258\n",
      "Epoch 4/30\n",
      "54/54 - 0s - loss: 0.2205 - accuracy: 0.9235 - val_loss: 0.3357 - val_accuracy: 0.8562\n",
      "Epoch 5/30\n",
      "54/54 - 0s - loss: 0.1409 - accuracy: 0.9547 - val_loss: 0.3206 - val_accuracy: 0.8742\n",
      "Epoch 6/30\n",
      "54/54 - 0s - loss: 0.0958 - accuracy: 0.9724 - val_loss: 0.3302 - val_accuracy: 0.8798\n",
      "Epoch 7/30\n",
      "54/54 - 0s - loss: 0.0643 - accuracy: 0.9818 - val_loss: 0.3535 - val_accuracy: 0.8764\n",
      "Epoch 8/30\n",
      "54/54 - 0s - loss: 0.0464 - accuracy: 0.9882 - val_loss: 0.3768 - val_accuracy: 0.8775\n",
      "Epoch 9/30\n",
      "54/54 - 0s - loss: 0.0412 - accuracy: 0.9888 - val_loss: 0.4059 - val_accuracy: 0.8730\n",
      "Epoch 10/30\n",
      "54/54 - 0s - loss: 0.0323 - accuracy: 0.9894 - val_loss: 0.4333 - val_accuracy: 0.8742\n",
      "Epoch 11/30\n",
      "54/54 - 0s - loss: 0.0285 - accuracy: 0.9912 - val_loss: 0.4755 - val_accuracy: 0.8697\n",
      "Epoch 12/30\n",
      "54/54 - 0s - loss: 0.0263 - accuracy: 0.9912 - val_loss: 0.4902 - val_accuracy: 0.8764\n",
      "Epoch 13/30\n",
      "54/54 - 0s - loss: 0.0259 - accuracy: 0.9918 - val_loss: 0.5166 - val_accuracy: 0.8764\n",
      "Epoch 14/30\n",
      "54/54 - 0s - loss: 0.0254 - accuracy: 0.9918 - val_loss: 0.5273 - val_accuracy: 0.8764\n",
      "Epoch 15/30\n",
      "54/54 - 0s - loss: 0.0243 - accuracy: 0.9924 - val_loss: 0.5576 - val_accuracy: 0.8775\n",
      "Epoch 16/30\n",
      "54/54 - 0s - loss: 0.0237 - accuracy: 0.9924 - val_loss: 0.5737 - val_accuracy: 0.8764\n",
      "Epoch 17/30\n",
      "54/54 - 0s - loss: 0.0213 - accuracy: 0.9924 - val_loss: 0.6131 - val_accuracy: 0.8685\n",
      "Epoch 18/30\n",
      "54/54 - 0s - loss: 0.0212 - accuracy: 0.9924 - val_loss: 0.5967 - val_accuracy: 0.8787\n",
      "Epoch 19/30\n",
      "54/54 - 0s - loss: 0.0221 - accuracy: 0.9924 - val_loss: 0.6273 - val_accuracy: 0.8753\n",
      "Epoch 20/30\n",
      "54/54 - 0s - loss: 0.0209 - accuracy: 0.9924 - val_loss: 0.6350 - val_accuracy: 0.8764\n",
      "Epoch 21/30\n",
      "54/54 - 0s - loss: 0.0213 - accuracy: 0.9924 - val_loss: 0.6679 - val_accuracy: 0.8742\n",
      "Epoch 22/30\n",
      "54/54 - 0s - loss: 0.0207 - accuracy: 0.9924 - val_loss: 0.6669 - val_accuracy: 0.8764\n",
      "Epoch 23/30\n",
      "54/54 - 0s - loss: 0.0208 - accuracy: 0.9924 - val_loss: 0.6649 - val_accuracy: 0.8775\n",
      "Epoch 24/30\n",
      "54/54 - 0s - loss: 0.0210 - accuracy: 0.9924 - val_loss: 0.7042 - val_accuracy: 0.8742\n",
      "Epoch 25/30\n",
      "54/54 - 0s - loss: 0.0210 - accuracy: 0.9924 - val_loss: 0.6904 - val_accuracy: 0.8775\n",
      "Epoch 26/30\n",
      "54/54 - 0s - loss: 0.0209 - accuracy: 0.9924 - val_loss: 0.7157 - val_accuracy: 0.8730\n",
      "Epoch 27/30\n",
      "54/54 - 0s - loss: 0.0224 - accuracy: 0.9924 - val_loss: 0.7099 - val_accuracy: 0.8742\n",
      "Epoch 28/30\n",
      "54/54 - 0s - loss: 0.0207 - accuracy: 0.9924 - val_loss: 0.7084 - val_accuracy: 0.8798\n",
      "Epoch 29/30\n",
      "54/54 - 0s - loss: 0.0246 - accuracy: 0.9847 - val_loss: 0.7421 - val_accuracy: 0.8764\n",
      "Epoch 30/30\n",
      "54/54 - 0s - loss: 0.0198 - accuracy: 0.9924 - val_loss: 0.7289 - val_accuracy: 0.8764\n"
     ]
    }
   ],
   "source": [
    "num_epochs = 30\n",
    "history = model.fit(training_padded, training_labels, epochs=num_epochs, validation_data=(testing_padded, testing_labels), verbose=2)"
   ]
  },
  {
   "cell_type": "code",
   "execution_count": 85,
   "id": "10a6b01d",
   "metadata": {},
   "outputs": [
    {
     "name": "stdout",
     "output_type": "stream",
     "text": [
      "28/28 [==============================] - 0s 1ms/step - loss: 0.7289 - accuracy: 0.8764\n",
      "\n",
      "Accuracy:  87.64045238494873\n"
     ]
    }
   ],
   "source": [
    "score, acc = model.evaluate(testing_padded , testing_labels , batch_size=32)\n",
    "print('\\nAccuracy: ', acc*100)\n",
    "\n",
    "pred = model.predict_classes(testing_padded)"
   ]
  },
  {
   "cell_type": "code",
   "execution_count": 86,
   "id": "c29b974e",
   "metadata": {},
   "outputs": [],
   "source": [
    "import matplotlib.pyplot as plt\n",
    "\n",
    "\n",
    "def plot_graphs(history, string):\n",
    "    plt.plot(history.history[string])\n",
    "    plt.plot(history.history['val_'+string])\n",
    "    plt.xlabel(\"Epochs\")\n",
    "    plt.ylabel(string)\n",
    "    plt.legend([string, 'val_'+string])\n",
    "    plt.show()\n",
    "  "
   ]
  },
  {
   "cell_type": "code",
   "execution_count": 87,
   "id": "6ff4c720",
   "metadata": {},
   "outputs": [
    {
     "data": {
      "image/png": "[encoded data removed]",
      "text/plain": [
       "<Figure size 432x288 with 1 Axes>"
      ]
     },
     "metadata": {
      "needs_background": "light"
     },
     "output_type": "display_data"
    },
    {
     "data": {
      "image/png": "[encoded data removed]",
      "text/plain": [
       "<Figure size 432x288 with 1 Axes>"
      ]
     },
     "metadata": {
      "needs_background": "light"
     },
     "output_type": "display_data"
    }
   ],
   "source": [
    "plot_graphs(history, \"accuracy\")\n",
    "plot_graphs(history, \"loss\")"
   ]
  },
  {
   "cell_type": "code",
   "execution_count": 88,
   "id": "39197af5",
   "metadata": {},
   "outputs": [
    {
     "name": "stdout",
     "output_type": "stream",
     "text": [
      "office clean staff friendly see timely manner nurse practitioner stephanie saw kind helpful answer listened concern answer question                                                                                  \n",
      "doctor valenzuela amaze highly recommend make feel comfortable give honest feedback doctor past give run around not enough information mainly chino hill location entire staff friendly since day 1\n",
      "1\n"
     ]
    }
   ],
   "source": [
    "reverse_word_index = dict([(value, key) for (key, value) in word_index.items()])\n",
    "\n",
    "def decode_sentence(text):\n",
    "    return ' '.join([reverse_word_index.get(i, '') for i in text])\n",
    "\n",
    "print(decode_sentence(training_padded[0]))\n",
    "print(training_reviews[2])\n",
    "print(labels[2])"
   ]
  },
  {
   "cell_type": "code",
   "execution_count": 89,
   "id": "9bf54ebf",
   "metadata": {},
   "outputs": [
    {
     "name": "stdout",
     "output_type": "stream",
     "text": [
      "[[85, 3]]\n",
      "[[0.61636734]]\n"
     ]
    }
   ],
   "source": [
    "sentence = [\" \"]\n",
    "sequences = tokenizer.texts_to_sequences(sentence)\n",
    "print(sequences)\n",
    "padded = pad_sequences(sequences, maxlen=max_length, padding=padding_type, truncating=trunc_type)\n",
    "print(model.predict(padded))"
   ]
  },
  {
   "cell_type": "code",
   "execution_count": 92,
   "id": "b20540a9",
   "metadata": {},
   "outputs": [
    {
     "name": "stdout",
     "output_type": "stream",
     "text": [
      "              precision    recall  f1-score   support\n",
      "\n",
      "    negative       0.74      0.79      0.76       222\n",
      "    positive       0.93      0.91      0.92       668\n",
      "\n",
      "    accuracy                           0.88       890\n",
      "   macro avg       0.83      0.85      0.84       890\n",
      "weighted avg       0.88      0.88      0.88       890\n",
      "\n"
     ]
    }
   ],
   "source": [
    "# Plot confusion matrix\n",
    "from sklearn.metrics import confusion_matrix\n",
    "LABELS = ['negative', 'positive']\n",
    "\n",
    "# Print Precision Recall F1-Score Report\n",
    "from sklearn.metrics import classification_report\n",
    "\n",
    "report = classification_report(pred, testing_labels, target_names=LABELS)\n",
    "print(report)"
   ]
  },
  {
   "cell_type": "code",
   "execution_count": 93,
   "id": "ee30dfad",
   "metadata": {},
   "outputs": [],
   "source": [
    "LABELS = ['negative', 'positive']\n",
    "def get_prediction(review):\n",
    "    # Preprocessing\n",
    "    reviews = clean_review(review)\n",
    "    review_np_array = tokenizer.texts_to_sequences([reviews])\n",
    "    #print(reviews)\n",
    "    review_np_array = pad_sequences(review_np_array, maxlen=100, padding=\"post\", value=0)\n",
    "    # Prediction\n",
    "    score = model.predict(review_np_array)[0][0]\n",
    "    prediction = LABELS[model.predict_classes(review_np_array)[0][0]]\n",
    "    print('REVIEW:', review, '\\nPREDICTION:', prediction)"
   ]
  },
  {
   "cell_type": "code",
   "execution_count": 98,
   "id": "22d4a879",
   "metadata": {},
   "outputs": [
    {
     "name": "stdout",
     "output_type": "stream",
     "text": [
      "REVIEW:  Doctors are fine. Billing/Insurance staff is unprofessional and incompetent to a level that I have never experienced at any other medical office. Aside from lacking basic decency and common sense, I had to file a formal complaint as the staff violated numerous HIPAA laws. This place is a mess. \n",
      "PREDICTION: negative\n"
     ]
    }
   ],
   "source": [
    "get_prediction(\"\"\" Doctors are fine. Billing/Insurance staff is unprofessional and incompetent to a level that I have never experienced at any other medical office. Aside from lacking basic decency and common sense, I had to file a formal complaint as the staff violated numerous HIPAA laws. This place is a mess.\"\"\")"
   ]
  },
  {
   "cell_type": "code",
   "execution_count": null,
   "id": "f629d0db",
   "metadata": {},
   "outputs": [],
   "source": []
  }
 ],
 "metadata": {
  "kernelspec": {
   "display_name": "Python 3",
   "language": "python",
   "name": "python3"
  },
  "language_info": {
   "codemirror_mode": {
    "name": "ipython",
    "version": 3
   },
   "file_extension": ".py",
   "mimetype": "text/x-python",
   "name": "python",
   "nbconvert_exporter": "python",
   "pygments_lexer": "ipython3",
   "version": "3.8.8"
  }
 },
 "nbformat": 4,
 "nbformat_minor": 5
}
