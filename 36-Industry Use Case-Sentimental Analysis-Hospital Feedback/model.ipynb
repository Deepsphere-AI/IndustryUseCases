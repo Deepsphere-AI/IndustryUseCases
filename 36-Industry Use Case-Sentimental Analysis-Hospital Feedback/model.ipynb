{
 "cells": [
  {
   "cell_type": "code",
   "execution_count": null,
   "id": "0a43e400",
   "metadata": {},
   "outputs": [],
   "source": [
    "import numpy as np\n",
    "import pandas as pd\n",
    "import matplotlib.pyplot as plt\n",
    "from sklearn.feature_extraction.text import CountVectorizer, TfidfVectorizer\n",
    "from sklearn.model_selection import train_test_split\n",
    "from sklearn.naive_bayes import MultinomialNB\n",
    "from text_preprocessing import clean_review\n",
    "import joblib"
   ]
  },
  {
   "cell_type": "code",
   "execution_count": null,
   "id": "cadeafe9",
   "metadata": {},
   "outputs": [],
   "source": [
    "data = pd.read_csv(\"reviews.csv\", engine = 'python', encoding='latin1')"
   ]
  },
  {
   "cell_type": "code",
   "execution_count": null,
   "id": "cfe15a38",
   "metadata": {},
   "outputs": [],
   "source": [
    "data[\"review_clean\"] = data[\"Reviews\"].apply(lambda x: clean_review(x))"
   ]
  },
  {
   "cell_type": "code",
   "execution_count": null,
   "id": "7576f2af",
   "metadata": {},
   "outputs": [],
   "source": [
    "corpus = data[\"review_clean\"].values"
   ]
  },
  {
   "cell_type": "code",
   "execution_count": null,
   "id": "919a5d88",
   "metadata": {},
   "outputs": [],
   "source": [
    "def sent(data):\n",
    "    if data['Rating'] < 3:\n",
    "        val = 'neg' #0\n",
    "        \n",
    "    elif data['Rating'] >3:\n",
    "        val = 'pos' #1\n",
    "    else:\n",
    "        val = 'neutral'\n",
    "    return val\n",
    "data['sentiment'] = data.apply(sent, axis=1)"
   ]
  },
  {
   "cell_type": "code",
   "execution_count": null,
   "id": "39ae7b04",
   "metadata": {},
   "outputs": [],
   "source": [
    "data = data[data.sentiment != 'neutral']"
   ]
  },
  {
   "cell_type": "code",
   "execution_count": null,
   "id": "48b13867",
   "metadata": {},
   "outputs": [],
   "source": [
    "from sklearn.preprocessing import LabelEncoder\n",
    "le = LabelEncoder()"
   ]
  },
  {
   "cell_type": "code",
   "execution_count": null,
   "id": "4d00cc55",
   "metadata": {},
   "outputs": [],
   "source": [
    "y = data['sentiment'].values"
   ]
  },
  {
   "cell_type": "code",
   "execution_count": null,
   "id": "77532faa",
   "metadata": {},
   "outputs": [],
   "source": [
    "y = le.fit_transform(y)"
   ]
  },
  {
   "cell_type": "code",
   "execution_count": null,
   "id": "c7e66a6b",
   "metadata": {},
   "outputs": [],
   "source": [
    "reviews = data['review_clean'].tolist()\n",
    "labels = y.tolist()"
   ]
  },
  {
   "cell_type": "code",
   "execution_count": null,
   "id": "8f313dc6",
   "metadata": {},
   "outputs": [],
   "source": [
    "# Creating Bag of Words model\n",
    "cv = CountVectorizer()\n",
    "reviews_cv = cv.fit_transform(reviews)"
   ]
  },
  {
   "cell_type": "code",
   "execution_count": null,
   "id": "fec2ac0f",
   "metadata": {},
   "outputs": [],
   "source": [
    "# Creating a pickle file for the CountVectorizer model\n",
    "joblib.dump(cv, \"cv.pkl\")"
   ]
  },
  {
   "cell_type": "code",
   "execution_count": null,
   "id": "17b62119",
   "metadata": {},
   "outputs": [],
   "source": [
    "# Model Building\n",
    "X_train, X_test, y_train, y_test = train_test_split(\n",
    "    reviews_cv, labels, test_size=0.20, random_state=0)"
   ]
  },
  {
   "cell_type": "code",
   "execution_count": null,
   "id": "c736bc8c",
   "metadata": {},
   "outputs": [],
   "source": [
    "classifier = MultinomialNB(alpha=0.2)\n",
    "classifier.fit(X_train, y_train)"
   ]
  },
  {
   "cell_type": "code",
   "execution_count": null,
   "id": "8e9f66b7",
   "metadata": {},
   "outputs": [],
   "source": [
    "# Creating a pickle file for the Multinomial Naive Bayes model\n",
    "joblib.dump(classifier, \"model_nb.pkl\")"
   ]
  },
  {
   "cell_type": "code",
   "execution_count": null,
   "id": "1b951eb8",
   "metadata": {},
   "outputs": [],
   "source": [
    "from sklearn.metrics import classification_report, confusion_matrix, accuracy_score\n",
    "training_accuracy_mnb = accuracy_score(y_train, classifier.predict(X_train))\n",
    "#print(\"mnb: \", training_accuracy_mnb)"
   ]
  },
  {
   "cell_type": "code",
   "execution_count": null,
   "id": "6260f9da",
   "metadata": {},
   "outputs": [],
   "source": [
    "mnb_prediction = classifier.predict(X_test)"
   ]
  },
  {
   "cell_type": "code",
   "execution_count": null,
   "id": "8cb1c976",
   "metadata": {},
   "outputs": [],
   "source": [
    "model = joblib.load(open('model_nb.pkl', 'rb'))\n",
    "cv = joblib.load(open('cv.pkl', 'rb'))"
   ]
  },
  {
   "cell_type": "code",
   "execution_count": null,
   "id": "6c94e57f",
   "metadata": {},
   "outputs": [],
   "source": [
    "testing_accuracy_mnb = accuracy_score(y_test, mnb_prediction)\n",
    "#print(\"mnb: \", testing_accuracy_mnb)"
   ]
  },
  {
   "cell_type": "code",
   "execution_count": null,
   "id": "921497a1",
   "metadata": {},
   "outputs": [],
   "source": []
  }
 ],
 "metadata": {
  "kernelspec": {
   "display_name": "Python 3",
   "language": "python",
   "name": "python3"
  },
  "language_info": {
   "codemirror_mode": {
    "name": "ipython",
    "version": 3
   },
   "file_extension": ".py",
   "mimetype": "text/x-python",
   "name": "python",
   "nbconvert_exporter": "python",
   "pygments_lexer": "ipython3",
   "version": "3.8.8"
  }
 },
 "nbformat": 4,
 "nbformat_minor": 5
}
