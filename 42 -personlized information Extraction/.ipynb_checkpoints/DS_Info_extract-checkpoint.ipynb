{
 "cells": [
  {
   "cell_type": "code",
   "execution_count": null,
   "id": "c7a67412",
   "metadata": {},
   "outputs": [],
   "source": [
    "numbers = \"(^a(?=\\s)|one|two|three|four|five|six|seven|eight|nine|ten| \\\n",
    "          eleven|twelve|thirteen|fourteen|fifteen|sixteen|seventeen| \\\n",
    "          eighteen|nineteen|twenty|thirty|forty|fifty|sixty|seventy|eighty| \\\n",
    "          ninety|hundred|thousand|[0-9]+)\"\n",
    "\n",
    "x = re.findall(numbers, text)"
   ]
  },
  {
   "cell_type": "code",
   "execution_count": 8,
   "id": "d163019a",
   "metadata": {
    "scrolled": true
   },
   "outputs": [
    {
     "name": "stdout",
     "output_type": "stream",
     "text": [
      "Full Name -['Jothi M', 'Periasamy']\n",
      "Phone Number-[' phone number - one two three four five six seven eight nine ten.']\n",
      "DOB is-[' My date of birth is September seventeenth of nineteen eighty.']\n",
      "Driving License is-[\" My driver's license number is DL123456.\"]\n",
      "credit card number is-[]\n"
     ]
    }
   ],
   "source": [
    "import re\n",
    "import nltk\n",
    "from nltk.corpus import stopwords\n",
    "stop = stopwords.words('english')\n",
    "\n",
    "with open('Text.txt') as f:\n",
    "    string = f.readlines()\n",
    "    \n",
    "class InformationExtraction:    \n",
    "    def extract_phone_numbers(self,string):\n",
    "        s1 = [s+'.' for s in str(string).split('.') if 'phone number' in s]\n",
    "        r = re.compile(r'(\\d{3}[-\\.\\s]??\\d{3}[-\\.\\s]??\\d{4}|\\(\\d{3}\\)\\s*\\d{3}[-\\.\\s]??\\d{4})')\n",
    "        phone_numbers = r.findall(str(string))\n",
    "        print(\"Phone Number-\"+ str(s1))\n",
    "        return [re.sub(r'\\D', '', number) for number in phone_numbers]\n",
    "\n",
    "    def extract_email_addresses(self,string):\n",
    "        r = re.compile(r'[\\w\\.-]+@[\\w\\.-]+')\n",
    "        return r.findall(str(string))\n",
    "\n",
    "    def extract_adhar_number(self,string):\n",
    "        r = re.compile(r'^[2-9]{1}[0-9]{3}\\\\s[0-9]{4}\\\\s[0-9]{4}$')\n",
    "        return r.findall(str(string))\n",
    "\n",
    "    def extract_age(self,string):\n",
    "    #     r = re.compile(r'/(am\\s)(\\d{1,2})/')\n",
    "        r = re.compile(r'\\d+(?=[\\s]?years)')\n",
    "        return r.findall(str(string))\n",
    "    \n",
    "    def extract_date_of_birth(self,string):\n",
    "        s1 = [s+'.' for s in str(string).split('.') if 'birth' in s]\n",
    "#         r = re.compile(r'(\\d{3}[-\\.\\s]??\\d{3}[-\\.\\s]??\\d{4}|\\(\\d{3}\\)\\s*\\d{3}[-\\.\\s]??\\d{4})')\n",
    "#         phone_numbers = r.findall(str(string))\n",
    "        print(\"DOB is-\"+ str(s1))\n",
    "#         return [re.sub(r'\\D', '', number) for number in phone_numbers]\n",
    "    \n",
    "    def extract_license(self,string):\n",
    "#         r = re.compile(r'^(([A-Z]{2}[0-9]{2})( )|([A-Z]{2}-[0-9]{2}))((19|20)[0-9][0-9])[0-9]{7}$')\n",
    "#         return r.findall(str(string))\n",
    "\n",
    "        s1 = [s+'.' for s in str(string).split('.') if 'license' in s]\n",
    "        print(\"Driving License is-\"+ str(s1))\n",
    "        \n",
    "    def extract_credit_card(self,string):\n",
    "        s1 = [s+'.' for s in str(string).split('.') if 'credit card' in s]\n",
    "        print(\"credit card number is-\"+ str(s1))\n",
    "        \n",
    "    def ie_preprocess(self,string):\n",
    "        string = ' '.join([i for i in str(string).split() if i not in stop])\n",
    "        sentences = nltk.sent_tokenize(string)\n",
    "        sentences = [nltk.word_tokenize(sent) for sent in sentences]\n",
    "        sentences = [nltk.pos_tag(sent) for sent in sentences]\n",
    "        return sentences\n",
    "\n",
    "    def extract_names(self,document):\n",
    "\n",
    "        names = []\n",
    "        sentences = self.ie_preprocess(string)\n",
    "        for tagged_sentence in sentences:\n",
    "            for chunk in nltk.ne_chunk(tagged_sentence):\n",
    "                if type(chunk) == nltk.tree.Tree:\n",
    "                    if chunk.label() == 'PERSON':\n",
    "                        names.append(' '.join([c[0] for c in chunk]))\n",
    "        return names\n",
    "    \n",
    "def main(): \n",
    "    obj = InformationExtraction()\n",
    "    names = obj.extract_names(string)\n",
    "    print(\"Full Name -\" + str(names))\n",
    "    obj.extract_phone_numbers(string)\n",
    "    emails = obj.extract_email_addresses(string)\n",
    "    if emails != None:\n",
    "        print(\"Email -\"+ str(emails))\n",
    "    else:\n",
    "        print(\"Email not found\")\n",
    "\n",
    "#     emails = obj.extract_email_addresses(string)\n",
    "#     print(emails)\n",
    "   \n",
    "    age = obj.extract_age(string)\n",
    "#     print(age)\n",
    "    obj.extract_date_of_birth(string)\n",
    "    obj.extract_license(string)\n",
    "    obj.extract_credit_card(string)\n",
    "#     adharno = obj.extract_adhar_number(string)\n",
    "#     print(adharno)\n",
    "\n",
    "if __name__==\"__main__\":\n",
    "    main()"
   ]
  },
  {
   "cell_type": "code",
   "execution_count": 30,
   "id": "9f4f7301",
   "metadata": {},
   "outputs": [],
   "source": [
    "import pandas as pd\n",
    "\n",
    "Data = [\"Full Name\",\"Phone Number\",\"DOB\",\"Driving License\",\"credit card number\"]\n",
    "\n",
    "df = pd.DataFrame(Data).reset_index(drop=True)"
   ]
  },
  {
   "cell_type": "code",
   "execution_count": 33,
   "id": "58f39d41",
   "metadata": {},
   "outputs": [
    {
     "data": {
      "text/html": [
       "<div>\n",
       "<style scoped>\n",
       "    .dataframe tbody tr th:only-of-type {\n",
       "        vertical-align: middle;\n",
       "    }\n",
       "\n",
       "    .dataframe tbody tr th {\n",
       "        vertical-align: top;\n",
       "    }\n",
       "\n",
       "    .dataframe thead th {\n",
       "        text-align: right;\n",
       "    }\n",
       "</style>\n",
       "<table border=\"1\" class=\"dataframe\">\n",
       "  <thead>\n",
       "    <tr style=\"text-align: right;\">\n",
       "      <th></th>\n",
       "      <th>0</th>\n",
       "    </tr>\n",
       "  </thead>\n",
       "  <tbody>\n",
       "    <tr>\n",
       "      <th>0</th>\n",
       "      <td>Full Name</td>\n",
       "    </tr>\n",
       "    <tr>\n",
       "      <th>1</th>\n",
       "      <td>Phone Number</td>\n",
       "    </tr>\n",
       "    <tr>\n",
       "      <th>2</th>\n",
       "      <td>DOB</td>\n",
       "    </tr>\n",
       "    <tr>\n",
       "      <th>3</th>\n",
       "      <td>Driving License</td>\n",
       "    </tr>\n",
       "    <tr>\n",
       "      <th>4</th>\n",
       "      <td>credit card number</td>\n",
       "    </tr>\n",
       "  </tbody>\n",
       "</table>\n",
       "</div>"
      ],
      "text/plain": [
       "                    0\n",
       "0           Full Name\n",
       "1        Phone Number\n",
       "2                 DOB\n",
       "3     Driving License\n",
       "4  credit card number"
      ]
     },
     "execution_count": 33,
     "metadata": {},
     "output_type": "execute_result"
    }
   ],
   "source": [
    "df"
   ]
  },
  {
   "cell_type": "code",
   "execution_count": null,
   "id": "815a379c",
   "metadata": {},
   "outputs": [],
   "source": []
  }
 ],
 "metadata": {
  "kernelspec": {
   "display_name": "Python 3 (ipykernel)",
   "language": "python",
   "name": "python3"
  },
  "language_info": {
   "codemirror_mode": {
    "name": "ipython",
    "version": 3
   },
   "file_extension": ".py",
   "mimetype": "text/x-python",
   "name": "python",
   "nbconvert_exporter": "python",
   "pygments_lexer": "ipython3",
   "version": "3.8.8"
  }
 },
 "nbformat": 4,
 "nbformat_minor": 5
}
