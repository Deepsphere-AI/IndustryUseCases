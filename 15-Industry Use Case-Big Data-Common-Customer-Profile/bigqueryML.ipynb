{
 "cells": [
  {
   "cell_type": "code",
   "execution_count": null,
   "metadata": {},
   "outputs": [],
   "source": [
    "# /**********************************************************************************************************\n",
    "\n",
    "# File Name\t\t: \tbigqueryML.ipynb\n",
    "# Purpose\t\t\t:   Applying Kmeans model with Bigquery ML for integrated data\n",
    "# Author\t\t\t:   DeepSphere.AI, Inc.\n",
    "# Date and Time \t: \t03/16/2021 10:30 hrs\n",
    "# Version\t\t\t: \t1.0 \n",
    "\n",
    "# /************************************************************************************************************\n",
    "\n",
    "\n",
    "def kmeans_model():\n",
    "    vAR_model_flag = create_model()\n",
    "    if vAR_model_flag:\n",
    "        print('Model created successfully')\n",
    "    else:\n",
    "        print('Error in model creation')\n",
    "    vAR_predict_flag = model_predict()\n",
    "    if vAR_model_flag:\n",
    "        print('Predicted result successfully saved')\n",
    "    else:\n",
    "        print('Error in prediction')\n",
    "    return True"
   ]
  },
  {
   "cell_type": "code",
   "execution_count": null,
   "metadata": {},
   "outputs": [],
   "source": [
    "def create_model():\n",
    "    from google.cloud import bigquery\n",
    "    # Construct a BigQuery client object.\n",
    "    vAR_client = bigquery.Client()\n",
    "\n",
    "    # TODO(developer): Set table_id to the ID of the destination table.\n",
    "    vAR_sql = \"\"\"\n",
    "        CREATE OR REPLACE MODEL\n",
    "      ds_ai.ds_ai_kmeans_model OPTIONS(model_type='kmeans',\n",
    "        num_clusters=3) AS\n",
    "      SELECT * EXCEPT(uuid,customer_id) from `vast-verve-292018.ds_ai.ds_ai_integrated_data`\n",
    "    \"\"\"\n",
    "    # Start the query, passing in the extra configuration.\n",
    "    query_job = vAR_client.query(vAR_sql)  # Make an API request.\n",
    "    query_job.result()  # Wait for the job to complete.\n",
    "    return True"
   ]
  },
  {
   "cell_type": "code",
   "execution_count": null,
   "metadata": {},
   "outputs": [],
   "source": [
    "def model_predict():\n",
    "    from google.cloud import bigquery\n",
    "\n",
    "    # Construct a BigQuery client object.\n",
    "    vAR_client = bigquery.Client()\n",
    "    # TODO(developer): Set table_id to the ID of the destination table.\n",
    "    vAR_table_id = \"vast-verve-292018.ds_ai.ds_ai_kmeans_op\"\n",
    "\n",
    "    vAR_job_config = bigquery.QueryJobConfig(destination=vAR_table_id,write_disposition=\"WRITE_TRUNCATE\")\n",
    "\n",
    "    vAR_sql = \"\"\"SELECT * EXCEPT(nearest_centroids_distance,uuid,summary_or_insights,text_content)\n",
    "    FROM\n",
    "      ML.PREDICT( MODEL ds_ai.ds_ai_kmeans_model,\n",
    "        (SELECT * FROM ds_ai.ds_ai_integrated_data))\n",
    "    \"\"\"\n",
    "    # Start the query, passing in the extra configuration.\n",
    "    vAR_query_job = vAR_client.query(vAR_sql, job_config=vAR_job_config)  # Make an API request.\n",
    "    vAR_query_job.result()  # Wait for the job to complete.\n",
    "\n",
    "    print(\"Predicted results loaded to the table {}\".format(vAR_table_id))\n",
    "    return True"
   ]
  },
  {
   "cell_type": "code",
   "execution_count": null,
   "metadata": {},
   "outputs": [],
   "source": [
    "# /**********************************************************************************************************\n",
    "# Disclaimer.\n",
    "\n",
    "# We are providing this code block strictly for learning and researching, this is not a production ready code.\n",
    "# We have no liability on this particular code under any circumstances; users should\n",
    "# use this code on their own risk. All software,hardware and other products that are\n",
    "# referenced in these materials belong to the respective vendor who developed or who owns \n",
    "# this product.\n",
    "# /**********************************************************************************************************\n"
   ]
  },
  {
   "cell_type": "code",
   "execution_count": null,
   "metadata": {},
   "outputs": [],
   "source": []
  }
 ],
 "metadata": {
  "kernelspec": {
   "display_name": "Python 3",
   "language": "python",
   "name": "python3"
  },
  "language_info": {
   "codemirror_mode": {
    "name": "ipython",
    "version": 3
   },
   "file_extension": ".py",
   "mimetype": "text/x-python",
   "name": "python",
   "nbconvert_exporter": "python",
   "pygments_lexer": "ipython3",
   "version": "3.6.12"
  }
 },
 "nbformat": 4,
 "nbformat_minor": 2
}
