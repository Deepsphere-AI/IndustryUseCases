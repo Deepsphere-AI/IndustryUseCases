{
 "cells": [
  {
   "cell_type": "code",
   "execution_count": null,
   "metadata": {},
   "outputs": [],
   "source": [
    "# /**********************************************************************************************************\n",
    "\n",
    "# File Name\t\t: \tcustomer_group.ipynb\n",
    "# Purpose\t\t\t:   customizing kmeans model output into bigquery table\n",
    "# Author\t\t\t:   DeepSphere.AI, Inc.\n",
    "# Date and Time \t: \t03/16/2021 10:30 hrs\n",
    "# Version\t\t\t: \t1.0 \n",
    "\n",
    "# /************************************************************************************************************\n",
    "\n",
    "\n",
    "def read_op_data_bqml(group_num):\n",
    "    import google.auth\n",
    "    from google.cloud import bigquery\n",
    "    from google.cloud import bigquery_storage\n",
    "\n",
    "    # Explicitly create a credentials object. This allows you to use the same\n",
    "    # credentials for both the BigQuery and BigQuery Storage clients, avoiding\n",
    "    # unnecessary API calls to fetch duplicate authentication tokens.\n",
    "    vAR_client = bigquery.Client()\n",
    "    vAR_query_string = \"\"\"SELECT customer_id,CENTROID_ID,created_time,platform_source,language,location,gender,age FROM `vast-verve-292018.ds_ai.ds_ai_kmeans_op` where CENTROID_ID=\"\"\"\n",
    "    vAR_query_string = vAR_query_string+group_num\n",
    "    vAR_df = vAR_client.query(vAR_query_string).to_dataframe()\n",
    "    \n",
    "    return vAR_df"
   ]
  },
  {
   "cell_type": "code",
   "execution_count": null,
   "metadata": {},
   "outputs": [],
   "source": [
    "def pf_source(df):\n",
    "    vAR_df_source_list = []\n",
    "    for lCount_idx in df.platform_source.unique():\n",
    "        vAR_df_source_list.append(lCount_idx)\n",
    "    return vAR_df_source_list"
   ]
  },
  {
   "cell_type": "code",
   "execution_count": null,
   "metadata": {},
   "outputs": [],
   "source": [
    "def group_customer_data_bqml():\n",
    "    vAR_df_0 = read_op_data_bqml(\"1\")\n",
    "    vAR_df_1 = read_op_data_bqml(\"2\")\n",
    "    vAR_df_2 = read_op_data_bqml(\"3\")\n",
    "    vAR_platform_source_list_0 = pf_source(vAR_df_0)\n",
    "    vAR_platform_source_list_1 = pf_source(vAR_df_1)\n",
    "    vAR_platform_source_list_2 = pf_source(vAR_df_2)\n",
    "    for ps in vAR_platform_source_list_0:\n",
    "        vAR_df_0[str(ps)] = 'yes'\n",
    "    for ps in vAR_platform_source_list_1:\n",
    "        vAR_df_1[str(ps)] = 'yes'\n",
    "    for ps in vAR_platform_source_list_2:\n",
    "        vAR_df_2[str(ps)] = 'yes'\n",
    "    vAR_ds = vAR_df_0.append(vAR_df_1)\n",
    "    vAR_ds_org = vAR_ds.append(vAR_df_2)\n",
    "    return vAR_ds_org"
   ]
  },
  {
   "cell_type": "code",
   "execution_count": null,
   "metadata": {},
   "outputs": [],
   "source": [
    "def bq_insert_bqml():\n",
    "    import pandas as pd\n",
    "    from google.cloud import bigquery\n",
    "\n",
    "    # Example data\n",
    "    vAR_df = group_customer_data_bqml()\n",
    "\n",
    "    # Load client\n",
    "    vAR_client = bigquery.Client(project='vast-verve-292018')\n",
    "\n",
    "    # Define table name, in format dataset.table_name\n",
    "    vAR_table = 'ds_ai.ds_ai_customised_kmeans_op'\n",
    "    vAR_job_config = bigquery.LoadJobConfig(write_disposition=\"WRITE_TRUNCATE\")\n",
    "    # Load data to BQ\n",
    "    vAR_job = vAR_client.load_table_from_dataframe(vAR_df, vAR_table,job_config=vAR_job_config)\n",
    "    return True"
   ]
  },
  {
   "cell_type": "code",
   "execution_count": null,
   "metadata": {},
   "outputs": [],
   "source": [
    "# select *,\n",
    "# case when twitter = 'yes' and facebook='yes'\n",
    "# then 'yes' else null end as twitter_facebook,\n",
    "# case when twitter = 'yes' and youtube='yes'\n",
    "# then 'yes' else null end as twitter_youtube,\n",
    "# case when youtube = 'yes' and facebook='yes'\n",
    "# then 'yes' else null end as youtube_facebook,\n",
    "# case when twitter = 'yes' and facebook='yes' and youtube='yes'\n",
    "# then 'yes' else null end as twitter_facebook_youtube,\n",
    "# FROM `vast-verve-292018.ds_ai.ds_ai_customised_kmeans_op`"
   ]
  },
  {
   "cell_type": "code",
   "execution_count": null,
   "metadata": {},
   "outputs": [],
   "source": [
    "# /**********************************************************************************************************\n",
    "# Disclaimer.\n",
    "\n",
    "# We are providing this code block strictly for learning and researching, this is not a production ready code.\n",
    "# We have no liability on this particular code under any circumstances; users should\n",
    "# use this code on their own risk. All software,hardware and other products that are\n",
    "# referenced in these materials belong to the respective vendor who developed or who owns \n",
    "# this product.\n",
    "# /**********************************************************************************************************\n"
   ]
  }
 ],
 "metadata": {
  "kernelspec": {
   "display_name": "Python 3",
   "language": "python",
   "name": "python3"
  },
  "language_info": {
   "codemirror_mode": {
    "name": "ipython",
    "version": 3
   },
   "file_extension": ".py",
   "mimetype": "text/x-python",
   "name": "python",
   "nbconvert_exporter": "python",
   "pygments_lexer": "ipython3",
   "version": "3.6.12"
  }
 },
 "nbformat": 4,
 "nbformat_minor": 2
}
