{
 "cells": [
  {
   "cell_type": "code",
   "execution_count": null,
   "metadata": {},
   "outputs": [],
   "source": [
    "# /**********************************************************************************************************\n",
    "\n",
    "# File Name\t\t: \timage_load.ipynb\n",
    "# Purpose\t\t\t:   Loading image data with simulated attributes into bigquery table\n",
    "# Author\t\t\t:   DeepSphere.AI, Inc.\n",
    "# Date and Time \t: \t03/16/2021 10:30 hrs\n",
    "# Version\t\t\t: \t1.0 \n",
    "\n",
    "# /************************************************************************************************************\n",
    "\n",
    "\n",
    "\n",
    "def image_load():\n",
    "    from google.cloud import storage\n",
    "    import numpy as np\n",
    "    import pandas as pd\n",
    "    import datetime\n",
    "    import time\n",
    "    vAR_client = storage.Client()\n",
    "    vAR_columns = ['text_content','age','customer_id','gender']\n",
    "    vAR_text_list = []\n",
    "    vAR_cust_id = ['John','Mike','Lisa','Peter','Michael','Anderson','Virat','Archer','Gilchrist','Ponting']\n",
    "    vAR_age = [12,35,23,54,34,29,27,67,15,26]\n",
    "    vAR_gender = ['Male','Male','Female','Male','Male','Male','Male','Male','Male','Male']\n",
    "    vAR_bname = 'videoai_intelligence'\n",
    "    for lCount_blob in vAR_client.list_blobs(vAR_bname,prefix='VideoAI/covid_image'):\n",
    "        vAR_fname = 'gs://'+vAR_bname+'/'+lCount_blob.name\n",
    "        vAR_text = detect_text_uri(vAR_fname)\n",
    "        vAR_text_list.append(vAR_text)\n",
    "    vAR_df= pd.DataFrame(columns = vAR_columns)\n",
    "    vAR_df['text_content'] = vAR_text_list\n",
    "    vAR_df['age'] = vAR_age\n",
    "    vAR_df['age'] = vAR_df.age.astype(str)\n",
    "    vAR_df['customer_id'] = vAR_cust_id\n",
    "    vAR_df['gender'] = vAR_gender\n",
    "    ts = time.time()\n",
    "    st = datetime.datetime.fromtimestamp(ts).strftime('%Y-%m-%d')\n",
    "    vAR_df['created_time'] = st\n",
    "    vAR_df['language'] = 'en'\n",
    "    vAR_df['platform_source'] = 'facebook'\n",
    "    vAR_df['text_content'] = vAR_df.text_content.astype(str)\n",
    "    vAR_image_flag = bq_insert(vAR_df)\n",
    "    return vAR_image_flag"
   ]
  },
  {
   "cell_type": "code",
   "execution_count": null,
   "metadata": {},
   "outputs": [],
   "source": []
  },
  {
   "cell_type": "code",
   "execution_count": null,
   "metadata": {},
   "outputs": [],
   "source": [
    "def detect_text_uri(uri):\n",
    "    \"\"\"Detects text in the file located in Google Cloud Storage or on the Web.\n",
    "    \"\"\"\n",
    "    from google.cloud import vision\n",
    "    import json\n",
    "    vAR_client = vision.ImageAnnotatorClient()\n",
    "    vAR_image = vision.Image()\n",
    "    vAR_image.source.image_uri = uri\n",
    "\n",
    "    vAR_response = vAR_client.text_detection(image=vAR_image)\n",
    "    vAR_texts = vAR_response.text_annotations\n",
    "    vAR_text_content = []\n",
    "    boolean = False\n",
    "    for lCount_text in vAR_texts:\n",
    "        if not boolean:\n",
    "            boolean = True\n",
    "            vAR_txt = str(lCount_text.description)\n",
    "            vAR_txt = vAR_txt.replace('[','').replace(']','')\n",
    "            vAR_text_content.append(vAR_txt.replace('\\n',' ')) \n",
    "    if vAR_response.error.message:\n",
    "        raise Exception(\n",
    "            '{}\\nFor more info on error messages, check: '\n",
    "            'https://cloud.google.com/apis/design/errors'.format(\n",
    "                vAR_response.error.message))\n",
    "    return vAR_text_content"
   ]
  },
  {
   "cell_type": "code",
   "execution_count": null,
   "metadata": {},
   "outputs": [],
   "source": [
    "def bq_insert(df):\n",
    "    from google.cloud import bigquery\n",
    "    # Construct a BigQuery client object.\n",
    "    vAR_bq_client = bigquery.Client()\n",
    "    # TODO(developer): Set table_id to the ID of the table to create.\n",
    "    vAR_table_id = \"vast-verve-292018.ds_ai.ds_ai_image_data\"\n",
    "    vAR_job_config = bigquery.LoadJobConfig(\n",
    "        vAR_schema = [bigquery.SchemaField(\"text_content\", bigquery.enums.SqlTypeNames.STRING)],\n",
    "         write_disposition=\"WRITE_APPEND\")\n",
    "    vAR_job = vAR_bq_client.load_table_from_dataframe(\n",
    "        df, vAR_table_id, job_config=vAR_job_config\n",
    "    )  # Make an API request.\n",
    "    vAR_job.result()  # Wait for the job to complete.\n",
    "\n",
    "    vAR_table = vAR_bq_client.get_table(vAR_table_id)  # Make an API request.\n",
    "    print(\n",
    "        \"Loaded {} rows and {} columns to {}\".format(\n",
    "            vAR_table.num_rows, len(vAR_table.schema), vAR_table_id\n",
    "        )\n",
    "    )\n",
    "    return True"
   ]
  },
  {
   "cell_type": "code",
   "execution_count": null,
   "metadata": {},
   "outputs": [],
   "source": [
    "# /**********************************************************************************************************\n",
    "# Disclaimer.\n",
    "\n",
    "# We are providing this code block strictly for learning and researching, this is not a production ready code.\n",
    "# We have no liability on this particular code under any circumstances; users should\n",
    "# use this code on their own risk. All software,hardware and other products that are\n",
    "# referenced in these materials belong to the respective vendor who developed or who owns \n",
    "# this product.\n",
    "# /**********************************************************************************************************\n"
   ]
  },
  {
   "cell_type": "code",
   "execution_count": null,
   "metadata": {},
   "outputs": [],
   "source": []
  },
  {
   "cell_type": "code",
   "execution_count": null,
   "metadata": {},
   "outputs": [],
   "source": []
  },
  {
   "cell_type": "code",
   "execution_count": null,
   "metadata": {},
   "outputs": [],
   "source": []
  },
  {
   "cell_type": "code",
   "execution_count": null,
   "metadata": {},
   "outputs": [],
   "source": []
  }
 ],
 "metadata": {
  "kernelspec": {
   "display_name": "Python 3",
   "language": "python",
   "name": "python3"
  },
  "language_info": {
   "codemirror_mode": {
    "name": "ipython",
    "version": 3
   },
   "file_extension": ".py",
   "mimetype": "text/x-python",
   "name": "python",
   "nbconvert_exporter": "python",
   "pygments_lexer": "ipython3",
   "version": "3.6.12"
  }
 },
 "nbformat": 4,
 "nbformat_minor": 2
}
