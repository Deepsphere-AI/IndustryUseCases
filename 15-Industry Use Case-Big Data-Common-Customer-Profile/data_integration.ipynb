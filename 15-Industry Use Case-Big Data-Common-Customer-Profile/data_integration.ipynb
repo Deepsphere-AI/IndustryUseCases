{
 "cells": [
  {
   "cell_type": "code",
   "execution_count": null,
   "metadata": {},
   "outputs": [],
   "source": [
    "# /**********************************************************************************************************\n",
    "\n",
    "# File Name\t\t: \tdata_integration.ipynb\n",
    "# Purpose\t\t\t:   Integrating twitter,youtube,image data into bigquery table\n",
    "# Author\t\t\t:   DeepSphere.AI, Inc.\n",
    "# Date and Time \t: \t03/16/2021 10:30 hrs\n",
    "# Version\t\t\t: \t1.0 \n",
    "\n",
    "# /************************************************************************************************************\n",
    "\n",
    "\n",
    "def data_integrate():\n",
    "    from google.cloud import bigquery\n",
    "\n",
    "    # Construct a BigQuery client object.\n",
    "    vAR_client = bigquery.Client()\n",
    "\n",
    "    # TODO(developer): Set table_id to the ID of the destination table.\n",
    "    vAR_table_id = \"vast-verve-292018.ds_ai.ds_ai_integrated_data\"\n",
    "\n",
    "    vAR_job_config = bigquery.QueryJobConfig(destination=vAR_table_id,write_disposition=\"WRITE_APPEND\")\n",
    "\n",
    "    vAR_sql = \"\"\"\n",
    "        select GENERATE_UUID() as uuid,* from (\n",
    "    SELECT platform_source,customer_id,text_content,language,location,summary_or_insights,gender,age,created_time\n",
    "    FROM `vast-verve-292018.ds_ai.ds_ai_twitter_data`\n",
    "    union all\n",
    "    SELECT platform_source,customer_id,text_content,language,location,summary_or_insights,'' as gender, '' as age,created_time\n",
    "    FROM `vast-verve-292018.ds_ai.ds_ai_youtube_data`\n",
    "    union all\n",
    "    SELECT platform_source,customer_id,text_content,language, null as location,text_content as summary_or_insights,gender,age,created_time\n",
    "    FROM `vast-verve-292018.ds_ai.ds_ai_image_data`)\n",
    "    \"\"\"\n",
    "\n",
    "    # Start the query, passing in the extra configuration.\n",
    "    vAR_query_job = vAR_client.query(vAR_sql, job_config=vAR_job_config)  # Make an API request.\n",
    "    vAR_query_job.result()  # Wait for the job to complete.\n",
    "\n",
    "#     print(\"Query results loaded to the table {}\".format(vAR_table_id))\n",
    "    return True"
   ]
  },
  {
   "cell_type": "code",
   "execution_count": null,
   "metadata": {},
   "outputs": [],
   "source": [
    "# /**********************************************************************************************************\n",
    "# Disclaimer.\n",
    "\n",
    "# We are providing this code block strictly for learning and researching, this is not a production ready code.\n",
    "# We have no liability on this particular code under any circumstances; users should\n",
    "# use this code on their own risk. All software,hardware and other products that are\n",
    "# referenced in these materials belong to the respective vendor who developed or who owns \n",
    "# this product.\n",
    "# /**********************************************************************************************************\n"
   ]
  },
  {
   "cell_type": "code",
   "execution_count": null,
   "metadata": {},
   "outputs": [],
   "source": []
  }
 ],
 "metadata": {
  "kernelspec": {
   "display_name": "Python 3",
   "language": "python",
   "name": "python3"
  },
  "language_info": {
   "codemirror_mode": {
    "name": "ipython",
    "version": 3
   },
   "file_extension": ".py",
   "mimetype": "text/x-python",
   "name": "python",
   "nbconvert_exporter": "python",
   "pygments_lexer": "ipython3",
   "version": "3.6.12"
  }
 },
 "nbformat": 4,
 "nbformat_minor": 2
}
