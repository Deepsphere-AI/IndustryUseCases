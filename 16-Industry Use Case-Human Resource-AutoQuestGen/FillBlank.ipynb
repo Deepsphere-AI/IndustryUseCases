{
 "cells": [
  {
   "cell_type": "markdown",
   "metadata": {
    "id": "jhv20N4TepLA"
   },
   "source": [
    "## Generate fill in the blanks from any content"
   ]
  },
  {
   "cell_type": "code",
   "execution_count": 2,
   "metadata": {
    "colab": {
     "background_save": true,
     "base_uri": "https://localhost:8080/"
    },
    "executionInfo": {
     "elapsed": 17252,
     "status": "ok",
     "timestamp": 1612231815322,
     "user": {
      "displayName": "Ramsri Goutham",
      "photoUrl": "https://lh3.googleusercontent.com/a-/AOh14Gg6-RtlVqaGTKKM6H88RM0th8AtQQX0An95Pvxb5Cg=s64",
      "userId": "00967418115712089730"
     },
     "user_tz": -330
    },
    "id": "POUBDBDm_cq2"
   },
   "outputs": [],
   "source": [
    "# # Installing from https://github.com/boudinfl/pke library for Python Keyword extraction\n",
    "# # We use a fixed commit as the later changes might break the code. If it was on pip we would have used exact version number.\n",
    "\n",
    "# !pip install --quiet git+https://github.com/boudinfl/pke.git@dc4d5f21e0ffe64c4df93c46146d29d1c522476b\n",
    "# !pip install --quiet flashtext==2.7"
   ]
  },
  {
   "cell_type": "code",
   "execution_count": 4,
   "metadata": {
    "colab": {
     "base_uri": "https://localhost:8080/"
    },
    "executionInfo": {
     "elapsed": 1045,
     "status": "ok",
     "timestamp": 1612231889864,
     "user": {
      "displayName": "Ramsri Goutham",
      "photoUrl": "https://lh3.googleusercontent.com/a-/AOh14Gg6-RtlVqaGTKKM6H88RM0th8AtQQX0An95Pvxb5Cg=s64",
      "userId": "00967418115712089730"
     },
     "user_tz": -330
    },
    "id": "Ix4g8UhMLX4Q",
    "outputId": "452f7b1f-b5b6-4f18-f49a-c535d2c32a0c"
   },
   "outputs": [
    {
     "name": "stdout",
     "output_type": "stream",
     "text": [
      "There is a lot of volcanic activity at divergent plate boundaries in the oceans. For example, many\n",
      "undersea volcanoes are found along the Mid-Atlantic Ridge. This is a divergent plate boundary that\n",
      "runs north-south through the middle of the Atlantic Ocean. As tectonic plates pull away from each\n",
      "other at a divergent plate boundary, they create deep fissures, or cracks, in the crust. Molten\n",
      "rock, called magma, erupts through these cracks onto Earth’s surface. At the surface, the molten\n",
      "rock is called lava. It cools and hardens, forming rock. Divergent plate boundaries also occur in\n",
      "the continental crust. Volcanoes form at these boundaries, but less often than in ocean crust.\n",
      "That’s because continental crust is thicker than oceanic crust. This makes it more difficult for\n",
      "molten rock to push up through the crust. Many volcanoes form along convergent plate boundaries\n",
      "where one tectonic plate is pulled down beneath another at a subduction zone. The leading edge of\n",
      "the plate melts as it is pulled into the mantle, forming magma that erupts as volcanoes. When a line\n",
      "of volcanoes forms along a subduction zone, they make up a volcanic arc. The edges of the Pacific\n",
      "plate are long subduction zones lined with volcanoes. This is why the Pacific rim is called the\n",
      "“Pacific Ring of Fire.”\n"
     ]
    }
   ],
   "source": [
    "# To view the text  into notebook cell\n",
    "import textwrap\n",
    "text = \"\"\"There is a lot of volcanic activity at divergent plate boundaries in the oceans. For example, many undersea volcanoes are found along the Mid-Atlantic Ridge. This is a divergent plate boundary that runs north-south through the middle of the Atlantic Ocean. As tectonic plates pull away from each other at a divergent plate boundary, they create deep fissures, or cracks, in the crust. Molten rock, called magma, erupts through these cracks onto Earth’s surface. At the surface, the molten rock is called lava. It cools and hardens, forming rock. Divergent plate boundaries also occur in the continental crust. Volcanoes form at these boundaries, but less often than in ocean crust. That’s because continental crust is thicker than oceanic crust. This makes it more difficult for molten rock to push up through the crust. Many volcanoes form along convergent plate boundaries where one tectonic plate is pulled down beneath another at a subduction zone. The leading edge of the plate melts as it is pulled into the mantle, forming magma that erupts as volcanoes. When a line of volcanoes forms along a subduction zone, they make up a volcanic arc. The edges of the Pacific plate are long subduction zones lined with volcanoes. This is why the Pacific rim is called the “Pacific Ring of Fire.”\"\"\"\n",
    "\n",
    "wrapper = textwrap.TextWrapper(width=100)\n",
    "word_list = wrapper.wrap(text=text)\n",
    "for element in word_list: \n",
    "  print(element)"
   ]
  },
  {
   "cell_type": "code",
   "execution_count": 5,
   "metadata": {
    "colab": {
     "base_uri": "https://localhost:8080/"
    },
    "executionInfo": {
     "elapsed": 5656,
     "status": "ok",
     "timestamp": 1612232006580,
     "user": {
      "displayName": "Ramsri Goutham",
      "photoUrl": "https://lh3.googleusercontent.com/a-/AOh14Gg6-RtlVqaGTKKM6H88RM0th8AtQQX0An95Pvxb5Cg=s64",
      "userId": "00967418115712089730"
     },
     "user_tz": -330
    },
    "id": "guTJJvfWKRbt",
    "outputId": "683ead49-4015-48f3-9b95-a081af4c5071"
   },
   "outputs": [
    {
     "name": "stderr",
     "output_type": "stream",
     "text": [
      "[nltk_data] Downloading package stopwords to\n",
      "[nltk_data]     /home/jupyter/nltk_data...\n",
      "[nltk_data]   Unzipping corpora/stopwords.zip.\n",
      "[nltk_data] Downloading package wordnet to /home/jupyter/nltk_data...\n",
      "[nltk_data]   Package wordnet is already up-to-date!\n",
      "[nltk_data] Downloading package punkt to /home/jupyter/nltk_data...\n",
      "[nltk_data]   Package punkt is already up-to-date!\n"
     ]
    }
   ],
   "source": [
    "# Importing required libraries\n",
    "import json\n",
    "import requests\n",
    "import string\n",
    "import re\n",
    "import nltk\n",
    "import string\n",
    "import itertools\n",
    "nltk.download('stopwords')\n",
    "nltk.download('wordnet')\n",
    "nltk.download('punkt')\n",
    "import pke\n",
    "from nltk.corpus import stopwords\n",
    "from nltk.corpus import wordnet\n",
    "import traceback\n",
    "from nltk.tokenize import sent_tokenize\n",
    "from flashtext import KeywordProcessor\n"
   ]
  },
  {
   "cell_type": "code",
   "execution_count": 4,
   "metadata": {
    "colab": {
     "base_uri": "https://localhost:8080/"
    },
    "executionInfo": {
     "elapsed": 960,
     "status": "ok",
     "timestamp": 1612232045703,
     "user": {
      "displayName": "Ramsri Goutham",
      "photoUrl": "https://lh3.googleusercontent.com/a-/AOh14Gg6-RtlVqaGTKKM6H88RM0th8AtQQX0An95Pvxb5Cg=s64",
      "userId": "00967418115712089730"
     },
     "user_tz": -330
    },
    "id": "Bn9OEtyuPbk1",
    "outputId": "48539eb3-4502-4afa-b045-05a943d42ab5"
   },
   "outputs": [
    {
     "name": "stdout",
     "output_type": "stream",
     "text": [
      "['There is a lot of volcanic activity at divergent plate boundaries in the oceans.', 'For example, many undersea volcanoes are found along the Mid-Atlantic Ridge.', 'This is a divergent plate boundary that runs north-south through the middle of the Atlantic Ocean.', 'As tectonic plates pull away from each other at a divergent plate boundary, they create deep fissures, or cracks, in the crust.', 'Molten rock, called magma, erupts through these cracks onto Earth’s surface.', 'At the surface, the molten rock is called lava.', 'It cools and hardens, forming rock.', 'Divergent plate boundaries also occur in the continental crust.', 'Volcanoes form at these boundaries, but less often than in ocean crust.', 'That’s because continental crust is thicker than oceanic crust.', 'This makes it more difficult for molten rock to push up through the crust.', 'Many volcanoes form along convergent plate boundaries where one tectonic plate is pulled down beneath another at a subduction zone.', 'The leading edge of the plate melts as it is pulled into the mantle, forming magma that erupts as volcanoes.', 'When a line of volcanoes forms along a subduction zone, they make up a volcanic arc.', 'The edges of the Pacific plate are long subduction zones lined with volcanoes.', 'This is why the Pacific rim is called the “Pacific Ring of Fire.”']\n"
     ]
    }
   ],
   "source": [
    "# Tokenizing sentence using nltk sent_tokenize\n",
    "def tokenize_sentences(text):\n",
    "    sentences = sent_tokenize(text)\n",
    "    sentences = [sentence.strip() for sentence in sentences if len(sentence) > 20]\n",
    "    return sentences\n",
    "\n",
    "sentences = tokenize_sentences(text)\n",
    "print (sentences)"
   ]
  },
  {
   "cell_type": "code",
   "execution_count": 6,
   "metadata": {
    "colab": {
     "base_uri": "https://localhost:8080/"
    },
    "executionInfo": {
     "elapsed": 2151,
     "status": "ok",
     "timestamp": 1612232164106,
     "user": {
      "displayName": "Ramsri Goutham",
      "photoUrl": "https://lh3.googleusercontent.com/a-/AOh14Gg6-RtlVqaGTKKM6H88RM0th8AtQQX0An95Pvxb5Cg=s64",
      "userId": "00967418115712089730"
     },
     "user_tz": -330
    },
    "id": "Wt5YYO1tI8XS",
    "outputId": "6adf2fba-7036-4e6a-aace-8d64a0b640c0"
   },
   "outputs": [
    {
     "name": "stdout",
     "output_type": "stream",
     "text": [
      "keywords:  ['divergent plate boundaries', 'volcanoes form', 'molten rock', 'crust', 'oceans', 'called magma', 'erupts', 'volcanic activity', 'cracks', 'tectonic plates pull', 'surface', 'makes', 'subduction zone', 'runs north', 'ocean crust', 'south', 'leading edge', 'forming rock', 'occur', 'lot', 'example', 'hardens', 'continental crust', 'create deep fissures', 'middle', 'push', 'difficult', 'volcanoes', 'cools', 'many volcanoes form']\n"
     ]
    }
   ],
   "source": [
    "# keyword extraction using pke's MultipartiteRank Algorithm\n",
    "# Working principle of MultipartiteRank Algorithm - https://www.aclweb.org/anthology/N18-2105.pdf\n",
    "def get_noun_adj_verb(text):\n",
    "    out=[]\n",
    "    try:\n",
    "        extractor = pke.unsupervised.MultipartiteRank()\n",
    "        extractor.load_document(input=text)\n",
    "        #    not contain punctuation marks or stopwords as candidates.\n",
    "        pos = {'VERB', 'ADJ', 'NOUN'}\n",
    "        stoplist = list(string.punctuation)\n",
    "        stoplist += ['-lrb-', '-rrb-', '-lcb-', '-rcb-', '-lsb-', '-rsb-']\n",
    "        stoplist += stopwords.words('english')\n",
    "        extractor.candidate_selection(pos=pos, stoplist=stoplist)\n",
    "        # 4. build the Multipartite graph and rank candidates using random walk,\n",
    "        #    alpha controls the weight adjustment mechanism, see TopicRank for\n",
    "        #    threshold/method parameters.\n",
    "        extractor.candidate_weighting(alpha=1.1,\n",
    "                                      threshold=0.75,\n",
    "                                      method='average')\n",
    "        keyphrases = extractor.get_n_best(n=30)\n",
    "        \n",
    "\n",
    "        for val in keyphrases:\n",
    "            out.append(val[0])\n",
    "    except:\n",
    "        out = []\n",
    "        traceback.print_exc()\n",
    "\n",
    "    return out\n",
    "\n",
    "noun_verbs_adj = get_noun_adj_verb(text)\n",
    "print (\"keywords: \",noun_verbs_adj)"
   ]
  },
  {
   "cell_type": "code",
   "execution_count": 7,
   "metadata": {
    "colab": {
     "base_uri": "https://localhost:8080/"
    },
    "executionInfo": {
     "elapsed": 965,
     "status": "ok",
     "timestamp": 1612232662270,
     "user": {
      "displayName": "Ramsri Goutham",
      "photoUrl": "https://lh3.googleusercontent.com/a-/AOh14Gg6-RtlVqaGTKKM6H88RM0th8AtQQX0An95Pvxb5Cg=s64",
      "userId": "00967418115712089730"
     },
     "user_tz": -330
    },
    "id": "aXFMFi9cQuBV",
    "outputId": "727221d1-8c11-4d23-d4ce-a7cb0c93708c"
   },
   "outputs": [
    {
     "name": "stdout",
     "output_type": "stream",
     "text": [
      "{'called': ['Molten rock, called magma, erupts through these cracks onto '\n",
      "            'Earth’s surface.',\n",
      "            'This is why the Pacific rim is called the “Pacific Ring of Fire.”',\n",
      "            'At the surface, the molten rock is called lava.'],\n",
      " 'continental crust': ['Divergent plate boundaries also occur in the '\n",
      "                       'continental crust.',\n",
      "                       'That’s because continental crust is thicker than '\n",
      "                       'oceanic crust.'],\n",
      " 'cools': ['It cools and hardens, forming rock.'],\n",
      " 'cracks': ['As tectonic plates pull away from each other at a divergent plate '\n",
      "            'boundary, they create deep fissures, or cracks, in the crust.',\n",
      "            'Molten rock, called magma, erupts through these cracks onto '\n",
      "            'Earth’s surface.'],\n",
      " 'create deep fissures': ['As tectonic plates pull away from each other at a '\n",
      "                          'divergent plate boundary, they create deep '\n",
      "                          'fissures, or cracks, in the crust.'],\n",
      " 'crust': ['As tectonic plates pull away from each other at a divergent plate '\n",
      "           'boundary, they create deep fissures, or cracks, in the crust.',\n",
      "           'This makes it more difficult for molten rock to push up through '\n",
      "           'the crust.',\n",
      "           'That’s because continental crust is thicker than oceanic crust.'],\n",
      " 'divergent plate boundaries': ['There is a lot of volcanic activity at '\n",
      "                                'divergent plate boundaries in the oceans.',\n",
      "                                'Divergent plate boundaries also occur in the '\n",
      "                                'continental crust.'],\n",
      " 'earth': ['Molten rock, called magma, erupts through these cracks onto '\n",
      "           'Earth’s surface.'],\n",
      " 'erupts': ['The leading edge of the plate melts as it is pulled into the '\n",
      "            'mantle, forming magma that erupts as volcanoes.',\n",
      "            'Molten rock, called magma, erupts through these cracks onto '\n",
      "            'Earth’s surface.'],\n",
      " 'example': ['For example, many undersea volcanoes are found along the '\n",
      "             'Mid-Atlantic Ridge.'],\n",
      " 'forming rock': ['It cools and hardens, forming rock.'],\n",
      " 'found': ['For example, many undersea volcanoes are found along the '\n",
      "           'Mid-Atlantic Ridge.'],\n",
      " 'hardens': ['It cools and hardens, forming rock.'],\n",
      " 'leading edge': ['The leading edge of the plate melts as it is pulled into '\n",
      "                  'the mantle, forming magma that erupts as volcanoes.'],\n",
      " 'lot': ['There is a lot of volcanic activity at divergent plate boundaries in '\n",
      "         'the oceans.'],\n",
      " 'makes': ['This makes it more difficult for molten rock to push up through '\n",
      "           'the crust.'],\n",
      " 'many undersea volcanoes': ['For example, many undersea volcanoes are found '\n",
      "                             'along the Mid-Atlantic Ridge.'],\n",
      " 'middle': ['This is a divergent plate boundary that runs north-south through '\n",
      "            'the middle of the Atlantic Ocean.'],\n",
      " 'molten rock': ['Molten rock, called magma, erupts through these cracks onto '\n",
      "                 'Earth’s surface.',\n",
      "                 'This makes it more difficult for molten rock to push up '\n",
      "                 'through the crust.',\n",
      "                 'At the surface, the molten rock is called lava.'],\n",
      " 'ocean crust': ['Volcanoes form at these boundaries, but less often than in '\n",
      "                 'ocean crust.'],\n",
      " 'oceans': ['There is a lot of volcanic activity at divergent plate boundaries '\n",
      "            'in the oceans.'],\n",
      " 'pulled': ['Many volcanoes form along convergent plate boundaries where one '\n",
      "            'tectonic plate is pulled down beneath another at a subduction '\n",
      "            'zone.',\n",
      "            'The leading edge of the plate melts as it is pulled into the '\n",
      "            'mantle, forming magma that erupts as volcanoes.'],\n",
      " 'runs': ['This is a divergent plate boundary that runs north-south through '\n",
      "          'the middle of the Atlantic Ocean.'],\n",
      " 'south': ['This is a divergent plate boundary that runs north-south through '\n",
      "           'the middle of the Atlantic Ocean.'],\n",
      " 'subduction zone': ['Many volcanoes form along convergent plate boundaries '\n",
      "                     'where one tectonic plate is pulled down beneath another '\n",
      "                     'at a subduction zone.',\n",
      "                     'When a line of volcanoes forms along a subduction zone, '\n",
      "                     'they make up a volcanic arc.'],\n",
      " 'surface': ['Molten rock, called magma, erupts through these cracks onto '\n",
      "             'Earth’s surface.',\n",
      "             'At the surface, the molten rock is called lava.'],\n",
      " 'tectonic plates pull': ['As tectonic plates pull away from each other at a '\n",
      "                          'divergent plate boundary, they create deep '\n",
      "                          'fissures, or cracks, in the crust.'],\n",
      " 'volcanic activity': ['There is a lot of volcanic activity at divergent plate '\n",
      "                       'boundaries in the oceans.'],\n",
      " 'volcanoes': ['The leading edge of the plate melts as it is pulled into the '\n",
      "               'mantle, forming magma that erupts as volcanoes.',\n",
      "               'When a line of volcanoes forms along a subduction zone, they '\n",
      "               'make up a volcanic arc.',\n",
      "               'The edges of the Pacific plate are long subduction zones lined '\n",
      "               'with volcanoes.'],\n",
      " 'volcanoes form': ['Many volcanoes form along convergent plate boundaries '\n",
      "                    'where one tectonic plate is pulled down beneath another '\n",
      "                    'at a subduction zone.',\n",
      "                    'Volcanoes form at these boundaries, but less often than '\n",
      "                    'in ocean crust.']}\n"
     ]
    }
   ],
   "source": [
    "# Identify and matching sentence for each keyword\n",
    "from pprint import pprint\n",
    "def get_sentences_for_keyword(keywords, sentences):\n",
    "    keyword_processor = KeywordProcessor()\n",
    "    keyword_sentences = {}\n",
    "    for word in keywords:\n",
    "        keyword_sentences[word] = []\n",
    "        keyword_processor.add_keyword(word)\n",
    "    for sentence in sentences:\n",
    "        keywords_found = keyword_processor.extract_keywords(sentence)\n",
    "        for key in keywords_found:\n",
    "            keyword_sentences[key].append(sentence)\n",
    "\n",
    "    for key in keyword_sentences.keys():\n",
    "        values = keyword_sentences[key]\n",
    "        values = sorted(values, key=len, reverse=True)\n",
    "        keyword_sentences[key] = values\n",
    "    return keyword_sentences\n",
    "\n",
    "keyword_sentence_mapping_noun_verbs_adj = get_sentences_for_keyword(noun_verbs_adj, sentences)\n",
    "pprint (keyword_sentence_mapping_noun_verbs_adj)"
   ]
  },
  {
   "cell_type": "code",
   "execution_count": 8,
   "metadata": {
    "colab": {
     "base_uri": "https://localhost:8080/"
    },
    "executionInfo": {
     "elapsed": 1471,
     "status": "ok",
     "timestamp": 1612233123620,
     "user": {
      "displayName": "Ramsri Goutham",
      "photoUrl": "https://lh3.googleusercontent.com/a-/AOh14Gg6-RtlVqaGTKKM6H88RM0th8AtQQX0An95Pvxb5Cg=s64",
      "userId": "00967418115712089730"
     },
     "user_tz": -330
    },
    "id": "XTsmxtR0HyCC",
    "outputId": "51903979-4ac1-42b5-8c0f-cdb296ff49f5"
   },
   "outputs": [
    {
     "name": "stdout",
     "output_type": "stream",
     "text": [
      "{'keys': ['divergent plate boundaries',\n",
      "          'many undersea volcanoes',\n",
      "          'crust',\n",
      "          'molten rock',\n",
      "          'forming rock',\n",
      "          'subduction zone',\n",
      "          'erupts',\n",
      "          'continental crust',\n",
      "          'ocean crust',\n",
      "          'runs'],\n",
      " 'sentences': ['There is a lot of volcanic activity at  _________  in the '\n",
      "               'oceans.',\n",
      "               'For example,  _________  are found along the Mid-Atlantic '\n",
      "               'Ridge.',\n",
      "               'As tectonic plates pull away from each other at a divergent '\n",
      "               'plate boundary, they create deep fissures, or cracks, in the  '\n",
      "               '_________ .',\n",
      "               ' _________ , called magma, erupts through these cracks onto '\n",
      "               'Earth’s surface.',\n",
      "               'It cools and hardens,  _________ .',\n",
      "               'Many volcanoes form along convergent plate boundaries where '\n",
      "               'one tectonic plate is pulled down beneath another at a  '\n",
      "               '_________ .',\n",
      "               'The leading edge of the plate melts as it is pulled into the '\n",
      "               'mantle, forming magma that  _________  as volcanoes.',\n",
      "               'Divergent plate boundaries also occur in the  _________ .',\n",
      "               'Volcanoes form at these boundaries, but less often than in  '\n",
      "               '_________ .',\n",
      "               'This is a divergent plate boundary that  _________  '\n",
      "               'north-south through the middle of the Atlantic Ocean.'],\n",
      " 'title': 'Fill in the blanks for these sentences with matching words at the '\n",
      "          'top'}\n"
     ]
    }
   ],
   "source": [
    "# Handling case sensitive and removing duplicate keywords\n",
    "def get_fill_in_the_blanks(sentence_mapping):\n",
    "    out={\"title\":\"Fill in the blanks for these sentences with matching words at the top\"}\n",
    "    blank_sentences = []\n",
    "    processed = []\n",
    "    keys=[]\n",
    "    for key in sentence_mapping:\n",
    "        if len(sentence_mapping[key])>0:\n",
    "            sent = sentence_mapping[key][0]\n",
    "            # Compile a regular expression pattern into a regular expression object, which can be used for matching and other methods\n",
    "            insensitive_sent = re.compile(re.escape(key), re.IGNORECASE)\n",
    "            print('insensitive_sent - ',insensitive_sent)\n",
    "            no_of_replacements =  len(re.findall(re.escape(key),sent,re.IGNORECASE))\n",
    "            line = insensitive_sent.sub(' _________ ', sent)\n",
    "            if (sentence_mapping[key][0] not in processed) and no_of_replacements<2:\n",
    "                blank_sentences.append(line)\n",
    "                processed.append(sentence_mapping[key][0])\n",
    "                keys.append(key)\n",
    "    out[\"sentences\"]=blank_sentences[:10]\n",
    "    out[\"keys\"]=keys[:10]\n",
    "    return out\n",
    "\n",
    "\n",
    "fill_in_the_blanks = get_fill_in_the_blanks(keyword_sentence_mapping_noun_verbs_adj)\n",
    "pprint(fill_in_the_blanks)"
   ]
  },
  {
   "cell_type": "code",
   "execution_count": null,
   "metadata": {},
   "outputs": [],
   "source": []
  },
  {
   "cell_type": "code",
   "execution_count": null,
   "metadata": {},
   "outputs": [],
   "source": []
  },
  {
   "cell_type": "code",
   "execution_count": null,
   "metadata": {
    "colab": {
     "base_uri": "https://localhost:8080/"
    },
    "executionInfo": {
     "elapsed": 1002,
     "status": "ok",
     "timestamp": 1612233595248,
     "user": {
      "displayName": "Ramsri Goutham",
      "photoUrl": "https://lh3.googleusercontent.com/a-/AOh14Gg6-RtlVqaGTKKM6H88RM0th8AtQQX0An95Pvxb5Cg=s64",
      "userId": "00967418115712089730"
     },
     "user_tz": -330
    },
    "id": "MFogG7KKgf4s",
    "outputId": "55f0d41c-85fc-4189-c796-a7d911cd9303"
   },
   "outputs": [],
   "source": []
  },
  {
   "cell_type": "code",
   "execution_count": null,
   "metadata": {},
   "outputs": [],
   "source": []
  }
 ],
 "metadata": {
  "colab": {
   "authorship_tag": "ABX9TyO566r/qCTnrbxjUpT/FI6I",
   "collapsed_sections": [],
   "name": "Section 5 - Generate fill in the blanks from content.ipynb",
   "version": ""
  },
  "environment": {
   "name": "common-cpu.m65",
   "type": "gcloud",
   "uri": "gcr.io/deeplearning-platform-release/base-cpu:m65"
  },
  "kernelspec": {
   "display_name": "Python 3",
   "language": "python",
   "name": "python3"
  },
  "language_info": {
   "codemirror_mode": {
    "name": "ipython",
    "version": 3
   },
   "file_extension": ".py",
   "mimetype": "text/x-python",
   "name": "python",
   "nbconvert_exporter": "python",
   "pygments_lexer": "ipython3",
   "version": "3.7.6"
  }
 },
 "nbformat": 4,
 "nbformat_minor": 4
}
