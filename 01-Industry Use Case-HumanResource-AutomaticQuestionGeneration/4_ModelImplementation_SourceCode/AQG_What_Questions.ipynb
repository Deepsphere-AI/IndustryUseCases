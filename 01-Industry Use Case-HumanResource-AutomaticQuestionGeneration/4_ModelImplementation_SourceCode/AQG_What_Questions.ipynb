{
 "cells": [
  {
   "cell_type": "markdown",
   "metadata": {},
   "source": [
    "Reading File Path from INI"
   ]
  },
  {
   "cell_type": "code",
   "execution_count": 1,
   "metadata": {},
   "outputs": [
    {
     "name": "stdout",
     "output_type": "stream",
     "text": [
      "C:\\AI\\AUTOMATIC QUESTION GENERATION\\ML\\INI\\INI_FILE_ML.ini\n",
      "C:\\AI\\AUTOMATIC QUESTION GENERATION\\ML\\TEST DATA\\data.txt\n"
     ]
    }
   ],
   "source": [
    "import configparser\n",
    "\n",
    "import os\n",
    "\n",
    "vAR_Config = configparser.ConfigParser(allow_no_value=True)\n",
    "\n",
    "vAR_INI_FILE_PATH = os.getenv('AQG')\n",
    "print(vAR_INI_FILE_PATH)\n",
    "\n",
    "vAR_Config.read(vAR_INI_FILE_PATH)\n",
    "\n",
    "vAR_Data = vAR_Config.sections()\n",
    "\n",
    "vAR_Config.sections()\n",
    "\n",
    "vAR_Training_Data = vAR_Config['FILE PATH']['TEST_DATA']\n",
    "print(vAR_Training_Data)\n",
    "\n"
   ]
  },
  {
   "cell_type": "code",
   "execution_count": 3,
   "metadata": {},
   "outputs": [],
   "source": [
    "f = open(vAR_Training_Data,mode='r')"
   ]
  },
  {
   "cell_type": "markdown",
   "metadata": {},
   "source": [
    "Read Content in TEST_DATA"
   ]
  },
  {
   "cell_type": "code",
   "execution_count": 4,
   "metadata": {
    "scrolled": true
   },
   "outputs": [
    {
     "name": "stdout",
     "output_type": "stream",
     "text": [
      "An apple is an edible fruit produced by an apple tree (Malus domestica). Apple trees are cultivated worldwide and are the most widely grown species in the genus Malus. The tree originated in Central Asia, where its wild ancestor, Malus sieversii, is still found today. Apples have been grown for thousands of years in Asia and Europe and were brought to North America by European colonists. Apples have religious and mythological significance in many cultures, including Norse, Greek, and European Christian tradition.\n",
      "\n",
      "Apple trees are large if grown from seed. Generally, apple cultivars are propagated by grafting onto rootstocks, which control the size of the resulting tree. There are more than 7,500 known cultivars of apples, resulting in a range of desired characteristics. Different cultivars are bred for various tastes and use, including cooking, eating raw and cider production. Trees and fruit are prone to a number of fungal, bacterial and pest problems, which can be controlled by a number of organic and non-organic means. In 2010, the fruit's genome was sequenced as part of research on disease control and selective breeding in apple production.\n",
      "\n",
      "Bansoori is an Indian classical instrument. Akhil plays Bansoori and Guitar. \n",
      "Puliyogare is a South Indian dish made of rice and tamarind. \n",
      "Priya writes poems. \n",
      "Osmosis is the movement of a solvent across a semipermeable membrane toward a higher concentration of solute. In biological systems, the solvent is typically water, but osmosis can occur in other liquids, supercritical liquids, and even gases.\n",
      "When a cell is submerged in water, the water molecules pass through the cell membrane from an area of low solute concentration to high solute concentration. For example, if the cell is submerged in saltwater, water molecules move out of the cell. If a cell is submerged in freshwater, water molecules move into the cell.\n",
      "\n",
      "Raja-Yoga is divided into eight steps, the first is Yama -- non - killing, truthfulness, non - stealing, continence, and non - receiving of any gifts.\n",
      "Next is Niyama -- cleanliness, contentment, austerity, study, and self - surrender to God.\n",
      "Tamilnadu is located in India.\n"
     ]
    }
   ],
   "source": [
    "content = f.read()\n",
    "print(content)"
   ]
  },
  {
   "cell_type": "code",
   "execution_count": 7,
   "metadata": {},
   "outputs": [],
   "source": [
    "from textblob import TextBlob\n",
    "import nltk\n",
    "from textblob import Word\n",
    "import sys"
   ]
  },
  {
   "cell_type": "markdown",
   "metadata": {},
   "source": [
    "# Question Generation:"
   ]
  },
  {
   "cell_type": "code",
   "execution_count": 8,
   "metadata": {},
   "outputs": [
    {
     "name": "stdout",
     "output_type": "stream",
     "text": [
      "\n",
      " question: What is Malus?\n",
      "\n",
      " question: What is Central?\n",
      "\n",
      " question: What is Bansoori?\n",
      "\n",
      " question: What does Akhil play?\n",
      "\n",
      " question: What is Puliyogare?\n",
      "\n",
      " question: What does Priya write?\n",
      "\n",
      " question: What is Osmosis?\n",
      "\n",
      " question: What is solvent?\n",
      "\n",
      " question: What is cell?\n",
      "\n",
      " question: What is example?\n",
      "\n",
      " question: What is cell?\n",
      "\n",
      " question: What is Raja-Yoga?\n",
      "\n",
      " question: What is Niyama?\n",
      "\n",
      " question: What does Tamilnadu is?\n"
     ]
    }
   ],
   "source": [
    "def part(string):           # divide the paragraph into sentences and generate questions for each sentence\n",
    "\n",
    "    try:\n",
    "        txt = TextBlob(string)\n",
    "        for sent in txt.sentences:\n",
    "            aqg(sent)\n",
    "            \n",
    "    except Exception as e:\n",
    "        raise e\n",
    "        \n",
    "def aqg(line):              # print question for the given line\n",
    "    \n",
    "    \n",
    "\n",
    "    bucket = {}   #empty dict to store tags\n",
    "    \n",
    "    if type(line) is str:\n",
    "        line = TextBlob(line)\n",
    "    \n",
    "    for i,j in enumerate(line.tags):\n",
    "        if j[1] not in bucket:\n",
    "            bucket[j[1]]=i\n",
    "\n",
    "\n",
    "#part(content)   \n",
    "    question = ''\n",
    "    \n",
    "##list of tag combinations used for \"WHAT\" Questions:\n",
    "    c1 = ['NNP', 'VBG', 'VBZ', 'IN']\n",
    "    c2 = ['NNP', 'VBG', 'VBZ']\n",
    "    c3 = ['PRP', 'VBG', 'VBZ', 'IN']\n",
    "    c4 = ['PRP', 'VBG', 'VBZ']\n",
    "    c5 = ['PRP', 'VBG', 'VBD']\n",
    "    c6 = ['NNP', 'VBG', 'VBD']\n",
    "    c7 = ['NN', 'VBG', 'VBZ']\n",
    "    c8 = ['NNP', 'VBZ', 'JJ']\n",
    "    c9 = ['NNP', 'VBZ', 'NN']\n",
    "    c10 = ['NNP', 'VBZ']\n",
    "    c11 = ['PRP', 'VBZ']\n",
    "    c12 = ['NNP', 'NN', 'IN']\n",
    "    c13 = ['NN', 'VBZ']\n",
    "    \n",
    "    if all(key in bucket for key in c1): #'NNP', 'VBG', 'VBZ', 'IN' in sentence.\n",
    "        question = 'What' + ' ' + line.words[bucket['VBZ']] +' '+ line.words[bucket['NNP']]+ ' '+ line.words[bucket['VBG']] + '?'\n",
    "    elif all(key in  bucket for key in c2): #'NNP', 'VBG', 'VBZ' in sentence.\n",
    "        question = 'What' + ' ' + line.words[bucket['VBZ']] +' '+ line.words[bucket['NNP']] +' '+ line.words[bucket['VBG']] + '?'\n",
    "\n",
    "    \n",
    "    elif all(key in  bucket for key in c3): #'PRP', 'VBG', 'VBZ', 'IN' in sentence.\n",
    "        question = 'What' + ' ' + line.words[bucket['VBZ']] +' '+ line.words[bucket['PRP']]+ ' '+ line.words[bucket['VBG']] + '?'\n",
    "\n",
    "    \n",
    "    elif all(key in  bucket for key in c4): #'PRP', 'VBG', 'VBZ' in sentence.\n",
    "        question = 'What ' + line.words[bucket['PRP']] +' '+  ' does ' + line.words[bucket['VBG']]+ ' '+  line.words[bucket['VBG']] + '?'\n",
    "\n",
    "    elif all(key in  bucket for key in c7): #'NN', 'VBG', 'VBZ' in sentence.\n",
    "        question = 'What' + ' ' + line.words[bucket['VBZ']] +' '+ line.words[bucket['NN']] +' '+ line.words[bucket['VBG']] + '?'\n",
    "\n",
    "    elif all(key in bucket for key in c8): #'NNP', 'VBZ', 'JJ' in sentence.\n",
    "        question = 'What' + ' ' + line.words[bucket['VBZ']] + ' ' + line.words[bucket['NNP']] + '?'\n",
    "\n",
    "    elif all(key in bucket for key in c9): #'NNP', 'VBZ', 'NN' in sentence\n",
    "        question = 'What' + ' ' + line.words[bucket['VBZ']] + ' ' + line.words[bucket['NNP']] + '?'\n",
    "\n",
    "    elif all(key in bucket for key in c11): #'PRP', 'VBZ' in sentence.\n",
    "        if line.words[bucket['PRP']] in ['she','he']:\n",
    "            question = 'What' + ' does ' + line.words[bucket['PRP']].lower() + ' ' + line.words[bucket['VBZ']].singularize() + '?'\n",
    "\n",
    "    elif all(key in bucket for key in c10): #'NNP', 'VBZ' in sentence.\n",
    "        question = 'What' + ' does ' + line.words[bucket['NNP']] + ' ' + line.words[bucket['VBZ']].singularize() + '?'\n",
    "\n",
    "    elif all(key in bucket for key in c13): #'NN', 'VBZ' in sentence.\n",
    "        question = 'What' + ' ' + line.words[bucket['VBZ']] + ' ' + line.words[bucket['NN']] + '?'\n",
    "\n",
    "  \n",
    "    if question != '':\n",
    "        print(\"\\n question: \"+question)\n",
    "        \n",
    "part(content)"
   ]
  },
  {
   "cell_type": "code",
   "execution_count": null,
   "metadata": {},
   "outputs": [],
   "source": []
  },
  {
   "cell_type": "code",
   "execution_count": null,
   "metadata": {},
   "outputs": [],
   "source": []
  }
 ],
 "metadata": {
  "kernelspec": {
   "display_name": "Python 3",
   "language": "python",
   "name": "python3"
  },
  "language_info": {
   "codemirror_mode": {
    "name": "ipython",
    "version": 3
   },
   "file_extension": ".py",
   "mimetype": "text/x-python",
   "name": "python",
   "nbconvert_exporter": "python",
   "pygments_lexer": "ipython3",
   "version": "3.8.3"
  }
 },
 "nbformat": 4,
 "nbformat_minor": 4
}
