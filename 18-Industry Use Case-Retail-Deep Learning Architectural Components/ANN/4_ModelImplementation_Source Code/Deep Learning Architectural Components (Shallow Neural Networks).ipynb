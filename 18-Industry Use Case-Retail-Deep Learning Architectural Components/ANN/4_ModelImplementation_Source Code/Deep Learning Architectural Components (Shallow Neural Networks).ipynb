{
 "cells": [
  {
   "cell_type": "markdown",
   "metadata": {},
   "source": [
    "# Machine Learning"
   ]
  },
  {
   "cell_type": "markdown",
   "metadata": {},
   "source": [
    "Machine learning (“ML“) is the scientific study of algorithms and statistical models that computer systems use to perform a specific task without using explicit instructions, relying instead on patterns and inference derived from data. In Simple terms Machine Learning is teaching the machine or the software to learn it self or it is an art of mimicking the human intelligence  "
   ]
  },
  {
   "cell_type": "markdown",
   "metadata": {},
   "source": [
    "# Deep Learning "
   ]
  },
  {
   "cell_type": "markdown",
   "metadata": {},
   "source": [
    "Deep learning ( “DL“) is a subtype of machine learning. DL can process a wider range of data resources, requires less data preprocessing by humans (e.g. feature labelling), and can sometimes produce more accurate results than traditional ML approaches (although it requires a larger amount of data to do so). However, it is computationally more expensive in time to execute, hardware costs and data quantities."
   ]
  },
  {
   "cell_type": "markdown",
   "metadata": {},
   "source": [
    "# Woking of Machine Learning and Deep Learning"
   ]
  },
  {
   "cell_type": "markdown",
   "metadata": {},
   "source": [
    "<img src = \"http://deepsphere.ai/Demo/ML vs DL.png\">"
   ]
  },
  {
   "cell_type": "markdown",
   "metadata": {},
   "source": [
    "# Architecture of Neural Networks"
   ]
  },
  {
   "cell_type": "markdown",
   "metadata": {},
   "source": [
    "<img src = \"http://deepsphere.ai/Demo/DLAC.png\">"
   ]
  },
  {
   "cell_type": "markdown",
   "metadata": {},
   "source": [
    "# Neurons"
   ]
  },
  {
   "cell_type": "markdown",
   "metadata": {},
   "source": [
    "O  A Neural Netwok in made of an artificial interconnectors called a s Nuerons. They are the building block of the Neural Networks like the biological neuron of the human brain cells.\n",
    "\n",
    "O  The idea is to replicate an abstracted understanding of how we believe the human brain might process similar information and learn from its surroundings and sensory input.\n"
   ]
  },
  {
   "cell_type": "markdown",
   "metadata": {},
   "source": [
    "<img src = \"http://deepsphere.ai/Demo/Neurons.png\">"
   ]
  },
  {
   "cell_type": "markdown",
   "metadata": {},
   "source": [
    "# Layers"
   ]
  },
  {
   "cell_type": "markdown",
   "metadata": {},
   "source": [
    "<img src = \"http://deepsphere.ai/Demo/Layers.png\">"
   ]
  },
  {
   "cell_type": "markdown",
   "metadata": {},
   "source": [
    "An Artificial Neural Network is made up of 3 components or inconnected layers namely\n",
    "\n",
    "1. Input Layer\n",
    "2. Hidden (computation) Layers\n",
    "3. Output Layer\n"
   ]
  },
  {
   "cell_type": "markdown",
   "metadata": {},
   "source": [
    "# Input Layer"
   ]
  },
  {
   "cell_type": "markdown",
   "metadata": {},
   "source": [
    "<img src = \"http://deepsphere.ai/Demo/Input_Layer.png\">"
   ]
  },
  {
   "cell_type": "markdown",
   "metadata": {},
   "source": [
    "O  Input Layer: They receive input from an external source or other nodes. \n",
    "\n",
    "O  Each node is connected with another node from the next layer, and each such connection has a particular weight. Weights are assigned to a neuron based on its relative importance against other inputs."
   ]
  },
  {
   "cell_type": "markdown",
   "metadata": {},
   "source": [
    "# Hidden Layer"
   ]
  },
  {
   "cell_type": "markdown",
   "metadata": {},
   "source": [
    "<img src = \"http://deepsphere.ai/Demo/Hidden_Layer.png\">"
   ]
  },
  {
   "cell_type": "markdown",
   "metadata": {},
   "source": [
    "O  The layer or layers hidden between the input and output layer is known as the hidden layer. \n",
    "\n",
    "O  It is called the hidden layer since it is always hidden from the external world. The main computation of a Neural Network takes place in the hidden layers. So, the hidden layer takes all the inputs from the input layer and performs the necessary calculation to generate a result. \n",
    "\n",
    "O  This result is then forwarded to the output layer so that the user can view the result of the computation.\n",
    "\n",
    "O  When all the node values from the yellow layer are multiplied (along with their weight) and summarized, it generates a value for the first hidden layer. \n",
    "\n",
    "O  Based on the summarized value, the blue layer has a predefined “activation” function that determines whether or not this node will be “activated” and how “active” it will be."
   ]
  },
  {
   "cell_type": "markdown",
   "metadata": {},
   "source": [
    "# Output Layer"
   ]
  },
  {
   "cell_type": "markdown",
   "metadata": {},
   "source": [
    "<img src = \"http://deepsphere.ai/Demo/Output_Layer.png\">"
   ]
  },
  {
   "cell_type": "markdown",
   "metadata": {},
   "source": [
    "# Multi Layer Perceptron  "
   ]
  },
  {
   "cell_type": "markdown",
   "metadata": {},
   "source": [
    "O A Multi Layer perceptron (MLP) is a class of feed forward artificial neural network. \n",
    "\n",
    "O A Multi Layer perceptron consists of at least three layers of nodes: an input layer, a hidden layer and an output layer. Except for the input nodes, each node is a neuron that uses a nonlinear activation function. \n",
    "\n",
    "O Multi Layer perceptron  utilizes a supervised learning technique called back propagation for training."
   ]
  },
  {
   "cell_type": "markdown",
   "metadata": {},
   "source": [
    "<img src = \"http://deepsphere.ai/Demo/Layers.png\">"
   ]
  },
  {
   "cell_type": "markdown",
   "metadata": {},
   "source": [
    "# Weight & Biases"
   ]
  },
  {
   "cell_type": "markdown",
   "metadata": {},
   "source": [
    "O Weights and biases (commonly referred to as w and b) are the learnable parameters of a machine learning model. \n",
    "\n",
    "O Each neuron in a layer and is connected to each neuron in the next layer.  When the inputs are transmitted between neurons, the weights are applied to the inputs along with the bias."
   ]
  },
  {
   "cell_type": "markdown",
   "metadata": {},
   "source": [
    "<img src = \"http://deepsphere.ai/Demo/Weight.png\">"
   ]
  },
  {
   "cell_type": "markdown",
   "metadata": {},
   "source": [
    "<img src = \"http://deepsphere.ai/Demo/Weight_Bias.png\">"
   ]
  },
  {
   "cell_type": "markdown",
   "metadata": {},
   "source": [
    "# Weight"
   ]
  },
  {
   "cell_type": "markdown",
   "metadata": {},
   "source": [
    "Weights control the signal (or the strength of the connection) between two neurons.  In other words, a weight decides how much influence the input will have on the output."
   ]
  },
  {
   "cell_type": "markdown",
   "metadata": {},
   "source": [
    "# Bias"
   ]
  },
  {
   "cell_type": "markdown",
   "metadata": {},
   "source": [
    "Biases, which are constant, are an additional input into the next layer that will always have the value of 1.  Bias units are not influenced by the previous layer (they do not have any incoming connections) but they do have outgoing connections with their own weights.  The bias unit guarantees that even when all the inputs are zeros there will still be an activation in the neuron."
   ]
  },
  {
   "cell_type": "markdown",
   "metadata": {},
   "source": [
    "# Activation Function"
   ]
  },
  {
   "cell_type": "markdown",
   "metadata": {},
   "source": [
    "O An activation function is a function that is added into an artificial neural network in order to help the network learn complex patterns in the data. \n",
    "\n",
    "O When comparing with a neuron-based model that is in our brains, the activation function is at the end deciding what is to be fired to the next neuron. \n",
    "\n",
    "O That is exactly what an activation function does in an ANN as well. It takes in the output signal from the previous cell and converts it into some form that can be taken as input to the next cell. \n",
    "\n",
    "O It is the Activation function that induces non-linearity in the network so that the model understands the complex pattern in the dataset"
   ]
  },
  {
   "cell_type": "markdown",
   "metadata": {},
   "source": [
    "# Sigmoid Activation Function"
   ]
  },
  {
   "cell_type": "markdown",
   "metadata": {},
   "source": [
    "O It is one of the most widely used non-linear activation function. Sigmoid transforms the values between the range 0 and 1 \n",
    "\n",
    "O A noteworthy point here is that unlike the binary step and linear functions, sigmoid is a non-linear function. \n",
    "\n",
    "O This essentially means -when I have multiple neurons having sigmoid function as their activation function,the output is non linear as well."
   ]
  },
  {
   "cell_type": "markdown",
   "metadata": {},
   "source": [
    "<img src = \"http://deepsphere.ai/Demo/Sigmoid.png\">"
   ]
  },
  {
   "cell_type": "markdown",
   "metadata": {},
   "source": [
    "# Forward Propagation"
   ]
  },
  {
   "cell_type": "markdown",
   "metadata": {},
   "source": [
    "O From the word Forward Propagation forward implies moving ahead and propagation is a  term for saying spreading of anything. forward propagation means we are moving in only one direction, from input to the output, in a neural network. \n",
    "\n",
    "O Think of it as moving across time, where we have no option but to forge ahead, and just hope our mistakes don’t come back to haunt us.\n",
    "\n",
    "O In other words Forward propagation (or forward pass) refers to the calculation and storage of intermediate variables (including outputs) for a neural network in order from the input layer to the output layer. "
   ]
  },
  {
   "cell_type": "markdown",
   "metadata": {},
   "source": [
    "Steps in Foward Propagation\n",
    "\n",
    "O Randomly initialize weights w1, w2, w3\n",
    "\n",
    "O Data at input layer is multiplied with weights to form hidden layer\n",
    "\n",
    "h1 = (x1 * w1) + (x2 * w1)\n",
    "h2 = (x1 * w2) + (x2 * w2)\n",
    "h3 = (x1 * w3) + (x2 * w3)\n",
    "\n",
    "O Output of hidden layer is passed through a non-linear function also known as activation function to form guessed output\n",
    "y_ = fn( h1 , h2, h3 )"
   ]
  },
  {
   "cell_type": "markdown",
   "metadata": {},
   "source": [
    "<img src = \"http://deepsphere.ai/Demo/Forward Propagation.png\">"
   ]
  },
  {
   "cell_type": "markdown",
   "metadata": {},
   "source": [
    "# Learning Rate"
   ]
  },
  {
   "cell_type": "markdown",
   "metadata": {},
   "source": [
    "O The amount that the weights are updated during training is referred to as the step size or the “learning rate.”\n",
    "\n",
    "O Specifically, the learning rate is a configurable hyperparameter used in the training of neural networks that has a small positive value, often in the range between 0.0 and 1.0.\n",
    "\n",
    "O The learning rate controls how quickly the model is adapted to the problem. Smaller learning rates require more training epochs given the smaller changes made to the weights each update, whereas larger learning rates result in rapid changes and require fewer training epochs.\n",
    "\n",
    "O A learning rate that is too large can cause the model to converge too quickly to a suboptimal solution, whereas a learning rate that is too small can cause the process to get stuck."
   ]
  },
  {
   "cell_type": "markdown",
   "metadata": {},
   "source": [
    "# Batches, Epochs and Iterations"
   ]
  },
  {
   "cell_type": "markdown",
   "metadata": {},
   "source": [
    "Batches\n",
    "\n",
    "O The Batch Size is a number of samples processed before the model is updated.\n",
    "\n",
    "O The size of a batch must be more than or equal to one and less than or equal to the number of samples in the training dataset.\n",
    "\n",
    "\n",
    "Epochs\n",
    "\n",
    "O The number of epochs is the number of complete passes through the training dataset.\n",
    "\n",
    "O The number of epochs can be set to an integer value between one and infinity. You can run the algorithm for as long as you like and even stop it using other criteria besides a fixed number of epochs, such as a change (or lack of change) in model error over time.\n",
    "\n",
    "\n",
    "\n",
    "Iterations\n",
    "\n",
    "O Iterations is the number of batches needed to complete one epoch.\n",
    "\n",
    "\n",
    "Example When We can divide the dataset of 2000 examples into batches of 500 then it will take 4 iterations to complete 1 epoch. The Batch Size is 500 and Iterations is 4, for 1 complete epoch."
   ]
  },
  {
   "cell_type": "markdown",
   "metadata": {},
   "source": [
    "# Backward Propagation"
   ]
  },
  {
   "cell_type": "markdown",
   "metadata": {},
   "source": [
    "O Back-propagation is the essence of neural net training. \n",
    "\n",
    "O It is the method of fine-tuning the weights of a neural net based on the error rate obtained in the previous epoch (i.e., iteration). Proper tuning of the weights allows you to reduce error rates and to make the model reliable by increasing its generalization.\n",
    "\n",
    "O Backpropagation is a short form for \"backward propagation of errors.\" It is a standard method of training artificial neural networks. This method helps to calculate the gradient of a loss function with respects to all the weights in the network."
   ]
  },
  {
   "cell_type": "markdown",
   "metadata": {},
   "source": [
    "<img src = \"http://deepsphere.ai/Demo/Backward Propagation.png\">"
   ]
  },
  {
   "cell_type": "markdown",
   "metadata": {},
   "source": [
    "<img src = \"http://deepsphere.ai/Demo/Backward Propagation1.png\">"
   ]
  },
  {
   "cell_type": "markdown",
   "metadata": {},
   "source": [
    "# Cost Function"
   ]
  },
  {
   "cell_type": "markdown",
   "metadata": {},
   "source": [
    "O A cost function is a measure of error between what value your model predicts and what the value actually is. For example, say we wish to predict the value yi for data point xi.\n",
    "\n",
    "O A cost function represents the prediction or output of some arbitrary model for the point xi with parameters θ. \n",
    "\n",
    "O One of the many cost functions could be L2 loss. Training the hypothetical model we stated above would be the process of finding the θ that minimizes the Sum"
   ]
  },
  {
   "cell_type": "markdown",
   "metadata": {},
   "source": [
    "<img src = \"http://deepsphere.ai/Demo/Cost Function.png\">"
   ]
  },
  {
   "cell_type": "markdown",
   "metadata": {},
   "source": [
    "# Gradient Descent"
   ]
  },
  {
   "cell_type": "markdown",
   "metadata": {},
   "source": [
    "O Gradient Descent is a process that occurs in the backpropagation phase where the goal is to continuously resample the gradient of the model’s parameter in the opposite direction based on the weight w, updating consistently until we reach the global minimum of function J(w).\n",
    "\n",
    "O To put it simply, we use gradient descent to minimize the cost function, J(w).\n",
    "\n",
    "O The gradient descent process is exhibited in the form of the backpropagation step where we compute the error vectors δ backward, starting from the final layer. \n",
    "\n",
    "O Depending upon the activation function, we identify how much change is required by much change is required by taking the partial derivative of the function with respect to w. \n",
    "\n",
    "O The change value gets multiplied by the learning rate. As part of the output, we subtract this value from the previous output to get the updated value. We continue this till we reach convergence."
   ]
  },
  {
   "cell_type": "markdown",
   "metadata": {},
   "source": [
    "<img src = \"http://deepsphere.ai/Demo/Gradient Descent.png\">"
   ]
  },
  {
   "cell_type": "markdown",
   "metadata": {},
   "source": [
    "# Neural Networks Prediction of the Outcome"
   ]
  },
  {
   "cell_type": "markdown",
   "metadata": {},
   "source": [
    "<img src = \"http://deepsphere.ai/Demo/NN.gif\">"
   ]
  },
  {
   "cell_type": "markdown",
   "metadata": {},
   "source": [
    "# Steps of Implementation"
   ]
  },
  {
   "cell_type": "code",
   "execution_count": 3,
   "metadata": {},
   "outputs": [
    {
     "name": "stdout",
     "output_type": "stream",
     "text": [
      "C:/AI/Hand Written Digits/DL/TRAINING DATA/\n",
      "C:/AI/Hand Written Digits/DL/TRAINING DATA/\n",
      "C:/AI/Architectural Components/DL/ANN/TEMP/Image_features_df.csv\n",
      "C:/AI/Architectural Components/DL/ANN/TEMP/Image_labels_df.csv\n",
      "C:/AI/Architectural Components/DL/ANN/TEMP/Image_feature_labels_df.csv\n",
      "C:/AI/Architectural Components/DL/ANN/TEMP/Image_Test_features_df.csv\n",
      "C:/AI/Architectural Components/DL/ANN/MODEL OUTCOME/Model_Outcome_Digits_Classification.xlsx\n"
     ]
    }
   ],
   "source": [
    "### ********************************************************************************\n",
    "\n",
    "## Step 1: INI File Configuration\n",
    "\n",
    "#********************************************************************************\n",
    "\n",
    "# Importing the configparser library\n",
    "\n",
    "import configparser\n",
    "\n",
    "# Importing the OS library\n",
    "\n",
    "import os\n",
    "\n",
    "#********************************************************************************\n",
    "\n",
    "## Some configuration files are known to include settings without values, \n",
    "\n",
    "## The allow_no_value parameter to the constructor can be used to indicate that such values should be accepted:\n",
    "\n",
    "vAR_Config = configparser.ConfigParser(allow_no_value=True)\n",
    "\n",
    "#********************************************************************************\n",
    "\n",
    "## Reading the .INI File  and its sections through the set environment variable\n",
    "\n",
    "vAR_INI_FILE_PATH = os.getenv('HAND_WRITTEN_DIGITS_INI_DL')\n",
    "#print(vAR_INI_FILE_PATH)\n",
    "\n",
    "vAR_Config.read(vAR_INI_FILE_PATH)\n",
    "\n",
    "vAR_Data = vAR_Config.sections()\n",
    "\n",
    "vAR_Config.sections()\n",
    "\n",
    "#********************************************************************************\n",
    "\n",
    "## Reading the Training Data Path\n",
    "\n",
    "vAR_Training_Data_Path = vAR_Config['FILE PATH']['TRAINING_DATA_PATH']\n",
    "print(vAR_Training_Data_Path)\n",
    "\n",
    "#********************************************************************************\n",
    "\n",
    "## Reading the Test Data Path\n",
    "\n",
    "vAR_Test_Data_Path = vAR_Config['FILE PATH']['TEST_DATA_PATH']\n",
    "print(vAR_Training_Data_Path)\n",
    "\n",
    "vAR_Image_Features =  vAR_Config['FILE PATH']['IMAGE_FEATURES1']\n",
    "print(vAR_Image_Features)\n",
    "\n",
    "vAR_Image_Labels =  vAR_Config['FILE PATH']['IMAGE_LABELS1']\n",
    "print(vAR_Image_Labels)\n",
    "\n",
    "vAR_Image_Feature_Labels =  vAR_Config['FILE PATH']['IMAGE_FEATURES_LABELS1']\n",
    "print(vAR_Image_Feature_Labels)\n",
    "\n",
    "vAR_Image_Features_Test =  vAR_Config['FILE PATH']['IMAGE_FEATURES_TEST1']\n",
    "print(vAR_Image_Features_Test)\n",
    "\n",
    "#********************************************************************************\n",
    "\n",
    "## Reading the Model Outcome Path\n",
    "\n",
    "vAR_Model_Outcome =  vAR_Config['FILE PATH']['MODEL_OUTCOME_ANN']\n",
    "print(vAR_Model_Outcome)\n",
    "\n",
    "#********************************************************************************\n",
    "    \n",
    "## Step 2: Importing the Required Libraries\n",
    "\n",
    "#********************************************************************************\n",
    "\n",
    "import pandas as pd\n",
    "\n",
    "import numpy as np\n",
    "\n",
    "import os\n",
    "\n",
    "import cv2\n",
    "\n",
    "import keras \n",
    "\n",
    "from keras.layers import Dense \n",
    "\n",
    "from keras.models import Sequential\n",
    "\n",
    "from keras import optimizers\n",
    "\n",
    "import tensorflow as tf\n",
    "\n",
    "import datetime\n"
   ]
  },
  {
   "cell_type": "code",
   "execution_count": null,
   "metadata": {},
   "outputs": [],
   "source": [
    "\n",
    "    #********************************************************************************\n",
    "\n",
    "    ## Step 3: Importing the Training Data\n",
    "\n",
    "    #********************************************************************************\n",
    "\n",
    "    vAR_TRAINING_DATA_PATH = vAR_Training_Data_Path\n",
    "\n",
    "    for vAR_img in os.listdir(vAR_TRAINING_DATA_PATH):\n",
    "\n",
    "        vAR_img_array = cv2.imread(os.path.join(vAR_TRAINING_DATA_PATH,vAR_img),cv2.IMREAD_GRAYSCALE)\n",
    "\n",
    "        vAR_RESIZED_img = cv2.resize(vAR_img_array,(28,28))\n",
    "\n",
    "        vAR_Image_Flattened = vAR_RESIZED_img.reshape(1,-1)\n",
    "\n",
    "        with open(vAR_Image_Features, 'ab') as vAR_f:\n",
    "\n",
    "            np.savetxt(vAR_f, vAR_Image_Flattened, delimiter=',')\n",
    "\n",
    "    #*************************************************************************************************************************#        \n",
    "\n",
    "    vAR_IMG = os.listdir(path=vAR_TRAINING_DATA_PATH) \n",
    "\n",
    "    vAR_IMG = np.array(vAR_IMG)\n",
    "\n",
    "    vAR_IMG = vAR_IMG.reshape(-1,1)\n",
    "\n",
    "    #img_split = os.listdir().split('.')\n",
    "\n",
    "    vAR_Image_labels_df = pd.DataFrame(vAR_IMG,columns=[('Label')])\n",
    "\n",
    "    #************************************************************************************************\n",
    "\n",
    "    # Saving Image Labels Pixel as File\n",
    "\n",
    "    vAR_Image_labels_df = vAR_Image_labels_df.to_csv(vAR_Image_Labels,index=None)\n",
    "\n",
    "    vAR_Image_labels_df = pd.read_csv(vAR_Image_Labels)\n",
    "\n",
    "    vAR_Image_labels_df = vAR_Image_labels_df.iloc[0:100]\n",
    "\n",
    "    vAR_Image_labels_df = vAR_Image_labels_df['Label'].str[:1]\n",
    "\n",
    "    vAR_Image_labels_df = pd.DataFrame(vAR_Image_labels_df)\n",
    "\n",
    "    vAR_Image_labels_df = vAR_Image_labels_df.to_csv(vAR_Image_Labels,index=None)\n",
    "\n",
    "    vAR_Image_labels_df = pd.read_csv(vAR_Image_Labels)\n",
    "\n",
    "\n",
    "    #************************************************************************************************\n",
    "\n",
    "    # Saving Image Features Pixel as a File\n",
    "\n",
    "    vAR_Image_features_df = pd.read_csv(vAR_Image_Features)\n",
    "\n",
    "    vAR_Image_features_df.columns = [\"1x1\",\"1x2\",\"1x3\",\"1x4\",\"1x5\",\"1x6\",\"1x7\",\"1x8\",\"1x9\",\"1x10\",\"1x11\",\"1x12\",\"1x13\",\"1x14\",\"1x15\",\"1x16\",\"1x17\",\"1x18\",\"1x19\",\"1x20\",\"1x21\",\"1x22\",\"1x23\",\"1x24\",\"1x25\",\"1x26\",\"1x27\",\"1x28\",\"2x1\",\"2x2\",\"2x3\",\"2x4\",\"2x5\",\"2x6\",\"2x7\",\"2x8\",\"2x9\",\"2x10\",\"2x11\",\"2x12\",\"2x13\",\"2x14\",\"2x15\",\"2x16\",\"2x17\",\"2x18\",\"2x19\",\"2x20\",\"2x21\",\"2x22\",\"2x23\",\"2x24\",\"2x25\",\"2x26\",\"2x27\",\"2x28\",\"3x1\",\"3x2\",\"3x3\",\"3x4\",\"3x5\",\"3x6\",\"3x7\",\"3x8\",\"3x9\",\"3x10\",\"3x11\",\"3x12\",\"3x13\",\"3x14\",\"3x15\",\"3x16\",\"3x17\",\"3x18\",\"3x19\",\"3x20\",\"3x21\",\"3x22\",\"3x23\",\"3x24\",\"3x25\",\"3x26\",\"3x27\",\"3x28\",\"4x1\",\"4x2\",\"4x3\",\"4x4\",\"4x5\",\"4x6\",\"4x7\",\"4x8\",\"4x9\",\"4x10\",\"4x11\",\"4x12\",\"4x13\",\"4x14\",\"4x15\",\"4x16\",\"4x17\",\"4x18\",\"4x19\",\"4x20\",\"4x21\",\"4x22\",\"4x23\",\"4x24\",\"4x25\",\"4x26\",\"4x27\",\"4x28\",\"5x1\",\"5x2\",\"5x3\",\"5x4\",\"5x5\",\"5x6\",\"5x7\",\"5x8\",\"5x9\",\"5x10\",\"5x11\",\"5x12\",\"5x13\",\"5x14\",\"5x15\",\"5x16\",\"5x17\",\"5x18\",\"5x19\",\"5x20\",\"5x21\",\"5x22\",\"5x23\",\"5x24\",\"5x25\",\"5x26\",\"5x27\",\"5x28\",\"6x1\",\"6x2\",\"6x3\",\"6x4\",\"6x5\",\"6x6\",\"6x7\",\"6x8\",\"6x9\",\"6x10\",\"6x11\",\"6x12\",\"6x13\",\"6x14\",\"6x15\",\"6x16\",\"6x17\",\"6x18\",\"6x19\",\"6x20\",\"6x21\",\"6x22\",\"6x23\",\"6x24\",\"6x25\",\"6x26\",\"6x27\",\"6x28\",\"7x1\",\"7x2\",\"7x3\",\"7x4\",\"7x5\",\"7x6\",\"7x7\",\"7x8\",\"7x9\",\"7x10\",\"7x11\",\"7x12\",\"7x13\",\"7x14\",\"7x15\",\"7x16\",\"7x17\",\"7x18\",\"7x19\",\"7x20\",\"7x21\",\"7x22\",\"7x23\",\"7x24\",\"7x25\",\"7x26\",\"7x27\",\"7x28\",\"8x1\",\"8x2\",\"8x3\",\"8x4\",\"8x5\",\"8x6\",\"8x7\",\"8x8\",\"8x9\",\"8x10\",\"8x11\",\"8x12\",\"8x13\",\"8x14\",\"8x15\",\"8x16\",\"8x17\",\"8x18\",\"8x19\",\"8x20\",\"8x21\",\"8x22\",\"8x23\",\"8x24\",\"8x25\",\"8x26\",\"8x27\",\"8x28\",\"9x1\",\"9x2\",\"9x3\",\"9x4\",\"9x5\",\"9x6\",\"9x7\",\"9x8\",\"9x9\",\"9x10\",\"9x11\",\"9x12\",\"9x13\",\"9x14\",\"9x15\",\"9x16\",\"9x17\",\"9x18\",\"9x19\",\"9x20\",\"9x21\",\"9x22\",\"9x23\",\"9x24\",\"9x25\",\"9x26\",\"9x27\",\"9x28\",\"10x1\",\"10x2\",\"10x3\",\"10x4\",\"10x5\",\"10x6\",\"10x7\",\"10x8\",\"10x9\",\"10x10\",\"10x11\",\"10x12\",\"10x13\",\"10x14\",\"10x15\",\"10x16\",\"10x17\",\"10x18\",\"10x19\",\"10x20\",\"10x21\",\"10x22\",\"10x23\",\"10x24\",\"10x25\",\"10x26\",\"10x27\",\"10x28\",\"11x1\",\"11x2\",\"11x3\",\"11x4\",\"11x5\",\"11x6\",\"11x7\",\"11x8\",\"11x9\",\"11x10\",\"11x11\",\"11x12\",\"11x13\",\"11x14\",\"11x15\",\"11x16\",\"11x17\",\"11x18\",\"11x19\",\"11x20\",\"11x21\",\"11x22\",\"11x23\",\"11x24\",\"11x25\",\"11x26\",\"11x27\",\"11x28\",\"12x1\",\"12x2\",\"12x3\",\"12x4\",\"12x5\",\"12x6\",\"12x7\",\"12x8\",\"12x9\",\"12x10\",\"12x11\",\"12x12\",\"12x13\",\"12x14\",\"12x15\",\"12x16\",\"12x17\",\"12x18\",\"12x19\",\"12x20\",\"12x21\",\"12x22\",\"12x23\",\"12x24\",\"12x25\",\"12x26\",\"12x27\",\"12x28\",\"13x1\",\"13x2\",\"13x3\",\"13x4\",\"13x5\",\"13x6\",\"13x7\",\"13x8\",\"13x9\",\"13x10\",\"13x11\",\"13x12\",\"13x13\",\"13x14\",\"13x15\",\"13x16\",\"13x17\",\"13x18\",\"13x19\",\"13x20\",\"13x21\",\"13x22\",\"13x23\",\"13x24\",\"13x25\",\"13x26\",\"13x27\",\"13x28\",\"14x1\",\"14x2\",\"14x3\",\"14x4\",\"14x5\",\"14x6\",\"14x7\",\"14x8\",\"14x9\",\"14x10\",\"14x11\",\"14x12\",\"14x13\",\"14x14\",\"14x15\",\"14x16\",\"14x17\",\"14x18\",\"14x19\",\"14x20\",\"14x21\",\"14x22\",\"14x23\",\"14x24\",\"14x25\",\"14x26\",\"14x27\",\"14x28\",\"15x1\",\"15x2\",\"15x3\",\"15x4\",\"15x5\",\"15x6\",\"15x7\",\"15x8\",\"15x9\",\"15x10\",\"15x11\",\"15x12\",\"15x13\",\"15x14\",\"15x15\",\"15x16\",\"15x17\",\"15x18\",\"15x19\",\"15x20\",\"15x21\",\"15x22\",\"15x23\",\"15x24\",\"15x25\",\"15x26\",\"15x27\",\"15x28\",\"16x1\",\"16x2\",\"16x3\",\"16x4\",\"16x5\",\"16x6\",\"16x7\",\"16x8\",\"16x9\",\"16x10\",\"16x11\",\"16x12\",\"16x13\",\"16x14\",\"16x15\",\"16x16\",\"16x17\",\"16x18\",\"16x19\",\"16x20\",\"16x21\",\"16x22\",\"16x23\",\"16x24\",\"16x25\",\"16x26\",\"16x27\",\"16x28\",\"17x1\",\"17x2\",\"17x3\",\"17x4\",\"17x5\",\"17x6\",\"17x7\",\"17x8\",\"17x9\",\"17x10\",\"17x11\",\"17x12\",\"17x13\",\"17x14\",\"17x15\",\"17x16\",\"17x17\",\"17x18\",\"17x19\",\"17x20\",\"17x21\",\"17x22\",\"17x23\",\"17x24\",\"17x25\",\"17x26\",\"17x27\",\"17x28\",\"18x1\",\"18x2\",\"18x3\",\"18x4\",\"18x5\",\"18x6\",\"18x7\",\"18x8\",\"18x9\",\"18x10\",\"18x11\",\"18x12\",\"18x13\",\"18x14\",\"18x15\",\"18x16\",\"18x17\",\"18x18\",\"18x19\",\"18x20\",\"18x21\",\"18x22\",\"18x23\",\"18x24\",\"18x25\",\"18x26\",\"18x27\",\"18x28\",\"19x1\",\"19x2\",\"19x3\",\"19x4\",\"19x5\",\"19x6\",\"19x7\",\"19x8\",\"19x9\",\"19x10\",\"19x11\",\"19x12\",\"19x13\",\"19x14\",\"19x15\",\"19x16\",\"19x17\",\"19x18\",\"19x19\",\"19x20\",\"19x21\",\"19x22\",\"19x23\",\"19x24\",\"19x25\",\"19x26\",\"19x27\",\"19x28\",\"20x1\",\"20x2\",\"20x3\",\"20x4\",\"20x5\",\"20x6\",\"20x7\",\"20x8\",\"20x9\",\"20x10\",\"20x11\",\"20x12\",\"20x13\",\"20x14\",\"20x15\",\"20x16\",\"20x17\",\"20x18\",\"20x19\",\"20x20\",\"20x21\",\"20x22\",\"20x23\",\"20x24\",\"20x25\",\"20x26\",\"20x27\",\"20x28\",\"21x1\",\"21x2\",\"21x3\",\"21x4\",\"21x5\",\"21x6\",\"21x7\",\"21x8\",\"21x9\",\"21x10\",\"21x11\",\"21x12\",\"21x13\",\"21x14\",\"21x15\",\"21x16\",\"21x17\",\"21x18\",\"21x19\",\"21x20\",\"21x21\",\"21x22\",\"21x23\",\"21x24\",\"21x25\",\"21x26\",\"21x27\",\"21x28\",\"22x1\",\"22x2\",\"22x3\",\"22x4\",\"22x5\",\"22x6\",\"22x7\",\"22x8\",\"22x9\",\"22x10\",\"22x11\",\"22x12\",\"22x13\",\"22x14\",\"22x15\",\"22x16\",\"22x17\",\"22x18\",\"22x19\",\"22x20\",\"22x21\",\"22x22\",\"22x23\",\"22x24\",\"22x25\",\"22x26\",\"22x27\",\"22x28\",\"23x1\",\"23x2\",\"23x3\",\"23x4\",\"23x5\",\"23x6\",\"23x7\",\"23x8\",\"23x9\",\"23x10\",\"23x11\",\"23x12\",\"23x13\",\"23x14\",\"23x15\",\"23x16\",\"23x17\",\"23x18\",\"23x19\",\"23x20\",\"23x21\",\"23x22\",\"23x23\",\"23x24\",\"23x25\",\"23x26\",\"23x27\",\"23x28\",\"24x1\",\"24x2\",\"24x3\",\"24x4\",\"24x5\",\"24x6\",\"24x7\",\"24x8\",\"24x9\",\"24x10\",\"24x11\",\"24x12\",\"24x13\",\"24x14\",\"24x15\",\"24x16\",\"24x17\",\"24x18\",\"24x19\",\"24x20\",\"24x21\",\"24x22\",\"24x23\",\"24x24\",\"24x25\",\"24x26\",\"24x27\",\"24x28\",\"25x1\",\"25x2\",\"25x3\",\"25x4\",\"25x5\",\"25x6\",\"25x7\",\"25x8\",\"25x9\",\"25x10\",\"25x11\",\"25x12\",\"25x13\",\"25x14\",\"25x15\",\"25x16\",\"25x17\",\"25x18\",\"25x19\",\"25x20\",\"25x21\",\"25x22\",\"25x23\",\"25x24\",\"25x25\",\"25x26\",\"25x27\",\"25x28\",\"26x1\",\"26x2\",\"26x3\",\"26x4\",\"26x5\",\"26x6\",\"26x7\",\"26x8\",\"26x9\",\"26x10\",\"26x11\",\"26x12\",\"26x13\",\"26x14\",\"26x15\",\"26x16\",\"26x17\",\"26x18\",\"26x19\",\"26x20\",\"26x21\",\"26x22\",\"26x23\",\"26x24\",\"26x25\",\"26x26\",\"26x27\",\"26x28\",\"27x1\",\"27x2\",\"27x3\",\"27x4\",\"27x5\",\"27x6\",\"27x7\",\"27x8\",\"27x9\",\"27x10\",\"27x11\",\"27x12\",\"27x13\",\"27x14\",\"27x15\",\"27x16\",\"27x17\",\"27x18\",\"27x19\",\"27x20\",\"27x21\",\"27x22\",\"27x23\",\"27x24\",\"27x25\",\"27x26\",\"27x27\",\"27x28\",\"28x1\",\"28x2\",\"28x3\",\"28x4\",\"28x5\",\"28x6\",\"28x7\",\"28x8\",\"28x9\",\"28x10\",\"28x11\",\"28x12\",\"28x13\",\"28x14\",\"28x15\",\"28x16\",\"28x17\",\"28x18\",\"28x19\",\"28x20\",\"28x21\",\"28x22\",\"28x23\",\"28x24\",\"28x25\",\"28x26\",\"28x27\",\"28x28\"]\n",
    "\n",
    "    vAR_Image_features_df = vAR_Image_features_df.iloc[:]\n",
    "\n",
    "    #************************************************************************************************\n",
    "\n",
    "    # Concat Image features and lables\n",
    "\n",
    "    vAR_Image_feature_labels = pd.concat([vAR_Image_features_df,vAR_Image_labels_df],axis=1)\n",
    "\n",
    "    vAR_Image_feature_labels = vAR_Image_feature_labels.to_csv(vAR_Image_Feature_Labels,index=None)\n",
    "\n",
    "    vAR_Image_feature_labels = pd.read_csv(vAR_Image_Feature_Labels)\n",
    "\n",
    "    #*************************************************************************************************************************#\n",
    "\n",
    "    vAR_TRAINING_DATA_FEATURES = vAR_Image_feature_labels.iloc[:,0:784]\n",
    "\n",
    "    vAR_TRAINING_DATA_LABELS = vAR_Image_feature_labels.iloc[:,784]\n",
    "\n",
    "    #*************************************************************************************************************************#\n",
    "\n",
    "    vAR_X_TRAIN = np.asmatrix(vAR_TRAINING_DATA_FEATURES)\n",
    "\n",
    "    #*************************************************************************************************************************#\n",
    "\n",
    "    # feature normalization - scale pixel values to the range 0-1.\n",
    "\n",
    "    vAR_X_TRAIN = vAR_X_TRAIN.astype('float32')\n",
    "\n",
    "    vAR_X_TRAIN = vAR_X_TRAIN/255\n",
    "\n",
    "    #*************************************************************************************************************************#\n",
    "\n",
    "    # converting the labels into one hot encoding\n",
    "\n",
    "    ## Converts a class vector (integers) to binary class matrix. E.g. for use with categorical_crossentropy.\n",
    "\n",
    "    vAR_digits = 10\n",
    "\n",
    "    vAR_Y_TRAIN = keras.utils.to_categorical(vAR_TRAINING_DATA_LABELS, vAR_digits)\n"
   ]
  },
  {
   "cell_type": "markdown",
   "metadata": {},
   "source": [
    "# Neuron "
   ]
  },
  {
   "cell_type": "code",
   "execution_count": null,
   "metadata": {},
   "outputs": [],
   "source": [
    "#****************************************************************************************\n",
    "\n",
    "## Step-4 Creating the model using the sequential class (Linear stack of layers)\n",
    "\n",
    "#****************************************************************************************\n",
    "\n",
    "## The model type is Sequential an easiest way to build a model in Keras. \n",
    "## It allows you to build a model layer by layer. \n",
    "## Each layer has weights that correspond to the layer the follows it.\n",
    "\n",
    "vAR_model = Sequential()\n",
    "\n",
    "## Input Layer configuration\n",
    "\n",
    "## We use the ‘add()’ function to add layers to our model. We will add two layers and an output layer.\n",
    "\n",
    "vAR_model.add(Dense(units=10, activation = 'relu', input_dim = 784))\n",
    "\n",
    "## Hidden layer configuration\n",
    "\n",
    "vAR_model.add(Dense(units=10, activation = 'relu'))\n",
    "\n",
    "vAR_model.add(Dense(units=10, activation = 'relu'))\n",
    "\n",
    "vAR_model.add(Dense(units=10, activation = 'relu'))\n",
    "\n",
    "vAR_model.add(Dense(units=10, activation = 'relu'))\n",
    "\n",
    "## Output layer configuration\n",
    "\n",
    "vAR_model.add(Dense(output_dim = 10,activation = 'softmax'))\n",
    "\n",
    "vAR_model.summary()\n",
    "\n",
    "#********************************************************************************\n",
    "\n",
    "## Step 5: Training the Model\n",
    "\n",
    "#********************************************************************************\n",
    " \n",
    "from keras.callbacks import TensorBoard\n",
    "\n",
    "#indicate folder to save, plus other options\n",
    "\n",
    "vAR_tensorboard_callback = tf.keras.callbacks.TensorBoard(log_dir='C:/Users/durga/Tensorboard_ANN/logs')\n",
    "    \n",
    "#vAR_tensorboard = TensorBoard(log_dir='C:/Users/durga/tensorboard/logs1', write_graph=True, write_images=False)  \n",
    "\n",
    "#save it in your callback list\n",
    "\n",
    "#vAR_callbacks_list = [vAR_tensorboard]\n",
    "\n",
    "#then pass to fit as callback, remember to use validation_data also\n",
    "    \n",
    "vAR_learning_rate = 0.01\n",
    "\n",
    "vAR_sgd = optimizers.SGD(lr = vAR_learning_rate)\n",
    "\n",
    "## We need to compile our model. Compiling the model takes two parameters: optimizer and loss.\n",
    "## The optimizer controls the learning rate. \n",
    "## We will be using ‘adam’ as our optmizer. \n",
    "## The adam optimizer adjusts the learning rate throughout training.\n",
    "    \n",
    "vAR_model.compile(optimizer = 'sgd', loss = 'categorical_crossentropy', metrics = ['accuracy'])\n",
    "\n",
    "vAR_log_dir = \"C:/Users/durga/Tensorboard_ANN/logs\"\n",
    "\n",
    "#vAR_tensorboard_callback = tf.keras.callbacks.TensorBoard(log_dir=vAR_log_dir, histogram_freq=1)\n",
    "\n",
    "# feeding the training data to the model\n",
    "\n",
    "vAR_batch_size = 100\n",
    "    \n",
    "vAR_epochs = 500\n",
    "    \n",
    "vAR_model.fit(vAR_X_TRAIN, vAR_Y_TRAIN, batch_size = vAR_batch_size, epochs = vAR_epochs, verbose = 2, validation_data = None, callbacks=[vAR_tensorboard_callback])\n",
    "\n",
    "#********************************************************************************\n",
    "    "
   ]
  },
  {
   "cell_type": "markdown",
   "metadata": {},
   "source": [
    "# 20 Neurons in the Input Layers"
   ]
  },
  {
   "cell_type": "code",
   "execution_count": null,
   "metadata": {},
   "outputs": [],
   "source": [
    "#****************************************************************************************\n",
    "\n",
    "## Step-4 Creating the model using the sequential class (Linear stack of layers)\n",
    "\n",
    "#****************************************************************************************\n",
    "\n",
    "## The model type is Sequential an easiest way to build a model in Keras. \n",
    "## It allows you to build a model layer by layer. \n",
    "## Each layer has weights that correspond to the layer the follows it.\n",
    "\n",
    "vAR_model = Sequential()\n",
    "\n",
    "## Input Layer configuration\n",
    "\n",
    "## We use the ‘add()’ function to add layers to our model. We will add two layers and an output layer.\n",
    "\n",
    "vAR_model.add(Dense(units=20, activation = 'relu', input_dim = 784))\n",
    "\n",
    "## Hidden layer configuration\n",
    "\n",
    "vAR_model.add(Dense(units=20, activation = 'relu'))\n",
    "\n",
    "vAR_model.add(Dense(units=18, activation = 'relu'))\n",
    "\n",
    "vAR_model.add(Dense(units=14, activation = 'relu'))\n",
    "\n",
    "vAR_model.add(Dense(units=12, activation = 'relu'))\n",
    "\n",
    "## Output layer configuration\n",
    "\n",
    "vAR_model.add(Dense(output_dim = 10,activation = 'softmax'))\n",
    "\n",
    "vAR_model.summary()\n",
    "\n",
    "#********************************************************************************\n",
    "\n",
    "## Step 5: Training the Model\n",
    "\n",
    "#********************************************************************************\n",
    " \n",
    "from keras.callbacks import TensorBoard\n",
    "\n",
    "#indicate folder to save, plus other options\n",
    "\n",
    "vAR_tensorboard_callback = tf.keras.callbacks.TensorBoard(log_dir='C:/Users/durga/Tensorboard_ANN/logs')\n",
    "    \n",
    "#vAR_tensorboard = TensorBoard(log_dir='C:/Users/durga/tensorboard/logs1', write_graph=True, write_images=False)  \n",
    "\n",
    "#save it in your callback list\n",
    "\n",
    "#vAR_callbacks_list = [vAR_tensorboard]\n",
    "\n",
    "#then pass to fit as callback, remember to use validation_data also\n",
    "    \n",
    "vAR_learning_rate = 0.01\n",
    "\n",
    "vAR_sgd = optimizers.SGD(lr = vAR_learning_rate)\n",
    "\n",
    "## We need to compile our model. Compiling the model takes two parameters: optimizer and loss.\n",
    "## The optimizer controls the learning rate. \n",
    "## We will be using ‘adam’ as our optmizer. \n",
    "## The adam optimizer adjusts the learning rate throughout training.\n",
    "    \n",
    "vAR_model.compile(optimizer = 'sgd', loss = 'categorical_crossentropy', metrics = ['accuracy'])\n",
    "\n",
    "vAR_log_dir = \"C:/Users/durga/Tensorboard_ANN/logs\"\n",
    "\n",
    "#vAR_tensorboard_callback = tf.keras.callbacks.TensorBoard(log_dir=vAR_log_dir, histogram_freq=1)\n",
    "\n",
    "# feeding the training data to the model\n",
    "\n",
    "vAR_batch_size = 100\n",
    "    \n",
    "vAR_epochs = 499\n",
    "    \n",
    "vAR_model.fit(vAR_X_TRAIN, vAR_Y_TRAIN, batch_size = vAR_batch_size, epochs = vAR_epochs, verbose = 2, validation_data = None, callbacks=[vAR_tensorboard_callback])\n",
    "\n",
    "#********************************************************************************\n",
    "    "
   ]
  },
  {
   "cell_type": "markdown",
   "metadata": {},
   "source": [
    "# 30 Neurons in the Input Layers"
   ]
  },
  {
   "cell_type": "code",
   "execution_count": null,
   "metadata": {},
   "outputs": [],
   "source": [
    "#****************************************************************************************\n",
    "\n",
    "## Step-4 Creating the model using the sequential class (Linear stack of layers)\n",
    "\n",
    "#****************************************************************************************\n",
    "\n",
    "## The model type is Sequential an easiest way to build a model in Keras. \n",
    "## It allows you to build a model layer by layer. \n",
    "## Each layer has weights that correspond to the layer the follows it.\n",
    "\n",
    "vAR_model = Sequential()\n",
    "\n",
    "## Input Layer configuration\n",
    "\n",
    "## We use the ‘add()’ function to add layers to our model. We will add two layers and an output layer.\n",
    "\n",
    "vAR_model.add(Dense(units=30, activation = 'relu', input_dim = 784))\n",
    "\n",
    "## Hidden layer configuration\n",
    "\n",
    "vAR_model.add(Dense(units=30, activation = 'relu'))\n",
    "\n",
    "vAR_model.add(Dense(units=24, activation = 'relu'))\n",
    "\n",
    "vAR_model.add(Dense(units=16, activation = 'relu'))\n",
    "\n",
    "vAR_model.add(Dense(units=10, activation = 'relu'))\n",
    "\n",
    "## Output layer configuration\n",
    "\n",
    "vAR_model.add(Dense(output_dim = 10,activation = 'softmax'))\n",
    "\n",
    "vAR_model.summary()\n",
    "\n",
    "#********************************************************************************\n",
    "\n",
    "## Step 5: Training the Model\n",
    "\n",
    "#********************************************************************************\n",
    " \n",
    "from keras.callbacks import TensorBoard\n",
    "\n",
    "#indicate folder to save, plus other options\n",
    "\n",
    "vAR_tensorboard_callback = tf.keras.callbacks.TensorBoard(log_dir='C:/Users/durga/Tensorboard_ANN/logs')\n",
    "    \n",
    "#vAR_tensorboard = TensorBoard(log_dir='C:/Users/durga/tensorboard/logs1', write_graph=True, write_images=False)  \n",
    "\n",
    "#save it in your callback list\n",
    "\n",
    "#vAR_callbacks_list = [vAR_tensorboard]\n",
    "\n",
    "#then pass to fit as callback, remember to use validation_data also\n",
    "    \n",
    "vAR_learning_rate = 0.01\n",
    "\n",
    "vAR_sgd = optimizers.SGD(lr = vAR_learning_rate)\n",
    "\n",
    "## We need to compile our model. Compiling the model takes two parameters: optimizer and loss.\n",
    "## The optimizer controls the learning rate. \n",
    "## We will be using ‘adam’ as our optmizer. \n",
    "## The adam optimizer adjusts the learning rate throughout training.\n",
    "    \n",
    "vAR_model.compile(optimizer = 'sgd', loss = 'categorical_crossentropy', metrics = ['accuracy'])\n",
    "\n",
    "vAR_log_dir = \"C:/Users/durga/Tensorboard_ANN/logs\"\n",
    "\n",
    "#vAR_tensorboard_callback = tf.keras.callbacks.TensorBoard(log_dir=vAR_log_dir, histogram_freq=1)\n",
    "\n",
    "# feeding the training data to the model\n",
    "\n",
    "vAR_batch_size = 100\n",
    "    \n",
    "vAR_epochs = 499\n",
    "    \n",
    "vAR_model.fit(vAR_X_TRAIN, vAR_Y_TRAIN, batch_size = vAR_batch_size, epochs = vAR_epochs, verbose = 2, validation_data = None, callbacks=[vAR_tensorboard_callback])\n",
    "\n",
    "#********************************************************************************\n",
    "    "
   ]
  },
  {
   "cell_type": "markdown",
   "metadata": {},
   "source": [
    "# 100 Neurons in the Input Layers"
   ]
  },
  {
   "cell_type": "code",
   "execution_count": null,
   "metadata": {},
   "outputs": [],
   "source": [
    "#****************************************************************************************\n",
    "\n",
    "## Step-4 Creating the model using the sequential class (Linear stack of layers)\n",
    "\n",
    "#****************************************************************************************\n",
    "\n",
    "## The model type is Sequential an easiest way to build a model in Keras. \n",
    "## It allows you to build a model layer by layer. \n",
    "## Each layer has weights that correspond to the layer the follows it.\n",
    "\n",
    "vAR_model = Sequential()\n",
    "\n",
    "## Input Layer configuration\n",
    "\n",
    "## We use the ‘add()’ function to add layers to our model. We will add two layers and an output layer.\n",
    "\n",
    "vAR_model.add(Dense(units=100, activation = 'relu', input_dim = 784))\n",
    "\n",
    "## Hidden layer configuration\n",
    "\n",
    "vAR_model.add(Dense(units=50, activation = 'relu'))\n",
    "\n",
    "vAR_model.add(Dense(units=20, activation = 'relu'))\n",
    "\n",
    "## Output layer configuration\n",
    "\n",
    "vAR_model.add(Dense(output_dim = 10,activation = 'softmax'))\n",
    "\n",
    "vAR_model.summary()\n",
    "\n",
    "#********************************************************************************\n",
    "\n",
    "## Step 5: Training the Model\n",
    "\n",
    "#********************************************************************************\n",
    " \n",
    "from keras.callbacks import TensorBoard\n",
    "\n",
    "#indicate folder to save, plus other options\n",
    "\n",
    "vAR_tensorboard_callback = tf.keras.callbacks.TensorBoard(log_dir='C:/Users/durga/Tensorboard_ANN/logs')\n",
    "    \n",
    "#vAR_tensorboard = TensorBoard(log_dir='C:/Users/durga/tensorboard/logs1', write_graph=True, write_images=False)  \n",
    "\n",
    "#save it in your callback list\n",
    "\n",
    "#vAR_callbacks_list = [vAR_tensorboard]\n",
    "\n",
    "#then pass to fit as callback, remember to use validation_data also\n",
    "    \n",
    "vAR_learning_rate = 0.01\n",
    "\n",
    "vAR_sgd = optimizers.SGD(lr = vAR_learning_rate)\n",
    "\n",
    "## We need to compile our model. Compiling the model takes two parameters: optimizer and loss.\n",
    "## The optimizer controls the learning rate. \n",
    "## We will be using ‘adam’ as our optmizer. \n",
    "## The adam optimizer adjusts the learning rate throughout training.\n",
    "    \n",
    "vAR_model.compile(optimizer = 'sgd', loss = 'categorical_crossentropy', metrics = ['accuracy'])\n",
    "\n",
    "vAR_log_dir = \"C:/Users/durga/Tensorboard_ANN/logs\"\n",
    "\n",
    "#vAR_tensorboard_callback = tf.keras.callbacks.TensorBoard(log_dir=vAR_log_dir, histogram_freq=1)\n",
    "\n",
    "# feeding the training data to the model\n",
    "\n",
    "vAR_batch_size = 100\n",
    "    \n",
    "vAR_epochs = 499\n",
    "    \n",
    "vAR_model.fit(vAR_X_TRAIN, vAR_Y_TRAIN, batch_size = vAR_batch_size, epochs = vAR_epochs, verbose = 2, validation_data = None, callbacks=[vAR_tensorboard_callback])\n",
    "\n",
    "#********************************************************************************\n",
    "    "
   ]
  },
  {
   "cell_type": "markdown",
   "metadata": {},
   "source": [
    "# Layers "
   ]
  },
  {
   "cell_type": "code",
   "execution_count": null,
   "metadata": {},
   "outputs": [],
   "source": [
    "vAR_model.layers"
   ]
  },
  {
   "cell_type": "markdown",
   "metadata": {},
   "source": [
    "# Weights and Bias and Activation Function"
   ]
  },
  {
   "cell_type": "code",
   "execution_count": null,
   "metadata": {},
   "outputs": [],
   "source": [
    "# Weight and Bias used in the Network \n",
    "\n",
    "vAR_model.get_weights()\n",
    "\n",
    "# Activation function\n",
    "\n",
    "vAR_model.add(Dense(units=100, activation = 'relu', input_dim = 784))\n",
    "\n",
    "## Hidden layer configuration\n",
    "\n",
    "vAR_model.add(Dense(units=100, activation = 'relu'))\n",
    "\n",
    "vAR_model.add(Dense(units=80, activation = 'relu'))\n",
    "\n",
    "vAR_model.add(Dense(units=60, activation = 'relu'))\n",
    "\n",
    "vAR_model.add(Dense(units=40, activation = 'relu'))\n",
    "\n",
    "## Output layer configuration\n",
    "\n",
    "vAR_model.add(Dense(output_dim = 10,activation = 'softmax'))\n",
    "\n",
    "vAR_model\n",
    "\n",
    "vAR_model.get_weights()\n"
   ]
  },
  {
   "cell_type": "code",
   "execution_count": null,
   "metadata": {},
   "outputs": [],
   "source": [
    "    #********************************************************************************\n",
    "\n",
    "    ## Step 5: Training the Model\n",
    "\n",
    "    #********************************************************************************\n",
    " \n",
    "    from keras.callbacks import TensorBoard\n",
    "\n",
    "    #indicate folder to save, plus other options\n",
    "\n",
    "    vAR_tensorboard_callback = tf.keras.callbacks.TensorBoard(log_dir='C:/Users/durga/Tensorboard_ANN/logs')\n",
    "    \n",
    "    #vAR_tensorboard = TensorBoard(log_dir='C:/Users/durga/tensorboard/logs1', write_graph=True, write_images=False)  \n",
    "\n",
    "    #save it in your callback list\n",
    "\n",
    "    #vAR_callbacks_list = [vAR_tensorboard]\n",
    "\n",
    "    #then pass to fit as callback, remember to use validation_data also\n",
    "    \n",
    "    vAR_learning_rate = 0.01\n",
    "\n",
    "    vAR_sgd = optimizers.SGD(lr = vAR_learning_rate)\n",
    "\n",
    "    ## We need to compile our model. Compiling the model takes two parameters: optimizer and loss.\n",
    "    ## The optimizer controls the learning rate. \n",
    "    ## We will be using ‘adam’ as our optmizer. \n",
    "    ## The adam optimizer adjusts the learning rate throughout training.\n",
    "    \n",
    "    vAR_model.compile(optimizer = 'sgd', loss = 'categorical_crossentropy', metrics = ['accuracy'])\n",
    "\n",
    "    vAR_log_dir = \"C:/Users/durga/Tensorboard_ANN/logs\"\n",
    "\n",
    "    #vAR_tensorboard_callback = tf.keras.callbacks.TensorBoard(log_dir=vAR_log_dir, histogram_freq=1)\n",
    "\n",
    "    # feeding the training data to the model\n",
    "\n",
    "    vAR_batch_size = 100\n",
    "    \n",
    "    vAR_epochs = 500\n",
    "    \n",
    "    vAR_model.fit(vAR_X_TRAIN, vAR_Y_TRAIN, batch_size = vAR_batch_size, epochs = vAR_epochs, verbose = 2, validation_data = None, callbacks=[vAR_tensorboard_callback])\n",
    "\n",
    "    #********************************************************************************\n",
    "    "
   ]
  },
  {
   "cell_type": "markdown",
   "metadata": {},
   "source": [
    "# Learning Rate"
   ]
  },
  {
   "cell_type": "code",
   "execution_count": null,
   "metadata": {},
   "outputs": [],
   "source": [
    "vAR_learning_rate"
   ]
  },
  {
   "cell_type": "markdown",
   "metadata": {},
   "source": [
    "# Batch Size, Epochs"
   ]
  },
  {
   "cell_type": "code",
   "execution_count": null,
   "metadata": {},
   "outputs": [],
   "source": [
    "print(vAR_batch_size)\n",
    "      \n",
    "print(vAR_epochs)"
   ]
  },
  {
   "cell_type": "markdown",
   "metadata": {},
   "source": [
    "# Cost Function"
   ]
  },
  {
   "cell_type": "code",
   "execution_count": null,
   "metadata": {},
   "outputs": [],
   "source": [
    "#*************************************************************************************************************************#        \n",
    "\n",
    "## Step 6: Import the Test Data\n",
    "\n",
    "#*************************************************************************************************************************#        \n",
    "\n",
    "vAR_TEST_DATA_PATH = vAR_Test_Data_Path\n",
    "\n",
    "for vAR_img in os.listdir(vAR_TEST_DATA_PATH):\n",
    "    \n",
    "    vAR_img_array = cv2.imread(os.path.join(vAR_TEST_DATA_PATH,vAR_img),cv2.IMREAD_GRAYSCALE)\n",
    "    \n",
    "    vAR_RESIZED_img = cv2.resize(vAR_img_array,(28,28))\n",
    "    \n",
    "    vAR_Image_Flattened = vAR_RESIZED_img.reshape(1,-1)\n",
    "    \n",
    "    with open(vAR_Image_Features_Test, 'ab') as f:\n",
    "        \n",
    "        #header = [\"1x1\",\"1x2\",\"1x3\",\"1x4\",\"1x5\",\"1x6\",\"1x7\",\"1x8\",\"1x9\",\"1x10\",\"1x11\",\"1x12\",\"1x13\",\"1x14\",\"1x15\",\"1x16\",\"1x17\",\"1x18\",\"1x19\",\"1x20\",\"1x21\",\"1x22\",\"1x23\",\"1x24\",\"1x25\",\"1x26\",\"1x27\",\"1x28\",\"2x1\",\"2x2\",\"2x3\",\"2x4\",\"2x5\",\"2x6\",\"2x7\",\"2x8\",\"2x9\",\"2x10\",\"2x11\",\"2x12\",\"2x13\",\"2x14\",\"2x15\",\"2x16\",\"2x17\",\"2x18\",\"2x19\",\"2x20\",\"2x21\",\"2x22\",\"2x23\",\"2x24\",\"2x25\",\"2x26\",\"2x27\",\"2x28\",\"3x1\",\"3x2\",\"3x3\",\"3x4\",\"3x5\",\"3x6\",\"3x7\",\"3x8\",\"3x9\",\"3x10\",\"3x11\",\"3x12\",\"3x13\",\"3x14\",\"3x15\",\"3x16\",\"3x17\",\"3x18\",\"3x19\",\"3x20\",\"3x21\",\"3x22\",\"3x23\",\"3x24\",\"3x25\",\"3x26\",\"3x27\",\"3x28\",\"4x1\",\"4x2\",\"4x3\",\"4x4\",\"4x5\",\"4x6\",\"4x7\",\"4x8\",\"4x9\",\"4x10\",\"4x11\",\"4x12\",\"4x13\",\"4x14\",\"4x15\",\"4x16\",\"4x17\",\"4x18\",\"4x19\",\"4x20\",\"4x21\",\"4x22\",\"4x23\",\"4x24\",\"4x25\",\"4x26\",\"4x27\",\"4x28\",\"5x1\",\"5x2\",\"5x3\",\"5x4\",\"5x5\",\"5x6\",\"5x7\",\"5x8\",\"5x9\",\"5x10\",\"5x11\",\"5x12\",\"5x13\",\"5x14\",\"5x15\",\"5x16\",\"5x17\",\"5x18\",\"5x19\",\"5x20\",\"5x21\",\"5x22\",\"5x23\",\"5x24\",\"5x25\",\"5x26\",\"5x27\",\"5x28\",\"6x1\",\"6x2\",\"6x3\",\"6x4\",\"6x5\",\"6x6\",\"6x7\",\"6x8\",\"6x9\",\"6x10\",\"6x11\",\"6x12\",\"6x13\",\"6x14\",\"6x15\",\"6x16\",\"6x17\",\"6x18\",\"6x19\",\"6x20\",\"6x21\",\"6x22\",\"6x23\",\"6x24\",\"6x25\",\"6x26\",\"6x27\",\"6x28\",\"7x1\",\"7x2\",\"7x3\",\"7x4\",\"7x5\",\"7x6\",\"7x7\",\"7x8\",\"7x9\",\"7x10\",\"7x11\",\"7x12\",\"7x13\",\"7x14\",\"7x15\",\"7x16\",\"7x17\",\"7x18\",\"7x19\",\"7x20\",\"7x21\",\"7x22\",\"7x23\",\"7x24\",\"7x25\",\"7x26\",\"7x27\",\"7x28\",\"8x1\",\"8x2\",\"8x3\",\"8x4\",\"8x5\",\"8x6\",\"8x7\",\"8x8\",\"8x9\",\"8x10\",\"8x11\",\"8x12\",\"8x13\",\"8x14\",\"8x15\",\"8x16\",\"8x17\",\"8x18\",\"8x19\",\"8x20\",\"8x21\",\"8x22\",\"8x23\",\"8x24\",\"8x25\",\"8x26\",\"8x27\",\"8x28\",\"9x1\",\"9x2\",\"9x3\",\"9x4\",\"9x5\",\"9x6\",\"9x7\",\"9x8\",\"9x9\",\"9x10\",\"9x11\",\"9x12\",\"9x13\",\"9x14\",\"9x15\",\"9x16\",\"9x17\",\"9x18\",\"9x19\",\"9x20\",\"9x21\",\"9x22\",\"9x23\",\"9x24\",\"9x25\",\"9x26\",\"9x27\",\"9x28\",\"10x1\",\"10x2\",\"10x3\",\"10x4\",\"10x5\",\"10x6\",\"10x7\",\"10x8\",\"10x9\",\"10x10\",\"10x11\",\"10x12\",\"10x13\",\"10x14\",\"10x15\",\"10x16\",\"10x17\",\"10x18\",\"10x19\",\"10x20\",\"10x21\",\"10x22\",\"10x23\",\"10x24\",\"10x25\",\"10x26\",\"10x27\",\"10x28\",\"11x1\",\"11x2\",\"11x3\",\"11x4\",\"11x5\",\"11x6\",\"11x7\",\"11x8\",\"11x9\",\"11x10\",\"11x11\",\"11x12\",\"11x13\",\"11x14\",\"11x15\",\"11x16\",\"11x17\",\"11x18\",\"11x19\",\"11x20\",\"11x21\",\"11x22\",\"11x23\",\"11x24\",\"11x25\",\"11x26\",\"11x27\",\"11x28\",\"12x1\",\"12x2\",\"12x3\",\"12x4\",\"12x5\",\"12x6\",\"12x7\",\"12x8\",\"12x9\",\"12x10\",\"12x11\",\"12x12\",\"12x13\",\"12x14\",\"12x15\",\"12x16\",\"12x17\",\"12x18\",\"12x19\",\"12x20\",\"12x21\",\"12x22\",\"12x23\",\"12x24\",\"12x25\",\"12x26\",\"12x27\",\"12x28\",\"13x1\",\"13x2\",\"13x3\",\"13x4\",\"13x5\",\"13x6\",\"13x7\",\"13x8\",\"13x9\",\"13x10\",\"13x11\",\"13x12\",\"13x13\",\"13x14\",\"13x15\",\"13x16\",\"13x17\",\"13x18\",\"13x19\",\"13x20\",\"13x21\",\"13x22\",\"13x23\",\"13x24\",\"13x25\",\"13x26\",\"13x27\",\"13x28\",\"14x1\",\"14x2\",\"14x3\",\"14x4\",\"14x5\",\"14x6\",\"14x7\",\"14x8\",\"14x9\",\"14x10\",\"14x11\",\"14x12\",\"14x13\",\"14x14\",\"14x15\",\"14x16\",\"14x17\",\"14x18\",\"14x19\",\"14x20\",\"14x21\",\"14x22\",\"14x23\",\"14x24\",\"14x25\",\"14x26\",\"14x27\",\"14x28\",\"15x1\",\"15x2\",\"15x3\",\"15x4\",\"15x5\",\"15x6\",\"15x7\",\"15x8\",\"15x9\",\"15x10\",\"15x11\",\"15x12\",\"15x13\",\"15x14\",\"15x15\",\"15x16\",\"15x17\",\"15x18\",\"15x19\",\"15x20\",\"15x21\",\"15x22\",\"15x23\",\"15x24\",\"15x25\",\"15x26\",\"15x27\",\"15x28\",\"16x1\",\"16x2\",\"16x3\",\"16x4\",\"16x5\",\"16x6\",\"16x7\",\"16x8\",\"16x9\",\"16x10\",\"16x11\",\"16x12\",\"16x13\",\"16x14\",\"16x15\",\"16x16\",\"16x17\",\"16x18\",\"16x19\",\"16x20\",\"16x21\",\"16x22\",\"16x23\",\"16x24\",\"16x25\",\"16x26\",\"16x27\",\"16x28\",\"17x1\",\"17x2\",\"17x3\",\"17x4\",\"17x5\",\"17x6\",\"17x7\",\"17x8\",\"17x9\",\"17x10\",\"17x11\",\"17x12\",\"17x13\",\"17x14\",\"17x15\",\"17x16\",\"17x17\",\"17x18\",\"17x19\",\"17x20\",\"17x21\",\"17x22\",\"17x23\",\"17x24\",\"17x25\",\"17x26\",\"17x27\",\"17x28\",\"18x1\",\"18x2\",\"18x3\",\"18x4\",\"18x5\",\"18x6\",\"18x7\",\"18x8\",\"18x9\",\"18x10\",\"18x11\",\"18x12\",\"18x13\",\"18x14\",\"18x15\",\"18x16\",\"18x17\",\"18x18\",\"18x19\",\"18x20\",\"18x21\",\"18x22\",\"18x23\",\"18x24\",\"18x25\",\"18x26\",\"18x27\",\"18x28\",\"19x1\",\"19x2\",\"19x3\",\"19x4\",\"19x5\",\"19x6\",\"19x7\",\"19x8\",\"19x9\",\"19x10\",\"19x11\",\"19x12\",\"19x13\",\"19x14\",\"19x15\",\"19x16\",\"19x17\",\"19x18\",\"19x19\",\"19x20\",\"19x21\",\"19x22\",\"19x23\",\"19x24\",\"19x25\",\"19x26\",\"19x27\",\"19x28\",\"20x1\",\"20x2\",\"20x3\",\"20x4\",\"20x5\",\"20x6\",\"20x7\",\"20x8\",\"20x9\",\"20x10\",\"20x11\",\"20x12\",\"20x13\",\"20x14\",\"20x15\",\"20x16\",\"20x17\",\"20x18\",\"20x19\",\"20x20\",\"20x21\",\"20x22\",\"20x23\",\"20x24\",\"20x25\",\"20x26\",\"20x27\",\"20x28\",\"21x1\",\"21x2\",\"21x3\",\"21x4\",\"21x5\",\"21x6\",\"21x7\",\"21x8\",\"21x9\",\"21x10\",\"21x11\",\"21x12\",\"21x13\",\"21x14\",\"21x15\",\"21x16\",\"21x17\",\"21x18\",\"21x19\",\"21x20\",\"21x21\",\"21x22\",\"21x23\",\"21x24\",\"21x25\",\"21x26\",\"21x27\",\"21x28\",\"22x1\",\"22x2\",\"22x3\",\"22x4\",\"22x5\",\"22x6\",\"22x7\",\"22x8\",\"22x9\",\"22x10\",\"22x11\",\"22x12\",\"22x13\",\"22x14\",\"22x15\",\"22x16\",\"22x17\",\"22x18\",\"22x19\",\"22x20\",\"22x21\",\"22x22\",\"22x23\",\"22x24\",\"22x25\",\"22x26\",\"22x27\",\"22x28\",\"23x1\",\"23x2\",\"23x3\",\"23x4\",\"23x5\",\"23x6\",\"23x7\",\"23x8\",\"23x9\",\"23x10\",\"23x11\",\"23x12\",\"23x13\",\"23x14\",\"23x15\",\"23x16\",\"23x17\",\"23x18\",\"23x19\",\"23x20\",\"23x21\",\"23x22\",\"23x23\",\"23x24\",\"23x25\",\"23x26\",\"23x27\",\"23x28\",\"24x1\",\"24x2\",\"24x3\",\"24x4\",\"24x5\",\"24x6\",\"24x7\",\"24x8\",\"24x9\",\"24x10\",\"24x11\",\"24x12\",\"24x13\",\"24x14\",\"24x15\",\"24x16\",\"24x17\",\"24x18\",\"24x19\",\"24x20\",\"24x21\",\"24x22\",\"24x23\",\"24x24\",\"24x25\",\"24x26\",\"24x27\",\"24x28\",\"25x1\",\"25x2\",\"25x3\",\"25x4\",\"25x5\",\"25x6\",\"25x7\",\"25x8\",\"25x9\",\"25x10\",\"25x11\",\"25x12\",\"25x13\",\"25x14\",\"25x15\",\"25x16\",\"25x17\",\"25x18\",\"25x19\",\"25x20\",\"25x21\",\"25x22\",\"25x23\",\"25x24\",\"25x25\",\"25x26\",\"25x27\",\"25x28\",\"26x1\",\"26x2\",\"26x3\",\"26x4\",\"26x5\",\"26x6\",\"26x7\",\"26x8\",\"26x9\",\"26x10\",\"26x11\",\"26x12\",\"26x13\",\"26x14\",\"26x15\",\"26x16\",\"26x17\",\"26x18\",\"26x19\",\"26x20\",\"26x21\",\"26x22\",\"26x23\",\"26x24\",\"26x25\",\"26x26\",\"26x27\",\"26x28\",\"27x1\",\"27x2\",\"27x3\",\"27x4\",\"27x5\",\"27x6\",\"27x7\",\"27x8\",\"27x9\",\"27x10\",\"27x11\",\"27x12\",\"27x13\",\"27x14\",\"27x15\",\"27x16\",\"27x17\",\"27x18\",\"27x19\",\"27x20\",\"27x21\",\"27x22\",\"27x23\",\"27x24\",\"27x25\",\"27x26\",\"27x27\",\"27x28\",\"28x1\",\"28x2\",\"28x3\",\"28x4\",\"28x5\",\"28x6\",\"28x7\",\"28x8\",\"28x9\",\"28x10\",\"28x11\",\"28x12\",\"28x13\",\"28x14\",\"28x15\",\"28x16\",\"28x17\",\"28x18\",\"28x19\",\"28x20\",\"28x21\",\"28x22\",\"28x23\",\"28x24\",\"28x25\",\"28x26\",\"28x27\",\"28x28\"]\n",
    "\n",
    "        np.savetxt(f, vAR_Image_Flattened, delimiter=',',)\n",
    "        \n",
    "#*************************************************************************************************************************#        \n",
    "\n",
    "## Reading Test data features stored as a file\n",
    "\n",
    "#vAR_Header = [\"1x1\",\"1x2\",\"1x3\",\"1x4\",\"1x5\",\"1x6\",\"1x7\",\"1x8\",\"1x9\",\"1x10\",\"1x11\",\"1x12\",\"1x13\",\"1x14\",\"1x15\",\"1x16\",\"1x17\",\"1x18\",\"1x19\",\"1x20\",\"1x21\",\"1x22\",\"1x23\",\"1x24\",\"1x25\",\"1x26\",\"1x27\",\"1x28\",\"2x1\",\"2x2\",\"2x3\",\"2x4\",\"2x5\",\"2x6\",\"2x7\",\"2x8\",\"2x9\",\"2x10\",\"2x11\",\"2x12\",\"2x13\",\"2x14\",\"2x15\",\"2x16\",\"2x17\",\"2x18\",\"2x19\",\"2x20\",\"2x21\",\"2x22\",\"2x23\",\"2x24\",\"2x25\",\"2x26\",\"2x27\",\"2x28\",\"3x1\",\"3x2\",\"3x3\",\"3x4\",\"3x5\",\"3x6\",\"3x7\",\"3x8\",\"3x9\",\"3x10\",\"3x11\",\"3x12\",\"3x13\",\"3x14\",\"3x15\",\"3x16\",\"3x17\",\"3x18\",\"3x19\",\"3x20\",\"3x21\",\"3x22\",\"3x23\",\"3x24\",\"3x25\",\"3x26\",\"3x27\",\"3x28\",\"4x1\",\"4x2\",\"4x3\",\"4x4\",\"4x5\",\"4x6\",\"4x7\",\"4x8\",\"4x9\",\"4x10\",\"4x11\",\"4x12\",\"4x13\",\"4x14\",\"4x15\",\"4x16\",\"4x17\",\"4x18\",\"4x19\",\"4x20\",\"4x21\",\"4x22\",\"4x23\",\"4x24\",\"4x25\",\"4x26\",\"4x27\",\"4x28\",\"5x1\",\"5x2\",\"5x3\",\"5x4\",\"5x5\",\"5x6\",\"5x7\",\"5x8\",\"5x9\",\"5x10\",\"5x11\",\"5x12\",\"5x13\",\"5x14\",\"5x15\",\"5x16\",\"5x17\",\"5x18\",\"5x19\",\"5x20\",\"5x21\",\"5x22\",\"5x23\",\"5x24\",\"5x25\",\"5x26\",\"5x27\",\"5x28\",\"6x1\",\"6x2\",\"6x3\",\"6x4\",\"6x5\",\"6x6\",\"6x7\",\"6x8\",\"6x9\",\"6x10\",\"6x11\",\"6x12\",\"6x13\",\"6x14\",\"6x15\",\"6x16\",\"6x17\",\"6x18\",\"6x19\",\"6x20\",\"6x21\",\"6x22\",\"6x23\",\"6x24\",\"6x25\",\"6x26\",\"6x27\",\"6x28\",\"7x1\",\"7x2\",\"7x3\",\"7x4\",\"7x5\",\"7x6\",\"7x7\",\"7x8\",\"7x9\",\"7x10\",\"7x11\",\"7x12\",\"7x13\",\"7x14\",\"7x15\",\"7x16\",\"7x17\",\"7x18\",\"7x19\",\"7x20\",\"7x21\",\"7x22\",\"7x23\",\"7x24\",\"7x25\",\"7x26\",\"7x27\",\"7x28\",\"8x1\",\"8x2\",\"8x3\",\"8x4\",\"8x5\",\"8x6\",\"8x7\",\"8x8\",\"8x9\",\"8x10\",\"8x11\",\"8x12\",\"8x13\",\"8x14\",\"8x15\",\"8x16\",\"8x17\",\"8x18\",\"8x19\",\"8x20\",\"8x21\",\"8x22\",\"8x23\",\"8x24\",\"8x25\",\"8x26\",\"8x27\",\"8x28\",\"9x1\",\"9x2\",\"9x3\",\"9x4\",\"9x5\",\"9x6\",\"9x7\",\"9x8\",\"9x9\",\"9x10\",\"9x11\",\"9x12\",\"9x13\",\"9x14\",\"9x15\",\"9x16\",\"9x17\",\"9x18\",\"9x19\",\"9x20\",\"9x21\",\"9x22\",\"9x23\",\"9x24\",\"9x25\",\"9x26\",\"9x27\",\"9x28\",\"10x1\",\"10x2\",\"10x3\",\"10x4\",\"10x5\",\"10x6\",\"10x7\",\"10x8\",\"10x9\",\"10x10\",\"10x11\",\"10x12\",\"10x13\",\"10x14\",\"10x15\",\"10x16\",\"10x17\",\"10x18\",\"10x19\",\"10x20\",\"10x21\",\"10x22\",\"10x23\",\"10x24\",\"10x25\",\"10x26\",\"10x27\",\"10x28\",\"11x1\",\"11x2\",\"11x3\",\"11x4\",\"11x5\",\"11x6\",\"11x7\",\"11x8\",\"11x9\",\"11x10\",\"11x11\",\"11x12\",\"11x13\",\"11x14\",\"11x15\",\"11x16\",\"11x17\",\"11x18\",\"11x19\",\"11x20\",\"11x21\",\"11x22\",\"11x23\",\"11x24\",\"11x25\",\"11x26\",\"11x27\",\"11x28\",\"12x1\",\"12x2\",\"12x3\",\"12x4\",\"12x5\",\"12x6\",\"12x7\",\"12x8\",\"12x9\",\"12x10\",\"12x11\",\"12x12\",\"12x13\",\"12x14\",\"12x15\",\"12x16\",\"12x17\",\"12x18\",\"12x19\",\"12x20\",\"12x21\",\"12x22\",\"12x23\",\"12x24\",\"12x25\",\"12x26\",\"12x27\",\"12x28\",\"13x1\",\"13x2\",\"13x3\",\"13x4\",\"13x5\",\"13x6\",\"13x7\",\"13x8\",\"13x9\",\"13x10\",\"13x11\",\"13x12\",\"13x13\",\"13x14\",\"13x15\",\"13x16\",\"13x17\",\"13x18\",\"13x19\",\"13x20\",\"13x21\",\"13x22\",\"13x23\",\"13x24\",\"13x25\",\"13x26\",\"13x27\",\"13x28\",\"14x1\",\"14x2\",\"14x3\",\"14x4\",\"14x5\",\"14x6\",\"14x7\",\"14x8\",\"14x9\",\"14x10\",\"14x11\",\"14x12\",\"14x13\",\"14x14\",\"14x15\",\"14x16\",\"14x17\",\"14x18\",\"14x19\",\"14x20\",\"14x21\",\"14x22\",\"14x23\",\"14x24\",\"14x25\",\"14x26\",\"14x27\",\"14x28\",\"15x1\",\"15x2\",\"15x3\",\"15x4\",\"15x5\",\"15x6\",\"15x7\",\"15x8\",\"15x9\",\"15x10\",\"15x11\",\"15x12\",\"15x13\",\"15x14\",\"15x15\",\"15x16\",\"15x17\",\"15x18\",\"15x19\",\"15x20\",\"15x21\",\"15x22\",\"15x23\",\"15x24\",\"15x25\",\"15x26\",\"15x27\",\"15x28\",\"16x1\",\"16x2\",\"16x3\",\"16x4\",\"16x5\",\"16x6\",\"16x7\",\"16x8\",\"16x9\",\"16x10\",\"16x11\",\"16x12\",\"16x13\",\"16x14\",\"16x15\",\"16x16\",\"16x17\",\"16x18\",\"16x19\",\"16x20\",\"16x21\",\"16x22\",\"16x23\",\"16x24\",\"16x25\",\"16x26\",\"16x27\",\"16x28\",\"17x1\",\"17x2\",\"17x3\",\"17x4\",\"17x5\",\"17x6\",\"17x7\",\"17x8\",\"17x9\",\"17x10\",\"17x11\",\"17x12\",\"17x13\",\"17x14\",\"17x15\",\"17x16\",\"17x17\",\"17x18\",\"17x19\",\"17x20\",\"17x21\",\"17x22\",\"17x23\",\"17x24\",\"17x25\",\"17x26\",\"17x27\",\"17x28\",\"18x1\",\"18x2\",\"18x3\",\"18x4\",\"18x5\",\"18x6\",\"18x7\",\"18x8\",\"18x9\",\"18x10\",\"18x11\",\"18x12\",\"18x13\",\"18x14\",\"18x15\",\"18x16\",\"18x17\",\"18x18\",\"18x19\",\"18x20\",\"18x21\",\"18x22\",\"18x23\",\"18x24\",\"18x25\",\"18x26\",\"18x27\",\"18x28\",\"19x1\",\"19x2\",\"19x3\",\"19x4\",\"19x5\",\"19x6\",\"19x7\",\"19x8\",\"19x9\",\"19x10\",\"19x11\",\"19x12\",\"19x13\",\"19x14\",\"19x15\",\"19x16\",\"19x17\",\"19x18\",\"19x19\",\"19x20\",\"19x21\",\"19x22\",\"19x23\",\"19x24\",\"19x25\",\"19x26\",\"19x27\",\"19x28\",\"20x1\",\"20x2\",\"20x3\",\"20x4\",\"20x5\",\"20x6\",\"20x7\",\"20x8\",\"20x9\",\"20x10\",\"20x11\",\"20x12\",\"20x13\",\"20x14\",\"20x15\",\"20x16\",\"20x17\",\"20x18\",\"20x19\",\"20x20\",\"20x21\",\"20x22\",\"20x23\",\"20x24\",\"20x25\",\"20x26\",\"20x27\",\"20x28\",\"21x1\",\"21x2\",\"21x3\",\"21x4\",\"21x5\",\"21x6\",\"21x7\",\"21x8\",\"21x9\",\"21x10\",\"21x11\",\"21x12\",\"21x13\",\"21x14\",\"21x15\",\"21x16\",\"21x17\",\"21x18\",\"21x19\",\"21x20\",\"21x21\",\"21x22\",\"21x23\",\"21x24\",\"21x25\",\"21x26\",\"21x27\",\"21x28\",\"22x1\",\"22x2\",\"22x3\",\"22x4\",\"22x5\",\"22x6\",\"22x7\",\"22x8\",\"22x9\",\"22x10\",\"22x11\",\"22x12\",\"22x13\",\"22x14\",\"22x15\",\"22x16\",\"22x17\",\"22x18\",\"22x19\",\"22x20\",\"22x21\",\"22x22\",\"22x23\",\"22x24\",\"22x25\",\"22x26\",\"22x27\",\"22x28\",\"23x1\",\"23x2\",\"23x3\",\"23x4\",\"23x5\",\"23x6\",\"23x7\",\"23x8\",\"23x9\",\"23x10\",\"23x11\",\"23x12\",\"23x13\",\"23x14\",\"23x15\",\"23x16\",\"23x17\",\"23x18\",\"23x19\",\"23x20\",\"23x21\",\"23x22\",\"23x23\",\"23x24\",\"23x25\",\"23x26\",\"23x27\",\"23x28\",\"24x1\",\"24x2\",\"24x3\",\"24x4\",\"24x5\",\"24x6\",\"24x7\",\"24x8\",\"24x9\",\"24x10\",\"24x11\",\"24x12\",\"24x13\",\"24x14\",\"24x15\",\"24x16\",\"24x17\",\"24x18\",\"24x19\",\"24x20\",\"24x21\",\"24x22\",\"24x23\",\"24x24\",\"24x25\",\"24x26\",\"24x27\",\"24x28\",\"25x1\",\"25x2\",\"25x3\",\"25x4\",\"25x5\",\"25x6\",\"25x7\",\"25x8\",\"25x9\",\"25x10\",\"25x11\",\"25x12\",\"25x13\",\"25x14\",\"25x15\",\"25x16\",\"25x17\",\"25x18\",\"25x19\",\"25x20\",\"25x21\",\"25x22\",\"25x23\",\"25x24\",\"25x25\",\"25x26\",\"25x27\",\"25x28\",\"26x1\",\"26x2\",\"26x3\",\"26x4\",\"26x5\",\"26x6\",\"26x7\",\"26x8\",\"26x9\",\"26x10\",\"26x11\",\"26x12\",\"26x13\",\"26x14\",\"26x15\",\"26x16\",\"26x17\",\"26x18\",\"26x19\",\"26x20\",\"26x21\",\"26x22\",\"26x23\",\"26x24\",\"26x25\",\"26x26\",\"26x27\",\"26x28\",\"27x1\",\"27x2\",\"27x3\",\"27x4\",\"27x5\",\"27x6\",\"27x7\",\"27x8\",\"27x9\",\"27x10\",\"27x11\",\"27x12\",\"27x13\",\"27x14\",\"27x15\",\"27x16\",\"27x17\",\"27x18\",\"27x19\",\"27x20\",\"27x21\",\"27x22\",\"27x23\",\"27x24\",\"27x25\",\"27x26\",\"27x27\",\"27x28\",\"28x1\",\"28x2\",\"28x3\",\"28x4\",\"28x5\",\"28x6\",\"28x7\",\"28x8\",\"28x9\",\"28x10\",\"28x11\",\"28x12\",\"28x13\",\"28x14\",\"28x15\",\"28x16\",\"28x17\",\"28x18\",\"28x19\",\"28x20\",\"28x21\",\"28x22\",\"28x23\",\"28x24\",\"28x25\",\"28x26\",\"28x27\",\"28x28\"]\n",
    "\n",
    "vAR_Image_Test_features_df = pd.read_csv(vAR_Image_Features_Test,header=-1)\n",
    "\n",
    "vAR_Image_Test_features_df.columns = [\"1x1\",\"1x2\",\"1x3\",\"1x4\",\"1x5\",\"1x6\",\"1x7\",\"1x8\",\"1x9\",\"1x10\",\"1x11\",\"1x12\",\"1x13\",\"1x14\",\"1x15\",\"1x16\",\"1x17\",\"1x18\",\"1x19\",\"1x20\",\"1x21\",\"1x22\",\"1x23\",\"1x24\",\"1x25\",\"1x26\",\"1x27\",\"1x28\",\"2x1\",\"2x2\",\"2x3\",\"2x4\",\"2x5\",\"2x6\",\"2x7\",\"2x8\",\"2x9\",\"2x10\",\"2x11\",\"2x12\",\"2x13\",\"2x14\",\"2x15\",\"2x16\",\"2x17\",\"2x18\",\"2x19\",\"2x20\",\"2x21\",\"2x22\",\"2x23\",\"2x24\",\"2x25\",\"2x26\",\"2x27\",\"2x28\",\"3x1\",\"3x2\",\"3x3\",\"3x4\",\"3x5\",\"3x6\",\"3x7\",\"3x8\",\"3x9\",\"3x10\",\"3x11\",\"3x12\",\"3x13\",\"3x14\",\"3x15\",\"3x16\",\"3x17\",\"3x18\",\"3x19\",\"3x20\",\"3x21\",\"3x22\",\"3x23\",\"3x24\",\"3x25\",\"3x26\",\"3x27\",\"3x28\",\"4x1\",\"4x2\",\"4x3\",\"4x4\",\"4x5\",\"4x6\",\"4x7\",\"4x8\",\"4x9\",\"4x10\",\"4x11\",\"4x12\",\"4x13\",\"4x14\",\"4x15\",\"4x16\",\"4x17\",\"4x18\",\"4x19\",\"4x20\",\"4x21\",\"4x22\",\"4x23\",\"4x24\",\"4x25\",\"4x26\",\"4x27\",\"4x28\",\"5x1\",\"5x2\",\"5x3\",\"5x4\",\"5x5\",\"5x6\",\"5x7\",\"5x8\",\"5x9\",\"5x10\",\"5x11\",\"5x12\",\"5x13\",\"5x14\",\"5x15\",\"5x16\",\"5x17\",\"5x18\",\"5x19\",\"5x20\",\"5x21\",\"5x22\",\"5x23\",\"5x24\",\"5x25\",\"5x26\",\"5x27\",\"5x28\",\"6x1\",\"6x2\",\"6x3\",\"6x4\",\"6x5\",\"6x6\",\"6x7\",\"6x8\",\"6x9\",\"6x10\",\"6x11\",\"6x12\",\"6x13\",\"6x14\",\"6x15\",\"6x16\",\"6x17\",\"6x18\",\"6x19\",\"6x20\",\"6x21\",\"6x22\",\"6x23\",\"6x24\",\"6x25\",\"6x26\",\"6x27\",\"6x28\",\"7x1\",\"7x2\",\"7x3\",\"7x4\",\"7x5\",\"7x6\",\"7x7\",\"7x8\",\"7x9\",\"7x10\",\"7x11\",\"7x12\",\"7x13\",\"7x14\",\"7x15\",\"7x16\",\"7x17\",\"7x18\",\"7x19\",\"7x20\",\"7x21\",\"7x22\",\"7x23\",\"7x24\",\"7x25\",\"7x26\",\"7x27\",\"7x28\",\"8x1\",\"8x2\",\"8x3\",\"8x4\",\"8x5\",\"8x6\",\"8x7\",\"8x8\",\"8x9\",\"8x10\",\"8x11\",\"8x12\",\"8x13\",\"8x14\",\"8x15\",\"8x16\",\"8x17\",\"8x18\",\"8x19\",\"8x20\",\"8x21\",\"8x22\",\"8x23\",\"8x24\",\"8x25\",\"8x26\",\"8x27\",\"8x28\",\"9x1\",\"9x2\",\"9x3\",\"9x4\",\"9x5\",\"9x6\",\"9x7\",\"9x8\",\"9x9\",\"9x10\",\"9x11\",\"9x12\",\"9x13\",\"9x14\",\"9x15\",\"9x16\",\"9x17\",\"9x18\",\"9x19\",\"9x20\",\"9x21\",\"9x22\",\"9x23\",\"9x24\",\"9x25\",\"9x26\",\"9x27\",\"9x28\",\"10x1\",\"10x2\",\"10x3\",\"10x4\",\"10x5\",\"10x6\",\"10x7\",\"10x8\",\"10x9\",\"10x10\",\"10x11\",\"10x12\",\"10x13\",\"10x14\",\"10x15\",\"10x16\",\"10x17\",\"10x18\",\"10x19\",\"10x20\",\"10x21\",\"10x22\",\"10x23\",\"10x24\",\"10x25\",\"10x26\",\"10x27\",\"10x28\",\"11x1\",\"11x2\",\"11x3\",\"11x4\",\"11x5\",\"11x6\",\"11x7\",\"11x8\",\"11x9\",\"11x10\",\"11x11\",\"11x12\",\"11x13\",\"11x14\",\"11x15\",\"11x16\",\"11x17\",\"11x18\",\"11x19\",\"11x20\",\"11x21\",\"11x22\",\"11x23\",\"11x24\",\"11x25\",\"11x26\",\"11x27\",\"11x28\",\"12x1\",\"12x2\",\"12x3\",\"12x4\",\"12x5\",\"12x6\",\"12x7\",\"12x8\",\"12x9\",\"12x10\",\"12x11\",\"12x12\",\"12x13\",\"12x14\",\"12x15\",\"12x16\",\"12x17\",\"12x18\",\"12x19\",\"12x20\",\"12x21\",\"12x22\",\"12x23\",\"12x24\",\"12x25\",\"12x26\",\"12x27\",\"12x28\",\"13x1\",\"13x2\",\"13x3\",\"13x4\",\"13x5\",\"13x6\",\"13x7\",\"13x8\",\"13x9\",\"13x10\",\"13x11\",\"13x12\",\"13x13\",\"13x14\",\"13x15\",\"13x16\",\"13x17\",\"13x18\",\"13x19\",\"13x20\",\"13x21\",\"13x22\",\"13x23\",\"13x24\",\"13x25\",\"13x26\",\"13x27\",\"13x28\",\"14x1\",\"14x2\",\"14x3\",\"14x4\",\"14x5\",\"14x6\",\"14x7\",\"14x8\",\"14x9\",\"14x10\",\"14x11\",\"14x12\",\"14x13\",\"14x14\",\"14x15\",\"14x16\",\"14x17\",\"14x18\",\"14x19\",\"14x20\",\"14x21\",\"14x22\",\"14x23\",\"14x24\",\"14x25\",\"14x26\",\"14x27\",\"14x28\",\"15x1\",\"15x2\",\"15x3\",\"15x4\",\"15x5\",\"15x6\",\"15x7\",\"15x8\",\"15x9\",\"15x10\",\"15x11\",\"15x12\",\"15x13\",\"15x14\",\"15x15\",\"15x16\",\"15x17\",\"15x18\",\"15x19\",\"15x20\",\"15x21\",\"15x22\",\"15x23\",\"15x24\",\"15x25\",\"15x26\",\"15x27\",\"15x28\",\"16x1\",\"16x2\",\"16x3\",\"16x4\",\"16x5\",\"16x6\",\"16x7\",\"16x8\",\"16x9\",\"16x10\",\"16x11\",\"16x12\",\"16x13\",\"16x14\",\"16x15\",\"16x16\",\"16x17\",\"16x18\",\"16x19\",\"16x20\",\"16x21\",\"16x22\",\"16x23\",\"16x24\",\"16x25\",\"16x26\",\"16x27\",\"16x28\",\"17x1\",\"17x2\",\"17x3\",\"17x4\",\"17x5\",\"17x6\",\"17x7\",\"17x8\",\"17x9\",\"17x10\",\"17x11\",\"17x12\",\"17x13\",\"17x14\",\"17x15\",\"17x16\",\"17x17\",\"17x18\",\"17x19\",\"17x20\",\"17x21\",\"17x22\",\"17x23\",\"17x24\",\"17x25\",\"17x26\",\"17x27\",\"17x28\",\"18x1\",\"18x2\",\"18x3\",\"18x4\",\"18x5\",\"18x6\",\"18x7\",\"18x8\",\"18x9\",\"18x10\",\"18x11\",\"18x12\",\"18x13\",\"18x14\",\"18x15\",\"18x16\",\"18x17\",\"18x18\",\"18x19\",\"18x20\",\"18x21\",\"18x22\",\"18x23\",\"18x24\",\"18x25\",\"18x26\",\"18x27\",\"18x28\",\"19x1\",\"19x2\",\"19x3\",\"19x4\",\"19x5\",\"19x6\",\"19x7\",\"19x8\",\"19x9\",\"19x10\",\"19x11\",\"19x12\",\"19x13\",\"19x14\",\"19x15\",\"19x16\",\"19x17\",\"19x18\",\"19x19\",\"19x20\",\"19x21\",\"19x22\",\"19x23\",\"19x24\",\"19x25\",\"19x26\",\"19x27\",\"19x28\",\"20x1\",\"20x2\",\"20x3\",\"20x4\",\"20x5\",\"20x6\",\"20x7\",\"20x8\",\"20x9\",\"20x10\",\"20x11\",\"20x12\",\"20x13\",\"20x14\",\"20x15\",\"20x16\",\"20x17\",\"20x18\",\"20x19\",\"20x20\",\"20x21\",\"20x22\",\"20x23\",\"20x24\",\"20x25\",\"20x26\",\"20x27\",\"20x28\",\"21x1\",\"21x2\",\"21x3\",\"21x4\",\"21x5\",\"21x6\",\"21x7\",\"21x8\",\"21x9\",\"21x10\",\"21x11\",\"21x12\",\"21x13\",\"21x14\",\"21x15\",\"21x16\",\"21x17\",\"21x18\",\"21x19\",\"21x20\",\"21x21\",\"21x22\",\"21x23\",\"21x24\",\"21x25\",\"21x26\",\"21x27\",\"21x28\",\"22x1\",\"22x2\",\"22x3\",\"22x4\",\"22x5\",\"22x6\",\"22x7\",\"22x8\",\"22x9\",\"22x10\",\"22x11\",\"22x12\",\"22x13\",\"22x14\",\"22x15\",\"22x16\",\"22x17\",\"22x18\",\"22x19\",\"22x20\",\"22x21\",\"22x22\",\"22x23\",\"22x24\",\"22x25\",\"22x26\",\"22x27\",\"22x28\",\"23x1\",\"23x2\",\"23x3\",\"23x4\",\"23x5\",\"23x6\",\"23x7\",\"23x8\",\"23x9\",\"23x10\",\"23x11\",\"23x12\",\"23x13\",\"23x14\",\"23x15\",\"23x16\",\"23x17\",\"23x18\",\"23x19\",\"23x20\",\"23x21\",\"23x22\",\"23x23\",\"23x24\",\"23x25\",\"23x26\",\"23x27\",\"23x28\",\"24x1\",\"24x2\",\"24x3\",\"24x4\",\"24x5\",\"24x6\",\"24x7\",\"24x8\",\"24x9\",\"24x10\",\"24x11\",\"24x12\",\"24x13\",\"24x14\",\"24x15\",\"24x16\",\"24x17\",\"24x18\",\"24x19\",\"24x20\",\"24x21\",\"24x22\",\"24x23\",\"24x24\",\"24x25\",\"24x26\",\"24x27\",\"24x28\",\"25x1\",\"25x2\",\"25x3\",\"25x4\",\"25x5\",\"25x6\",\"25x7\",\"25x8\",\"25x9\",\"25x10\",\"25x11\",\"25x12\",\"25x13\",\"25x14\",\"25x15\",\"25x16\",\"25x17\",\"25x18\",\"25x19\",\"25x20\",\"25x21\",\"25x22\",\"25x23\",\"25x24\",\"25x25\",\"25x26\",\"25x27\",\"25x28\",\"26x1\",\"26x2\",\"26x3\",\"26x4\",\"26x5\",\"26x6\",\"26x7\",\"26x8\",\"26x9\",\"26x10\",\"26x11\",\"26x12\",\"26x13\",\"26x14\",\"26x15\",\"26x16\",\"26x17\",\"26x18\",\"26x19\",\"26x20\",\"26x21\",\"26x22\",\"26x23\",\"26x24\",\"26x25\",\"26x26\",\"26x27\",\"26x28\",\"27x1\",\"27x2\",\"27x3\",\"27x4\",\"27x5\",\"27x6\",\"27x7\",\"27x8\",\"27x9\",\"27x10\",\"27x11\",\"27x12\",\"27x13\",\"27x14\",\"27x15\",\"27x16\",\"27x17\",\"27x18\",\"27x19\",\"27x20\",\"27x21\",\"27x22\",\"27x23\",\"27x24\",\"27x25\",\"27x26\",\"27x27\",\"27x28\",\"28x1\",\"28x2\",\"28x3\",\"28x4\",\"28x5\",\"28x6\",\"28x7\",\"28x8\",\"28x9\",\"28x10\",\"28x11\",\"28x12\",\"28x13\",\"28x14\",\"28x15\",\"28x16\",\"28x17\",\"28x18\",\"28x19\",\"28x20\",\"28x21\",\"28x22\",\"28x23\",\"28x24\",\"28x25\",\"28x26\",\"28x27\",\"28x28\"]\n",
    "\n",
    "vAR_Image_Test_features_df\n",
    "\n",
    "\n",
    "vAR_TEST_DATA_FEATURES = pd.read_csv(vAR_Image_Features_Test, header=-1)\n",
    "\n",
    "vAR_TEST_DATA_FEATURES.columns = [\"1x1\",\"1x2\",\"1x3\",\"1x4\",\"1x5\",\"1x6\",\"1x7\",\"1x8\",\"1x9\",\"1x10\",\"1x11\",\"1x12\",\"1x13\",\"1x14\",\"1x15\",\"1x16\",\"1x17\",\"1x18\",\"1x19\",\"1x20\",\"1x21\",\"1x22\",\"1x23\",\"1x24\",\"1x25\",\"1x26\",\"1x27\",\"1x28\",\"2x1\",\"2x2\",\"2x3\",\"2x4\",\"2x5\",\"2x6\",\"2x7\",\"2x8\",\"2x9\",\"2x10\",\"2x11\",\"2x12\",\"2x13\",\"2x14\",\"2x15\",\"2x16\",\"2x17\",\"2x18\",\"2x19\",\"2x20\",\"2x21\",\"2x22\",\"2x23\",\"2x24\",\"2x25\",\"2x26\",\"2x27\",\"2x28\",\"3x1\",\"3x2\",\"3x3\",\"3x4\",\"3x5\",\"3x6\",\"3x7\",\"3x8\",\"3x9\",\"3x10\",\"3x11\",\"3x12\",\"3x13\",\"3x14\",\"3x15\",\"3x16\",\"3x17\",\"3x18\",\"3x19\",\"3x20\",\"3x21\",\"3x22\",\"3x23\",\"3x24\",\"3x25\",\"3x26\",\"3x27\",\"3x28\",\"4x1\",\"4x2\",\"4x3\",\"4x4\",\"4x5\",\"4x6\",\"4x7\",\"4x8\",\"4x9\",\"4x10\",\"4x11\",\"4x12\",\"4x13\",\"4x14\",\"4x15\",\"4x16\",\"4x17\",\"4x18\",\"4x19\",\"4x20\",\"4x21\",\"4x22\",\"4x23\",\"4x24\",\"4x25\",\"4x26\",\"4x27\",\"4x28\",\"5x1\",\"5x2\",\"5x3\",\"5x4\",\"5x5\",\"5x6\",\"5x7\",\"5x8\",\"5x9\",\"5x10\",\"5x11\",\"5x12\",\"5x13\",\"5x14\",\"5x15\",\"5x16\",\"5x17\",\"5x18\",\"5x19\",\"5x20\",\"5x21\",\"5x22\",\"5x23\",\"5x24\",\"5x25\",\"5x26\",\"5x27\",\"5x28\",\"6x1\",\"6x2\",\"6x3\",\"6x4\",\"6x5\",\"6x6\",\"6x7\",\"6x8\",\"6x9\",\"6x10\",\"6x11\",\"6x12\",\"6x13\",\"6x14\",\"6x15\",\"6x16\",\"6x17\",\"6x18\",\"6x19\",\"6x20\",\"6x21\",\"6x22\",\"6x23\",\"6x24\",\"6x25\",\"6x26\",\"6x27\",\"6x28\",\"7x1\",\"7x2\",\"7x3\",\"7x4\",\"7x5\",\"7x6\",\"7x7\",\"7x8\",\"7x9\",\"7x10\",\"7x11\",\"7x12\",\"7x13\",\"7x14\",\"7x15\",\"7x16\",\"7x17\",\"7x18\",\"7x19\",\"7x20\",\"7x21\",\"7x22\",\"7x23\",\"7x24\",\"7x25\",\"7x26\",\"7x27\",\"7x28\",\"8x1\",\"8x2\",\"8x3\",\"8x4\",\"8x5\",\"8x6\",\"8x7\",\"8x8\",\"8x9\",\"8x10\",\"8x11\",\"8x12\",\"8x13\",\"8x14\",\"8x15\",\"8x16\",\"8x17\",\"8x18\",\"8x19\",\"8x20\",\"8x21\",\"8x22\",\"8x23\",\"8x24\",\"8x25\",\"8x26\",\"8x27\",\"8x28\",\"9x1\",\"9x2\",\"9x3\",\"9x4\",\"9x5\",\"9x6\",\"9x7\",\"9x8\",\"9x9\",\"9x10\",\"9x11\",\"9x12\",\"9x13\",\"9x14\",\"9x15\",\"9x16\",\"9x17\",\"9x18\",\"9x19\",\"9x20\",\"9x21\",\"9x22\",\"9x23\",\"9x24\",\"9x25\",\"9x26\",\"9x27\",\"9x28\",\"10x1\",\"10x2\",\"10x3\",\"10x4\",\"10x5\",\"10x6\",\"10x7\",\"10x8\",\"10x9\",\"10x10\",\"10x11\",\"10x12\",\"10x13\",\"10x14\",\"10x15\",\"10x16\",\"10x17\",\"10x18\",\"10x19\",\"10x20\",\"10x21\",\"10x22\",\"10x23\",\"10x24\",\"10x25\",\"10x26\",\"10x27\",\"10x28\",\"11x1\",\"11x2\",\"11x3\",\"11x4\",\"11x5\",\"11x6\",\"11x7\",\"11x8\",\"11x9\",\"11x10\",\"11x11\",\"11x12\",\"11x13\",\"11x14\",\"11x15\",\"11x16\",\"11x17\",\"11x18\",\"11x19\",\"11x20\",\"11x21\",\"11x22\",\"11x23\",\"11x24\",\"11x25\",\"11x26\",\"11x27\",\"11x28\",\"12x1\",\"12x2\",\"12x3\",\"12x4\",\"12x5\",\"12x6\",\"12x7\",\"12x8\",\"12x9\",\"12x10\",\"12x11\",\"12x12\",\"12x13\",\"12x14\",\"12x15\",\"12x16\",\"12x17\",\"12x18\",\"12x19\",\"12x20\",\"12x21\",\"12x22\",\"12x23\",\"12x24\",\"12x25\",\"12x26\",\"12x27\",\"12x28\",\"13x1\",\"13x2\",\"13x3\",\"13x4\",\"13x5\",\"13x6\",\"13x7\",\"13x8\",\"13x9\",\"13x10\",\"13x11\",\"13x12\",\"13x13\",\"13x14\",\"13x15\",\"13x16\",\"13x17\",\"13x18\",\"13x19\",\"13x20\",\"13x21\",\"13x22\",\"13x23\",\"13x24\",\"13x25\",\"13x26\",\"13x27\",\"13x28\",\"14x1\",\"14x2\",\"14x3\",\"14x4\",\"14x5\",\"14x6\",\"14x7\",\"14x8\",\"14x9\",\"14x10\",\"14x11\",\"14x12\",\"14x13\",\"14x14\",\"14x15\",\"14x16\",\"14x17\",\"14x18\",\"14x19\",\"14x20\",\"14x21\",\"14x22\",\"14x23\",\"14x24\",\"14x25\",\"14x26\",\"14x27\",\"14x28\",\"15x1\",\"15x2\",\"15x3\",\"15x4\",\"15x5\",\"15x6\",\"15x7\",\"15x8\",\"15x9\",\"15x10\",\"15x11\",\"15x12\",\"15x13\",\"15x14\",\"15x15\",\"15x16\",\"15x17\",\"15x18\",\"15x19\",\"15x20\",\"15x21\",\"15x22\",\"15x23\",\"15x24\",\"15x25\",\"15x26\",\"15x27\",\"15x28\",\"16x1\",\"16x2\",\"16x3\",\"16x4\",\"16x5\",\"16x6\",\"16x7\",\"16x8\",\"16x9\",\"16x10\",\"16x11\",\"16x12\",\"16x13\",\"16x14\",\"16x15\",\"16x16\",\"16x17\",\"16x18\",\"16x19\",\"16x20\",\"16x21\",\"16x22\",\"16x23\",\"16x24\",\"16x25\",\"16x26\",\"16x27\",\"16x28\",\"17x1\",\"17x2\",\"17x3\",\"17x4\",\"17x5\",\"17x6\",\"17x7\",\"17x8\",\"17x9\",\"17x10\",\"17x11\",\"17x12\",\"17x13\",\"17x14\",\"17x15\",\"17x16\",\"17x17\",\"17x18\",\"17x19\",\"17x20\",\"17x21\",\"17x22\",\"17x23\",\"17x24\",\"17x25\",\"17x26\",\"17x27\",\"17x28\",\"18x1\",\"18x2\",\"18x3\",\"18x4\",\"18x5\",\"18x6\",\"18x7\",\"18x8\",\"18x9\",\"18x10\",\"18x11\",\"18x12\",\"18x13\",\"18x14\",\"18x15\",\"18x16\",\"18x17\",\"18x18\",\"18x19\",\"18x20\",\"18x21\",\"18x22\",\"18x23\",\"18x24\",\"18x25\",\"18x26\",\"18x27\",\"18x28\",\"19x1\",\"19x2\",\"19x3\",\"19x4\",\"19x5\",\"19x6\",\"19x7\",\"19x8\",\"19x9\",\"19x10\",\"19x11\",\"19x12\",\"19x13\",\"19x14\",\"19x15\",\"19x16\",\"19x17\",\"19x18\",\"19x19\",\"19x20\",\"19x21\",\"19x22\",\"19x23\",\"19x24\",\"19x25\",\"19x26\",\"19x27\",\"19x28\",\"20x1\",\"20x2\",\"20x3\",\"20x4\",\"20x5\",\"20x6\",\"20x7\",\"20x8\",\"20x9\",\"20x10\",\"20x11\",\"20x12\",\"20x13\",\"20x14\",\"20x15\",\"20x16\",\"20x17\",\"20x18\",\"20x19\",\"20x20\",\"20x21\",\"20x22\",\"20x23\",\"20x24\",\"20x25\",\"20x26\",\"20x27\",\"20x28\",\"21x1\",\"21x2\",\"21x3\",\"21x4\",\"21x5\",\"21x6\",\"21x7\",\"21x8\",\"21x9\",\"21x10\",\"21x11\",\"21x12\",\"21x13\",\"21x14\",\"21x15\",\"21x16\",\"21x17\",\"21x18\",\"21x19\",\"21x20\",\"21x21\",\"21x22\",\"21x23\",\"21x24\",\"21x25\",\"21x26\",\"21x27\",\"21x28\",\"22x1\",\"22x2\",\"22x3\",\"22x4\",\"22x5\",\"22x6\",\"22x7\",\"22x8\",\"22x9\",\"22x10\",\"22x11\",\"22x12\",\"22x13\",\"22x14\",\"22x15\",\"22x16\",\"22x17\",\"22x18\",\"22x19\",\"22x20\",\"22x21\",\"22x22\",\"22x23\",\"22x24\",\"22x25\",\"22x26\",\"22x27\",\"22x28\",\"23x1\",\"23x2\",\"23x3\",\"23x4\",\"23x5\",\"23x6\",\"23x7\",\"23x8\",\"23x9\",\"23x10\",\"23x11\",\"23x12\",\"23x13\",\"23x14\",\"23x15\",\"23x16\",\"23x17\",\"23x18\",\"23x19\",\"23x20\",\"23x21\",\"23x22\",\"23x23\",\"23x24\",\"23x25\",\"23x26\",\"23x27\",\"23x28\",\"24x1\",\"24x2\",\"24x3\",\"24x4\",\"24x5\",\"24x6\",\"24x7\",\"24x8\",\"24x9\",\"24x10\",\"24x11\",\"24x12\",\"24x13\",\"24x14\",\"24x15\",\"24x16\",\"24x17\",\"24x18\",\"24x19\",\"24x20\",\"24x21\",\"24x22\",\"24x23\",\"24x24\",\"24x25\",\"24x26\",\"24x27\",\"24x28\",\"25x1\",\"25x2\",\"25x3\",\"25x4\",\"25x5\",\"25x6\",\"25x7\",\"25x8\",\"25x9\",\"25x10\",\"25x11\",\"25x12\",\"25x13\",\"25x14\",\"25x15\",\"25x16\",\"25x17\",\"25x18\",\"25x19\",\"25x20\",\"25x21\",\"25x22\",\"25x23\",\"25x24\",\"25x25\",\"25x26\",\"25x27\",\"25x28\",\"26x1\",\"26x2\",\"26x3\",\"26x4\",\"26x5\",\"26x6\",\"26x7\",\"26x8\",\"26x9\",\"26x10\",\"26x11\",\"26x12\",\"26x13\",\"26x14\",\"26x15\",\"26x16\",\"26x17\",\"26x18\",\"26x19\",\"26x20\",\"26x21\",\"26x22\",\"26x23\",\"26x24\",\"26x25\",\"26x26\",\"26x27\",\"26x28\",\"27x1\",\"27x2\",\"27x3\",\"27x4\",\"27x5\",\"27x6\",\"27x7\",\"27x8\",\"27x9\",\"27x10\",\"27x11\",\"27x12\",\"27x13\",\"27x14\",\"27x15\",\"27x16\",\"27x17\",\"27x18\",\"27x19\",\"27x20\",\"27x21\",\"27x22\",\"27x23\",\"27x24\",\"27x25\",\"27x26\",\"27x27\",\"27x28\",\"28x1\",\"28x2\",\"28x3\",\"28x4\",\"28x5\",\"28x6\",\"28x7\",\"28x8\",\"28x9\",\"28x10\",\"28x11\",\"28x12\",\"28x13\",\"28x14\",\"28x15\",\"28x16\",\"28x17\",\"28x18\",\"28x19\",\"28x20\",\"28x21\",\"28x22\",\"28x23\",\"28x24\",\"28x25\",\"28x26\",\"28x27\",\"28x28\"]\n",
    "\n",
    "vAR_TEST_DATA_FEATURES = vAR_TEST_DATA_FEATURES.iloc[:,0:785]\n",
    "\n",
    "#vAR_TEST_DATA_FEATURES\n"
   ]
  },
  {
   "cell_type": "code",
   "execution_count": null,
   "metadata": {},
   "outputs": [],
   "source": [
    "#*************************************************************************************************************************#        \n",
    "    \n",
    "## Step 7: Hand Written Digits Classification \n",
    "\n",
    "#*************************************************************************************************************************#        \n",
    "\n",
    "# Predicting the results for test set\n",
    "\n",
    "vAR_MODEL_PREDICTION = vAR_model.predict(vAR_TEST_DATA_FEATURES).astype(int)\n",
    "\n",
    "vAR_MODEL_PREDICTION = pd.DataFrame(vAR_MODEL_PREDICTION)\n"
   ]
  },
  {
   "cell_type": "code",
   "execution_count": null,
   "metadata": {},
   "outputs": [],
   "source": [
    "\n",
    "#*************************************************************************************************************************#        \n",
    "    \n",
    "## Step 8: Write the Model Outcome to a file\n",
    "\n",
    "#*************************************************************************************************************************#        \n",
    "\n",
    "\n",
    "vAR_MODEL_PREDICTION = vAR_MODEL_PREDICTION.to_excel(vAR_Model_Outcome)\n",
    "\n",
    "vAR_MODEL_PREDICTION = pd.read_excel(vAR_Model_Outcome,index_col=None)\n",
    "\n",
    "vAR_MODEL_PREDICTION = vAR_MODEL_PREDICTION.iloc[:,1:9]\n",
    "\n",
    "\n",
    "## Removing Temp Files\n",
    "\n",
    "os.remove(vAR_Image_Features)\n",
    "\n",
    "os.remove(vAR_Image_Labels)\n",
    "\n",
    "os.remove(vAR_Image_Feature_Labels)\n",
    "\n",
    "os.remove(vAR_Image_Features_Test)\n",
    "\n",
    "vAR_MODEL_PREDICTION\n",
    "\n",
    "\n",
    "#*************************************************************************************************************************#        "
   ]
  },
  {
   "cell_type": "code",
   "execution_count": null,
   "metadata": {},
   "outputs": [],
   "source": []
  },
  {
   "cell_type": "code",
   "execution_count": null,
   "metadata": {},
   "outputs": [],
   "source": []
  }
 ],
 "metadata": {
  "kernelspec": {
   "display_name": "Python 3",
   "language": "python",
   "name": "python3"
  },
  "language_info": {
   "codemirror_mode": {
    "name": "ipython",
    "version": 3
   },
   "file_extension": ".py",
   "mimetype": "text/x-python",
   "name": "python",
   "nbconvert_exporter": "python",
   "pygments_lexer": "ipython3",
   "version": "3.7.3"
  }
 },
 "nbformat": 4,
 "nbformat_minor": 2
}
