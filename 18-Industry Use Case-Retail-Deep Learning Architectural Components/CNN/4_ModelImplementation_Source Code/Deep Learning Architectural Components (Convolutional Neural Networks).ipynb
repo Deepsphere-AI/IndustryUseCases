{
 "cells": [
  {
   "cell_type": "markdown",
   "metadata": {},
   "source": [
    "# Machine Learning"
   ]
  },
  {
   "cell_type": "markdown",
   "metadata": {},
   "source": [
    "Machine learning (“ML“) is the scientific study of algorithms and statistical models that computer systems use to perform a specific task without using explicit instructions, relying instead on patterns and inference derived from data. In Simple terms Machine Learning is teaching the machine or the software to learn it self or it is an art of mimicking the human intelligence  "
   ]
  },
  {
   "cell_type": "markdown",
   "metadata": {},
   "source": [
    "# Deep Learning "
   ]
  },
  {
   "cell_type": "markdown",
   "metadata": {},
   "source": [
    "Deep learning ( “DL“) is a subtype of machine learning. DL can process a wider range of data resources, requires less data preprocessing by humans (e.g. feature labelling), and can sometimes produce more accurate results than traditional ML approaches (although it requires a larger amount of data to do so). However, it is computationally more expensive in time to execute, hardware costs and data quantities."
   ]
  },
  {
   "cell_type": "markdown",
   "metadata": {},
   "source": [
    "# Woking of Machine Learning and Deep Learning"
   ]
  },
  {
   "cell_type": "markdown",
   "metadata": {},
   "source": [
    "<img src = \"http://deepsphere.ai/Demo/ML vs DL.png\">"
   ]
  },
  {
   "cell_type": "markdown",
   "metadata": {},
   "source": [
    "# Architecture of Convolutional Neural Networks"
   ]
  },
  {
   "cell_type": "markdown",
   "metadata": {},
   "source": [
    "<img src = \"http://deepsphere.ai/Demo/DLAC1.png\">"
   ]
  },
  {
   "cell_type": "markdown",
   "metadata": {},
   "source": [
    "# Convolutional Nueral Networks"
   ]
  },
  {
   "cell_type": "markdown",
   "metadata": {},
   "source": [
    "O CNN’s are also composed of layers like the MLP's, but those layers are not fully connected: they have filters, sets of cube-shaped weights that are applied throughout the image. \n",
    "\n",
    "O Each 2D slice of the filters are called kernels. These filters introduce translation invariance and parameter sharing. How are they applied? Convolutions!"
   ]
  },
  {
   "cell_type": "markdown",
   "metadata": {},
   "source": [
    "<img src = \"http://deepsphere.ai/Demo/CNN_Architecture.png\">"
   ]
  },
  {
   "cell_type": "markdown",
   "metadata": {},
   "source": [
    "# Layers"
   ]
  },
  {
   "cell_type": "markdown",
   "metadata": {},
   "source": [
    "O CNN’s are also composed of layers like the MLP's, but those layers are not fully connected: they have filters, sets of cube-shaped weights that are applied throughout the image. \n",
    "\n",
    "O Each 2D slice of the filters are called kernels. These filters introduce translation invariance and parameter sharing. How are they applied? Convolutions!"
   ]
  },
  {
   "cell_type": "markdown",
   "metadata": {},
   "source": [
    "<img src = \"http://deepsphere.ai/Demo/CNN_Layers.png\">"
   ]
  },
  {
   "cell_type": "markdown",
   "metadata": {},
   "source": [
    "# Convolutional + Relu Layer"
   ]
  },
  {
   "cell_type": "markdown",
   "metadata": {},
   "source": [
    "<img src = \"http://deepsphere.ai/Demo/CNN_Conv_Layer.png\">"
   ]
  },
  {
   "cell_type": "markdown",
   "metadata": {},
   "source": [
    "O Convolutional layers are the layers where filters are applied to the original image, or to other feature maps in a deep CNN. \n",
    "\n",
    "O This is where most of the user-specified parameters are in the network. \n",
    "\n",
    "O The most important parameters are the number of kernels and the size of the kernels."
   ]
  },
  {
   "cell_type": "markdown",
   "metadata": {},
   "source": [
    "# Pooling Layer"
   ]
  },
  {
   "cell_type": "markdown",
   "metadata": {},
   "source": [
    "<img src = \"http://deepsphere.ai/Demo/CNN_Pooling_Layer.png\">"
   ]
  },
  {
   "cell_type": "markdown",
   "metadata": {},
   "source": [
    "O Pooling layers are similar to convolutional layers, but they perform a specific function such as max pooling, which takes the maximum value in a certain filter region, or average pooling, which takes the average value in a filter region. \n",
    "\n",
    "O These are typically used to reduce the dimensionality of the network."
   ]
  },
  {
   "cell_type": "markdown",
   "metadata": {},
   "source": [
    "# Fully Conntected Layer"
   ]
  },
  {
   "cell_type": "markdown",
   "metadata": {},
   "source": [
    "<img src = \"http://deepsphere.ai/Demo/CNN_FC_Layer.png\">"
   ]
  },
  {
   "cell_type": "markdown",
   "metadata": {},
   "source": [
    "O Fully connected layers are placed before the classification output of a CNN and are used to flatten the results before classification. \n",
    "\n",
    "O This is similar to the output layer of an MLP."
   ]
  },
  {
   "cell_type": "markdown",
   "metadata": {},
   "source": [
    "# Weight & Biases"
   ]
  },
  {
   "cell_type": "markdown",
   "metadata": {},
   "source": [
    "O Weights and biases (commonly referred to as w and b) are the learnable parameters of a machine learning model. \n",
    "\n",
    "O Each neuron in a layer and is connected to each neuron in the next layer.  When the inputs are transmitted between neurons, the weights are applied to the inputs along with the bias."
   ]
  },
  {
   "cell_type": "markdown",
   "metadata": {},
   "source": [
    "<img src = \"http://deepsphere.ai/Demo/Weight.png\">"
   ]
  },
  {
   "cell_type": "markdown",
   "metadata": {},
   "source": [
    "<img src = \"http://deepsphere.ai/Demo/Weight_Bias.png\">"
   ]
  },
  {
   "cell_type": "markdown",
   "metadata": {},
   "source": [
    "# Weight"
   ]
  },
  {
   "cell_type": "markdown",
   "metadata": {},
   "source": [
    "Weights control the signal (or the strength of the connection) between two neurons.  In other words, a weight decides how much influence the input will have on the output."
   ]
  },
  {
   "cell_type": "markdown",
   "metadata": {},
   "source": [
    "# Bias"
   ]
  },
  {
   "cell_type": "markdown",
   "metadata": {},
   "source": [
    "Biases, which are constant, are an additional input into the next layer that will always have the value of 1.  Bias units are not influenced by the previous layer (they do not have any incoming connections) but they do have outgoing connections with their own weights.  The bias unit guarantees that even when all the inputs are zeros there will still be an activation in the neuron."
   ]
  },
  {
   "cell_type": "markdown",
   "metadata": {},
   "source": [
    "# Activation Function"
   ]
  },
  {
   "cell_type": "markdown",
   "metadata": {},
   "source": [
    "O An activation function is a function that is added into an artificial neural network in order to help the network learn complex patterns in the data. \n",
    "\n",
    "O When comparing with a neuron-based model that is in our brains, the activation function is at the end deciding what is to be fired to the next neuron. \n",
    "\n",
    "O That is exactly what an activation function does in an ANN as well. It takes in the output signal from the previous cell and converts it into some form that can be taken as input to the next cell. \n",
    "\n",
    "O It is the Activation function that induces non-linearity in the network so that the model understands the complex pattern in the dataset"
   ]
  },
  {
   "cell_type": "markdown",
   "metadata": {},
   "source": [
    "# Sigmoid Activation Function"
   ]
  },
  {
   "cell_type": "markdown",
   "metadata": {},
   "source": [
    "O It is one of the most widely used non-linear activation function. Sigmoid transforms the values between the range 0 and 1 \n",
    "\n",
    "O A noteworthy point here is that unlike the binary step and linear functions, sigmoid is a non-linear function. \n",
    "\n",
    "O This essentially means -when I have multiple neurons having sigmoid function as their activation function,the output is non linear as well."
   ]
  },
  {
   "cell_type": "markdown",
   "metadata": {},
   "source": [
    "<img src = \"http://deepsphere.ai/Demo/Sigmoid.png\">"
   ]
  },
  {
   "cell_type": "markdown",
   "metadata": {},
   "source": [
    "# Filters"
   ]
  },
  {
   "cell_type": "markdown",
   "metadata": {},
   "source": [
    "O A filter is represented by a vector of weights with which we convolve the input. The filter, similar to a filter encountered in signal processing, provides a measure for how close a patch of input resembles a feature. A feature may be vertical edge or an arch.\n",
    "\n",
    "O The feature that the filter helps identify is not engineered manually but derived from the data through the learning algorithm."
   ]
  },
  {
   "cell_type": "markdown",
   "metadata": {},
   "source": [
    "<img src = \"http://deepsphere.ai/Demo/CNN_Filters.png\">"
   ]
  },
  {
   "cell_type": "markdown",
   "metadata": {},
   "source": [
    "# Pooling"
   ]
  },
  {
   "cell_type": "markdown",
   "metadata": {},
   "source": [
    "O Pooling is a  function is to progressively reduce the spatial size of the representation to reduce the amount of parameters and computation in the network. Pooling layer operates on each feature map independently.\n",
    "\n",
    "O The most common approach used in pooling is max pooling."
   ]
  },
  {
   "cell_type": "markdown",
   "metadata": {},
   "source": [
    "<img src = \"http://deepsphere.ai/Demo/CNN_Pooling.png\">"
   ]
  },
  {
   "cell_type": "markdown",
   "metadata": {},
   "source": [
    "# Padding"
   ]
  },
  {
   "cell_type": "markdown",
   "metadata": {},
   "source": [
    "Padding is a term relevant to convolutional neural networks as it refers to the amount of pixels added to an image when it is being processed by the kernel of a CNN. For example, if the padding in a CNN is set to zero, then every pixel value that is added will be of value zero.\n",
    "\n",
    "Padding has the following benefits:\n",
    "\n",
    "O It allows us to use a CONV layer without necessarily shrinking the height and width of the volumes. This is important for building deeper networks, since otherwise the height/width would shrink as we go to deeper layers.\n",
    "\n",
    "O It helps us keep more of the information at the border of an image. Without padding, very few values at the next layer would be affected by pixels as the edges of an image."
   ]
  },
  {
   "cell_type": "markdown",
   "metadata": {},
   "source": [
    "<img src = \"http://deepsphere.ai/Demo/CNN_Padding.png\">"
   ]
  },
  {
   "cell_type": "markdown",
   "metadata": {},
   "source": [
    "# Data Augumentation"
   ]
  },
  {
   "cell_type": "markdown",
   "metadata": {},
   "source": [
    "Inspite of all the data availability, fetching the right type of data which matches the exact use-case is a daunting task. Moreover, the data has to have good diversity as the object of interest needs to be present in varying sizes, lighting conditions and poses if we desire that our network generalizes well during the testing (or deployment) phase. To overcome this problem of limited quantity and limited diversity of data, we generate(manufacture) our own data with the existing data which we have. This methodology of generating our own data is known as data augmentation."
   ]
  },
  {
   "cell_type": "markdown",
   "metadata": {},
   "source": [
    "# Different Types of Data Augumentation"
   ]
  },
  {
   "cell_type": "markdown",
   "metadata": {},
   "source": [
    "1. Scaling: Having differently scaled object of interest in the images is the most important aspect of image diversity. When your network is in hands of real users, the object in the image can be tiny or large."
   ]
  },
  {
   "cell_type": "markdown",
   "metadata": {},
   "source": [
    "<img src = \"http://deepsphere.ai/Demo/CNN_DA_Scaling.png\">"
   ]
  },
  {
   "cell_type": "markdown",
   "metadata": {},
   "source": [
    "2. Translation: We would like our network to recognize the object present in any part of the image. Also, the object can be present partially in the corner or edges of the image. For this reason, we shift the object to various parts of the image. This may also result in addition of a background noise. The code snippet shows translating the image at four sides retaining 80 percent of the base image."
   ]
  },
  {
   "cell_type": "markdown",
   "metadata": {},
   "source": [
    "<img src = \"http://deepsphere.ai/Demo/CNN_DA_Translation.png\">"
   ]
  },
  {
   "cell_type": "markdown",
   "metadata": {},
   "source": [
    "3. Rotation: The network has to recognize the object present in any orientation. Assuming the image is square, rotating the image at 90 degrees will not add any background noise in the image."
   ]
  },
  {
   "cell_type": "markdown",
   "metadata": {},
   "source": [
    "<img src = \"http://deepsphere.ai/Demo/CNN_DA_Rotation.png\">"
   ]
  },
  {
   "cell_type": "markdown",
   "metadata": {},
   "source": [
    "# Cost Function"
   ]
  },
  {
   "cell_type": "markdown",
   "metadata": {},
   "source": [
    "O A cost function is a measure of error between what value your model predicts and what the value actually is. For example, say we wish to predict the value yi for data point xi.\n",
    "\n",
    "O A cost function represents the prediction or output of some arbitrary model for the point xi with parameters θ. \n",
    "\n",
    "O One of the many cost functions could be L2 loss. Training the hypothetical model we stated above would be the process of finding the θ that minimizes the Sum"
   ]
  },
  {
   "cell_type": "markdown",
   "metadata": {},
   "source": [
    "<img src = \"http://deepsphere.ai/Demo/Cost Function.png\">"
   ]
  },
  {
   "cell_type": "markdown",
   "metadata": {},
   "source": [
    "# Gradient Descent"
   ]
  },
  {
   "cell_type": "markdown",
   "metadata": {},
   "source": [
    "O Gradient Descent is a process that occurs in the backpropagation phase where the goal is to continuously resample the gradient of the model’s parameter in the opposite direction based on the weight w, updating consistently until we reach the global minimum of function J(w).\n",
    "\n",
    "O To put it simply, we use gradient descent to minimize the cost function, J(w).\n",
    "\n",
    "O The gradient descent process is exhibited in the form of the backpropagation step where we compute the error vectors δ backward, starting from the final layer. \n",
    "\n",
    "O Depending upon the activation function, we identify how much change is required by much change is required by taking the partial derivative of the function with respect to w. \n",
    "\n",
    "O The change value gets multiplied by the learning rate. As part of the output, we subtract this value from the previous output to get the updated value. We continue this till we reach convergence."
   ]
  },
  {
   "cell_type": "markdown",
   "metadata": {},
   "source": [
    "<img src = \"http://deepsphere.ai/Demo/Gradient Descent.png\">"
   ]
  },
  {
   "cell_type": "markdown",
   "metadata": {},
   "source": [
    "# Learning Rate"
   ]
  },
  {
   "cell_type": "markdown",
   "metadata": {},
   "source": [
    "O The amount that the weights are updated during training is referred to as the step size or the “learning rate.”\n",
    "\n",
    "O Specifically, the learning rate is a configurable hyperparameter used in the training of neural networks that has a small positive value, often in the range between 0.0 and 1.0.\n",
    "\n",
    "O The learning rate controls how quickly the model is adapted to the problem. Smaller learning rates require more training epochs given the smaller changes made to the weights each update, whereas larger learning rates result in rapid changes and require fewer training epochs.\n",
    "\n",
    "O A learning rate that is too large can cause the model to converge too quickly to a suboptimal solution, whereas a learning rate that is too small can cause the process to get stuck."
   ]
  },
  {
   "cell_type": "markdown",
   "metadata": {},
   "source": [
    "# Batches, Epochs and Iterations"
   ]
  },
  {
   "cell_type": "markdown",
   "metadata": {},
   "source": [
    "Batches\n",
    "\n",
    "O The Batch Size is a number of samples processed before the model is updated.\n",
    "\n",
    "O The size of a batch must be more than or equal to one and less than or equal to the number of samples in the training dataset.\n",
    "\n",
    "\n",
    "Epochs\n",
    "\n",
    "O The number of epochs is the number of complete passes through the training dataset.\n",
    "\n",
    "O The number of epochs can be set to an integer value between one and infinity. You can run the algorithm for as long as you like and even stop it using other criteria besides a fixed number of epochs, such as a change (or lack of change) in model error over time.\n",
    "\n",
    "\n",
    "\n",
    "Iterations\n",
    "\n",
    "O Iterations is the number of batches needed to complete one epoch.\n",
    "\n",
    "\n",
    "Example When We can divide the dataset of 2000 examples into batches of 500 then it will take 4 iterations to complete 1 epoch. The Batch Size is 500 and Iterations is 4, for 1 complete epoch."
   ]
  },
  {
   "cell_type": "markdown",
   "metadata": {},
   "source": [
    "# Neural Networks Prediction of the Outcome"
   ]
  },
  {
   "cell_type": "markdown",
   "metadata": {},
   "source": [
    "<img src = \"http://deepsphere.ai/Demo/NN.gif\">"
   ]
  },
  {
   "cell_type": "markdown",
   "metadata": {},
   "source": [
    "# Steps of Implementation"
   ]
  },
  {
   "cell_type": "code",
   "execution_count": 13,
   "metadata": {},
   "outputs": [],
   "source": [
    "#********************************************************************************\n",
    "\n",
    "## Step 1: INI File Configuration\n",
    "\n",
    "#********************************************************************************\n",
    "\n",
    "# Importing the configparser library\n",
    "\n",
    "import configparser\n",
    "\n",
    "# Importing the OS library\n",
    "\n",
    "import os\n",
    "\n",
    "#********************************************************************************\n",
    "\n",
    "## Some configuration files are known to include settings without values, \n",
    "\n",
    "## The allow_no_value parameter to the constructor can be used to indicate that such values should be accepted:\n",
    "\n",
    "vAR_Config = configparser.ConfigParser(allow_no_value=True)\n",
    "\n",
    "#********************************************************************************\n",
    "\n",
    "## Reading the .INI File  and its sections through the set environment variable\n",
    "\n",
    "vAR_INI_FILE_PATH = os.getenv('GENDER_DETECTION_INI_FILE_DL')\n",
    "#print(vAR_INI_FILE_PATH)\n",
    "\n",
    "vAR_Config.read(vAR_INI_FILE_PATH)\n",
    "\n",
    "vAR_Data = vAR_Config.sections()\n",
    "\n",
    "vAR_Config.sections()\n",
    "\n",
    "#********************************************************************************\n",
    "\n",
    "## Reading the Training Data Path\n",
    "\n",
    "vAR_TRAIN_DIR = vAR_Config['FILE PATH']['TRAINING_DATA']\n",
    "#print(vAR_TRAIN_DIR)\n",
    "\n",
    "#********************************************************************************\n",
    "\n",
    "## Reading the Test Data Path\n",
    "\n",
    "vAR_TEST_DIR = vAR_Config['FILE PATH']['TEST_DATA']\n",
    "#print(vAR_TEST_DIR)\n",
    "\n",
    "#********************************************************************************\n",
    "\n",
    "## Reading the Model Outcome Path\n",
    "\n",
    "vAR_Outcomedatapath = vAR_Config['FILE PATH']['MODEL_OUTCOME_CNN']\n",
    "#print(vAR_Outcomedatapath)\n",
    "\n",
    "#********************************************************************************\n",
    "\n",
    "## Setting the Images Pixel Size & making the image uniform all across\n",
    "\n",
    "vAR_IMG_SIZE = vAR_Config['FILE PATH']['IMG_SIZE']\n",
    "vAR_IMG_SIZE = int(vAR_IMG_SIZE)\n",
    "#print(vAR_IMG_SIZE)\n",
    "\n",
    "#********************************************************************************\n",
    "\n",
    "## Setting the Learning Rate for the NN Model\n",
    "\n",
    "vAR_LR = vAR_Config['FILE PATH']['LEARNING_RATE']\n",
    "vAR_LR = float(vAR_LR)\n",
    "#print(vAR_LR)\n",
    "\n",
    "#********************************************************************************\n",
    "\n",
    "## Saving the NN Model with a Name (The Model gets modified every with parameter changes & hence saved and used)\n",
    "\n",
    "vAR_MODEL_NAME=\"Malevsfemale-{}-{}.model\".format(vAR_LR,'6conv_basic_video')\n",
    "\n",
    "#********************************************************************************\n",
    "    \n",
    "## Step 2: Importing the Required Libraries\n",
    "\n",
    "#********************************************************************************\n",
    "\n",
    "import tensorflow as tf\n",
    "\n",
    "import pandas as vAR_pd\n",
    "\n",
    "import numpy as vAR_np\n",
    "\n",
    "import cv2\n",
    "\n",
    "from tqdm import tqdm\n",
    "\n",
    "from random import shuffle\n",
    "\n",
    "import os\n",
    "\n",
    "import tflearn\n",
    "\n",
    "from tflearn.layers.conv import conv_2d, max_pool_2d\n",
    "\n",
    "from tflearn.layers.core import input_data, dropout, fully_connected\n",
    "\n",
    "from tflearn.layers.estimator import regression\n",
    "\n",
    "from keras.callbacks import TensorBoard"
   ]
  },
  {
   "cell_type": "code",
   "execution_count": 3,
   "metadata": {},
   "outputs": [
    {
     "name": "stderr",
     "output_type": "stream",
     "text": [
      "\r",
      "  0%|                                                                                          | 0/100 [00:00<?, ?it/s]"
     ]
    },
    {
     "name": "stdout",
     "output_type": "stream",
     "text": [
      "29_0_1_20170116205643042.jpg.chip.jpg [1, 0]\n",
      "29_0_1_20170116210509902.jpg.chip.jpg [1, 0]\n",
      "29_0_1_20170116214326195.jpg.chip.jpg [1, 0]\n"
     ]
    },
    {
     "name": "stderr",
     "output_type": "stream",
     "text": [
      "\r",
      "  3%|██▍                                                                               | 3/100 [00:00<00:03, 29.78it/s]"
     ]
    },
    {
     "name": "stdout",
     "output_type": "stream",
     "text": [
      "29_0_1_20170117012800357.jpg.chip.jpg [1, 0]\n",
      "29_0_1_20170117015458481.jpg.chip.jpg [1, 0]\n",
      "29_1_0_20170112235530689.jpg.chip.jpg [0, 1]\n",
      "29_1_0_20170112487607250.jpg.chip.jpg [0, 1]\n",
      "29_1_0_20170113000327017.jpg.chip.jpg [0, 1]\n",
      "29_1_0_20170113000811442.jpg.chip.jpg [0, 1]\n"
     ]
    },
    {
     "name": "stderr",
     "output_type": "stream",
     "text": [
      "\r",
      "  9%|███████▍                                                                          | 9/100 [00:00<00:02, 34.92it/s]"
     ]
    },
    {
     "name": "stdout",
     "output_type": "stream",
     "text": [
      "29_1_0_20170113012607249.jpg.chip.jpg [0, 1]\n",
      "30_0_1_20170113133122016.jpg.chip.jpg [1, 0]\n",
      "30_0_1_20170113133238257.jpg.chip.jpg [1, 0]\n",
      "30_0_1_20170113133323665.jpg.chip.jpg [1, 0]\n",
      "30_0_1_20170113133612273.jpg.chip.jpg [1, 0]\n",
      "30_0_1_20170113133719624.jpg.chip.jpg [1, 0]\n",
      "30_0_1_20170113134006616.jpg.chip.jpg [1, 0]\n",
      "30_0_1_20170113134204447.jpg.chip.jpg [1, 0]\n"
     ]
    },
    {
     "name": "stderr",
     "output_type": "stream",
     "text": [
      "\r",
      " 17%|█████████████▊                                                                   | 17/100 [00:00<00:02, 41.42it/s]"
     ]
    },
    {
     "name": "stdout",
     "output_type": "stream",
     "text": [
      "30_0_1_20170113134217498.jpg.chip.jpg [1, 0]\n",
      "30_0_1_20170113141654362.jpg.chip.jpg [1, 0]\n",
      "30_0_1_20170113141818644.jpg.chip.jpg [1, 0]\n",
      "30_0_1_20170113141822196.jpg.chip.jpg [1, 0]\n",
      "30_0_1_20170113141846612.jpg.chip.jpg [1, 0]\n",
      "30_0_1_20170113151342687.jpg.chip.jpg [1, 0]\n",
      "30_0_1_20170113152824163.jpg.chip.jpg [1, 0]\n"
     ]
    },
    {
     "name": "stderr",
     "output_type": "stream",
     "text": [
      "\r",
      " 24%|███████████████████▍                                                             | 24/100 [00:00<00:01, 45.84it/s]"
     ]
    },
    {
     "name": "stdout",
     "output_type": "stream",
     "text": [
      "30_0_1_20170113155013364.jpg.chip.jpg [1, 0]\n",
      "30_0_1_20170113173357107.jpg.chip.jpg [1, 0]\n",
      "30_0_1_20170113190459754.jpg.chip.jpg [1, 0]\n",
      "30_0_1_20170113190501769.jpg.chip.jpg [1, 0]\n",
      "30_0_1_20170113195438285.jpg.chip.jpg [1, 0]\n",
      "30_0_1_20170113195630213.jpg.chip.jpg [1, 0]\n",
      "30_0_1_20170114033434587.jpg.chip.jpg [1, 0]\n",
      "30_0_1_20170116002938608.jpg.chip.jpg [1, 0]\n"
     ]
    },
    {
     "name": "stderr",
     "output_type": "stream",
     "text": [
      "\r",
      " 32%|█████████████████████████▉                                                       | 32/100 [00:00<00:01, 51.88it/s]"
     ]
    },
    {
     "name": "stdout",
     "output_type": "stream",
     "text": [
      "30_0_1_20170116010614771.jpg.chip.jpg [1, 0]\n",
      "30_0_1_20170116010647849.jpg.chip.jpg [1, 0]\n",
      "30_0_1_20170116010659651.jpg.chip.jpg [1, 0]\n",
      "30_0_1_20170116011020977.jpg.chip.jpg [1, 0]\n",
      "30_0_1_20170116024856991.jpg.chip.jpg [1, 0]\n",
      "30_0_1_20170116213438554.jpg.chip.jpg [1, 0]\n",
      "30_0_1_20170116213558934.jpg.chip.jpg [1, 0]\n",
      "30_0_1_20170116214526846.jpg.chip.jpg [1, 0]\n"
     ]
    },
    {
     "name": "stderr",
     "output_type": "stream",
     "text": [
      "\r",
      " 40%|████████████████████████████████▍                                                | 40/100 [00:00<00:01, 56.66it/s]"
     ]
    },
    {
     "name": "stdout",
     "output_type": "stream",
     "text": [
      "30_0_1_20170116214710372.jpg.chip.jpg [1, 0]\n",
      "30_0_1_20170117094442927.jpg.chip.jpg [1, 0]\n",
      "30_0_1_20170117120438367.jpg.chip.jpg [1, 0]\n",
      "30_0_1_20170117123820956.jpg.chip.jpg [1, 0]\n",
      "30_0_1_20170117123837646.jpg.chip.jpg [1, 0]\n",
      "30_0_1_20170117123839619.jpg.chip.jpg [1, 0]\n"
     ]
    },
    {
     "name": "stderr",
     "output_type": "stream",
     "text": [
      "\r",
      " 46%|█████████████████████████████████████▎                                           | 46/100 [00:00<00:00, 57.01it/s]"
     ]
    },
    {
     "name": "stdout",
     "output_type": "stream",
     "text": [
      "30_0_1_20170117123902427.jpg.chip.jpg [1, 0]\n",
      "30_0_1_20170117123914245.jpg.chip.jpg [1, 0]\n",
      "30_0_1_20170117123915360.jpg.chip.jpg [1, 0]\n",
      "30_0_1_20170117130022204.jpg.chip.jpg [1, 0]\n",
      "30_0_1_20170117202910591.jpg.chip.jpg [1, 0]\n",
      "30_0_2_20170116164401454.jpg.chip.jpg [1, 0]\n",
      "30_0_2_20170116164436658.jpg.chip.jpg [1, 0]\n"
     ]
    },
    {
     "name": "stderr",
     "output_type": "stream",
     "text": [
      "\r",
      " 53%|██████████████████████████████████████████▉                                      | 53/100 [00:00<00:00, 58.38it/s]"
     ]
    },
    {
     "name": "stdout",
     "output_type": "stream",
     "text": [
      "30_0_2_20170116170852517.jpg.chip.jpg [1, 0]\n",
      "30_0_2_20170116172532435.jpg.chip.jpg [1, 0]\n",
      "30_1_2_20170104020133916.jpg.chip.jpg [0, 1]\n",
      "30_1_2_20170104020408339.jpg.chip.jpg [0, 1]\n",
      "30_1_2_20170104020413511.jpg.chip.jpg [0, 1]\n",
      "30_1_2_20170104020459348.jpg.chip.jpg [0, 1]\n"
     ]
    },
    {
     "name": "stderr",
     "output_type": "stream",
     "text": [
      "\r",
      " 59%|███████████████████████████████████████████████▊                                 | 59/100 [00:00<00:00, 58.39it/s]"
     ]
    },
    {
     "name": "stdout",
     "output_type": "stream",
     "text": [
      "30_1_2_20170104020950540.jpg.chip.jpg [0, 1]\n",
      "30_1_2_20170104021318733.jpg.chip.jpg [0, 1]\n",
      "30_1_2_20170104022925822.jpg.chip.jpg [0, 1]\n",
      "30_1_2_20170104164904841.jpg.chip.jpg [0, 1]\n",
      "30_1_2_20170104192931704.jpg.chip.jpg [0, 1]\n",
      "30_1_2_20170105002521620.jpg.chip.jpg [0, 1]\n"
     ]
    },
    {
     "name": "stderr",
     "output_type": "stream",
     "text": [
      "\r",
      " 65%|████████████████████████████████████████████████████▋                            | 65/100 [00:01<00:00, 49.58it/s]"
     ]
    },
    {
     "name": "stdout",
     "output_type": "stream",
     "text": [
      "30_1_2_20170105161432042.jpg.chip.jpg [0, 1]\n",
      "30_1_2_20170105170141222.jpg.chip.jpg [0, 1]\n",
      "30_1_2_20170116161338805.jpg.chip.jpg [0, 1]\n",
      "30_1_2_20170116161420356.jpg.chip.jpg [0, 1]\n",
      "30_1_2_20170116161740145.jpg.chip.jpg [0, 1]\n",
      "30_1_2_20170116162002429.jpg.chip.jpg [0, 1]\n",
      "30_1_2_20170116162625578.jpg.chip.jpg [0, 1]\n",
      "30_1_2_20170116162634192.jpg.chip.jpg [0, 1]\n"
     ]
    },
    {
     "name": "stderr",
     "output_type": "stream",
     "text": [
      "\r",
      " 73%|███████████████████████████████████████████████████████████▏                     | 73/100 [00:01<00:00, 55.42it/s]"
     ]
    },
    {
     "name": "stdout",
     "output_type": "stream",
     "text": [
      "30_1_2_20170116163458646.jpg.chip.jpg [0, 1]\n",
      "30_1_2_20170116163642750.jpg.chip.jpg [0, 1]\n",
      "30_1_2_20170116163932623.jpg.chip.jpg [0, 1]\n",
      "30_1_2_20170116164729972.jpg.chip.jpg [0, 1]\n",
      "30_1_2_20170116164737724.jpg.chip.jpg [0, 1]\n",
      "30_1_2_20170116165139757.jpg.chip.jpg [0, 1]\n"
     ]
    },
    {
     "name": "stderr",
     "output_type": "stream",
     "text": [
      "\r",
      " 79%|███████████████████████████████████████████████████████████████▉                 | 79/100 [00:01<00:00, 53.01it/s]"
     ]
    },
    {
     "name": "stdout",
     "output_type": "stream",
     "text": [
      "30_1_2_20170116170703197.jpg.chip.jpg [0, 1]\n",
      "30_1_2_20170116171019788.jpg.chip.jpg [0, 1]\n",
      "30_1_2_20170116174642075.jpg.chip.jpg [0, 1]\n",
      "30_1_2_20170116184611730.jpg.chip.jpg [0, 1]\n",
      "30_1_2_20170116191207397.jpg.chip.jpg [0, 1]\n",
      "30_1_2_20170116191220057.jpg.chip.jpg [0, 1]\n"
     ]
    },
    {
     "name": "stderr",
     "output_type": "stream",
     "text": [
      "\r",
      " 85%|████████████████████████████████████████████████████████████████████▊            | 85/100 [00:01<00:00, 49.42it/s]"
     ]
    },
    {
     "name": "stdout",
     "output_type": "stream",
     "text": [
      "30_1_2_20170116191317558.jpg.chip.jpg [0, 1]\n",
      "30_1_2_20170116191902270.jpg.chip.jpg [0, 1]\n",
      "30_1_2_20170116192241195.jpg.chip.jpg [0, 1]\n",
      "30_1_2_20170116192245601.jpg.chip.jpg [0, 1]\n",
      "30_1_2_20170116192313635.jpg.chip.jpg [0, 1]\n",
      "30_1_2_20170116192334382.jpg.chip.jpg [0, 1]\n",
      "30_1_2_20170116192341274.jpg.chip.jpg [0, 1]\n",
      "30_1_3_20170104223046816.jpg.chip.jpg [0, 1]\n"
     ]
    },
    {
     "name": "stderr",
     "output_type": "stream",
     "text": [
      "\r",
      " 93%|███████████████████████████████████████████████████████████████████████████▎     | 93/100 [00:01<00:00, 55.40it/s]"
     ]
    },
    {
     "name": "stdout",
     "output_type": "stream",
     "text": [
      "30_1_3_20170104223318647.jpg.chip.jpg [0, 1]\n",
      "30_1_3_20170104231521681.jpg.chip.jpg [0, 1]\n",
      "30_1_3_20170104231945705.jpg.chip.jpg [0, 1]\n",
      "30_1_3_20170104232147226.jpg.chip.jpg [0, 1]\n",
      "30_1_3_20170104232927250.jpg.chip.jpg [0, 1]\n",
      "30_1_3_20170104235219219.jpg.chip.jpg [0, 1]\n"
     ]
    },
    {
     "name": "stderr",
     "output_type": "stream",
     "text": [
      "\r",
      " 99%|████████████████████████████████████████████████████████████████████████████████▏| 99/100 [00:01<00:00, 33.34it/s]"
     ]
    },
    {
     "name": "stdout",
     "output_type": "stream",
     "text": [
      "30_1_3_20170104235527578.jpg.chip.jpg [0, 1]\n"
     ]
    },
    {
     "name": "stderr",
     "output_type": "stream",
     "text": [
      "100%|████████████████████████████████████████████████████████████████████████████████| 100/100 [00:02<00:00, 49.77it/s]\n"
     ]
    },
    {
     "data": {
      "text/plain": [
       "[[array([[ 39,  30,  27, ...,  41,  55, 135],\n",
       "         [ 34,  22,  26, ...,  38,  48,  81],\n",
       "         [ 28,  25,  30, ...,  37,  41,  51],\n",
       "         ...,\n",
       "         [247, 242, 241, ..., 231, 247, 251],\n",
       "         [247, 248, 244, ..., 238, 249, 252],\n",
       "         [250, 240, 240, ..., 240, 250, 250]], dtype=uint8), array([0, 1])],\n",
       " [array([[61, 32, 22, ..., 57, 58, 52],\n",
       "         [46, 26, 18, ..., 42, 53, 53],\n",
       "         [33, 20, 16, ..., 49, 53, 61],\n",
       "         ...,\n",
       "         [22, 19, 20, ..., 41, 32, 56],\n",
       "         [21, 21, 21, ..., 38, 35, 51],\n",
       "         [23, 23, 22, ..., 30, 35, 48]], dtype=uint8), array([0, 1])],\n",
       " [array([[153,  41,  60, ..., 185, 187, 187],\n",
       "         [163,  49,  63, ..., 184, 185, 185],\n",
       "         [161,  55,  63, ..., 182, 184, 184],\n",
       "         ...,\n",
       "         [ 78, 223, 220, ..., 228, 227, 225],\n",
       "         [107, 223, 224, ..., 233, 228, 225],\n",
       "         [151, 223, 225, ..., 227, 224, 224]], dtype=uint8), array([1, 0])],\n",
       " [array([[117, 116, 115, ...,  42,  28,  28],\n",
       "         [119, 117, 115, ...,  39,  34,  31],\n",
       "         [118, 118, 116, ...,  42,  33,  27],\n",
       "         ...,\n",
       "         [ 40,  30,  24, ...,  34,  40,  33],\n",
       "         [ 38,  28,  21, ...,  33,  34,  40],\n",
       "         [ 32,  22,  21, ...,  34,  27,  36]], dtype=uint8), array([1, 0])],\n",
       " [array([[227, 224, 162, ...,  35,  25,  33],\n",
       "         [227, 224, 143, ...,  41,  38,  37],\n",
       "         [226, 233, 115, ...,  40,  39,  43],\n",
       "         ...,\n",
       "         [204, 204, 202, ..., 236, 229, 211],\n",
       "         [204, 204, 203, ..., 234, 224, 215],\n",
       "         [204, 204, 204, ..., 230, 223, 192]], dtype=uint8), array([1, 0])],\n",
       " [array([[71, 75, 78, ..., 89, 74, 54],\n",
       "         [52, 59, 86, ..., 87, 64, 55],\n",
       "         [48, 60, 98, ..., 92, 63, 58],\n",
       "         ...,\n",
       "         [42, 48, 43, ..., 60, 52, 43],\n",
       "         [41, 47, 42, ..., 63, 52, 47],\n",
       "         [39, 45, 42, ..., 76, 47, 44]], dtype=uint8), array([0, 1])],\n",
       " [array([[24, 22, 29, ..., 19, 22, 22],\n",
       "         [24, 25, 43, ...,  7, 22, 22],\n",
       "         [15, 29, 31, ..., 12, 11, 18],\n",
       "         ...,\n",
       "         [30, 27, 38, ...,  8, 14,  7],\n",
       "         [37, 22, 37, ...,  5, 13,  8],\n",
       "         [33, 24, 31, ...,  5, 13,  8]], dtype=uint8), array([0, 1])],\n",
       " [array([[ 1,  1,  0, ..., 53, 44, 36],\n",
       "         [ 1,  1,  2, ..., 53, 43, 37],\n",
       "         [ 1,  2,  5, ..., 56, 45, 39],\n",
       "         ...,\n",
       "         [26, 23, 24, ..., 47, 47, 38],\n",
       "         [23, 21, 23, ..., 50, 47, 38],\n",
       "         [23, 21, 23, ..., 48, 48, 36]], dtype=uint8), array([0, 1])],\n",
       " [array([[ 67,  65,  62, ...,  74,  69,  65],\n",
       "         [ 67,  62,  58, ...,  65,  68,  67],\n",
       "         [ 69,  62,  57, ...,  56,  73,  71],\n",
       "         ...,\n",
       "         [144, 150, 151, ...,  35,  37,  43],\n",
       "         [147, 147, 150, ...,  35,  39,  47],\n",
       "         [146, 149, 153, ...,  41,  45,  53]], dtype=uint8), array([0, 1])],\n",
       " [array([[251, 246, 186, ..., 115, 144, 212],\n",
       "         [249, 236, 146, ..., 103, 122, 190],\n",
       "         [241, 212, 111, ...,  85,  99, 158],\n",
       "         ...,\n",
       "         [250, 249, 251, ..., 237, 251, 251],\n",
       "         [251, 251, 252, ..., 237, 251, 254],\n",
       "         [251, 251, 250, ..., 236, 246, 243]], dtype=uint8), array([1, 0])],\n",
       " [array([[33, 30, 30, ..., 36, 31, 36],\n",
       "         [34, 32, 31, ..., 38, 33, 37],\n",
       "         [36, 33, 31, ..., 38, 35, 36],\n",
       "         ...,\n",
       "         [43, 47, 41, ..., 32, 30, 27],\n",
       "         [43, 46, 40, ..., 30, 31, 29],\n",
       "         [42, 45, 40, ..., 27, 28, 32]], dtype=uint8), array([0, 1])],\n",
       " [array([[110, 106,  78, ..., 250, 253, 253],\n",
       "         [ 97,  69,  60, ..., 251, 251, 251],\n",
       "         [ 77,  74,  55, ..., 253, 252, 252],\n",
       "         ...,\n",
       "         [ 37,  54,  57, ..., 112,  99,  62],\n",
       "         [ 36,  54,  56, ...,  35,  34,  47],\n",
       "         [ 40,  55,  53, ...,  55,  55,  67]], dtype=uint8), array([0, 1])],\n",
       " [array([[ 37,  45,  56, ...,  88,  89,  74],\n",
       "         [ 34,  44,  57, ...,  86,  90,  75],\n",
       "         [ 33,  47,  64, ...,  87,  88,  73],\n",
       "         ...,\n",
       "         [222, 225, 144, ...,  56,  59,  69],\n",
       "         [223, 231, 181, ...,  62,  67,  73],\n",
       "         [229, 237, 214, ...,  64,  76,  73]], dtype=uint8), array([0, 1])],\n",
       " [array([[192,  55,  57, ..., 195, 195, 195],\n",
       "         [186,  62,  54, ..., 195, 195, 195],\n",
       "         [180,  63,  52, ..., 195, 195, 195],\n",
       "         ...,\n",
       "         [  2,   3,   2, ..., 104, 104, 104],\n",
       "         [  0,   0,   0, ...,   0,   0,   0],\n",
       "         [  0,   0,   0, ...,   0,   0,   0]], dtype=uint8), array([1, 0])],\n",
       " [array([[ 98,  39,  56, ...,  33,  65,  49],\n",
       "         [110,  48,  76, ...,  56,  45,  46],\n",
       "         [136,  72,  70, ...,  42,  26,  31],\n",
       "         ...,\n",
       "         [ 53,  74,  88, ...,  84,  72,  43],\n",
       "         [ 55, 103,  59, ...,  51,  44,  71],\n",
       "         [ 45, 143,  78, ...,  48,  44,  83]], dtype=uint8), array([1, 0])],\n",
       " [array([[ 60,  81,  98, ..., 228,   0,   0],\n",
       "         [ 65,  93, 114, ..., 220,   0,   0],\n",
       "         [ 89, 110, 135, ..., 226,   0,   0],\n",
       "         ...,\n",
       "         [232, 217, 164, ...,   0,   0,   0],\n",
       "         [133, 160, 181, ...,   1,   0,   0],\n",
       "         [165, 173, 173, ...,   1,   0,   0]], dtype=uint8), array([1, 0])],\n",
       " [array([[68, 64, 53, ..., 29, 31, 33],\n",
       "         [78, 63, 48, ..., 27, 26, 30],\n",
       "         [89, 60, 43, ..., 25, 24, 29],\n",
       "         ...,\n",
       "         [18, 16, 11, ...,  3,  1,  3],\n",
       "         [22, 21, 16, ...,  4,  3,  3],\n",
       "         [31, 27, 22, ...,  3,  3,  3]], dtype=uint8), array([0, 1])],\n",
       " [array([[  8,  10,  14, ..., 213, 239, 239],\n",
       "         [  8,  10,  15, ..., 196, 233, 236],\n",
       "         [  7,   9,  14, ..., 142, 224, 236],\n",
       "         ...,\n",
       "         [ 37,  35,  27, ...,  38,  54, 120],\n",
       "         [ 39,  32,  37, ...,  58, 108, 152],\n",
       "         [ 32,  33,  41, ...,  67, 136, 215]], dtype=uint8), array([0, 1])],\n",
       " [array([[12, 13, 16, ..., 17, 13, 13],\n",
       "         [11,  9, 16, ..., 22, 15, 15],\n",
       "         [11, 11, 30, ..., 27, 17, 15],\n",
       "         ...,\n",
       "         [18, 39, 77, ..., 78, 76, 73],\n",
       "         [18, 20, 27, ..., 73, 75, 70],\n",
       "         [21, 14,  7, ..., 82, 85, 83]], dtype=uint8), array([0, 1])],\n",
       " [array([[216,  85,  33, ..., 219, 217, 218],\n",
       "         [215,  80,  37, ..., 216, 217, 218],\n",
       "         [215,  71,  48, ..., 213, 216, 217],\n",
       "         ...,\n",
       "         [ 41,  46, 136, ..., 216, 216, 214],\n",
       "         [ 41,  41,  77, ..., 216, 215, 215],\n",
       "         [ 40,  51,  47, ...,   1,   1,   1]], dtype=uint8), array([1, 0])],\n",
       " [array([[ 28,  33,  51, ..., 168, 169, 171],\n",
       "         [ 45,  66,  83, ..., 137, 169, 167],\n",
       "         [ 78, 106, 109, ...,  91, 168, 169],\n",
       "         ...,\n",
       "         [190, 187, 182, ..., 238, 237, 234],\n",
       "         [188, 188, 184, ..., 236, 233, 238],\n",
       "         [186, 183, 182, ..., 234, 214, 233]], dtype=uint8), array([0, 1])],\n",
       " [array([[67, 67, 69, ..., 52, 52, 51],\n",
       "         [67, 67, 66, ..., 54, 55, 54],\n",
       "         [62, 63, 65, ..., 52, 54, 53],\n",
       "         ...,\n",
       "         [11, 16, 16, ..., 38, 38, 39],\n",
       "         [11, 15, 16, ..., 39, 41, 41],\n",
       "         [11, 15, 18, ..., 44, 45, 45]], dtype=uint8), array([1, 0])],\n",
       " [array([[169, 163, 136, ...,   6,   7,   5],\n",
       "         [172, 169, 141, ...,  20,  16,   5],\n",
       "         [172, 164, 148, ...,  21,  24,  15],\n",
       "         ...,\n",
       "         [ 76,  70,  60, ..., 213, 228, 212],\n",
       "         [ 52,  55,  61, ..., 212, 218, 227],\n",
       "         [ 45,  54,  70, ..., 209, 217, 231]], dtype=uint8), array([1, 0])],\n",
       " [array([[  4,   3,   7, ...,  66,  44,  31],\n",
       "         [  3,   2,   5, ...,  57,  42,  32],\n",
       "         [  3,   4,   7, ...,  50,  44,  35],\n",
       "         ...,\n",
       "         [  3,   3,   2, ..., 178, 182, 175],\n",
       "         [  3,   3,   2, ..., 184, 193, 177],\n",
       "         [  3,   3,   2, ..., 186, 193, 186]], dtype=uint8), array([0, 1])],\n",
       " [array([[202,  85,  37, ...,  19,  26,  35],\n",
       "         [168,  45,  41, ...,  22,  18,  25],\n",
       "         [115,  30,  50, ...,  31,  20,  18],\n",
       "         ...,\n",
       "         [ 36,  42,  45, ...,  53, 115, 126],\n",
       "         [ 14,  16,  18, ..., 100, 129, 127],\n",
       "         [ 14,  13,  14, ..., 114, 124, 132]], dtype=uint8), array([0, 1])],\n",
       " [array([[206, 200, 194, ...,  78,  91, 149],\n",
       "         [201, 201, 185, ...,  98,  93, 136],\n",
       "         [202, 200, 187, ..., 111,  86, 139],\n",
       "         ...,\n",
       "         [199, 201, 201, ..., 201, 198, 206],\n",
       "         [200, 201, 201, ..., 189, 201, 201],\n",
       "         [199, 200, 201, ..., 119, 163, 199]], dtype=uint8), array([0, 1])],\n",
       " [array([[243, 226, 122, ..., 243, 243, 241],\n",
       "         [242, 218, 124, ..., 243, 243, 241],\n",
       "         [249, 188, 131, ..., 244, 243, 241],\n",
       "         ...,\n",
       "         [249, 245, 220, ..., 246, 246, 246],\n",
       "         [250, 244, 228, ..., 247, 247, 247],\n",
       "         [249, 245, 234, ..., 247, 247, 247]], dtype=uint8), array([1, 0])],\n",
       " [array([[30, 36, 42, ..., 51, 43, 44],\n",
       "         [28, 43, 50, ..., 47, 46, 44],\n",
       "         [27, 46, 43, ..., 39, 38, 42],\n",
       "         ...,\n",
       "         [35, 28, 26, ...,  6,  6,  6],\n",
       "         [32, 28, 25, ...,  5,  5,  5],\n",
       "         [28, 26, 25, ...,  5,  5,  5]], dtype=uint8), array([0, 1])],\n",
       " [array([[118, 127, 122, ..., 200, 199, 202],\n",
       "         [118, 118, 111, ..., 203, 200, 200],\n",
       "         [ 81,  82,  87, ..., 199, 200, 200],\n",
       "         ...,\n",
       "         [240, 235, 231, ..., 250, 246, 246],\n",
       "         [243, 231, 231, ..., 250, 246, 246],\n",
       "         [244, 230, 234, ..., 248, 246, 246]], dtype=uint8), array([1, 0])],\n",
       " [array([[ 24,   4,   5, ...,  17,   7,   2],\n",
       "         [ 19,   4,   6, ...,  17,   8,   4],\n",
       "         [ 18,   5,   4, ...,  13,   7,   4],\n",
       "         ...,\n",
       "         [154, 150, 145, ..., 147, 131, 141],\n",
       "         [155, 154, 149, ..., 157, 137, 136],\n",
       "         [156, 155, 154, ..., 160, 152, 136]], dtype=uint8), array([0, 1])],\n",
       " [array([[ 49,  59,  69, ..., 121, 156, 183],\n",
       "         [ 54,  63,  72, ..., 131, 164, 181],\n",
       "         [ 53,  59,  70, ..., 158, 175, 183],\n",
       "         ...,\n",
       "         [154, 153, 153, ..., 177, 195, 193],\n",
       "         [150, 150, 150, ..., 177, 195, 195],\n",
       "         [144, 144, 144, ..., 175, 190, 190]], dtype=uint8), array([0, 1])],\n",
       " [array([[ 23,  20,  15, ...,  10,  17,  24],\n",
       "         [ 14,  12,  11, ...,   8,  13,  22],\n",
       "         [ 15,   5,  11, ...,   4,  13,  22],\n",
       "         ...,\n",
       "         [  7,   4,   3, ..., 230, 236, 229],\n",
       "         [  7,   4,   2, ..., 218, 233, 238],\n",
       "         [  9,   9,   7, ..., 200, 222, 231]], dtype=uint8), array([0, 1])],\n",
       " [array([[ 70,  70,  75, ...,  64,  51,  55],\n",
       "         [ 76,  73,  75, ...,  70,  50,  49],\n",
       "         [ 70,  72,  73, ...,  68,  47,  38],\n",
       "         ...,\n",
       "         [128, 126, 127, ...,  81, 105, 126],\n",
       "         [128, 125, 124, ...,  96, 118, 137],\n",
       "         [132, 124, 122, ...,  94, 120, 142]], dtype=uint8), array([1, 0])],\n",
       " [array([[112, 134, 134, ..., 130, 117, 114],\n",
       "         [135, 121, 133, ..., 126, 119, 115],\n",
       "         [136, 136, 128, ..., 121, 119, 114],\n",
       "         ...,\n",
       "         [ 18,  17,  35, ..., 203, 178,  23],\n",
       "         [ 16,  17,  52, ..., 145, 173,  19],\n",
       "         [ 20,  18,  70, ...,  19,  17,  19]], dtype=uint8), array([0, 1])],\n",
       " [array([[ 18,  15,  17, ...,  17,  17,  20],\n",
       "         [ 18,  15,  20, ...,  15,  16,  19],\n",
       "         [ 15,  11,  24, ...,  17,  17,  19],\n",
       "         ...,\n",
       "         [184, 195, 169, ...,  43,  36,  29],\n",
       "         [196, 167, 123, ...,  43,  37,  26],\n",
       "         [147, 130, 122, ...,  39,  32,  25]], dtype=uint8), array([0, 1])],\n",
       " [array([[89, 62, 35, ..., 45, 42, 34],\n",
       "         [69, 41, 33, ..., 41, 45, 39],\n",
       "         [49, 31, 37, ..., 40, 49, 46],\n",
       "         ...,\n",
       "         [40, 28, 18, ..., 28, 35, 48],\n",
       "         [37, 26, 18, ..., 26, 34, 52],\n",
       "         [34, 23, 16, ..., 25, 33, 53]], dtype=uint8), array([0, 1])],\n",
       " [array([[ 23,  20,  16, ..., 175, 245, 250],\n",
       "         [ 18,  16,  16, ..., 178, 243, 249],\n",
       "         [ 18,  15,  14, ..., 180, 243, 247],\n",
       "         ...,\n",
       "         [ 51,  88, 107, ..., 252, 251, 251],\n",
       "         [ 99, 104, 110, ..., 251, 252, 250],\n",
       "         [127, 108, 111, ..., 253, 252, 250]], dtype=uint8), array([0, 1])],\n",
       " [array([[180, 178, 181, ...,  13,  10,  10],\n",
       "         [179, 180, 179, ...,  20,  14,  11],\n",
       "         [176, 180, 177, ...,  24,  17,  14],\n",
       "         ...,\n",
       "         [173, 174, 175, ...,  47,  51,  57],\n",
       "         [171, 171, 174, ...,  46,  49,  55],\n",
       "         [171, 171, 173, ...,  43,  45,  53]], dtype=uint8), array([1, 0])],\n",
       " [array([[ 37,  39,  38, ...,  48,  46,  45],\n",
       "         [ 37,  39,  40, ...,  50,  48,  46],\n",
       "         [ 37,  39,  40, ...,  49,  48,  47],\n",
       "         ...,\n",
       "         [ 40,  40,  39, ...,  81,  86,  89],\n",
       "         [ 40,  40,  40, ...,  91,  95,  98],\n",
       "         [ 42,  42,  43, ...,  98, 104, 107]], dtype=uint8), array([1, 0])],\n",
       " [array([[ 67,  67,  64, ...,  89, 112,  98],\n",
       "         [ 70,  70,  62, ...,  88, 104,  94],\n",
       "         [ 63,  65,  56, ...,  79,  95,  88],\n",
       "         ...,\n",
       "         [ 97,  79,  64, ..., 131, 107, 103],\n",
       "         [101,  85,  63, ..., 150, 141, 125],\n",
       "         [108,  92,  75, ..., 108, 136, 147]], dtype=uint8), array([1, 0])],\n",
       " [array([[ 33,  38,  39, ...,  19,  12,   7],\n",
       "         [ 36,  38,  36, ...,  16,  12,   7],\n",
       "         [ 38,  35,  35, ...,  14,  11,   7],\n",
       "         ...,\n",
       "         [125, 125, 128, ...,  31,  32,  78],\n",
       "         [125, 128, 130, ...,  21,  30,  46],\n",
       "         [130, 130, 131, ...,  20,  27,  34]], dtype=uint8), array([0, 1])],\n",
       " [array([[ 50,  19,  57, ...,   0,   0,   0],\n",
       "         [ 35,  37,  54, ...,   0,   0,   0],\n",
       "         [ 35,  50,  50, ...,   0,   0,   0],\n",
       "         ...,\n",
       "         [  0,   0,   0, ..., 201, 227, 224],\n",
       "         [  0,   0,   0, ..., 200, 232, 229],\n",
       "         [  0,   0,   0, ..., 204, 229, 229]], dtype=uint8), array([1, 0])],\n",
       " [array([[  7,   5,   5, ...,  11,  35,  62],\n",
       "         [  7,   5,   5, ...,  12,  32,  60],\n",
       "         [  8,   5,   4, ...,  13,  31,  60],\n",
       "         ...,\n",
       "         [ 18,  15,  10, ..., 212, 212, 201],\n",
       "         [ 16,  16,  13, ..., 196, 211, 198],\n",
       "         [ 16,  16,  18, ..., 207, 211, 212]], dtype=uint8), array([0, 1])],\n",
       " [array([[ 46,  41,  30, ...,   8,   9,   9],\n",
       "         [ 45,  33,  27, ...,   7,   7,   7],\n",
       "         [ 40,  29,  24, ...,   7,   7,   7],\n",
       "         ...,\n",
       "         [ 15,  14,  10, ...,  31,  53, 100],\n",
       "         [ 15,  14,  12, ...,  23,  62,  82],\n",
       "         [ 15,  14,  11, ...,  30,  81,  99]], dtype=uint8), array([0, 1])],\n",
       " [array([[ 69,  73,  74, ...,  11,  11,  11],\n",
       "         [ 67,  75,  77, ...,  11,  11,  11],\n",
       "         [ 63,  67,  76, ...,  11,  11,  11],\n",
       "         ...,\n",
       "         [  8,  16,  25, ...,  49,  44,  35],\n",
       "         [  9,  15,  25, ...,  56,  39,  34],\n",
       "         [  7,  10,  21, ..., 120,  37,  33]], dtype=uint8), array([1, 0])],\n",
       " [array([[40, 51, 61, ...,  0,  0,  0],\n",
       "         [54, 63, 68, ...,  0,  0,  0],\n",
       "         [64, 60, 69, ...,  0,  0,  0],\n",
       "         ...,\n",
       "         [45, 39, 29, ...,  0,  0,  0],\n",
       "         [59, 49, 38, ...,  0,  0,  0],\n",
       "         [77, 63, 53, ...,  0,  0,  0]], dtype=uint8), array([1, 0])],\n",
       " [array([[210, 208, 208, ...,   7,  13,  11],\n",
       "         [210, 208, 208, ...,  16,  20,  22],\n",
       "         [210, 209, 207, ...,  65,  10,  21],\n",
       "         ...,\n",
       "         [ 10,  15,  15, ..., 126, 126, 131],\n",
       "         [  9,  12,  16, ..., 118, 132, 150],\n",
       "         [  9,  12,  16, ..., 144, 133, 145]], dtype=uint8), array([1, 0])],\n",
       " [array([[ 74,  97, 118, ..., 147, 154, 145],\n",
       "         [ 65,  92, 117, ..., 148, 149, 137],\n",
       "         [ 58,  86, 111, ..., 142, 142, 136],\n",
       "         ...,\n",
       "         [ 61,  67,  73, ...,  71,  90, 102],\n",
       "         [ 52,  57,  61, ...,  74,  94, 104],\n",
       "         [ 39,  44,  46, ...,  77,  98, 109]], dtype=uint8), array([1, 0])],\n",
       " [array([[211, 179,  30, ...,  78,  57, 122],\n",
       "         [210, 171,  35, ...,  79,  57, 106],\n",
       "         [211, 171,  40, ...,  75,  62,  93],\n",
       "         ...,\n",
       "         [232, 200, 110, ..., 236, 237, 237],\n",
       "         [224, 143,  92, ..., 238, 236, 236],\n",
       "         [198, 111,  77, ..., 240, 236, 239]], dtype=uint8), array([1, 0])],\n",
       " [array([[39, 36, 35, ..., 49, 49, 49],\n",
       "         [39, 36, 38, ..., 46, 46, 49],\n",
       "         [37, 37, 33, ..., 37, 39, 45],\n",
       "         ...,\n",
       "         [45, 46, 50, ..., 20, 16, 16],\n",
       "         [50, 47, 51, ..., 25, 18, 16],\n",
       "         [55, 56, 48, ..., 28, 20, 15]], dtype=uint8), array([0, 1])],\n",
       " [array([[93, 73, 63, ..., 70, 66, 66],\n",
       "         [76, 67, 74, ..., 75, 76, 64],\n",
       "         [68, 68, 80, ..., 73, 81, 68],\n",
       "         ...,\n",
       "         [33, 32, 40, ..., 59, 41, 36],\n",
       "         [37, 34, 45, ..., 45, 37, 36],\n",
       "         [37, 34, 43, ..., 29, 27, 37]], dtype=uint8), array([0, 1])],\n",
       " [array([[ 26,  32,  33, ..., 238, 242, 241],\n",
       "         [ 28,  31,  32, ..., 243, 241, 237],\n",
       "         [ 29,  31,  33, ..., 210, 240, 234],\n",
       "         ...,\n",
       "         [ 49,  46,  42, ..., 165, 166, 166],\n",
       "         [ 48,  51,  50, ..., 168, 169, 175],\n",
       "         [ 49,  49,  50, ..., 168, 177, 185]], dtype=uint8), array([1, 0])],\n",
       " [array([[128, 132, 138, ..., 253, 253, 253],\n",
       "         [123, 130, 139, ..., 253, 253, 253],\n",
       "         [114, 129, 142, ..., 253, 253, 254],\n",
       "         ...,\n",
       "         [ 94,  88,  80, ...,  36,  55,  80],\n",
       "         [ 94,  80,  78, ...,  65,  79,  89],\n",
       "         [ 88,  74,  78, ...,  76,  85,  87]], dtype=uint8), array([1, 0])],\n",
       " [array([[  0,   0,   0, ...,  83,  85, 120],\n",
       "         [  0,   0,   0, ...,  87,  73, 105],\n",
       "         [  0,   0,   1, ...,  61,  96,  85],\n",
       "         ...,\n",
       "         [  4,   4,   4, ...,  14,  38,  55],\n",
       "         [  3,   3,   4, ...,  18,  17,  52],\n",
       "         [  5,   5,   4, ...,  12,  15,  25]], dtype=uint8), array([0, 1])],\n",
       " [array([[  9,  16,  17, ..., 192, 187, 184],\n",
       "         [ 10,  18,  22, ..., 191, 188, 186],\n",
       "         [ 10,  20,  20, ..., 188, 188, 184],\n",
       "         ...,\n",
       "         [196, 121,  97, ..., 193, 189, 180],\n",
       "         [125, 112,  95, ..., 198, 191, 181],\n",
       "         [113, 110,  92, ..., 194, 188, 181]], dtype=uint8), array([1, 0])],\n",
       " [array([[ 14,  14,  19, ..., 212, 217, 219],\n",
       "         [ 16,  16,  19, ..., 159, 215, 221],\n",
       "         [ 16,  17,  20, ..., 117, 200, 222],\n",
       "         ...,\n",
       "         [ 23,  15,  14, ..., 147, 196, 212],\n",
       "         [ 26,  17,  15, ..., 145, 191, 208],\n",
       "         [ 26,  20,  15, ..., 146, 185, 208]], dtype=uint8), array([0, 1])],\n",
       " [array([[37, 37, 36, ...,  4,  0,  0],\n",
       "         [37, 37, 36, ..., 14,  6,  0],\n",
       "         [38, 36, 38, ..., 27, 11,  2],\n",
       "         ...,\n",
       "         [31, 33, 37, ..., 31, 31, 32],\n",
       "         [29, 32, 34, ..., 30, 31, 32],\n",
       "         [32, 29, 31, ..., 21, 27, 31]], dtype=uint8), array([0, 1])],\n",
       " [array([[ 31,  35,  39, ..., 199, 202, 210],\n",
       "         [ 35,  40,  41, ..., 190, 193, 196],\n",
       "         [ 39,  40,  35, ..., 186, 188, 191],\n",
       "         ...,\n",
       "         [ 30,  34,  41, ..., 105, 102, 103],\n",
       "         [ 31,  34,  38, ...,  96,  98,  98],\n",
       "         [ 31,  34,  35, ...,  94,  94,  94]], dtype=uint8), array([0, 1])],\n",
       " [array([[  0,   0,   0, ...,  59, 116, 142],\n",
       "         [  0,   0,   0, ...,  63, 128, 144],\n",
       "         [  0,   0,   2, ...,  66, 128, 140],\n",
       "         ...,\n",
       "         [  3, 159, 152, ..., 125, 125, 134],\n",
       "         [  0, 155, 148, ..., 116, 118, 126],\n",
       "         [  1, 141, 135, ..., 165, 158, 147]], dtype=uint8), array([1, 0])],\n",
       " [array([[13, 11, 13, ..., 71, 72, 62],\n",
       "         [11, 10, 13, ..., 66, 68, 58],\n",
       "         [11, 11, 13, ..., 65, 59, 54],\n",
       "         ...,\n",
       "         [14, 14, 15, ..., 32, 35, 29],\n",
       "         [13, 13, 14, ..., 31, 32, 32],\n",
       "         [13, 13, 14, ..., 28, 29, 29]], dtype=uint8), array([0, 1])],\n",
       " [array([[144, 153, 142, ...,  38,  39,  40],\n",
       "         [127, 121, 138, ...,  40,  40,  41],\n",
       "         [125, 127, 149, ...,  50,  44,  44],\n",
       "         ...,\n",
       "         [139, 146, 128, ..., 165, 176, 158],\n",
       "         [157, 169, 133, ..., 192, 188, 166],\n",
       "         [134, 125, 131, ..., 194, 202, 173]], dtype=uint8), array([1, 0])],\n",
       " [array([[ 32,  29,  27, ..., 170, 169, 170],\n",
       "         [ 26,  26,  25, ..., 173, 170, 172],\n",
       "         [ 26,  26,  26, ..., 168, 174, 178],\n",
       "         ...,\n",
       "         [132,  50,  45, ..., 161, 159, 159],\n",
       "         [109,  54,  48, ..., 168, 163, 163],\n",
       "         [103,  54,  57, ..., 171, 167, 167]], dtype=uint8), array([1, 0])],\n",
       " [array([[ 19,  21,  22, ...,  43,  44,  44],\n",
       "         [ 19,  18,  19, ...,  41,  42,  42],\n",
       "         [ 18,  20,  18, ...,  43,  43,  43],\n",
       "         ...,\n",
       "         [136, 138, 155, ..., 146, 146, 146],\n",
       "         [133, 134, 147, ..., 149, 148, 148],\n",
       "         [142, 140, 141, ..., 152, 153, 153]], dtype=uint8), array([0, 1])],\n",
       " [array([[ 30,  31,  31, ..., 156, 155, 155],\n",
       "         [ 31,  32,  33, ..., 156, 155, 155],\n",
       "         [ 31,  34,  35, ..., 155, 154, 154],\n",
       "         ...,\n",
       "         [  1,   5,   9, ...,  78,  94, 110],\n",
       "         [  0,   6,  10, ...,  38,  41,  42],\n",
       "         [  4,   7,   9, ...,  28,  33,  32]], dtype=uint8), array([1, 0])],\n",
       " [array([[ 28,  28,  28, ..., 205, 242, 244],\n",
       "         [ 28,  25,  44, ..., 161, 243, 240],\n",
       "         [ 22,  36,  74, ..., 128, 247, 240],\n",
       "         ...,\n",
       "         [ 41,  34,  22, ...,  71,  92, 157],\n",
       "         [ 33,  33,  24, ...,  75,  91, 146],\n",
       "         [ 29,  25,  39, ...,  69,  82, 139]], dtype=uint8), array([0, 1])],\n",
       " [array([[ 34,  34,  34, ...,  85,  99, 112],\n",
       "         [ 34,  34,  34, ...,  94, 111, 118],\n",
       "         [ 33,  35,  35, ...,  97, 115, 126],\n",
       "         ...,\n",
       "         [ 10,  10,  14, ...,  63,  65,  59],\n",
       "         [ 11,  12,  14, ...,  56,  55,  50],\n",
       "         [ 12,  13,  14, ...,  50,  48,  43]], dtype=uint8), array([1, 0])],\n",
       " [array([[ 13,  22,  28, ...,  38,  41,  44],\n",
       "         [ 25,  28,  39, ...,  37,  41,  44],\n",
       "         [ 15,  44,  63, ...,  35,  40,  40],\n",
       "         ...,\n",
       "         [119, 122, 126, ...,  54,  57,  64],\n",
       "         [114, 123, 125, ...,  54,  57,  64],\n",
       "         [110, 125, 130, ...,  54,  57,  64]], dtype=uint8), array([0, 1])],\n",
       " [array([[244, 244, 245, ..., 107, 108,  99],\n",
       "         [244, 244, 244, ..., 112, 108,  99],\n",
       "         [244, 244, 243, ..., 112, 108, 101],\n",
       "         ...,\n",
       "         [ 32,  23,  23, ...,  10,   6,  12],\n",
       "         [ 29,  22,  24, ...,  10,   7,  12],\n",
       "         [ 26,  19,  25, ...,   9,   9,  13]], dtype=uint8), array([1, 0])],\n",
       " [array([[ 44,  37,  34, ...,  69,  61,  66],\n",
       "         [ 41,  23,  24, ...,  66,  68,  61],\n",
       "         [ 40,  20,  30, ...,  57,  77,  45],\n",
       "         ...,\n",
       "         [ 70,  97, 192, ...,  82,  75,  80],\n",
       "         [ 80, 104, 219, ...,  48,  51,  62],\n",
       "         [104, 137, 239, ...,  65,  63,  52]], dtype=uint8), array([1, 0])],\n",
       " [array([[ 45,  47,  50, ...,  34,  33,  63],\n",
       "         [ 42,  47,  49, ...,  39,  37,  44],\n",
       "         [ 42,  46,  49, ...,  39,  36,  39],\n",
       "         ...,\n",
       "         [149, 182, 161, ...,  35,  42,  56],\n",
       "         [ 79, 173, 178, ...,  38,  43,  66],\n",
       "         [ 76,  70,  91, ...,  31,  35,  69]], dtype=uint8), array([0, 1])],\n",
       " [array([[ 67,  32,  22, ...,  59,  48,  51],\n",
       "         [ 54,  43,  21, ...,  51,  51,  54],\n",
       "         [ 51,  63,  27, ...,  50,  50,  79],\n",
       "         ...,\n",
       "         [ 35,  14,  18, ...,  27,  32,  25],\n",
       "         [ 55,  32,  26, ...,  26,  28,  29],\n",
       "         [120, 123,  61, ...,  23,  22,  17]], dtype=uint8), array([0, 1])],\n",
       " [array([[107, 106, 114, ..., 254, 254, 254],\n",
       "         [107, 106, 187, ..., 254, 254, 254],\n",
       "         [102, 157, 203, ..., 254, 254, 254],\n",
       "         ...,\n",
       "         [115,  99,  80, ..., 243, 246, 123],\n",
       "         [ 39,  43,  64, ..., 241, 236, 120],\n",
       "         [ 54,  43,  33, ..., 240, 237,  63]], dtype=uint8), array([1, 0])],\n",
       " [array([[71, 67, 62, ..., 71, 69, 69],\n",
       "         [76, 63, 59, ..., 70, 66, 69],\n",
       "         [51, 47, 50, ..., 67, 65, 67],\n",
       "         ...,\n",
       "         [ 0,  0,  0, ..., 39, 38, 37],\n",
       "         [ 0,  0,  0, ..., 41, 39, 36],\n",
       "         [ 0,  0,  0, ..., 42, 41, 41]], dtype=uint8), array([1, 0])],\n",
       " [array([[  0,   0,   0, ...,  66,  46,  69],\n",
       "         [  0,   0,   0, ...,  43,  35,  81],\n",
       "         [  3,   1,   0, ...,  52,  52,  78],\n",
       "         ...,\n",
       "         [100, 100,  99, ...,  64,  59,  64],\n",
       "         [100,  99,  99, ...,  53,  48,  60],\n",
       "         [101, 100,  99, ...,  50,  53,  59]], dtype=uint8), array([1, 0])],\n",
       " [array([[222, 227, 228, ..., 135, 136, 137],\n",
       "         [225, 227, 231, ..., 125, 125, 127],\n",
       "         [228, 224, 232, ..., 113, 113, 115],\n",
       "         ...,\n",
       "         [ 17,  20,  22, ...,  57,  53,  30],\n",
       "         [ 16,  19,  21, ...,  54,  51,  31],\n",
       "         [ 16,  19,  21, ...,  57,  45,  25]], dtype=uint8), array([1, 0])],\n",
       " [array([[149, 149, 128, ...,   3,   1,   1],\n",
       "         [147, 142, 126, ...,   4,   4,   4],\n",
       "         [148, 138, 122, ...,   7,   6,   4],\n",
       "         ...,\n",
       "         [134, 134, 136, ...,  33,  32,  25],\n",
       "         [134, 134, 134, ...,  33,  27,  28],\n",
       "         [132, 132, 133, ...,  41,  36,  40]], dtype=uint8), array([0, 1])],\n",
       " [array([[ 21,  22,  23, ..., 148, 157, 169],\n",
       "         [ 24,  25,  25, ..., 149, 160, 175],\n",
       "         [ 26,  21,  26, ..., 152, 167, 180],\n",
       "         ...,\n",
       "         [ 55,  51,  46, ..., 219, 220, 222],\n",
       "         [ 57,  58,  51, ..., 219, 221, 223],\n",
       "         [ 61,  60,  52, ..., 219, 221, 223]], dtype=uint8), array([1, 0])],\n",
       " [array([[195, 195, 195, ..., 158, 142, 126],\n",
       "         [197, 197, 197, ..., 160, 145, 132],\n",
       "         [196, 196, 198, ..., 157, 147, 141],\n",
       "         ...,\n",
       "         [196, 193, 190, ..., 137, 132, 131],\n",
       "         [186, 181, 172, ..., 129, 129, 125],\n",
       "         [163, 154, 156, ..., 125, 122, 117]], dtype=uint8), array([1, 0])],\n",
       " [array([[ 43,  48,  51, ..., 103, 107, 110],\n",
       "         [ 50,  56,  46, ..., 103, 108, 111],\n",
       "         [ 39,  46,  60, ..., 107, 109, 112],\n",
       "         ...,\n",
       "         [ 54,  44,  48, ...,  93,  92,  71],\n",
       "         [ 51,  42,  30, ..., 104, 124, 105],\n",
       "         [ 32,  46,  37, ...,  51, 100, 106]], dtype=uint8), array([1, 0])],\n",
       " [array([[127, 149, 173, ...,  26,  27,  25],\n",
       "         [152, 171, 186, ...,  26,  27,  25],\n",
       "         [163, 179, 188, ...,  25,  27,  26],\n",
       "         ...,\n",
       "         [187, 185, 184, ...,  21,  22,  23],\n",
       "         [192, 192, 191, ...,  21,  22,  24],\n",
       "         [195, 198, 199, ...,  21,  22,  24]], dtype=uint8), array([0, 1])],\n",
       " [array([[ 87,  85,  61, ...,   0,   0,   0],\n",
       "         [ 88,  92,  65, ...,   0,   0,   0],\n",
       "         [ 93, 101,  67, ...,   1,   0,   0],\n",
       "         ...,\n",
       "         [ 58,  73,  90, ...,  42,  35,  32],\n",
       "         [ 60,  85,  83, ...,  41,  33,  38],\n",
       "         [ 37,  79,  80, ...,  36,  44,  34]], dtype=uint8), array([0, 1])],\n",
       " [array([[ 65,  35,  34, ...,  30,  31,  26],\n",
       "         [ 60,  37,  34, ...,  32,  32,  28],\n",
       "         [ 50,  39,  36, ...,  31,  32,  32],\n",
       "         ...,\n",
       "         [ 40,  41,  37, ...,  74,  88,  39],\n",
       "         [ 39,  40,  36, ..., 108,  68,  55],\n",
       "         [ 41,  32,  29, ..., 151, 106,  96]], dtype=uint8), array([0, 1])],\n",
       " [array([[ 58,  57,  57, ..., 160, 194, 204],\n",
       "         [ 55,  54,  54, ..., 132, 165, 198],\n",
       "         [ 52,  51,  51, ..., 122, 131, 165],\n",
       "         ...,\n",
       "         [183, 190, 194, ..., 112, 132, 114],\n",
       "         [204, 217, 230, ..., 111, 117, 111],\n",
       "         [213, 218, 218, ..., 101, 101, 116]], dtype=uint8), array([1, 0])],\n",
       " [array([[ 26,  17,  10, ...,  48,  28,  22],\n",
       "         [ 26,  17,  11, ...,  52,  38,  29],\n",
       "         [ 25,  19,  13, ...,  63,  49,  31],\n",
       "         ...,\n",
       "         [ 57,  57,  57, ..., 170, 170, 168],\n",
       "         [ 57,  57,  58, ..., 173, 172, 170],\n",
       "         [ 55,  55,  56, ..., 171, 174, 175]], dtype=uint8), array([0, 1])],\n",
       " [array([[117, 115, 122, ...,  30,  39,  68],\n",
       "         [111, 121, 128, ...,  29,  33,  48],\n",
       "         [113, 128, 131, ...,  26,  29,  37],\n",
       "         ...,\n",
       "         [ 33,  29,  25, ..., 133, 113,  85],\n",
       "         [ 50,  34,  27, ..., 126, 111,  83],\n",
       "         [107,  51,  33, ..., 129, 108,  83]], dtype=uint8), array([0, 1])],\n",
       " [array([[ 0,  0,  1, ...,  0, 30, 48],\n",
       "         [ 0,  0,  3, ...,  2, 30, 48],\n",
       "         [ 0,  0,  3, ...,  3, 37, 50],\n",
       "         ...,\n",
       "         [38, 52, 66, ..., 55, 53, 55],\n",
       "         [56, 70, 63, ..., 55, 55, 55],\n",
       "         [72, 89, 67, ..., 55, 55, 55]], dtype=uint8), array([0, 1])],\n",
       " [array([[  1,   1,   1, ...,   0,   0,   0],\n",
       "         [ 41,  38,  33, ...,   0,   0,   0],\n",
       "         [ 80,  77,  65, ...,   0,   1,   1],\n",
       "         ...,\n",
       "         [117, 117, 120, ..., 123, 125, 152],\n",
       "         [  0,   0,   0, ..., 120, 133, 133],\n",
       "         [  0,   0,   0, ...,   2,   2,   2]], dtype=uint8), array([1, 0])],\n",
       " [array([[ 60,  60,  60, ...,  48,  39,  47],\n",
       "         [ 57,  57,  62, ...,  47,  39,  47],\n",
       "         [ 58,  56,  61, ...,  47,  42,  46],\n",
       "         ...,\n",
       "         [111,  92,  80, ..., 228, 232, 111],\n",
       "         [115,  95,  71, ..., 221, 234, 183],\n",
       "         [113, 101,  74, ..., 217, 222, 214]], dtype=uint8), array([1, 0])],\n",
       " [array([[ 79, 103, 127, ..., 120,   1,   1],\n",
       "         [ 94, 108, 136, ..., 115,   1,   1],\n",
       "         [ 96, 129, 139, ..., 125,   0,   1],\n",
       "         ...,\n",
       "         [204, 204, 207, ...,   0,   0,   0],\n",
       "         [204, 205, 207, ...,   0,   0,   0],\n",
       "         [207, 208, 206, ...,   0,   0,   0]], dtype=uint8), array([0, 1])],\n",
       " [array([[ 18,  23,  37, ...,  41,  51,  48],\n",
       "         [ 16,  20,  39, ...,  40,  48,  57],\n",
       "         [ 14,  18,  62, ...,  49,  50,  58],\n",
       "         ...,\n",
       "         [171, 174, 172, ...,  26,  23,  23],\n",
       "         [164, 170, 167, ...,  29,  26,  18],\n",
       "         [167, 167, 162, ...,  31,  25,  20]], dtype=uint8), array([0, 1])],\n",
       " [array([[30, 46, 57, ..., 56, 55, 62],\n",
       "         [31, 71, 42, ..., 53, 63, 46],\n",
       "         [45, 82, 30, ..., 43, 67, 49],\n",
       "         ...,\n",
       "         [ 6, 18,  7, ..., 61, 65, 57],\n",
       "         [ 6,  7, 12, ..., 61, 65, 55],\n",
       "         [ 1,  3, 13, ..., 55, 67, 54]], dtype=uint8), array([0, 1])],\n",
       " [array([[146, 139, 141, ..., 142, 136, 139],\n",
       "         [162, 149, 148, ..., 135, 124, 121],\n",
       "         [159, 153, 154, ..., 136, 129, 117],\n",
       "         ...,\n",
       "         [  8,   7,   5, ..., 109, 126, 146],\n",
       "         [  7,   6,   5, ..., 107, 127, 141],\n",
       "         [  6,   5,   5, ..., 123, 135, 141]], dtype=uint8), array([1, 0])],\n",
       " [array([[  0,   2,   4, ..., 202, 205, 209],\n",
       "         [  0,   2,   5, ..., 209, 218, 216],\n",
       "         [  1,   4,   5, ..., 215, 219, 216],\n",
       "         ...,\n",
       "         [122,  24,  12, ..., 213, 214, 216],\n",
       "         [ 83,  15,  23, ..., 213, 214, 216],\n",
       "         [ 42,   3,  43, ..., 213, 214, 216]], dtype=uint8), array([0, 1])],\n",
       " [array([[ 0,  2,  0, ..., 80,  0,  0],\n",
       "         [ 2,  0,  2, ..., 59,  0,  0],\n",
       "         [ 0,  3,  3, ..., 69,  0,  0],\n",
       "         ...,\n",
       "         [11, 33, 30, ...,  0,  0,  0],\n",
       "         [28, 44, 42, ...,  0,  0,  0],\n",
       "         [38, 46, 42, ...,  0,  0,  0]], dtype=uint8), array([1, 0])],\n",
       " [array([[163, 156, 149, ...,  16,  51,  63],\n",
       "         [166, 147, 142, ...,  16,  60,  62],\n",
       "         [156, 130, 122, ...,  22,  67,  60],\n",
       "         ...,\n",
       "         [ 41,  46,  64, ..., 236, 238, 244],\n",
       "         [ 43,  44,  55, ..., 238, 240, 245],\n",
       "         [ 43,  47,  48, ..., 238, 243, 248]], dtype=uint8), array([1, 0])],\n",
       " [array([[ 90,  90,  88, ...,   7,   0,   0],\n",
       "         [ 91,  94,  94, ...,   4,   0,   0],\n",
       "         [ 93,  97,  97, ...,  79,   0,   0],\n",
       "         ...,\n",
       "         [247, 250, 177, ...,  88, 131, 152],\n",
       "         [248, 247, 245, ...,  63,  68, 109],\n",
       "         [245, 247, 249, ...,  71,  65,  62]], dtype=uint8), array([1, 0])],\n",
       " [array([[253, 251, 249, ..., 180, 185, 223],\n",
       "         [253, 251, 252, ..., 177, 183, 213],\n",
       "         [252, 252, 246, ..., 169, 179, 203],\n",
       "         ...,\n",
       "         [252, 254, 249, ...,  77,  92,  89],\n",
       "         [249, 254, 248, ...,  69,  85,  92],\n",
       "         [253, 245, 203, ...,  58,  77,  91]], dtype=uint8), array([1, 0])],\n",
       " [array([[ 32,  24,  16, ..., 181, 198, 175],\n",
       "         [ 59,  49,  30, ..., 122, 195, 180],\n",
       "         [ 70,  62,  45, ...,  94, 183, 164],\n",
       "         ...,\n",
       "         [194, 111,  89, ..., 149,  76,  58],\n",
       "         [185, 101,  87, ..., 202, 146,  80],\n",
       "         [171, 110,  95, ..., 204, 224, 199]], dtype=uint8), array([1, 0])],\n",
       " [array([[0, 0, 0, ..., 0, 0, 0],\n",
       "         [0, 0, 0, ..., 0, 0, 0],\n",
       "         [0, 0, 0, ..., 0, 0, 0],\n",
       "         ...,\n",
       "         [0, 0, 1, ..., 0, 1, 3],\n",
       "         [0, 0, 0, ..., 0, 2, 2],\n",
       "         [0, 0, 0, ..., 0, 0, 0]], dtype=uint8), array([1, 0])],\n",
       " [array([[  9,  14,  24, ...,  39, 102, 130],\n",
       "         [ 10,  27,  28, ...,  58, 143, 171],\n",
       "         [ 15,  31,  36, ...,  54,  82,  88],\n",
       "         ...,\n",
       "         [ 98, 100,  98, ...,  55,  55,  52],\n",
       "         [ 98, 100,  98, ...,  62,  60,  57],\n",
       "         [100,  98,  96, ...,  27,  30,  30]], dtype=uint8), array([1, 0])]]"
      ]
     },
     "execution_count": 3,
     "metadata": {},
     "output_type": "execute_result"
    }
   ],
   "source": [
    "#********************************************************************************\n",
    "    \n",
    "## Step 3: Importing the Training Data & Preprocessing\n",
    "\n",
    "#********************************************************************************\n",
    "\n",
    "## Function for labelling the Images (# Assigning [1,0] to Male Images &  # Assigning [0,1] to Female Images)\n",
    "\n",
    "def label_img(img):\n",
    "    \n",
    "    vAR_gender=img.split('_')[1]\n",
    "    \n",
    "    if vAR_gender == '0' : return [1,0]    # Assigning [1,0] to male\n",
    "    \n",
    "    elif vAR_gender== '1' : return [0,1]   # ASSIGNING [0,1] to female\n",
    "    \n",
    "#********************************************************************************\n",
    "\n",
    "## Function for Image Processing (Reding the Images from the Training Path, Converting to an array for Training the Model)\n",
    "\n",
    "def create_train_data():\n",
    "    \n",
    "    vAR_training_data=[]\n",
    "    \n",
    "    for img in tqdm(os.listdir(vAR_TRAIN_DIR)):\n",
    "    \n",
    "        vAR_label=label_img(img)\n",
    "        \n",
    "        print(img,vAR_label)\n",
    "        \n",
    "        vAR_path=os.path.join(vAR_TRAIN_DIR, img)\n",
    "        \n",
    "        vAR_img = cv2.imread(vAR_path, cv2.IMREAD_GRAYSCALE)\n",
    "        \n",
    "        vAR_resizedimg=cv2.resize(vAR_img, (vAR_IMG_SIZE, vAR_IMG_SIZE))\n",
    "        \n",
    "        vAR_training_data.append([vAR_np.array(vAR_resizedimg),vAR_np.array(vAR_label)])\n",
    "    \n",
    "    ## We shuffle the Images, then save. Shuffle modifies a variable in place.\n",
    "    \n",
    "    shuffle(vAR_training_data)\n",
    "        \n",
    "    return vAR_training_data      \n",
    "\n",
    "create_train_data()\n"
   ]
  },
  {
   "cell_type": "code",
   "execution_count": 4,
   "metadata": {},
   "outputs": [
    {
     "name": "stdout",
     "output_type": "stream",
     "text": [
      "Tensor(\"input/X:0\", shape=(?, 50, 50, 1), dtype=float32)\n",
      "WARNING:tensorflow:From C:\\Users\\durga\\Anaconda3\\lib\\site-packages\\tflearn\\initializations.py:119: UniformUnitScaling.__init__ (from tensorflow.python.ops.init_ops) is deprecated and will be removed in a future version.\n",
      "Instructions for updating:\n",
      "Use tf.initializers.variance_scaling instead with distribution=uniform to get equivalent behavior.\n",
      "WARNING:tensorflow:From C:\\Users\\durga\\Anaconda3\\lib\\site-packages\\tflearn\\layers\\core.py:239: calling dropout (from tensorflow.python.ops.nn_ops) with keep_prob is deprecated and will be removed in a future version.\n",
      "Instructions for updating:\n",
      "Please use `rate` instead of `keep_prob`. Rate should be set to `rate = 1 - keep_prob`.\n",
      "Tensor(\"Dropout/cond/Merge:0\", shape=(?, 1024), dtype=float32)\n",
      "WARNING:tensorflow:From C:\\Users\\durga\\Anaconda3\\lib\\site-packages\\tflearn\\objectives.py:66: calling reduce_sum_v1 (from tensorflow.python.ops.math_ops) with keep_dims is deprecated and will be removed in a future version.\n",
      "Instructions for updating:\n",
      "keep_dims is deprecated, use keepdims instead\n",
      "Tensor(\"FullyConnected_1/Sigmoid:0\", shape=(?, 2), dtype=float32)\n",
      "WARNING:tensorflow:From C:\\Users\\durga\\Anaconda3\\lib\\site-packages\\tensorflow\\python\\ops\\math_ops.py:3066: to_int32 (from tensorflow.python.ops.math_ops) is deprecated and will be removed in a future version.\n",
      "Instructions for updating:\n",
      "Use tf.cast instead.\n",
      "Tensor(\"FullyConnected_1/Sigmoid:0\", shape=(?, 2), dtype=float32)\n"
     ]
    }
   ],
   "source": [
    "#********************************************************************************\n",
    "    \n",
    "## Step 4: Importing the CNN Model\n",
    "\n",
    "#********************************************************************************\n",
    "\n",
    "import tflearn\n",
    "\n",
    "from tflearn.layers.conv import conv_2d, max_pool_2d\n",
    "\n",
    "from tflearn.layers.core import input_data, dropout, fully_connected\n",
    "\n",
    "from tflearn.layers.estimator import regression\n",
    "\n",
    "\n",
    "##########################################################################################\n",
    "\n",
    "### INPUT LAYER CONFIGURATION\n",
    "\n",
    "##########################################################################################\n",
    "\n",
    "## Input Data: This layer is used for inputting data to a network.\n",
    "\n",
    "## A TensorFlow placeholder will be used if it is supplied,\n",
    "## otherwise a new placeholder will be created with the given shape.\n",
    "## Either a shape or placeholder must be provided, otherwise an\n",
    "## exception will be raised.\n",
    "\n",
    "# Parameter name='input' is the name for this Input Layer\n",
    "\n",
    "convnet = input_data(shape=[None, vAR_IMG_SIZE, vAR_IMG_SIZE, 1], name='input')\n",
    "\n",
    "print(convnet)\n",
    "\n",
    "##########################################################################################\n",
    "\n",
    "### CONVOLUTINAL AND POOLING LAYER CONFIGURATION\n",
    "\n",
    "##########################################################################################\n",
    "\n",
    "#keep_prob = 1 \n",
    "\n",
    "#rate = 1 - keep_prob\n",
    "\n",
    "convnet = conv_2d(incoming=convnet, nb_filter=2, filter_size=2, padding='same', activation='relu')\n",
    "\n",
    "convnet = max_pool_2d(incoming=convnet, kernel_size=2)\n",
    "\n",
    "#convnet = dropout(0.5,rate)\n",
    "\n",
    "#convnet = BatchNormalization()\n",
    "\n",
    "\n",
    "convnet = conv_2d(incoming=convnet, nb_filter=4, filter_size=2, activation='relu')\n",
    "\n",
    "convnet = max_pool_2d(incoming=convnet, kernel_size=2)\n",
    "\n",
    "\n",
    "convnet = conv_2d(incoming=convnet, nb_filter=6, filter_size=2, activation='relu')\n",
    "\n",
    "convnet = max_pool_2d(incoming=convnet, kernel_size=2)\n",
    "\n",
    "\n",
    "convnet = conv_2d(incoming=convnet, nb_filter=8, filter_size=2, activation='relu')\n",
    "\n",
    "convnet = max_pool_2d(incoming=convnet, kernel_size=2)\n",
    "\n",
    "\n",
    "convnet = conv_2d(incoming=convnet, nb_filter=10, filter_size=2, activation='relu')\n",
    "\n",
    "convnet = max_pool_2d(incoming=convnet, kernel_size=2)\n",
    "\n",
    "\n",
    "convnet = conv_2d(incoming=convnet, nb_filter=12, filter_size=2, activation='relu')\n",
    "\n",
    "convnet = max_pool_2d(incoming=convnet, kernel_size=2)\n",
    "\n",
    "\n",
    "convnet = conv_2d(incoming=convnet, nb_filter=14, filter_size=2, activation='relu')\n",
    "\n",
    "convnet = max_pool_2d(incoming=convnet, kernel_size=2)\n",
    "\n",
    "\n",
    "convnet = conv_2d(incoming=convnet, nb_filter=16, filter_size=2, activation='relu')\n",
    "\n",
    "convnet = max_pool_2d(incoming=convnet, kernel_size=2)\n",
    "\n",
    "\n",
    "convnet = conv_2d(incoming=convnet, nb_filter=18, filter_size=2, activation='relu')\n",
    "\n",
    "convnet = max_pool_2d(incoming=convnet, kernel_size=2)\n",
    "\n",
    "\n",
    "convnet = conv_2d(incoming=convnet, nb_filter=20, filter_size=2, activation='relu')\n",
    "\n",
    "convnet = max_pool_2d(incoming=convnet, kernel_size=2)\n",
    "\n",
    "\n",
    "convnet = conv_2d(incoming=convnet, nb_filter=22, filter_size=2, activation='relu')\n",
    "\n",
    "convnet = max_pool_2d(incoming=convnet, kernel_size=2)\n",
    "\n",
    "\n",
    "convnet = conv_2d(incoming=convnet, nb_filter=24, filter_size=2, activation='relu')\n",
    "\n",
    "convnet = max_pool_2d(incoming=convnet, kernel_size=2)\n",
    "\n",
    "\n",
    "convnet = conv_2d(incoming=convnet, nb_filter=26, filter_size=2, activation='relu')\n",
    "\n",
    "convnet = max_pool_2d(incoming=convnet, kernel_size=2)\n",
    "\n",
    "\n",
    "convnet = conv_2d(incoming=convnet, nb_filter=28, filter_size=2, activation='relu')\n",
    "\n",
    "convnet = max_pool_2d(incoming=convnet, kernel_size=2)\n",
    "\n",
    "\n",
    "convnet = conv_2d(incoming=convnet, nb_filter=30, filter_size=2, activation='relu')\n",
    "\n",
    "convnet = max_pool_2d(incoming=convnet, kernel_size=2)\n",
    "\n",
    "\n",
    "convnet = conv_2d(incoming=convnet, nb_filter=32, filter_size=2, activation='relu')\n",
    "\n",
    "convnet = max_pool_2d(incoming=convnet, kernel_size=2)\n",
    "\n",
    "\n",
    "convnet = conv_2d(incoming=convnet, nb_filter=34, filter_size=2, activation='relu')\n",
    "\n",
    "convnet = max_pool_2d(incoming=convnet, kernel_size=2)\n",
    "\n",
    "\n",
    "convnet = conv_2d(incoming=convnet, nb_filter=36, filter_size=2, activation='relu')\n",
    "\n",
    "convnet = max_pool_2d(incoming=convnet, kernel_size=2)\n",
    "\n",
    "\n",
    "convnet = conv_2d(incoming=convnet, nb_filter=38, filter_size=2, activation='relu')\n",
    "\n",
    "convnet = max_pool_2d(incoming=convnet, kernel_size=2)\n",
    "\n",
    "\n",
    "convnet = conv_2d(incoming=convnet, nb_filter=40, filter_size=2, activation='relu')\n",
    "\n",
    "convnet = max_pool_2d(incoming=convnet, kernel_size=2)\n",
    "\n",
    "\n",
    "convnet = conv_2d(incoming=convnet, nb_filter=42, filter_size=2, activation='relu')\n",
    "\n",
    "convnet = max_pool_2d(incoming=convnet, kernel_size=2)\n",
    "\n",
    "\n",
    "convnet = conv_2d(incoming=convnet, nb_filter=44, filter_size=2, activation='relu')\n",
    "\n",
    "convnet = max_pool_2d(incoming=convnet, kernel_size=2)\n",
    "\n",
    "\n",
    "convnet = conv_2d(incoming=convnet, nb_filter=46, filter_size=2, activation='relu')\n",
    "\n",
    "convnet = max_pool_2d(incoming=convnet, kernel_size=2)\n",
    "\n",
    "\n",
    "convnet = conv_2d(incoming=convnet, nb_filter=48, filter_size=2, activation='relu')\n",
    "\n",
    "convnet = max_pool_2d(incoming=convnet, kernel_size=2)\n",
    "\n",
    "\n",
    "convnet = conv_2d(incoming=convnet, nb_filter=50, filter_size=2, activation='relu')\n",
    "\n",
    "convnet = max_pool_2d(incoming=convnet, kernel_size=2)\n",
    "\n",
    "\n",
    "convnet = conv_2d(incoming=convnet, nb_filter=52, filter_size=2, activation='relu')\n",
    "\n",
    "convnet = max_pool_2d(incoming=convnet, kernel_size=2)\n",
    "\n",
    "\n",
    "convnet = conv_2d(incoming=convnet, nb_filter=54, filter_size=2, activation='relu')\n",
    "\n",
    "convnet = max_pool_2d(incoming=convnet, kernel_size=2)\n",
    "\n",
    "\n",
    "convnet = conv_2d(incoming=convnet, nb_filter=56, filter_size=2, activation='relu')\n",
    "\n",
    "convnet = max_pool_2d(incoming=convnet, kernel_size=2)\n",
    "\n",
    "\n",
    "convnet = conv_2d(incoming=convnet, nb_filter=58, filter_size=2, activation='relu')\n",
    "\n",
    "convnet = max_pool_2d(incoming=convnet, kernel_size=2)\n",
    "\n",
    "\n",
    "convnet = conv_2d(incoming=convnet, nb_filter=60, filter_size=2, activation='relu')\n",
    "\n",
    "convnet = max_pool_2d(incoming=convnet, kernel_size=2)\n",
    "\n",
    "\n",
    "convnet = conv_2d(incoming=convnet, nb_filter=62, filter_size=2, activation='relu')\n",
    "\n",
    "convnet = max_pool_2d(incoming=convnet, kernel_size=2)\n",
    "\n",
    "\n",
    "convnet = conv_2d(incoming=convnet, nb_filter=64, filter_size=2, activation='relu')\n",
    "\n",
    "convnet = max_pool_2d(incoming=convnet, kernel_size=2)\n",
    "\n",
    "\n",
    "convnet = fully_connected(convnet, 1024, activation='relu')\n",
    "\n",
    "convnet = dropout(convnet, 0.8)\n",
    "\n",
    "print(convnet)\n",
    "\n",
    "##########################################################################################\n",
    "\n",
    "### CONVOLUTINAL AND POOLING LAYER CONFIGURATION\n",
    "\n",
    "##########################################################################################\n",
    "\n",
    "## A fully connected layer (This is where the Actual Classification happens)\n",
    "## Adding a Fully-Connected layer is a way of learning non-linear combinations of the\n",
    "## high-level features as represented by the output of the convolutional layer. \n",
    "## The Fully-Connected layer is learning a possibly non-linear function in that space\n",
    "## The Image is flattned into a single column vector here.\n",
    "\n",
    "convnet = fully_connected(incoming=convnet, n_units=2, activation='sigmoid')\n",
    "\n",
    "## The regression layer is used in TFLearn to apply a regression (linear or logistic) \n",
    "## to the provided input. It requires to specify a TensorFlow gradient descent optimizer \n",
    "## 'optimizer' that will minimize the provided loss function 'loss' (which calculate the errors). \n",
    "\n",
    "convnet = regression(incoming=convnet, optimizer='adam', learning_rate=vAR_LR, loss='categorical_crossentropy', name='targets')\n",
    "\n",
    "print(convnet)\n",
    "\n",
    "##########################################################################################\n",
    "\n",
    "## Deep Convolution Neural Network Model\n",
    "\n",
    "## tflearn offers a DNN Class for training & testing the model \n",
    "\n",
    "model = tflearn.DNN(network=convnet, tensorboard_dir='/tmp')\n",
    "\n",
    "print(convnet)\n",
    "\n",
    "##########################################################################################\n",
    "\n"
   ]
  },
  {
   "cell_type": "markdown",
   "metadata": {},
   "source": [
    "# Filters"
   ]
  },
  {
   "cell_type": "code",
   "execution_count": 5,
   "metadata": {},
   "outputs": [],
   "source": [
    "#convnet = conv_2d(incoming=convnet, nb_filter=2, filter_size=2, activation='relu')"
   ]
  },
  {
   "cell_type": "markdown",
   "metadata": {},
   "source": [
    "# Pooling"
   ]
  },
  {
   "cell_type": "code",
   "execution_count": 6,
   "metadata": {},
   "outputs": [],
   "source": [
    "#convnet = max_pool_2d(incoming=convnet, kernel_size=2)"
   ]
  },
  {
   "cell_type": "markdown",
   "metadata": {},
   "source": [
    "# Padding"
   ]
  },
  {
   "cell_type": "code",
   "execution_count": 7,
   "metadata": {},
   "outputs": [],
   "source": [
    "#convnet = conv_2d(incoming=convnet, nb_filter=2, filter_size=2, padding='valid', activation='relu')"
   ]
  },
  {
   "cell_type": "markdown",
   "metadata": {},
   "source": [
    "# Dropout"
   ]
  },
  {
   "cell_type": "code",
   "execution_count": 8,
   "metadata": {},
   "outputs": [],
   "source": [
    "#convnet = dropout(0.5,rate)"
   ]
  },
  {
   "cell_type": "code",
   "execution_count": 9,
   "metadata": {},
   "outputs": [
    {
     "name": "stdout",
     "output_type": "stream",
     "text": [
      "Training Step: 59  | total loss: 0.69314 | time: 0.026s\n",
      "| Adam | epoch: 030 | loss: 0.69314 - acc: 0.5113 -- iter: 064/100\n",
      "Training Step: 60  | total loss: 0.69315 | time: 0.049s\n",
      "| Adam | epoch: 030 | loss: 0.69315 - acc: 0.5024 -- iter: 100/100\n",
      "--\n"
     ]
    }
   ],
   "source": [
    "#********************************************************************************\n",
    "\n",
    "## Step 5: Training the Model\n",
    "\n",
    "#********************************************************************************\n",
    "\n",
    "## Train the Model with the training Dataset\n",
    "\n",
    "import os\n",
    "\n",
    "if os.path.exists('{}.meta'.format(vAR_MODEL_NAME)):\n",
    "    \n",
    "    model.load(vAR_MODEL_NAME)\n",
    "    \n",
    "    print('model loaded!')\n",
    "\n",
    "vAR_train_data=create_train_data()\n",
    "\n",
    "vAR_train=vAR_train_data[:]\n",
    "\n",
    "print (vAR_train)\n",
    "\n",
    "vAR_test=vAR_train_data[:10]\n",
    "\n",
    "vAR_Length=len(vAR_test)\n",
    "\n",
    "#print (vAR_Length)\n",
    "\n",
    "vAR_X = vAR_np.array([i[0] for i in vAR_train], dtype=vAR_np.float64).reshape(-1, vAR_IMG_SIZE, vAR_IMG_SIZE,1)\n",
    "\n",
    "#print(vAR_X)\n",
    "\n",
    "vAR_Y = vAR_np.array([i[1] for i in vAR_train], dtype=vAR_np.float64)\n",
    "\n",
    "vAR_test_X = vAR_np.array([i[0] for i in vAR_test], dtype=vAR_np.float64).reshape(-1, vAR_IMG_SIZE, vAR_IMG_SIZE,1)\n",
    "\n",
    "vAR_test_Y = vAR_np.array([i[1] for i in vAR_test], dtype=vAR_np.float64)\n",
    "\n",
    "##TRAINING THE MODEL, \n",
    "\n",
    "#validation_set=({'input': vAR_test_X}, {'targets': vAR_test_Y}),,snapshot_step=500\n",
    "\n",
    "vAR_log_dir = \"C:/Users/durga/Tensorboard_CNN/logs\"\n",
    "\n",
    "vAR_tensorboard_callback = tf.keras.callbacks.TensorBoard(log_dir=vAR_log_dir, histogram_freq=1)\n",
    "\n",
    "model.fit({'input': vAR_X}, {'targets': vAR_Y}, validation_set=None, n_epoch=30, show_metric=True, run_id=vAR_MODEL_NAME)\n",
    "\n",
    "#model.summary()\n"
   ]
  },
  {
   "cell_type": "code",
   "execution_count": 10,
   "metadata": {},
   "outputs": [
    {
     "name": "stderr",
     "output_type": "stream",
     "text": [
      "100%|██████████████████████████████████████████████████████████████████████████████| 100/100 [00:00<00:00, 1956.43it/s]\n"
     ]
    }
   ],
   "source": [
    "#********************************************************************************\n",
    "    \n",
    "## Step 6: Import the Test Data\n",
    "\n",
    "#********************************************************************************\n",
    "\n",
    "# Test the Model with the Test Data\n",
    "\n",
    "def process_test_data():\n",
    "    \n",
    "    vAR_testing_data=[]\n",
    "    \n",
    "    for img in tqdm(os.listdir(vAR_TRAIN_DIR)):\n",
    "        \n",
    "        path=os.path.join(vAR_TRAIN_DIR,img)\n",
    "        \n",
    "        vAR_img_num=img.split('_')[-1]\n",
    "        \n",
    "        vAR_img=cv2.resize(cv2.imread(path, cv2.IMREAD_GRAYSCALE), (vAR_IMG_SIZE, vAR_IMG_SIZE))\n",
    "        \n",
    "        vAR_testing_data.append([vAR_np.array(vAR_img), vAR_img_num])\n",
    "        \n",
    "    #vAR_np.save('vAR_test_data.npy', vAR_testing_data)\n",
    "    \n",
    "    return vAR_testing_data\n",
    "\n",
    "vAR_test_data = process_test_data()\n",
    "\n",
    "#vAR_test_data\n"
   ]
  },
  {
   "cell_type": "code",
   "execution_count": 11,
   "metadata": {},
   "outputs": [
    {
     "name": "stdout",
     "output_type": "stream",
     "text": [
      "[0.5002508 0.499625 ]\n",
      "20170116205643042.jpg.chip.jpg Male\n",
      "[0.5002508 0.499625 ]\n",
      "20170116210509902.jpg.chip.jpg Male\n",
      "[0.5002508 0.499625 ]\n",
      "20170116214326195.jpg.chip.jpg Male\n",
      "[0.5002508 0.499625 ]\n",
      "20170117012800357.jpg.chip.jpg Male\n",
      "[0.5002508 0.499625 ]\n",
      "20170117015458481.jpg.chip.jpg Male\n",
      "[0.5002508 0.499625 ]\n",
      "20170112235530689.jpg.chip.jpg Male\n",
      "[0.5002508 0.499625 ]\n",
      "20170112487607250.jpg.chip.jpg Male\n",
      "[0.5002508 0.499625 ]\n",
      "20170113000327017.jpg.chip.jpg Male\n",
      "[0.5002508 0.499625 ]\n",
      "20170113000811442.jpg.chip.jpg Male\n",
      "[0.5002508 0.499625 ]\n",
      "20170113012607249.jpg.chip.jpg Male\n",
      "[0.5002508 0.499625 ]\n",
      "20170113133122016.jpg.chip.jpg Male\n",
      "[0.5002508 0.499625 ]\n",
      "20170113133238257.jpg.chip.jpg Male\n",
      "[0.5002508 0.499625 ]\n",
      "20170113133323665.jpg.chip.jpg Male\n",
      "[0.5002508 0.499625 ]\n",
      "20170113133612273.jpg.chip.jpg Male\n",
      "[0.5002508 0.499625 ]\n",
      "20170113133719624.jpg.chip.jpg Male\n",
      "[0.5002508 0.499625 ]\n",
      "20170113134006616.jpg.chip.jpg Male\n",
      "[0.5002508 0.499625 ]\n",
      "20170113134204447.jpg.chip.jpg Male\n",
      "[0.5002508 0.499625 ]\n",
      "20170113134217498.jpg.chip.jpg Male\n",
      "[0.5002508 0.499625 ]\n",
      "20170113141654362.jpg.chip.jpg Male\n",
      "[0.5002508 0.499625 ]\n",
      "20170113141818644.jpg.chip.jpg Male\n",
      "[0.5002508 0.499625 ]\n",
      "20170113141822196.jpg.chip.jpg Male\n",
      "[0.5002508 0.499625 ]\n",
      "20170113141846612.jpg.chip.jpg Male\n",
      "[0.5002508 0.499625 ]\n",
      "20170113151342687.jpg.chip.jpg Male\n",
      "[0.5002508 0.499625 ]\n",
      "20170113152824163.jpg.chip.jpg Male\n",
      "[0.5002508 0.499625 ]\n",
      "20170113155013364.jpg.chip.jpg Male\n",
      "[0.5002508 0.499625 ]\n",
      "20170113173357107.jpg.chip.jpg Male\n",
      "[0.5002508 0.499625 ]\n",
      "20170113190459754.jpg.chip.jpg Male\n",
      "[0.5002508 0.499625 ]\n",
      "20170113190501769.jpg.chip.jpg Male\n",
      "[0.5002508 0.499625 ]\n",
      "20170113195438285.jpg.chip.jpg Male\n",
      "[0.5002508 0.499625 ]\n",
      "20170113195630213.jpg.chip.jpg Male\n",
      "[0.5002508 0.499625 ]\n",
      "20170114033434587.jpg.chip.jpg Male\n",
      "[0.5002508 0.499625 ]\n",
      "20170116002938608.jpg.chip.jpg Male\n",
      "[0.5002508 0.499625 ]\n",
      "20170116010614771.jpg.chip.jpg Male\n",
      "[0.5002508 0.499625 ]\n",
      "20170116010647849.jpg.chip.jpg Male\n",
      "[0.5002508 0.499625 ]\n",
      "20170116010659651.jpg.chip.jpg Male\n",
      "[0.5002508 0.499625 ]\n",
      "20170116011020977.jpg.chip.jpg Male\n",
      "[0.5002508 0.499625 ]\n",
      "20170116024856991.jpg.chip.jpg Male\n",
      "[0.5002508 0.499625 ]\n",
      "20170116213438554.jpg.chip.jpg Male\n",
      "[0.5002508 0.499625 ]\n",
      "20170116213558934.jpg.chip.jpg Male\n",
      "[0.5002508 0.499625 ]\n",
      "20170116214526846.jpg.chip.jpg Male\n",
      "[0.5002508 0.499625 ]\n",
      "20170116214710372.jpg.chip.jpg Male\n",
      "[0.5002508 0.499625 ]\n",
      "20170117094442927.jpg.chip.jpg Male\n",
      "[0.5002508 0.499625 ]\n",
      "20170117120438367.jpg.chip.jpg Male\n",
      "[0.5002508 0.499625 ]\n",
      "20170117123820956.jpg.chip.jpg Male\n",
      "[0.5002508 0.499625 ]\n",
      "20170117123837646.jpg.chip.jpg Male\n",
      "[0.5002508 0.499625 ]\n",
      "20170117123839619.jpg.chip.jpg Male\n",
      "[0.5002508 0.499625 ]\n",
      "20170117123902427.jpg.chip.jpg Male\n",
      "[0.5002508 0.499625 ]\n",
      "20170117123914245.jpg.chip.jpg Male\n",
      "[0.5002508 0.499625 ]\n",
      "20170117123915360.jpg.chip.jpg Male\n",
      "[0.5002508 0.499625 ]\n",
      "20170117130022204.jpg.chip.jpg Male\n",
      "[0.5002508 0.499625 ]\n",
      "20170117202910591.jpg.chip.jpg Male\n",
      "[0.5002508 0.499625 ]\n",
      "20170116164401454.jpg.chip.jpg Male\n",
      "[0.5002508 0.499625 ]\n",
      "20170116164436658.jpg.chip.jpg Male\n",
      "[0.5002508 0.499625 ]\n",
      "20170116170852517.jpg.chip.jpg Male\n",
      "[0.5002508 0.499625 ]\n",
      "20170116172532435.jpg.chip.jpg Male\n",
      "[0.5002508 0.499625 ]\n",
      "20170104020133916.jpg.chip.jpg Male\n",
      "[0.5002508 0.499625 ]\n",
      "20170104020408339.jpg.chip.jpg Male\n",
      "[0.5002508 0.499625 ]\n",
      "20170104020413511.jpg.chip.jpg Male\n",
      "[0.5002508 0.499625 ]\n",
      "20170104020459348.jpg.chip.jpg Male\n",
      "[0.5002508 0.499625 ]\n",
      "20170104020950540.jpg.chip.jpg Male\n",
      "[0.5002508 0.499625 ]\n",
      "20170104021318733.jpg.chip.jpg Male\n",
      "[0.5002508 0.499625 ]\n",
      "20170104022925822.jpg.chip.jpg Male\n",
      "[0.5002508 0.499625 ]\n",
      "20170104164904841.jpg.chip.jpg Male\n",
      "[0.5002508 0.499625 ]\n",
      "20170104192931704.jpg.chip.jpg Male\n",
      "[0.5002508 0.499625 ]\n",
      "20170105002521620.jpg.chip.jpg Male\n",
      "[0.5002508 0.499625 ]\n",
      "20170105161432042.jpg.chip.jpg Male\n",
      "[0.5002508 0.499625 ]\n",
      "20170105170141222.jpg.chip.jpg Male\n",
      "[0.5002508 0.499625 ]\n",
      "20170116161338805.jpg.chip.jpg Male\n",
      "[0.5002508 0.499625 ]\n",
      "20170116161420356.jpg.chip.jpg Male\n",
      "[0.5002508 0.499625 ]\n",
      "20170116161740145.jpg.chip.jpg Male\n",
      "[0.5002508 0.499625 ]\n",
      "20170116162002429.jpg.chip.jpg Male\n",
      "[0.5002508 0.499625 ]\n",
      "20170116162625578.jpg.chip.jpg Male\n",
      "[0.5002508 0.499625 ]\n",
      "20170116162634192.jpg.chip.jpg Male\n",
      "[0.5002508 0.499625 ]\n",
      "20170116163458646.jpg.chip.jpg Male\n",
      "[0.5002508 0.499625 ]\n",
      "20170116163642750.jpg.chip.jpg Male\n",
      "[0.5002508 0.499625 ]\n",
      "20170116163932623.jpg.chip.jpg Male\n",
      "[0.5002508 0.499625 ]\n",
      "20170116164729972.jpg.chip.jpg Male\n",
      "[0.5002508 0.499625 ]\n",
      "20170116164737724.jpg.chip.jpg Male\n",
      "[0.5002508 0.499625 ]\n",
      "20170116165139757.jpg.chip.jpg Male\n",
      "[0.5002508 0.499625 ]\n",
      "20170116170703197.jpg.chip.jpg Male\n",
      "[0.5002508 0.499625 ]\n",
      "20170116171019788.jpg.chip.jpg Male\n",
      "[0.5002508 0.499625 ]\n",
      "20170116174642075.jpg.chip.jpg Male\n",
      "[0.5002508 0.499625 ]\n",
      "20170116184611730.jpg.chip.jpg Male\n",
      "[0.5002508 0.499625 ]\n",
      "20170116191207397.jpg.chip.jpg Male\n",
      "[0.5002508 0.499625 ]\n",
      "20170116191220057.jpg.chip.jpg Male\n",
      "[0.5002508 0.499625 ]\n",
      "20170116191317558.jpg.chip.jpg Male\n",
      "[0.5002508 0.499625 ]\n",
      "20170116191902270.jpg.chip.jpg Male\n",
      "[0.5002508 0.499625 ]\n",
      "20170116192241195.jpg.chip.jpg Male\n",
      "[0.5002508 0.499625 ]\n",
      "20170116192245601.jpg.chip.jpg Male\n",
      "[0.5002508 0.499625 ]\n",
      "20170116192313635.jpg.chip.jpg Male\n",
      "[0.5002508 0.499625 ]\n",
      "20170116192334382.jpg.chip.jpg Male\n",
      "[0.5002508 0.499625 ]\n",
      "20170116192341274.jpg.chip.jpg Male\n",
      "[0.5002508 0.499625 ]\n",
      "20170104223046816.jpg.chip.jpg Male\n",
      "[0.5002508 0.499625 ]\n",
      "20170104223318647.jpg.chip.jpg Male\n",
      "[0.5002508 0.499625 ]\n",
      "20170104231521681.jpg.chip.jpg Male\n",
      "[0.5002508 0.499625 ]\n",
      "20170104231945705.jpg.chip.jpg Male\n",
      "[0.5002508 0.499625 ]\n",
      "20170104232147226.jpg.chip.jpg Male\n",
      "[0.5002508 0.499625 ]\n",
      "20170104232927250.jpg.chip.jpg Male\n",
      "[0.5002508 0.499625 ]\n",
      "20170104235219219.jpg.chip.jpg Male\n",
      "[0.5002508 0.499625 ]\n",
      "20170104235527578.jpg.chip.jpg Male\n"
     ]
    }
   ],
   "source": [
    "#********************************************************************************\n",
    "    \n",
    "## Step 7: Gender Detection (Model Prediction)\n",
    "\n",
    "#********************************************************************************\n",
    "\n",
    "vAR_model_out = model.predict(vAR_test_X)\n",
    "\n",
    "\n",
    "## Replacing the Binary output Values [0,1] as [Male,Female]\n",
    "\n",
    "for num, data in enumerate(vAR_test_data[:]):\n",
    "    \n",
    "    vAR_img_num=data[1]\n",
    "    \n",
    "    vAR_img_data=data[0]\n",
    "    \n",
    "    data=vAR_img_data.reshape(vAR_IMG_SIZE,vAR_IMG_SIZE,1)\n",
    "    \n",
    "    vAR_model_out=model.predict([data])[0]\n",
    "    \n",
    "    print(vAR_model_out)\n",
    "    \n",
    "    if vAR_np.argmax(vAR_model_out)==0 : \n",
    "        \n",
    "        vAR_str_label=\"Male\"\n",
    "        \n",
    "        print(vAR_img_num,vAR_str_label)\n",
    "    \n",
    "    else: \n",
    "        \n",
    "        vAR_str_label='Female'\n",
    "        \n",
    "        print(vAR_img_num,vAR_str_label)\n",
    "        "
   ]
  },
  {
   "cell_type": "code",
   "execution_count": 12,
   "metadata": {},
   "outputs": [
    {
     "name": "stderr",
     "output_type": "stream",
     "text": [
      "\r",
      "  0%|                                                                                           | 0/10 [00:00<?, ?it/s]"
     ]
    },
    {
     "name": "stdout",
     "output_type": "stream",
     "text": [
      "C:/AI/Gender Detection/DL/TEST DATA\\29_0_1_20170116205643042.jpg\n",
      "C:/AI/Gender Detection/DL/TEST DATA\\29_0_1_20170116210509902.jpg\n",
      "C:/AI/Gender Detection/DL/TEST DATA\\29_0_1_20170116214326195.jpg\n",
      "C:/AI/Gender Detection/DL/TEST DATA\\29_0_1_20170117012800357.jpg\n",
      "C:/AI/Gender Detection/DL/TEST DATA\\29_0_1_20170117015458481.jpg\n",
      "C:/AI/Gender Detection/DL/TEST DATA\\29_1_0_20170112235530689.jpg\n",
      "C:/AI/Gender Detection/DL/TEST DATA\\29_1_0_20170113000327017.jpg\n",
      "C:/AI/Gender Detection/DL/TEST DATA\\29_1_0_20170113000811442.jpg\n",
      "C:/AI/Gender Detection/DL/TEST DATA\\29_1_0_20170113012607249.jpg\n",
      "C:/AI/Gender Detection/DL/TEST DATA\\29_1_1_20170104192718648.jpg\n"
     ]
    },
    {
     "name": "stderr",
     "output_type": "stream",
     "text": [
      "100%|█████████████████████████████████████████████████████████████████████████████████| 10/10 [00:00<00:00, 716.13it/s]\n"
     ]
    }
   ],
   "source": [
    "\n",
    "#********************************************************************************\n",
    "    \n",
    "## Step 8: Write the Model Outcome to a file\n",
    "\n",
    "#********************************************************************************\n",
    "\n",
    "vAR_SRC = vAR_Config['FILE PATH']['SRC1']\n",
    "\n",
    "vAR_DST = vAR_Config['FILE PATH']['DST1']\n",
    "\n",
    "vAR_PATH = vAR_Config['FILE PATH']['PATH1']\n",
    "\n",
    "import shutil\n",
    "\n",
    "src= vAR_SRC\n",
    "\n",
    "dst = vAR_DST\n",
    "\n",
    "shutil.copytree(src=vAR_SRC, dst=vAR_DST)\n",
    "    \n",
    "i = 0\n",
    "\n",
    "path = vAR_PATH\n",
    "\n",
    "for filename in os.listdir(path):\n",
    "    \n",
    "    my_dest = vAR_str_label + str(i) + \".jpg\"\n",
    "    \n",
    "    my_source =path + filename\n",
    "    \n",
    "    my_dest =path + my_dest\n",
    "    \n",
    "    os.rename(my_source, my_dest)\n",
    "    \n",
    "    i += 1\n",
    "\n",
    "\n",
    "images = []\n",
    "    \n",
    "for img in tqdm(os.listdir(vAR_TEST_DIR)):\n",
    "    \n",
    "    path = os.path.join(vAR_TEST_DIR,img)\n",
    "    \n",
    "    img_num = path\n",
    "    \n",
    "    if img is not None:\n",
    "        \n",
    "        images.append(img_num)\n",
    "        \n",
    "        print(img_num)\n",
    "\n",
    "\n",
    "#********************************************************************************"
   ]
  },
  {
   "cell_type": "code",
   "execution_count": null,
   "metadata": {},
   "outputs": [],
   "source": []
  },
  {
   "cell_type": "code",
   "execution_count": null,
   "metadata": {},
   "outputs": [],
   "source": []
  }
 ],
 "metadata": {
  "kernelspec": {
   "display_name": "Python 3",
   "language": "python",
   "name": "python3"
  },
  "language_info": {
   "codemirror_mode": {
    "name": "ipython",
    "version": 3
   },
   "file_extension": ".py",
   "mimetype": "text/x-python",
   "name": "python",
   "nbconvert_exporter": "python",
   "pygments_lexer": "ipython3",
   "version": "3.7.3"
  }
 },
 "nbformat": 4,
 "nbformat_minor": 2
}
