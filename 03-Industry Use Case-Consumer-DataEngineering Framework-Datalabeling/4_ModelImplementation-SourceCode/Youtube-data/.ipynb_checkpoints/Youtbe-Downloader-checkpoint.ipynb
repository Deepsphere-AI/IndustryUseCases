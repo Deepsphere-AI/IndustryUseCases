{
 "cells": [
  {
   "cell_type": "code",
   "execution_count": null,
   "metadata": {},
   "outputs": [],
   "source": [
    "from googleapiclient.discovery import build\n",
    "from pytube import YouTube\n",
    "#Please mention api key here\n",
    "api_key = ''\n",
    "youtube = build('youtube', 'v3', developerKey=api_key)\n",
    "request = youtube.search().list(\n",
    "        part=\"snippet\",\n",
    "        maxResults=2,\n",
    "        q=\"covid\",\n",
    "    regionCode=\"GB\"\n",
    "    )\n",
    "response = request.execute()\n",
    "print(response)\n",
    "videoId = []\n",
    "for i in range(0,2):\n",
    "    videoId.append(response['items'][i]['id']['videoId'])\n",
    "print(videoId)\n",
    "for j in videoId:\n",
    "    YouTube(\"https://www.youtube.com/watch?v=\" + j).streams.first().download('download_path')"
   ]
  }
 ],
 "metadata": {
  "kernelspec": {
   "display_name": "Python 3",
   "language": "python",
   "name": "python3"
  },
  "language_info": {
   "codemirror_mode": {
    "name": "ipython",
    "version": 3
   },
   "file_extension": ".py",
   "mimetype": "text/x-python",
   "name": "python",
   "nbconvert_exporter": "python",
   "pygments_lexer": "ipython3",
   "version": "3.6.12"
  }
 },
 "nbformat": 4,
 "nbformat_minor": 2
}
