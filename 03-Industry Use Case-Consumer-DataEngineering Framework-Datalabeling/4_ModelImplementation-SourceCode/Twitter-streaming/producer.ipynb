{
 "cells": [
  {
   "cell_type": "code",
   "execution_count": null,
   "metadata": {},
   "outputs": [],
   "source": [
    "from tweepy.streaming import StreamListener\n",
    "from tweepy import OAuthHandler\n",
    "from tweepy import Stream\n",
    "from kafka import KafkaProducer\n",
    "from datetime import datetime\n",
    "producer = KafkaProducer(bootstrap_servers='localhost:9092') \n",
    "\n",
    "#Please mention the below values\n",
    "access_token = \"\"\n",
    "access_token_secret =  \"\"\n",
    "consumer_key =  \"\"\n",
    "consumer_secret =  \"\"\n",
    "\n",
    "\n",
    "\n",
    "topic_name = \"twitter\"\n",
    "class twitterAuth():\n",
    "\n",
    "    def authenticateTwitterApp(self):\n",
    "        auth = OAuthHandler(consumer_key, consumer_secret)\n",
    "        auth.set_access_token(access_token, access_token_secret)\n",
    "        return auth\n",
    "\n",
    "\n",
    "\n",
    "class TwitterStreamer():\n",
    "\n",
    "    def __init__(self):\n",
    "        self.twitterAuth = twitterAuth()\n",
    "\n",
    "    def stream_tweets(self):\n",
    "        while True:\n",
    "            listener = ListenerTS() \n",
    "            auth = self.twitterAuth.authenticateTwitterApp()\n",
    "            stream = Stream(auth, listener)\n",
    "            stream.filter(track=[\"covid\"], stall_warnings=True, languages= [\"en\"])\n",
    "\n",
    "\n",
    "class ListenerTS(StreamListener):\n",
    "\n",
    "    def on_data(self, raw_data):\n",
    "            producer.send(topic_name, str.encode(raw_data))\n",
    "            d = datetime.now()\n",
    "            print(f'[{d.hour}:{d.minute}:{d.second}] sending tweet')\n",
    "            return True\n",
    "\n",
    "if __name__ == \"__main__\":\n",
    "    TS = TwitterStreamer()\n",
    "    TS.stream_tweets()"
   ]
  },
  {
   "cell_type": "code",
   "execution_count": null,
   "metadata": {},
   "outputs": [],
   "source": []
  }
 ],
 "metadata": {
  "kernelspec": {
   "display_name": "PySpark",
   "language": "python",
   "name": "pyspark"
  },
  "language_info": {
   "codemirror_mode": {
    "name": "ipython",
    "version": 3
   },
   "file_extension": ".py",
   "mimetype": "text/x-python",
   "name": "python",
   "nbconvert_exporter": "python",
   "pygments_lexer": "ipython3",
   "version": "3.6.12"
  }
 },
 "nbformat": 4,
 "nbformat_minor": 2
}
