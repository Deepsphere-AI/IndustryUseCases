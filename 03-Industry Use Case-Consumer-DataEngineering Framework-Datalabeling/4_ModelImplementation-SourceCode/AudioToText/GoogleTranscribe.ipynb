{
 "cells": [
  {
   "cell_type": "code",
   "execution_count": null,
   "metadata": {},
   "outputs": [],
   "source": [
    "import os\n",
    "from google.cloud import videointelligence\n",
    "os.environ['GOOGLE_APPLICATION_CREDENTIALS'] = #path of the json config file"
   ]
  },
  {
   "cell_type": "code",
   "execution_count": null,
   "metadata": {},
   "outputs": [],
   "source": [
    "class audio_text:  \n",
    "    def __init__(self, transcript,confidence):  \n",
    "        self.transcript = transcript  \n",
    "        self.confidence = confidence"
   ]
  },
  {
   "cell_type": "code",
   "execution_count": null,
   "metadata": {},
   "outputs": [],
   "source": [
    "def write_file(content,filename):\n",
    "    filename = '/home/dsailabusr1/PRAKASH/'+filename+'.txt'\n",
    "    with open(filename, 'w') as f:\n",
    "            for item in content:\n",
    "                f.write(item.transcript+\"\\n\")\n",
    "                f.write(item.confidence+\"\\n\")"
   ]
  },
  {
   "cell_type": "code",
   "execution_count": null,
   "metadata": {},
   "outputs": [],
   "source": [
    "\"\"\"Transcribe speech from a video stored on GCS.\"\"\"\n",
    "\n",
    "video_client = videointelligence.VideoIntelligenceServiceClient()\n",
    "features = [videointelligence.Feature.SPEECH_TRANSCRIPTION]\n",
    "\n",
    "config = videointelligence.SpeechTranscriptionConfig(\n",
    "    language_code=\"en-US\", enable_automatic_punctuation=True\n",
    ")\n",
    "video_context = videointelligence.VideoContext(speech_transcription_config=config)\n",
    "filename = 'Bidens Two challenges Covid and Congress  Meet The Press  NBC News'\n",
    "path = 'gs://videoai_intelligence/VideoAI/'+filename+'.mp4'\n",
    "\n",
    "operation = video_client.annotate_video(\n",
    "    request={\n",
    "        \"features\": features,\n",
    "        \"input_uri\": path,\n",
    "        \"video_context\": video_context,\n",
    "    }\n",
    ")\n",
    "\n",
    "\n",
    "\n",
    "print(\"\\nProcessing video for speech transcription.\")\n",
    "transcript = []\n",
    "result = operation.result(timeout=600)\n",
    "\n",
    "# There is only one annotation_result since only\n",
    "# one video is processed.\n",
    "annotation_results = result.annotation_results[0]\n",
    "for speech_transcription in annotation_results.speech_transcriptions:\n",
    "\n",
    "    # The number of alternatives for each transcription is limited by\n",
    "    # SpeechTranscriptionConfig.max_alternatives.\n",
    "    # Each alternative is a different possible transcription\n",
    "    # and has its own confidence score.\n",
    "    for alternative in speech_transcription.alternatives:\n",
    "\n",
    "        print(\"Transcript: {}\".format(alternative.transcript))\n",
    "        print(\"Confidence: {}\\n\".format(alternative.confidence))\n",
    "        transcript.append(audio_text(\"Transcript: {}\".format(alternative.transcript),\n",
    "                                    \"Confidence: {}\\n\".format(alternative.confidence)))\n",
    "\n",
    "write_file(transcript,filename)\n",
    "print('text written to file - ',filename)\n",
    "#         print(\"Word level information:\")\n",
    "#         for word_info in alternative.words:\n",
    "#             word = word_info.word\n",
    "#             start_time = word_info.start_time\n",
    "#             end_time = word_info.end_time\n",
    "#             print(\n",
    "#                 \"\\t{}s - {}s: {}\".format(\n",
    "#                     start_time.seconds + start_time.microseconds * 1e-6,\n",
    "#                     end_time.seconds + end_time.microseconds * 1e-6,\n",
    "#                     word,\n",
    "#                 )\n",
    "#             )"
   ]
  },
  {
   "cell_type": "code",
   "execution_count": null,
   "metadata": {},
   "outputs": [],
   "source": [
    "#To list available files in google storage\n",
    "from google.cloud import storage\n",
    "\n",
    "client = storage.Client()\n",
    "for blob in client.list_blobs('bucket-name',prefix='prefix name'):\n",
    "    print(str(blob))"
   ]
  }
 ],
 "metadata": {
  "kernelspec": {
   "display_name": "Python 3",
   "language": "python",
   "name": "python3"
  },
  "language_info": {
   "codemirror_mode": {
    "name": "ipython",
    "version": 3
   },
   "file_extension": ".py",
   "mimetype": "text/x-python",
   "name": "python",
   "nbconvert_exporter": "python",
   "pygments_lexer": "ipython3",
   "version": "3.6.12"
  }
 },
 "nbformat": 4,
 "nbformat_minor": 2
}
