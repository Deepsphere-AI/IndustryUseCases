{
 "cells": [
  {
   "cell_type": "code",
   "execution_count": null,
   "metadata": {},
   "outputs": [],
   "source": [
    "from deepspeech import Model\n",
    "import numpy as np\n",
    "import os\n",
    "import wave\n",
    "import json\n",
    "\n",
    "from IPython.display import Audio"
   ]
  },
  {
   "cell_type": "code",
   "execution_count": null,
   "metadata": {},
   "outputs": [],
   "source": [
    "# Playing audio file in notebook\n",
    "Audio('input file path')"
   ]
  },
  {
   "cell_type": "code",
   "execution_count": null,
   "metadata": {},
   "outputs": [],
   "source": [
    "#download below 2 deepspeech model files\n",
    "# wget 'https://github.com/mozilla/DeepSpeech/releases/download/v0.8.2/deepspeech-0.8.2-models.pbmm'\n",
    "# wget 'https://github.com/mozilla/DeepSpeech/releases/download/v0.8.2/deepspeech-0.8.2-models.scorer'"
   ]
  },
  {
   "cell_type": "code",
   "execution_count": null,
   "metadata": {},
   "outputs": [],
   "source": [
    "model_file_path = '' # pbmm file path\n",
    "lm_file_path = '' # scorer file path\n",
    "beam_width = 500\n",
    "lm_alpha = 0.93\n",
    "lm_beta = 1.18\n",
    "\n",
    "\n",
    "model = Model(model_file_path)\n",
    "model.enableExternalScorer(lm_file_path)"
   ]
  },
  {
   "cell_type": "code",
   "execution_count": null,
   "metadata": {},
   "outputs": [],
   "source": [
    "model.setScorerAlphaBeta(lm_alpha,lm_beta)\n",
    "model.setBeamWidth(beam_width)"
   ]
  },
  {
   "cell_type": "code",
   "execution_count": null,
   "metadata": {},
   "outputs": [],
   "source": [
    "stream = model.createStream()"
   ]
  },
  {
   "cell_type": "code",
   "execution_count": null,
   "metadata": {},
   "outputs": [],
   "source": [
    "def read_wav_file(filename):\n",
    "    try:\n",
    "        with wave.open(filename,'rb') as w:\n",
    "            rate = w.getframerate()\n",
    "            frames = w.getnframes()\n",
    "            buffer = w.readframes(frames)\n",
    "        return buffer,rate\n",
    "    except BaseException as e:\n",
    "        print('error---',e)"
   ]
  },
  {
   "cell_type": "code",
   "execution_count": null,
   "metadata": {},
   "outputs": [],
   "source": [
    "def write_file(text,filename):\n",
    "    filename = filename[:-4]\n",
    "    path = filename+'.txt'\n",
    "    with open(path, \"w\") as text_file:\n",
    "        text_file.write(text)"
   ]
  },
  {
   "cell_type": "code",
   "execution_count": null,
   "metadata": {},
   "outputs": [],
   "source": [
    "from IPython.display import clear_output\n",
    "def transcribe_streaming(audio_file):\n",
    "    buffer, rate = read_wav_file(audio_file)\n",
    "    offset = 0\n",
    "    batch_size = 8196\n",
    "    text = ''\n",
    "    while offset < len(buffer):\n",
    "        end_offset = offset+batch_size\n",
    "        chunk = buffer[offset:end_offset]\n",
    "        data16 = np.frombuffer(chunk,dtype=np.int16)\n",
    "        \n",
    "        stream.feedAudioContent(data16)\n",
    "        text = stream.intermediateDecode()\n",
    "        clear_output(wait=True)\n",
    "        print(text)\n",
    "        offset = end_offset\n",
    "    write_file(text,audio_file)\n",
    "    print('text written into file - ',audio_file)\n",
    "    return True"
   ]
  },
  {
   "cell_type": "code",
   "execution_count": null,
   "metadata": {},
   "outputs": [],
   "source": [
    "# converting input file into wav format\n",
    "# !ffmpeg -i 'local input file path' -vn -ar 16000 -ac 1 'local output file path'"
   ]
  },
  {
   "cell_type": "code",
   "execution_count": null,
   "metadata": {},
   "outputs": [],
   "source": [
    "transcribe_streaming('converted wav file path')"
   ]
  }
 ],
 "metadata": {
  "kernelspec": {
   "display_name": "Python 3",
   "language": "python",
   "name": "python3"
  },
  "language_info": {
   "codemirror_mode": {
    "name": "ipython",
    "version": 3
   },
   "file_extension": ".py",
   "mimetype": "text/x-python",
   "name": "python",
   "nbconvert_exporter": "python",
   "pygments_lexer": "ipython3",
   "version": "3.6.12"
  }
 },
 "nbformat": 4,
 "nbformat_minor": 2
}
