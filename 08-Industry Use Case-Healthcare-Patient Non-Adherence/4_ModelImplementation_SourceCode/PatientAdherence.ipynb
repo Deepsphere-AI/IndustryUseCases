{
  "nbformat": 4,
  "nbformat_minor": 0,
  "metadata": {
    "colab": {
      "name": "PatientAdherence.ipynb",
      "provenance": [],
      "collapsed_sections": []
    },
    "kernelspec": {
      "name": "python3",
      "display_name": "Python 3"
    },
    "language_info": {
      "name": "python"
    }
  },
  "cells": [
    {
      "cell_type": "code",
      "metadata": {
        "colab": {
          "base_uri": "https://localhost:8080/"
        },
        "id": "fLn2Rk6l7eFk",
        "outputId": "c94b587a-f3e0-48a4-a3bf-adaea1871202"
      },
      "source": [
        "from google.colab import drive\n",
        "drive.mount('/content/drive')"
      ],
      "execution_count": null,
      "outputs": [
        {
          "output_type": "stream",
          "text": [
            "Mounted at /content/drive\n"
          ],
          "name": "stdout"
        }
      ]
    },
    {
      "cell_type": "code",
      "metadata": {
        "id": "jX-PEFWc-ZOQ"
      },
      "source": [
        "import numpy as np\n",
        "import pandas as pd\n",
        "import sklearn\n",
        "from sklearn.preprocessing import StandardScaler\n",
        "from sklearn.model_selection import train_test_split"
      ],
      "execution_count": null,
      "outputs": []
    },
    {
      "cell_type": "code",
      "metadata": {
        "colab": {
          "base_uri": "https://localhost:8080/",
          "height": 326
        },
        "id": "eLbzRCZJ-8KF",
        "outputId": "e533f300-a2e6-4756-d5a4-9fd4d921d252"
      },
      "source": [
        "df = pd.read_excel('/content/drive/My Drive/Patient Non-Adherence/2_DataSet/Input.xlsx')\n",
        "df.head()"
      ],
      "execution_count": null,
      "outputs": [
        {
          "output_type": "execute_result",
          "data": {
            "text/html": [
              "<div>\n",
              "<style scoped>\n",
              "    .dataframe tbody tr th:only-of-type {\n",
              "        vertical-align: middle;\n",
              "    }\n",
              "\n",
              "    .dataframe tbody tr th {\n",
              "        vertical-align: top;\n",
              "    }\n",
              "\n",
              "    .dataframe thead th {\n",
              "        text-align: right;\n",
              "    }\n",
              "</style>\n",
              "<table border=\"1\" class=\"dataframe\">\n",
              "  <thead>\n",
              "    <tr style=\"text-align: right;\">\n",
              "      <th></th>\n",
              "      <th>PATIENT ID</th>\n",
              "      <th>AGE</th>\n",
              "      <th>MARITAL STATUS</th>\n",
              "      <th>FINANCIAL STATUS</th>\n",
              "      <th>MEDICLAIM</th>\n",
              "      <th>NUMBER OF MEDICATIONS</th>\n",
              "      <th>ALCOHOL ADICTION</th>\n",
              "      <th>SMOKING</th>\n",
              "      <th>BLOOD PRESSURE</th>\n",
              "      <th>MOOD</th>\n",
              "      <th>ENERGY LEVELS</th>\n",
              "      <th>HEADACHE</th>\n",
              "      <th>CONCENTRATION</th>\n",
              "      <th>DRUG COST</th>\n",
              "      <th>FOLLOWUP CHECKUPS</th>\n",
              "      <th>PRESCRIBTION START DATE</th>\n",
              "      <th>PRESCRIBTION END DATE</th>\n",
              "      <th>REFILL FREQUENCY(MEDICINE1)</th>\n",
              "      <th>REFILL FREQUENCY(MEDICINE2)</th>\n",
              "      <th>PRESCRIBED MEDICATION PERIOD(MONTHS)</th>\n",
              "      <th>REFILLS DONE(MEDICINE 1)</th>\n",
              "      <th>REFILLS DONE(MEDICINE 2)</th>\n",
              "      <th>SEVIERITY OF ILLNESS(CHECKUP 1)</th>\n",
              "      <th>SEVIERITY OF ILLNESS(CHECKUP 2)</th>\n",
              "      <th>SEVIERITY OF ILLNESS(CHECKUP 3)</th>\n",
              "      <th>SEVIERITY OF ILLNESS(CHECKUP 4)</th>\n",
              "      <th>SEVIERITY OF ILLNESS(CHECKUP 5)</th>\n",
              "      <th>FREQUENCY</th>\n",
              "      <th>CHRONIC ILLNESS</th>\n",
              "      <th>DIARRHEA</th>\n",
              "      <th>CONSTIPATION</th>\n",
              "      <th>NAUSEA</th>\n",
              "      <th>VOMITING</th>\n",
              "      <th>SORE THROAT</th>\n",
              "      <th>ALLERGIES</th>\n",
              "      <th>COLD</th>\n",
              "      <th>COUGH</th>\n",
              "      <th>FEVER</th>\n",
              "      <th>STOMACH ACHE</th>\n",
              "      <th>DROWSINESS</th>\n",
              "      <th>MEDICINE 1</th>\n",
              "      <th>MEDICINE 2</th>\n",
              "      <th>LABEL</th>\n",
              "    </tr>\n",
              "  </thead>\n",
              "  <tbody>\n",
              "    <tr>\n",
              "      <th>0</th>\n",
              "      <td>PAT001</td>\n",
              "      <td>65</td>\n",
              "      <td>Unmarried</td>\n",
              "      <td>Poor</td>\n",
              "      <td>Yes</td>\n",
              "      <td>1</td>\n",
              "      <td>Yes</td>\n",
              "      <td>Once a  week</td>\n",
              "      <td>120</td>\n",
              "      <td>Excited</td>\n",
              "      <td>High</td>\n",
              "      <td>No</td>\n",
              "      <td>High</td>\n",
              "      <td>High</td>\n",
              "      <td>1</td>\n",
              "      <td>2020-01-05</td>\n",
              "      <td>2020-01-10</td>\n",
              "      <td>Fortnightly</td>\n",
              "      <td>Fortnightly</td>\n",
              "      <td>5</td>\n",
              "      <td>6</td>\n",
              "      <td>5</td>\n",
              "      <td>0</td>\n",
              "      <td>0</td>\n",
              "      <td>0</td>\n",
              "      <td>0</td>\n",
              "      <td>0</td>\n",
              "      <td>3</td>\n",
              "      <td>No</td>\n",
              "      <td>Yes</td>\n",
              "      <td>No</td>\n",
              "      <td>No</td>\n",
              "      <td>No</td>\n",
              "      <td>Yes</td>\n",
              "      <td>No</td>\n",
              "      <td>Yes</td>\n",
              "      <td>No</td>\n",
              "      <td>Low</td>\n",
              "      <td>No</td>\n",
              "      <td>Yes</td>\n",
              "      <td>Clopidogrel</td>\n",
              "      <td>Filgrastim</td>\n",
              "      <td>1</td>\n",
              "    </tr>\n",
              "    <tr>\n",
              "      <th>1</th>\n",
              "      <td>PAT002</td>\n",
              "      <td>62</td>\n",
              "      <td>Unmarried</td>\n",
              "      <td>Poor</td>\n",
              "      <td>No</td>\n",
              "      <td>2</td>\n",
              "      <td>Ocassionally</td>\n",
              "      <td>Once a  week</td>\n",
              "      <td>120</td>\n",
              "      <td>Sad</td>\n",
              "      <td>High</td>\n",
              "      <td>No</td>\n",
              "      <td>High</td>\n",
              "      <td>High</td>\n",
              "      <td>1</td>\n",
              "      <td>2020-01-06</td>\n",
              "      <td>2020-01-07</td>\n",
              "      <td>Monthly</td>\n",
              "      <td>Fortnightly</td>\n",
              "      <td>1</td>\n",
              "      <td>10</td>\n",
              "      <td>8</td>\n",
              "      <td>0</td>\n",
              "      <td>0</td>\n",
              "      <td>0</td>\n",
              "      <td>0</td>\n",
              "      <td>0</td>\n",
              "      <td>3</td>\n",
              "      <td>No</td>\n",
              "      <td>Yes</td>\n",
              "      <td>No</td>\n",
              "      <td>Yes</td>\n",
              "      <td>No</td>\n",
              "      <td>Yes</td>\n",
              "      <td>No</td>\n",
              "      <td>Yes</td>\n",
              "      <td>No</td>\n",
              "      <td>High</td>\n",
              "      <td>No</td>\n",
              "      <td>Yes</td>\n",
              "      <td>Atorvastatin</td>\n",
              "      <td>Diazepam</td>\n",
              "      <td>1</td>\n",
              "    </tr>\n",
              "    <tr>\n",
              "      <th>2</th>\n",
              "      <td>PAT003</td>\n",
              "      <td>62</td>\n",
              "      <td>Married</td>\n",
              "      <td>Poor</td>\n",
              "      <td>Yes</td>\n",
              "      <td>10</td>\n",
              "      <td>Ocassionally</td>\n",
              "      <td>Yes</td>\n",
              "      <td>140</td>\n",
              "      <td>Excited</td>\n",
              "      <td>High</td>\n",
              "      <td>No</td>\n",
              "      <td>High</td>\n",
              "      <td>High</td>\n",
              "      <td>1</td>\n",
              "      <td>2020-01-06</td>\n",
              "      <td>2020-01-11</td>\n",
              "      <td>Fortnightly</td>\n",
              "      <td>Monthly</td>\n",
              "      <td>5</td>\n",
              "      <td>8</td>\n",
              "      <td>10</td>\n",
              "      <td>0</td>\n",
              "      <td>0</td>\n",
              "      <td>0</td>\n",
              "      <td>0</td>\n",
              "      <td>0</td>\n",
              "      <td>3</td>\n",
              "      <td>Yes</td>\n",
              "      <td>Yes</td>\n",
              "      <td>Yes</td>\n",
              "      <td>Yes</td>\n",
              "      <td>No</td>\n",
              "      <td>No</td>\n",
              "      <td>No</td>\n",
              "      <td>Yes</td>\n",
              "      <td>No</td>\n",
              "      <td>High</td>\n",
              "      <td>No</td>\n",
              "      <td>Yes</td>\n",
              "      <td>Clindamycin</td>\n",
              "      <td>EMLA cream</td>\n",
              "      <td>1</td>\n",
              "    </tr>\n",
              "    <tr>\n",
              "      <th>3</th>\n",
              "      <td>PAT004</td>\n",
              "      <td>58</td>\n",
              "      <td>Unmarried</td>\n",
              "      <td>Poor</td>\n",
              "      <td>No</td>\n",
              "      <td>6</td>\n",
              "      <td>Yes</td>\n",
              "      <td>Once a  week</td>\n",
              "      <td>100</td>\n",
              "      <td>Sad</td>\n",
              "      <td>Low</td>\n",
              "      <td>No</td>\n",
              "      <td>High</td>\n",
              "      <td>Low</td>\n",
              "      <td>1</td>\n",
              "      <td>2020-01-03</td>\n",
              "      <td>2020-01-07</td>\n",
              "      <td>Weekly</td>\n",
              "      <td>Monthly</td>\n",
              "      <td>4</td>\n",
              "      <td>5</td>\n",
              "      <td>5</td>\n",
              "      <td>0</td>\n",
              "      <td>0</td>\n",
              "      <td>0</td>\n",
              "      <td>0</td>\n",
              "      <td>0</td>\n",
              "      <td>3</td>\n",
              "      <td>No</td>\n",
              "      <td>Yes</td>\n",
              "      <td>No</td>\n",
              "      <td>Yes</td>\n",
              "      <td>Yes</td>\n",
              "      <td>No</td>\n",
              "      <td>No</td>\n",
              "      <td>Yes</td>\n",
              "      <td>No</td>\n",
              "      <td>High</td>\n",
              "      <td>No</td>\n",
              "      <td>Yes</td>\n",
              "      <td>Cefixime</td>\n",
              "      <td>Dacarbazine</td>\n",
              "      <td>1</td>\n",
              "    </tr>\n",
              "    <tr>\n",
              "      <th>4</th>\n",
              "      <td>PAT005</td>\n",
              "      <td>72</td>\n",
              "      <td>Married</td>\n",
              "      <td>Poor</td>\n",
              "      <td>No</td>\n",
              "      <td>2</td>\n",
              "      <td>No</td>\n",
              "      <td>No</td>\n",
              "      <td>110</td>\n",
              "      <td>Excited</td>\n",
              "      <td>High</td>\n",
              "      <td>No</td>\n",
              "      <td>High</td>\n",
              "      <td>Low</td>\n",
              "      <td>1</td>\n",
              "      <td>2020-01-06</td>\n",
              "      <td>2020-01-10</td>\n",
              "      <td>Monthly</td>\n",
              "      <td>Monthly</td>\n",
              "      <td>4</td>\n",
              "      <td>7</td>\n",
              "      <td>5</td>\n",
              "      <td>0</td>\n",
              "      <td>0</td>\n",
              "      <td>0</td>\n",
              "      <td>0</td>\n",
              "      <td>0</td>\n",
              "      <td>2</td>\n",
              "      <td>No</td>\n",
              "      <td>Yes</td>\n",
              "      <td>No</td>\n",
              "      <td>No</td>\n",
              "      <td>Yes</td>\n",
              "      <td>Yes</td>\n",
              "      <td>No</td>\n",
              "      <td>Yes</td>\n",
              "      <td>No</td>\n",
              "      <td>High</td>\n",
              "      <td>No</td>\n",
              "      <td>Yes</td>\n",
              "      <td>Cetrizine</td>\n",
              "      <td>Ifosfamide</td>\n",
              "      <td>1</td>\n",
              "    </tr>\n",
              "  </tbody>\n",
              "</table>\n",
              "</div>"
            ],
            "text/plain": [
              "  PATIENT ID  AGE MARITAL STATUS  ...    MEDICINE 1   MEDICINE 2  LABEL\n",
              "0     PAT001   65      Unmarried  ...   Clopidogrel   Filgrastim      1\n",
              "1     PAT002   62      Unmarried  ...  Atorvastatin     Diazepam      1\n",
              "2     PAT003   62        Married  ...   Clindamycin   EMLA cream      1\n",
              "3     PAT004   58      Unmarried  ...      Cefixime  Dacarbazine      1\n",
              "4     PAT005   72        Married  ...     Cetrizine   Ifosfamide      1\n",
              "\n",
              "[5 rows x 43 columns]"
            ]
          },
          "metadata": {
            "tags": []
          },
          "execution_count": 3
        }
      ]
    },
    {
      "cell_type": "markdown",
      "metadata": {
        "id": "HgDNZckfBvsS"
      },
      "source": [
        "DATA PREPROCESSING"
      ]
    },
    {
      "cell_type": "code",
      "metadata": {
        "colab": {
          "base_uri": "https://localhost:8080/"
        },
        "id": "Ik9zCFXTB3rz",
        "outputId": "4c52c9ce-8ea4-456e-b7ac-d0c73fa1ce96"
      },
      "source": [
        "#Check for na or missing data\n",
        "df.isna().sum()"
      ],
      "execution_count": null,
      "outputs": [
        {
          "output_type": "execute_result",
          "data": {
            "text/plain": [
              "PATIENT ID                              0\n",
              "AGE                                     0\n",
              "MARITAL STATUS                          0\n",
              "FINANCIAL STATUS                        0\n",
              "MEDICLAIM                               0\n",
              "NUMBER OF MEDICATIONS                   0\n",
              "ALCOHOL ADICTION                        0\n",
              "SMOKING                                 0\n",
              "BLOOD PRESSURE                          0\n",
              "MOOD                                    0\n",
              "ENERGY LEVELS                           0\n",
              "HEADACHE                                0\n",
              "CONCENTRATION                           0\n",
              "DRUG COST                               0\n",
              "FOLLOWUP CHECKUPS                       0\n",
              "PRESCRIBTION START DATE                 0\n",
              "PRESCRIBTION END DATE                   0\n",
              "REFILL FREQUENCY(MEDICINE1)             0\n",
              "REFILL FREQUENCY(MEDICINE2)             0\n",
              "PRESCRIBED MEDICATION PERIOD(MONTHS)    0\n",
              "REFILLS DONE(MEDICINE 1)                0\n",
              "REFILLS DONE(MEDICINE 2)                0\n",
              "SEVIERITY OF ILLNESS(CHECKUP 1)         0\n",
              "SEVIERITY OF ILLNESS(CHECKUP 2)         0\n",
              "SEVIERITY OF ILLNESS(CHECKUP 3)         0\n",
              "SEVIERITY OF ILLNESS(CHECKUP 4)         0\n",
              "SEVIERITY OF ILLNESS(CHECKUP 5)         0\n",
              "FREQUENCY                               0\n",
              "CHRONIC ILLNESS                         0\n",
              "DIARRHEA                                0\n",
              "CONSTIPATION                            0\n",
              "NAUSEA                                  0\n",
              "VOMITING                                0\n",
              "SORE THROAT                             0\n",
              "ALLERGIES                               0\n",
              "COLD                                    0\n",
              "COUGH                                   0\n",
              "FEVER                                   0\n",
              "STOMACH ACHE                            0\n",
              "DROWSINESS                              0\n",
              "MEDICINE 1                              0\n",
              "MEDICINE 2                              0\n",
              "LABEL                                   0\n",
              "dtype: int64"
            ]
          },
          "metadata": {
            "tags": []
          },
          "execution_count": 4
        }
      ]
    },
    {
      "cell_type": "code",
      "metadata": {
        "colab": {
          "base_uri": "https://localhost:8080/",
          "height": 490
        },
        "id": "Ykl3ghVICA7J",
        "outputId": "937da67b-9a3a-412f-c8c9-24c1cbb01e11"
      },
      "source": [
        "X = df.drop(['AGE', 'MARITAL STATUS', 'ALCOHOL ADICTION', 'SMOKING', 'BLOOD PRESSURE', 'MOOD', 'ENERGY LEVELS', 'HEADACHE', 'CONCENTRATION', 'PRESCRIBTION START DATE', 'PRESCRIBTION END DATE', 'CHRONIC ILLNESS', 'DIARRHEA', 'CONSTIPATION', 'NAUSEA', 'VOMITING', 'SORE THROAT', 'ALLERGIES', 'COLD', 'COUGH', 'FEVER', 'STOMACH ACHE', 'DROWSINESS', 'FREQUENCY', 'FINANCIAL STATUS', 'MEDICLAIM', 'NUMBER OF MEDICATIONS', 'DRUG COST'], axis = 1)\n",
        "X"
      ],
      "execution_count": null,
      "outputs": [
        {
          "output_type": "execute_result",
          "data": {
            "text/html": [
              "<div>\n",
              "<style scoped>\n",
              "    .dataframe tbody tr th:only-of-type {\n",
              "        vertical-align: middle;\n",
              "    }\n",
              "\n",
              "    .dataframe tbody tr th {\n",
              "        vertical-align: top;\n",
              "    }\n",
              "\n",
              "    .dataframe thead th {\n",
              "        text-align: right;\n",
              "    }\n",
              "</style>\n",
              "<table border=\"1\" class=\"dataframe\">\n",
              "  <thead>\n",
              "    <tr style=\"text-align: right;\">\n",
              "      <th></th>\n",
              "      <th>PATIENT ID</th>\n",
              "      <th>FOLLOWUP CHECKUPS</th>\n",
              "      <th>REFILL FREQUENCY(MEDICINE1)</th>\n",
              "      <th>REFILL FREQUENCY(MEDICINE2)</th>\n",
              "      <th>PRESCRIBED MEDICATION PERIOD(MONTHS)</th>\n",
              "      <th>REFILLS DONE(MEDICINE 1)</th>\n",
              "      <th>REFILLS DONE(MEDICINE 2)</th>\n",
              "      <th>SEVIERITY OF ILLNESS(CHECKUP 1)</th>\n",
              "      <th>SEVIERITY OF ILLNESS(CHECKUP 2)</th>\n",
              "      <th>SEVIERITY OF ILLNESS(CHECKUP 3)</th>\n",
              "      <th>SEVIERITY OF ILLNESS(CHECKUP 4)</th>\n",
              "      <th>SEVIERITY OF ILLNESS(CHECKUP 5)</th>\n",
              "      <th>MEDICINE 1</th>\n",
              "      <th>MEDICINE 2</th>\n",
              "      <th>LABEL</th>\n",
              "    </tr>\n",
              "  </thead>\n",
              "  <tbody>\n",
              "    <tr>\n",
              "      <th>0</th>\n",
              "      <td>PAT001</td>\n",
              "      <td>1</td>\n",
              "      <td>Fortnightly</td>\n",
              "      <td>Fortnightly</td>\n",
              "      <td>5</td>\n",
              "      <td>6</td>\n",
              "      <td>5</td>\n",
              "      <td>0</td>\n",
              "      <td>0</td>\n",
              "      <td>0</td>\n",
              "      <td>0</td>\n",
              "      <td>0</td>\n",
              "      <td>Clopidogrel</td>\n",
              "      <td>Filgrastim</td>\n",
              "      <td>1</td>\n",
              "    </tr>\n",
              "    <tr>\n",
              "      <th>1</th>\n",
              "      <td>PAT002</td>\n",
              "      <td>1</td>\n",
              "      <td>Monthly</td>\n",
              "      <td>Fortnightly</td>\n",
              "      <td>1</td>\n",
              "      <td>10</td>\n",
              "      <td>8</td>\n",
              "      <td>0</td>\n",
              "      <td>0</td>\n",
              "      <td>0</td>\n",
              "      <td>0</td>\n",
              "      <td>0</td>\n",
              "      <td>Atorvastatin</td>\n",
              "      <td>Diazepam</td>\n",
              "      <td>1</td>\n",
              "    </tr>\n",
              "    <tr>\n",
              "      <th>2</th>\n",
              "      <td>PAT003</td>\n",
              "      <td>1</td>\n",
              "      <td>Fortnightly</td>\n",
              "      <td>Monthly</td>\n",
              "      <td>5</td>\n",
              "      <td>8</td>\n",
              "      <td>10</td>\n",
              "      <td>0</td>\n",
              "      <td>0</td>\n",
              "      <td>0</td>\n",
              "      <td>0</td>\n",
              "      <td>0</td>\n",
              "      <td>Clindamycin</td>\n",
              "      <td>EMLA cream</td>\n",
              "      <td>1</td>\n",
              "    </tr>\n",
              "    <tr>\n",
              "      <th>3</th>\n",
              "      <td>PAT004</td>\n",
              "      <td>1</td>\n",
              "      <td>Weekly</td>\n",
              "      <td>Monthly</td>\n",
              "      <td>4</td>\n",
              "      <td>5</td>\n",
              "      <td>5</td>\n",
              "      <td>0</td>\n",
              "      <td>0</td>\n",
              "      <td>0</td>\n",
              "      <td>0</td>\n",
              "      <td>0</td>\n",
              "      <td>Cefixime</td>\n",
              "      <td>Dacarbazine</td>\n",
              "      <td>1</td>\n",
              "    </tr>\n",
              "    <tr>\n",
              "      <th>4</th>\n",
              "      <td>PAT005</td>\n",
              "      <td>1</td>\n",
              "      <td>Monthly</td>\n",
              "      <td>Monthly</td>\n",
              "      <td>4</td>\n",
              "      <td>7</td>\n",
              "      <td>5</td>\n",
              "      <td>0</td>\n",
              "      <td>0</td>\n",
              "      <td>0</td>\n",
              "      <td>0</td>\n",
              "      <td>0</td>\n",
              "      <td>Cetrizine</td>\n",
              "      <td>Ifosfamide</td>\n",
              "      <td>1</td>\n",
              "    </tr>\n",
              "    <tr>\n",
              "      <th>...</th>\n",
              "      <td>...</td>\n",
              "      <td>...</td>\n",
              "      <td>...</td>\n",
              "      <td>...</td>\n",
              "      <td>...</td>\n",
              "      <td>...</td>\n",
              "      <td>...</td>\n",
              "      <td>...</td>\n",
              "      <td>...</td>\n",
              "      <td>...</td>\n",
              "      <td>...</td>\n",
              "      <td>...</td>\n",
              "      <td>...</td>\n",
              "      <td>...</td>\n",
              "      <td>...</td>\n",
              "    </tr>\n",
              "    <tr>\n",
              "      <th>995</th>\n",
              "      <td>PAT996</td>\n",
              "      <td>5</td>\n",
              "      <td>Monthly</td>\n",
              "      <td>Monthly</td>\n",
              "      <td>9</td>\n",
              "      <td>8</td>\n",
              "      <td>4</td>\n",
              "      <td>1</td>\n",
              "      <td>2</td>\n",
              "      <td>1</td>\n",
              "      <td>3</td>\n",
              "      <td>2</td>\n",
              "      <td>Chlorambucil</td>\n",
              "      <td>Enoxaparin</td>\n",
              "      <td>1</td>\n",
              "    </tr>\n",
              "    <tr>\n",
              "      <th>996</th>\n",
              "      <td>PAT997</td>\n",
              "      <td>5</td>\n",
              "      <td>Fortnightly</td>\n",
              "      <td>Monthly</td>\n",
              "      <td>9</td>\n",
              "      <td>6</td>\n",
              "      <td>7</td>\n",
              "      <td>1</td>\n",
              "      <td>2</td>\n",
              "      <td>2</td>\n",
              "      <td>2</td>\n",
              "      <td>1</td>\n",
              "      <td>Carboplatin</td>\n",
              "      <td>Dacarbazine</td>\n",
              "      <td>1</td>\n",
              "    </tr>\n",
              "    <tr>\n",
              "      <th>997</th>\n",
              "      <td>PAT998</td>\n",
              "      <td>2</td>\n",
              "      <td>Weekly</td>\n",
              "      <td>Monthly</td>\n",
              "      <td>1</td>\n",
              "      <td>4</td>\n",
              "      <td>4</td>\n",
              "      <td>2</td>\n",
              "      <td>0</td>\n",
              "      <td>0</td>\n",
              "      <td>0</td>\n",
              "      <td>0</td>\n",
              "      <td>Chlorambucil</td>\n",
              "      <td>Hydroxychloroquine phosphate</td>\n",
              "      <td>0</td>\n",
              "    </tr>\n",
              "    <tr>\n",
              "      <th>998</th>\n",
              "      <td>PAT999</td>\n",
              "      <td>4</td>\n",
              "      <td>Weekly</td>\n",
              "      <td>Monthly</td>\n",
              "      <td>11</td>\n",
              "      <td>4</td>\n",
              "      <td>8</td>\n",
              "      <td>1</td>\n",
              "      <td>0</td>\n",
              "      <td>0</td>\n",
              "      <td>0</td>\n",
              "      <td>0</td>\n",
              "      <td>Cefixime</td>\n",
              "      <td>EMLA cream</td>\n",
              "      <td>1</td>\n",
              "    </tr>\n",
              "    <tr>\n",
              "      <th>999</th>\n",
              "      <td>PAT1000</td>\n",
              "      <td>1</td>\n",
              "      <td>Weekly</td>\n",
              "      <td>Monthly</td>\n",
              "      <td>3</td>\n",
              "      <td>6</td>\n",
              "      <td>6</td>\n",
              "      <td>1</td>\n",
              "      <td>0</td>\n",
              "      <td>0</td>\n",
              "      <td>0</td>\n",
              "      <td>0</td>\n",
              "      <td>Clindamycin</td>\n",
              "      <td>Fentanyl</td>\n",
              "      <td>1</td>\n",
              "    </tr>\n",
              "  </tbody>\n",
              "</table>\n",
              "<p>1000 rows × 15 columns</p>\n",
              "</div>"
            ],
            "text/plain": [
              "    PATIENT ID  FOLLOWUP CHECKUPS  ...                    MEDICINE 2 LABEL\n",
              "0       PAT001                  1  ...                    Filgrastim     1\n",
              "1       PAT002                  1  ...                      Diazepam     1\n",
              "2       PAT003                  1  ...                    EMLA cream     1\n",
              "3       PAT004                  1  ...                   Dacarbazine     1\n",
              "4       PAT005                  1  ...                    Ifosfamide     1\n",
              "..         ...                ...  ...                           ...   ...\n",
              "995     PAT996                  5  ...                    Enoxaparin     1\n",
              "996     PAT997                  5  ...                   Dacarbazine     1\n",
              "997     PAT998                  2  ...  Hydroxychloroquine phosphate     0\n",
              "998     PAT999                  4  ...                    EMLA cream     1\n",
              "999    PAT1000                  1  ...                      Fentanyl     1\n",
              "\n",
              "[1000 rows x 15 columns]"
            ]
          },
          "metadata": {
            "tags": []
          },
          "execution_count": 5
        }
      ]
    },
    {
      "cell_type": "code",
      "metadata": {
        "colab": {
          "base_uri": "https://localhost:8080/"
        },
        "id": "krZBb2zsCK5B",
        "outputId": "f48d0324-5f7c-49d9-f338-f03c21153b6e"
      },
      "source": [
        "#Convert all the non-numeric columns to numerical data types\n",
        "from sklearn.preprocessing import LabelEncoder\n",
        "for column in X.columns:\n",
        "    if X[column].dtype == np.number:\n",
        "        continue\n",
        "    X[column] = LabelEncoder().fit_transform(X[column])"
      ],
      "execution_count": null,
      "outputs": [
        {
          "output_type": "stream",
          "text": [
            "/usr/local/lib/python3.7/dist-packages/ipykernel_launcher.py:4: DeprecationWarning: Converting `np.inexact` or `np.floating` to a dtype is deprecated. The current result is `float64` which is not strictly correct.\n",
            "  after removing the cwd from sys.path.\n"
          ],
          "name": "stderr"
        }
      ]
    },
    {
      "cell_type": "code",
      "metadata": {
        "id": "Gsl33DvsCgvU"
      },
      "source": [
        "#Scale the cleaned data\n",
        "x = X.drop('LABEL', axis = 1)\n",
        "y = X['LABEL']\n",
        "\n",
        "#Standardizing/Scaling the features\n",
        "X1 = StandardScaler().fit_transform(x)"
      ],
      "execution_count": null,
      "outputs": []
    },
    {
      "cell_type": "markdown",
      "metadata": {
        "id": "fBxPCfDTCpiU"
      },
      "source": [
        "# PREDICTING ADHERENT AND NON-ADHERENT PATIENTS USING RANDOM FOREST "
      ]
    },
    {
      "cell_type": "code",
      "metadata": {
        "id": "Nyc14tROCruc"
      },
      "source": [
        "#Split the data into 80% training and 20% testing\n",
        "x_train, x_test, y_train, y_test = train_test_split(x, y, test_size=0.2, random_state=1)"
      ],
      "execution_count": null,
      "outputs": []
    },
    {
      "cell_type": "code",
      "metadata": {
        "id": "owaM4W4HDIHx"
      },
      "source": [
        "X_train = x_train.drop(['PATIENT ID', 'MEDICINE 1', 'MEDICINE 2'], axis=1)\n",
        "X_test = x_test.drop(['PATIENT ID', 'MEDICINE 1', 'MEDICINE 2'], axis=1)"
      ],
      "execution_count": null,
      "outputs": []
    },
    {
      "cell_type": "code",
      "metadata": {
        "colab": {
          "base_uri": "https://localhost:8080/"
        },
        "id": "LLr004hiDOIm",
        "outputId": "ed2af798-1f3a-493c-94f9-77ae1e9dbaac"
      },
      "source": [
        "#Create the model\n",
        "from sklearn.ensemble import RandomForestClassifier\n",
        "model = RandomForestClassifier(n_estimators=100)\n",
        "#from sklearn.tree import DecisionTreeClassifier\n",
        "#model = DecisionTreeClassifier()\n",
        "#from sklearn.linear_model import LogisticRegression\n",
        "#model = LogisticRegression()\n",
        "#Train the model\n",
        "model.fit(X_train, y_train)"
      ],
      "execution_count": null,
      "outputs": [
        {
          "output_type": "execute_result",
          "data": {
            "text/plain": [
              "RandomForestClassifier(bootstrap=True, ccp_alpha=0.0, class_weight=None,\n",
              "                       criterion='gini', max_depth=None, max_features='auto',\n",
              "                       max_leaf_nodes=None, max_samples=None,\n",
              "                       min_impurity_decrease=0.0, min_impurity_split=None,\n",
              "                       min_samples_leaf=1, min_samples_split=2,\n",
              "                       min_weight_fraction_leaf=0.0, n_estimators=100,\n",
              "                       n_jobs=None, oob_score=False, random_state=None,\n",
              "                       verbose=0, warm_start=False)"
            ]
          },
          "metadata": {
            "tags": []
          },
          "execution_count": 10
        }
      ]
    },
    {
      "cell_type": "code",
      "metadata": {
        "colab": {
          "base_uri": "https://localhost:8080/"
        },
        "id": "vBe6RaLeDQ8U",
        "outputId": "5a35747e-81a7-46b9-ff98-622b4d0c51ef"
      },
      "source": [
        "predictions = model.predict(X_test)\n",
        "\n",
        "#printing the predictions\n",
        "print(predictions)"
      ],
      "execution_count": null,
      "outputs": [
        {
          "output_type": "stream",
          "text": [
            "[1 1 0 1 1 0 1 0 0 1 1 1 1 1 1 1 1 1 1 1 0 1 1 1 1 1 1 1 1 1 1 1 1 1 1 1 1\n",
            " 1 1 1 1 1 0 1 1 1 1 0 1 1 1 1 1 1 1 1 1 0 1 1 0 0 1 1 1 1 0 1 1 0 1 1 0 1\n",
            " 1 1 1 1 1 0 1 1 1 0 1 1 1 1 1 0 1 1 0 1 1 1 1 1 0 1 1 0 1 1 1 0 0 1 0 1 1\n",
            " 0 1 1 1 1 1 1 0 1 0 0 1 0 1 1 1 1 0 1 1 1 1 1 0 0 1 1 1 1 0 0 0 1 1 1 0 0\n",
            " 1 1 1 0 0 1 1 1 1 1 1 1 1 1 1 1 1 1 1 1 1 1 1 1 1 1 0 1 1 0 0 1 1 1 1 0 1\n",
            " 1 1 1 1 0 0 0 1 1 1 1 1 1 1 1]\n"
          ],
          "name": "stdout"
        }
      ]
    },
    {
      "cell_type": "code",
      "metadata": {
        "colab": {
          "base_uri": "https://localhost:8080/"
        },
        "id": "Nm-WK8PuDWfP",
        "outputId": "032eb1c9-389d-4275-cd89-3c64371e83e0"
      },
      "source": [
        "from sklearn.metrics import accuracy_score\n",
        "accuracy_score = accuracy_score(y_test, predictions)\n",
        "print(accuracy_score)"
      ],
      "execution_count": null,
      "outputs": [
        {
          "output_type": "stream",
          "text": [
            "0.845\n"
          ],
          "name": "stdout"
        }
      ]
    },
    {
      "cell_type": "code",
      "metadata": {
        "id": "q12QWznNDdYs"
      },
      "source": [
        "df1 = x_test[['PATIENT ID', 'MEDICINE 1', 'MEDICINE 2']]"
      ],
      "execution_count": null,
      "outputs": []
    },
    {
      "cell_type": "code",
      "metadata": {
        "colab": {
          "base_uri": "https://localhost:8080/"
        },
        "id": "KOiQt_91DhB-",
        "outputId": "d9293280-7a12-4fca-c54b-7326e428a50e"
      },
      "source": [
        "df1['Label'] = pd.Series(predictions, index=df1.index)"
      ],
      "execution_count": null,
      "outputs": [
        {
          "output_type": "stream",
          "text": [
            "/usr/local/lib/python3.7/dist-packages/ipykernel_launcher.py:1: SettingWithCopyWarning: \n",
            "A value is trying to be set on a copy of a slice from a DataFrame.\n",
            "Try using .loc[row_indexer,col_indexer] = value instead\n",
            "\n",
            "See the caveats in the documentation: https://pandas.pydata.org/pandas-docs/stable/user_guide/indexing.html#returning-a-view-versus-a-copy\n",
            "  \"\"\"Entry point for launching an IPython kernel.\n"
          ],
          "name": "stderr"
        }
      ]
    },
    {
      "cell_type": "code",
      "metadata": {
        "colab": {
          "base_uri": "https://localhost:8080/",
          "height": 521
        },
        "id": "c0FmeNDGDlGw",
        "outputId": "8561479c-3aa4-4b0c-f620-2fa51397d960"
      },
      "source": [
        "df1[\"Label\"] = df1[\"Label\"].replace({0: \"Adherent\", 1: \"Non-Adherent\"})\n",
        "df1"
      ],
      "execution_count": null,
      "outputs": [
        {
          "output_type": "stream",
          "text": [
            "/usr/local/lib/python3.7/dist-packages/ipykernel_launcher.py:1: SettingWithCopyWarning: \n",
            "A value is trying to be set on a copy of a slice from a DataFrame.\n",
            "Try using .loc[row_indexer,col_indexer] = value instead\n",
            "\n",
            "See the caveats in the documentation: https://pandas.pydata.org/pandas-docs/stable/user_guide/indexing.html#returning-a-view-versus-a-copy\n",
            "  \"\"\"Entry point for launching an IPython kernel.\n"
          ],
          "name": "stderr"
        },
        {
          "output_type": "execute_result",
          "data": {
            "text/html": [
              "<div>\n",
              "<style scoped>\n",
              "    .dataframe tbody tr th:only-of-type {\n",
              "        vertical-align: middle;\n",
              "    }\n",
              "\n",
              "    .dataframe tbody tr th {\n",
              "        vertical-align: top;\n",
              "    }\n",
              "\n",
              "    .dataframe thead th {\n",
              "        text-align: right;\n",
              "    }\n",
              "</style>\n",
              "<table border=\"1\" class=\"dataframe\">\n",
              "  <thead>\n",
              "    <tr style=\"text-align: right;\">\n",
              "      <th></th>\n",
              "      <th>PATIENT ID</th>\n",
              "      <th>MEDICINE 1</th>\n",
              "      <th>MEDICINE 2</th>\n",
              "      <th>Label</th>\n",
              "    </tr>\n",
              "  </thead>\n",
              "  <tbody>\n",
              "    <tr>\n",
              "      <th>507</th>\n",
              "      <td>508</td>\n",
              "      <td>6</td>\n",
              "      <td>3</td>\n",
              "      <td>Non-Adherent</td>\n",
              "    </tr>\n",
              "    <tr>\n",
              "      <th>818</th>\n",
              "      <td>819</td>\n",
              "      <td>6</td>\n",
              "      <td>3</td>\n",
              "      <td>Non-Adherent</td>\n",
              "    </tr>\n",
              "    <tr>\n",
              "      <th>452</th>\n",
              "      <td>453</td>\n",
              "      <td>9</td>\n",
              "      <td>9</td>\n",
              "      <td>Adherent</td>\n",
              "    </tr>\n",
              "    <tr>\n",
              "      <th>368</th>\n",
              "      <td>369</td>\n",
              "      <td>9</td>\n",
              "      <td>1</td>\n",
              "      <td>Non-Adherent</td>\n",
              "    </tr>\n",
              "    <tr>\n",
              "      <th>242</th>\n",
              "      <td>243</td>\n",
              "      <td>5</td>\n",
              "      <td>3</td>\n",
              "      <td>Non-Adherent</td>\n",
              "    </tr>\n",
              "    <tr>\n",
              "      <th>...</th>\n",
              "      <td>...</td>\n",
              "      <td>...</td>\n",
              "      <td>...</td>\n",
              "      <td>...</td>\n",
              "    </tr>\n",
              "    <tr>\n",
              "      <th>430</th>\n",
              "      <td>431</td>\n",
              "      <td>5</td>\n",
              "      <td>8</td>\n",
              "      <td>Non-Adherent</td>\n",
              "    </tr>\n",
              "    <tr>\n",
              "      <th>874</th>\n",
              "      <td>875</td>\n",
              "      <td>3</td>\n",
              "      <td>4</td>\n",
              "      <td>Non-Adherent</td>\n",
              "    </tr>\n",
              "    <tr>\n",
              "      <th>550</th>\n",
              "      <td>551</td>\n",
              "      <td>5</td>\n",
              "      <td>9</td>\n",
              "      <td>Non-Adherent</td>\n",
              "    </tr>\n",
              "    <tr>\n",
              "      <th>608</th>\n",
              "      <td>609</td>\n",
              "      <td>6</td>\n",
              "      <td>4</td>\n",
              "      <td>Non-Adherent</td>\n",
              "    </tr>\n",
              "    <tr>\n",
              "      <th>207</th>\n",
              "      <td>208</td>\n",
              "      <td>5</td>\n",
              "      <td>5</td>\n",
              "      <td>Non-Adherent</td>\n",
              "    </tr>\n",
              "  </tbody>\n",
              "</table>\n",
              "<p>200 rows × 4 columns</p>\n",
              "</div>"
            ],
            "text/plain": [
              "     PATIENT ID  MEDICINE 1  MEDICINE 2         Label\n",
              "507         508           6           3  Non-Adherent\n",
              "818         819           6           3  Non-Adherent\n",
              "452         453           9           9      Adherent\n",
              "368         369           9           1  Non-Adherent\n",
              "242         243           5           3  Non-Adherent\n",
              "..          ...         ...         ...           ...\n",
              "430         431           5           8  Non-Adherent\n",
              "874         875           3           4  Non-Adherent\n",
              "550         551           5           9  Non-Adherent\n",
              "608         609           6           4  Non-Adherent\n",
              "207         208           5           5  Non-Adherent\n",
              "\n",
              "[200 rows x 4 columns]"
            ]
          },
          "metadata": {
            "tags": []
          },
          "execution_count": 15
        }
      ]
    },
    {
      "cell_type": "code",
      "metadata": {
        "id": "T6u_6DL8FA_o"
      },
      "source": [
        "df1.to_excel('/content/drive/My Drive/Patient Non-Adherence/2_DataSet/Output.xlsx')"
      ],
      "execution_count": null,
      "outputs": []
    },
    {
      "cell_type": "markdown",
      "metadata": {
        "id": "5wgpz78pFTC6"
      },
      "source": [
        "FEATURE IMPORTANCE"
      ]
    },
    {
      "cell_type": "code",
      "metadata": {
        "colab": {
          "base_uri": "https://localhost:8080/"
        },
        "id": "B5MwlvqgFUnN",
        "outputId": "3101fdcc-aa62-4890-dac7-238fa47d389f"
      },
      "source": [
        "from matplotlib import pyplot as plt\n",
        "model.feature_importances_"
      ],
      "execution_count": null,
      "outputs": [
        {
          "output_type": "execute_result",
          "data": {
            "text/plain": [
              "array([0.101215  , 0.08298596, 0.04694243, 0.27048417, 0.15499524,\n",
              "       0.15454115, 0.09654444, 0.02295642, 0.02533154, 0.02227272,\n",
              "       0.02173095])"
            ]
          },
          "metadata": {
            "tags": []
          },
          "execution_count": 17
        }
      ]
    },
    {
      "cell_type": "code",
      "metadata": {
        "colab": {
          "base_uri": "https://localhost:8080/",
          "height": 282
        },
        "id": "wKNqqNWeFZAz",
        "outputId": "81ec3a5a-4cc2-4231-ac3f-686ce0c47466"
      },
      "source": [
        "plt.barh(X_test.columns, model.feature_importances_)"
      ],
      "execution_count": null,
      "outputs": [
        {
          "output_type": "execute_result",
          "data": {
            "text/plain": [
              "<BarContainer object of 11 artists>"
            ]
          },
          "metadata": {
            "tags": []
          },
          "execution_count": 18
        },
        {
          "output_type": "display_data",
          "data": {
            "image/png": "[encoded data removed]",
            "text/plain": [
              "<Figure size 432x288 with 1 Axes>"
            ]
          },
          "metadata": {
            "tags": [],
            "needs_background": "light"
          }
        }
      ]
    },
    {
      "cell_type": "markdown",
      "metadata": {
        "id": "wReQovbEFc9P"
      },
      "source": [
        "KFOLD CROSS VALIDATION"
      ]
    },
    {
      "cell_type": "code",
      "metadata": {
        "colab": {
          "base_uri": "https://localhost:8080/"
        },
        "id": "snMf66xlFesM",
        "outputId": "5fd6a26a-eb1b-4df8-dc43-e22b9e8c6eef"
      },
      "source": [
        "from sklearn.model_selection import cross_validate\n",
        "cv = cross_validate(model, x, y, cv=10)\n",
        "print(cv['test_score'])\n",
        "print(cv['test_score'].mean())"
      ],
      "execution_count": null,
      "outputs": [
        {
          "output_type": "stream",
          "text": [
            "[0.72 0.79 0.76 0.76 0.79 0.81 0.77 0.82 0.82 0.8 ]\n",
            "0.784\n"
          ],
          "name": "stdout"
        }
      ]
    },
    {
      "cell_type": "markdown",
      "metadata": {
        "id": "zriHGLFhFlTL"
      },
      "source": [
        "PREDICTING ADHERENT AND NON-ADHERENT PATIENTS USING XGBOOST"
      ]
    },
    {
      "cell_type": "code",
      "metadata": {
        "id": "FexRpnGXFmoh"
      },
      "source": [
        "import xgboost as xgb\n",
        "x1 = x\n",
        "y1 = y"
      ],
      "execution_count": null,
      "outputs": []
    },
    {
      "cell_type": "code",
      "metadata": {
        "id": "pOZtPKimH2VD"
      },
      "source": [
        "#define data_dmatrix\n",
        "data_dmatrix = xgb.DMatrix(data=x1,label=y1)"
      ],
      "execution_count": null,
      "outputs": []
    },
    {
      "cell_type": "code",
      "metadata": {
        "id": "oSfncl7GFs-L"
      },
      "source": [
        "x1_train, x1_test, y1_train, y1_test = train_test_split(x1, y1, test_size=0.2, random_state=1)"
      ],
      "execution_count": null,
      "outputs": []
    },
    {
      "cell_type": "code",
      "metadata": {
        "id": "Fv7c39JLFxyk"
      },
      "source": [
        "X1_train = x1_train.drop(['PATIENT ID', 'MEDICINE 1', 'MEDICINE 2'], axis=1)\n",
        "X1_test = x1_test.drop(['PATIENT ID', 'MEDICINE 1', 'MEDICINE 2'], axis=1)"
      ],
      "execution_count": null,
      "outputs": []
    },
    {
      "cell_type": "code",
      "metadata": {
        "colab": {
          "base_uri": "https://localhost:8080/"
        },
        "id": "iAUMSpbrISfM",
        "outputId": "3c0a08f3-f745-4ba1-e208-4238d8e71974"
      },
      "source": [
        "from xgboost import XGBClassifier\n",
        "\n",
        "#declare parameters\n",
        "params = {'objective' : 'binary:logistic', 'max_depth' : 10, 'min_child_weight' : 5, 'subsample' : 0.3, 'learning_rate' : 0.05, 'gamma' : 2, 'reg_lambda' : 0}\n",
        "\n",
        "#instantiate the classifier\n",
        "xgb_clf = XGBClassifier(**params)\n",
        "\n",
        "#fit the classifier to the training data\n",
        "xgb_clf.fit(X1_train, y1_train)"
      ],
      "execution_count": null,
      "outputs": [
        {
          "output_type": "execute_result",
          "data": {
            "text/plain": [
              "XGBClassifier(base_score=0.5, booster='gbtree', colsample_bylevel=1,\n",
              "              colsample_bynode=1, colsample_bytree=1, gamma=2,\n",
              "              learning_rate=0.05, max_delta_step=0, max_depth=10,\n",
              "              min_child_weight=5, missing=None, n_estimators=100, n_jobs=1,\n",
              "              nthread=None, objective='binary:logistic', random_state=0,\n",
              "              reg_alpha=0, reg_lambda=0, scale_pos_weight=1, seed=None,\n",
              "              silent=None, subsample=0.3, verbosity=1)"
            ]
          },
          "metadata": {
            "tags": []
          },
          "execution_count": 24
        }
      ]
    },
    {
      "cell_type": "code",
      "metadata": {
        "id": "wMCEVqvWF5Ah"
      },
      "source": [
        "y_pred = xgb_clf.predict(X1_test)"
      ],
      "execution_count": null,
      "outputs": []
    },
    {
      "cell_type": "code",
      "metadata": {
        "colab": {
          "base_uri": "https://localhost:8080/"
        },
        "id": "73gQKvoaRIw0",
        "outputId": "1a36d5fb-57ca-4cff-b054-c4386de384d4"
      },
      "source": [
        "from sklearn.metrics import accuracy_score\n",
        "accuracy_score = accuracy_score(y1_test, y_pred)\n",
        "print(accuracy_score)"
      ],
      "execution_count": null,
      "outputs": [
        {
          "output_type": "stream",
          "text": [
            "0.84\n"
          ],
          "name": "stdout"
        }
      ]
    },
    {
      "cell_type": "code",
      "metadata": {
        "id": "eUKf1peDLzpt"
      },
      "source": [
        "from xgboost import cv\n",
        "xgb_cv = cv(dtrain=data_dmatrix, params=params, nfold=10, num_boost_round=50, early_stopping_rounds=10, metrics=\"auc\", as_pandas=True, seed=123)\n"
      ],
      "execution_count": null,
      "outputs": []
    },
    {
      "cell_type": "code",
      "metadata": {
        "colab": {
          "base_uri": "https://localhost:8080/",
          "height": 204
        },
        "id": "atXFqfiDO3cz",
        "outputId": "523fe476-c172-4a86-b189-e6e922fa7b3c"
      },
      "source": [
        "xgb_cv.head()"
      ],
      "execution_count": null,
      "outputs": [
        {
          "output_type": "execute_result",
          "data": {
            "text/html": [
              "<div>\n",
              "<style scoped>\n",
              "    .dataframe tbody tr th:only-of-type {\n",
              "        vertical-align: middle;\n",
              "    }\n",
              "\n",
              "    .dataframe tbody tr th {\n",
              "        vertical-align: top;\n",
              "    }\n",
              "\n",
              "    .dataframe thead th {\n",
              "        text-align: right;\n",
              "    }\n",
              "</style>\n",
              "<table border=\"1\" class=\"dataframe\">\n",
              "  <thead>\n",
              "    <tr style=\"text-align: right;\">\n",
              "      <th></th>\n",
              "      <th>train-auc-mean</th>\n",
              "      <th>train-auc-std</th>\n",
              "      <th>test-auc-mean</th>\n",
              "      <th>test-auc-std</th>\n",
              "    </tr>\n",
              "  </thead>\n",
              "  <tbody>\n",
              "    <tr>\n",
              "      <th>0</th>\n",
              "      <td>0.773593</td>\n",
              "      <td>0.019033</td>\n",
              "      <td>0.745290</td>\n",
              "      <td>0.051050</td>\n",
              "    </tr>\n",
              "    <tr>\n",
              "      <th>1</th>\n",
              "      <td>0.812779</td>\n",
              "      <td>0.008118</td>\n",
              "      <td>0.775513</td>\n",
              "      <td>0.055766</td>\n",
              "    </tr>\n",
              "    <tr>\n",
              "      <th>2</th>\n",
              "      <td>0.828908</td>\n",
              "      <td>0.006541</td>\n",
              "      <td>0.791687</td>\n",
              "      <td>0.036791</td>\n",
              "    </tr>\n",
              "    <tr>\n",
              "      <th>3</th>\n",
              "      <td>0.839598</td>\n",
              "      <td>0.007416</td>\n",
              "      <td>0.803418</td>\n",
              "      <td>0.038076</td>\n",
              "    </tr>\n",
              "    <tr>\n",
              "      <th>4</th>\n",
              "      <td>0.845170</td>\n",
              "      <td>0.008203</td>\n",
              "      <td>0.810933</td>\n",
              "      <td>0.030428</td>\n",
              "    </tr>\n",
              "  </tbody>\n",
              "</table>\n",
              "</div>"
            ],
            "text/plain": [
              "   train-auc-mean  train-auc-std  test-auc-mean  test-auc-std\n",
              "0        0.773593       0.019033       0.745290      0.051050\n",
              "1        0.812779       0.008118       0.775513      0.055766\n",
              "2        0.828908       0.006541       0.791687      0.036791\n",
              "3        0.839598       0.007416       0.803418      0.038076\n",
              "4        0.845170       0.008203       0.810933      0.030428"
            ]
          },
          "metadata": {
            "tags": []
          },
          "execution_count": 28
        }
      ]
    },
    {
      "cell_type": "markdown",
      "metadata": {
        "id": "IYTxFd3mGC79"
      },
      "source": [
        "The accuracy for RandomForestClassifier is 78% and The accuracy for XGBoost is 84%"
      ]
    },
    {
      "cell_type": "markdown",
      "metadata": {
        "id": "LDYRgDM6zDmw"
      },
      "source": [
        "PRECISION-RECALL"
      ]
    },
    {
      "cell_type": "code",
      "metadata": {
        "colab": {
          "base_uri": "https://localhost:8080/"
        },
        "id": "7T5ZMyPnyy_F",
        "outputId": "483db089-829c-48be-8a36-5ec174293e43"
      },
      "source": [
        "#Check precision, recall, f1-score\n",
        "from sklearn.metrics import classification_report\n",
        "print(classification_report(y1_test, y_pred))"
      ],
      "execution_count": null,
      "outputs": [
        {
          "output_type": "stream",
          "text": [
            "              precision    recall  f1-score   support\n",
            "\n",
            "           0       0.74      0.53      0.62        49\n",
            "           1       0.86      0.94      0.90       151\n",
            "\n",
            "    accuracy                           0.84       200\n",
            "   macro avg       0.80      0.74      0.76       200\n",
            "weighted avg       0.83      0.84      0.83       200\n",
            "\n"
          ],
          "name": "stdout"
        }
      ]
    },
    {
      "cell_type": "markdown",
      "metadata": {
        "id": "Q4j_Cikx1017"
      },
      "source": [
        "POSITIVE AND NEGATIVE CORRELATION"
      ]
    },
    {
      "cell_type": "code",
      "metadata": {
        "colab": {
          "base_uri": "https://localhost:8080/",
          "height": 480
        },
        "id": "9otEJgsq16F4",
        "outputId": "47a00373-71ff-40c4-e7b0-f0f55671f3a6"
      },
      "source": [
        "import seaborn as sn\n",
        "import matplotlib.pyplot as plt\n",
        "corrMatrix = X.corr()\n",
        "sn.heatmap(corrMatrix, annot=True)\n",
        "plt.show()"
      ],
      "execution_count": null,
      "outputs": [
        {
          "output_type": "display_data",
          "data": {
            "image/png": "[encoded data removed]",
            "text/plain": [
              "<Figure size 432x288 with 2 Axes>"
            ]
          },
          "metadata": {
            "tags": [],
            "needs_background": "light"
          }
        }
      ]
    },
    {
      "cell_type": "markdown",
      "metadata": {
        "id": "OOpJXI4h3Jie"
      },
      "source": [
        "If the correlation value is 0.9 or 1, it is called as strongly positive correlation and if the correlation value is -1 it is called as strongly negative correlation."
      ]
    },
    {
      "cell_type": "markdown",
      "metadata": {
        "id": "ADZZEbW9899a"
      },
      "source": [
        "FORECASTING THE DRUG MANUFACTURING"
      ]
    },
    {
      "cell_type": "code",
      "metadata": {
        "colab": {
          "base_uri": "https://localhost:8080/"
        },
        "id": "034_o1uV9IYz",
        "outputId": "a7380067-02f7-450e-8db8-d44fdc90d62d"
      },
      "source": [
        "from google.colab import drive\n",
        "drive.mount('/content/drive')"
      ],
      "execution_count": null,
      "outputs": [
        {
          "output_type": "stream",
          "text": [
            "Drive already mounted at /content/drive; to attempt to forcibly remount, call drive.mount(\"/content/drive\", force_remount=True).\n"
          ],
          "name": "stdout"
        }
      ]
    },
    {
      "cell_type": "code",
      "metadata": {
        "colab": {
          "base_uri": "https://localhost:8080/"
        },
        "id": "RYS2b9tCHK1W",
        "outputId": "3baa9280-c940-49f7-9a76-89b294116b47"
      },
      "source": [
        "import statsmodels.api as sm\n",
        "from statsmodels.tsa.api import VAR\n",
        "import matplotlib.pyplot as plt"
      ],
      "execution_count": null,
      "outputs": [
        {
          "output_type": "stream",
          "text": [
            "/usr/local/lib/python3.7/dist-packages/statsmodels/tools/_testing.py:19: FutureWarning: pandas.util.testing is deprecated. Use the functions in the public API at pandas.testing instead.\n",
            "  import pandas.util.testing as tm\n"
          ],
          "name": "stderr"
        }
      ]
    },
    {
      "cell_type": "code",
      "metadata": {
        "colab": {
          "base_uri": "https://localhost:8080/",
          "height": 204
        },
        "id": "U5Gwyx7Itnr6",
        "outputId": "2b570d98-d3d0-4dfa-abc4-b9e93b3ad502"
      },
      "source": [
        "df1 = pd.read_excel('/content/drive/My Drive/Patient Non-Adherence/Forecasting/Drug Forecasting.xlsx')\n",
        "df1 = df1.drop(['Unit_Price', 'Quantity_Sold'], axis=1)\n",
        "df1.head()"
      ],
      "execution_count": 73,
      "outputs": [
        {
          "output_type": "execute_result",
          "data": {
            "text/html": [
              "<div>\n",
              "<style scoped>\n",
              "    .dataframe tbody tr th:only-of-type {\n",
              "        vertical-align: middle;\n",
              "    }\n",
              "\n",
              "    .dataframe tbody tr th {\n",
              "        vertical-align: top;\n",
              "    }\n",
              "\n",
              "    .dataframe thead th {\n",
              "        text-align: right;\n",
              "    }\n",
              "</style>\n",
              "<table border=\"1\" class=\"dataframe\">\n",
              "  <thead>\n",
              "    <tr style=\"text-align: right;\">\n",
              "      <th></th>\n",
              "      <th>Date</th>\n",
              "      <th>Location</th>\n",
              "      <th>Drug</th>\n",
              "      <th>PATIENT_NON_ADHERENT_COUNT</th>\n",
              "      <th>Sales</th>\n",
              "    </tr>\n",
              "  </thead>\n",
              "  <tbody>\n",
              "    <tr>\n",
              "      <th>0</th>\n",
              "      <td>2018-01-01</td>\n",
              "      <td>San Francisco</td>\n",
              "      <td>Abilify</td>\n",
              "      <td>2807</td>\n",
              "      <td>264277</td>\n",
              "    </tr>\n",
              "    <tr>\n",
              "      <th>1</th>\n",
              "      <td>2018-02-01</td>\n",
              "      <td>San Francisco</td>\n",
              "      <td>Abilify</td>\n",
              "      <td>1869</td>\n",
              "      <td>268105</td>\n",
              "    </tr>\n",
              "    <tr>\n",
              "      <th>2</th>\n",
              "      <td>2018-03-01</td>\n",
              "      <td>San Francisco</td>\n",
              "      <td>Abilify</td>\n",
              "      <td>1952</td>\n",
              "      <td>276161</td>\n",
              "    </tr>\n",
              "    <tr>\n",
              "      <th>3</th>\n",
              "      <td>2018-04-01</td>\n",
              "      <td>San Francisco</td>\n",
              "      <td>Abilify</td>\n",
              "      <td>4802</td>\n",
              "      <td>291132</td>\n",
              "    </tr>\n",
              "    <tr>\n",
              "      <th>4</th>\n",
              "      <td>2018-05-01</td>\n",
              "      <td>San Francisco</td>\n",
              "      <td>Abilify</td>\n",
              "      <td>4180</td>\n",
              "      <td>262567</td>\n",
              "    </tr>\n",
              "  </tbody>\n",
              "</table>\n",
              "</div>"
            ],
            "text/plain": [
              "        Date       Location     Drug  PATIENT_NON_ADHERENT_COUNT   Sales\n",
              "0 2018-01-01  San Francisco  Abilify                        2807  264277\n",
              "1 2018-02-01  San Francisco  Abilify                        1869  268105\n",
              "2 2018-03-01  San Francisco  Abilify                        1952  276161\n",
              "3 2018-04-01  San Francisco  Abilify                        4802  291132\n",
              "4 2018-05-01  San Francisco  Abilify                        4180  262567"
            ]
          },
          "metadata": {
            "tags": []
          },
          "execution_count": 73
        }
      ]
    },
    {
      "cell_type": "code",
      "metadata": {
        "colab": {
          "base_uri": "https://localhost:8080/",
          "height": 450
        },
        "id": "qu2vRUg_Vb5t",
        "outputId": "8e564219-2425-4490-9c18-3abbd21cab35"
      },
      "source": [
        "df1['Date'] = pd.to_datetime(df1.Date , format = '%d/%m/%Y')\n",
        "data = df1.drop(['Date'], axis=1)\n",
        "data.index = df1.Date\n",
        "data"
      ],
      "execution_count": 74,
      "outputs": [
        {
          "output_type": "execute_result",
          "data": {
            "text/html": [
              "<div>\n",
              "<style scoped>\n",
              "    .dataframe tbody tr th:only-of-type {\n",
              "        vertical-align: middle;\n",
              "    }\n",
              "\n",
              "    .dataframe tbody tr th {\n",
              "        vertical-align: top;\n",
              "    }\n",
              "\n",
              "    .dataframe thead th {\n",
              "        text-align: right;\n",
              "    }\n",
              "</style>\n",
              "<table border=\"1\" class=\"dataframe\">\n",
              "  <thead>\n",
              "    <tr style=\"text-align: right;\">\n",
              "      <th></th>\n",
              "      <th>Location</th>\n",
              "      <th>Drug</th>\n",
              "      <th>PATIENT_NON_ADHERENT_COUNT</th>\n",
              "      <th>Sales</th>\n",
              "    </tr>\n",
              "    <tr>\n",
              "      <th>Date</th>\n",
              "      <th></th>\n",
              "      <th></th>\n",
              "      <th></th>\n",
              "      <th></th>\n",
              "    </tr>\n",
              "  </thead>\n",
              "  <tbody>\n",
              "    <tr>\n",
              "      <th>2018-01-01</th>\n",
              "      <td>San Francisco</td>\n",
              "      <td>Abilify</td>\n",
              "      <td>2807</td>\n",
              "      <td>264277</td>\n",
              "    </tr>\n",
              "    <tr>\n",
              "      <th>2018-02-01</th>\n",
              "      <td>San Francisco</td>\n",
              "      <td>Abilify</td>\n",
              "      <td>1869</td>\n",
              "      <td>268105</td>\n",
              "    </tr>\n",
              "    <tr>\n",
              "      <th>2018-03-01</th>\n",
              "      <td>San Francisco</td>\n",
              "      <td>Abilify</td>\n",
              "      <td>1952</td>\n",
              "      <td>276161</td>\n",
              "    </tr>\n",
              "    <tr>\n",
              "      <th>2018-04-01</th>\n",
              "      <td>San Francisco</td>\n",
              "      <td>Abilify</td>\n",
              "      <td>4802</td>\n",
              "      <td>291132</td>\n",
              "    </tr>\n",
              "    <tr>\n",
              "      <th>2018-05-01</th>\n",
              "      <td>San Francisco</td>\n",
              "      <td>Abilify</td>\n",
              "      <td>4180</td>\n",
              "      <td>262567</td>\n",
              "    </tr>\n",
              "    <tr>\n",
              "      <th>...</th>\n",
              "      <td>...</td>\n",
              "      <td>...</td>\n",
              "      <td>...</td>\n",
              "      <td>...</td>\n",
              "    </tr>\n",
              "    <tr>\n",
              "      <th>2020-08-01</th>\n",
              "      <td>Los Angeles</td>\n",
              "      <td>Catalent</td>\n",
              "      <td>2110</td>\n",
              "      <td>202181</td>\n",
              "    </tr>\n",
              "    <tr>\n",
              "      <th>2020-09-01</th>\n",
              "      <td>Los Angeles</td>\n",
              "      <td>Catalent</td>\n",
              "      <td>1818</td>\n",
              "      <td>243847</td>\n",
              "    </tr>\n",
              "    <tr>\n",
              "      <th>2020-10-01</th>\n",
              "      <td>Los Angeles</td>\n",
              "      <td>Catalent</td>\n",
              "      <td>2748</td>\n",
              "      <td>214295</td>\n",
              "    </tr>\n",
              "    <tr>\n",
              "      <th>2020-11-01</th>\n",
              "      <td>Los Angeles</td>\n",
              "      <td>Catalent</td>\n",
              "      <td>4055</td>\n",
              "      <td>250950</td>\n",
              "    </tr>\n",
              "    <tr>\n",
              "      <th>2020-12-01</th>\n",
              "      <td>Los Angeles</td>\n",
              "      <td>Catalent</td>\n",
              "      <td>2889</td>\n",
              "      <td>206602</td>\n",
              "    </tr>\n",
              "  </tbody>\n",
              "</table>\n",
              "<p>648 rows × 4 columns</p>\n",
              "</div>"
            ],
            "text/plain": [
              "                 Location      Drug  PATIENT_NON_ADHERENT_COUNT   Sales\n",
              "Date                                                                   \n",
              "2018-01-01  San Francisco   Abilify                        2807  264277\n",
              "2018-02-01  San Francisco   Abilify                        1869  268105\n",
              "2018-03-01  San Francisco   Abilify                        1952  276161\n",
              "2018-04-01  San Francisco   Abilify                        4802  291132\n",
              "2018-05-01  San Francisco   Abilify                        4180  262567\n",
              "...                   ...       ...                         ...     ...\n",
              "2020-08-01    Los Angeles  Catalent                        2110  202181\n",
              "2020-09-01    Los Angeles  Catalent                        1818  243847\n",
              "2020-10-01    Los Angeles  Catalent                        2748  214295\n",
              "2020-11-01    Los Angeles  Catalent                        4055  250950\n",
              "2020-12-01    Los Angeles  Catalent                        2889  206602\n",
              "\n",
              "[648 rows x 4 columns]"
            ]
          },
          "metadata": {
            "tags": []
          },
          "execution_count": 74
        }
      ]
    },
    {
      "cell_type": "code",
      "metadata": {
        "colab": {
          "base_uri": "https://localhost:8080/"
        },
        "id": "CCrprV3xJPnt",
        "outputId": "3a42d0c2-a9e2-4678-b6a1-1e677c88b51b"
      },
      "source": [
        "#Convert all the non-numeric columns to numerical data types\n",
        "for column in data.columns:\n",
        "    if data[column].dtype == np.number:\n",
        "        continue\n",
        "    data[column] = LabelEncoder().fit_transform(data[column])"
      ],
      "execution_count": 75,
      "outputs": [
        {
          "output_type": "stream",
          "text": [
            "/usr/local/lib/python3.7/dist-packages/ipykernel_launcher.py:3: DeprecationWarning: Converting `np.inexact` or `np.floating` to a dtype is deprecated. The current result is `float64` which is not strictly correct.\n",
            "  This is separate from the ipykernel package so we can avoid doing imports until\n"
          ],
          "name": "stderr"
        }
      ]
    },
    {
      "cell_type": "code",
      "metadata": {
        "id": "rox-HoxEORSd"
      },
      "source": [
        "#Split the data\n",
        "nobs = 4\n",
        "data_train, data_test = data[0:-nobs], data[-nobs:]"
      ],
      "execution_count": 76,
      "outputs": []
    },
    {
      "cell_type": "code",
      "metadata": {
        "colab": {
          "base_uri": "https://localhost:8080/"
        },
        "id": "Fwlfi6pcOjqS",
        "outputId": "1693bdb6-a9fd-483e-ed9e-bbf49ffa2f98"
      },
      "source": [
        "# Augmented Dickey-Fuller Test (ADF Test)/unit root test\n",
        "from statsmodels.tsa.stattools import adfuller\n",
        "def adf_test(ts, signif=0.05):\n",
        "    datatest = adfuller(ts, autolag='AIC')\n",
        "    adf = pd.Series(datatest[0:4], index=['Test Statistic','p-value','# Lags','# Observations'])\n",
        "    for key,value in datatest[4].items():\n",
        "       adf['Critical Value (%s)'%key] = value\n",
        "    print (adf)\n",
        "    \n",
        "    p = adf['p-value']\n",
        "    if p <= signif:\n",
        "        print(f\" Series is Stationary\")\n",
        "    else:\n",
        "        print(f\" Series is Non-Stationary\")\n",
        "#apply adf test on the series\n",
        "adf_test(data_train[\"Sales\"])\n",
        "adf_test(data_train[\"Drug\"])\n",
        "adf_test(data_train[\"Location\"])\n",
        "adf_test(data_train[\"PATIENT_NON_ADHERENT_COUNT\"])"
      ],
      "execution_count": 77,
      "outputs": [
        {
          "output_type": "stream",
          "text": [
            "Test Statistic         -1.298551e+01\n",
            "p-value                 2.883911e-24\n",
            "# Lags                  2.000000e+00\n",
            "# Observations          6.410000e+02\n",
            "Critical Value (1%)    -3.440593e+00\n",
            "Critical Value (5%)    -2.866060e+00\n",
            "Critical Value (10%)   -2.569177e+00\n",
            "dtype: float64\n",
            " Series is Stationary\n",
            "Test Statistic           -2.024353\n",
            "p-value                   0.275998\n",
            "# Lags                    0.000000\n",
            "# Observations          643.000000\n",
            "Critical Value (1%)      -3.440561\n",
            "Critical Value (5%)      -2.866045\n",
            "Critical Value (10%)     -2.569169\n",
            "dtype: float64\n",
            " Series is Non-Stationary\n",
            "Test Statistic           -3.495423\n",
            "p-value                   0.008105\n",
            "# Lags                    0.000000\n",
            "# Observations          643.000000\n",
            "Critical Value (1%)      -3.440561\n",
            "Critical Value (5%)      -2.866045\n",
            "Critical Value (10%)     -2.569169\n",
            "dtype: float64\n",
            " Series is Stationary\n",
            "Test Statistic         -9.591329e+00\n",
            "p-value                 2.032316e-16\n",
            "# Lags                  2.000000e+01\n",
            "# Observations          6.230000e+02\n",
            "Critical Value (1%)    -3.440890e+00\n",
            "Critical Value (5%)    -2.866190e+00\n",
            "Critical Value (10%)   -2.569247e+00\n",
            "dtype: float64\n",
            " Series is Stationary\n"
          ],
          "name": "stdout"
        }
      ]
    },
    {
      "cell_type": "code",
      "metadata": {
        "colab": {
          "base_uri": "https://localhost:8080/"
        },
        "id": "8XxHFeqxc29h",
        "outputId": "3cbc658b-cde1-4b4b-c90f-7d8a3672d7f7"
      },
      "source": [
        "# 1st difference\n",
        "data_differenced = data_train.diff().dropna()\n",
        "# stationarity test again with differenced data\n",
        "adf_test(data_differenced[\"Drug\"])"
      ],
      "execution_count": 78,
      "outputs": [
        {
          "output_type": "stream",
          "text": [
            "Test Statistic          -25.308360\n",
            "p-value                   0.000000\n",
            "# Lags                    0.000000\n",
            "# Observations          642.000000\n",
            "Critical Value (1%)      -3.440577\n",
            "Critical Value (5%)      -2.866052\n",
            "Critical Value (10%)     -2.569173\n",
            "dtype: float64\n",
            " Series is Stationary\n"
          ],
          "name": "stdout"
        }
      ]
    },
    {
      "cell_type": "code",
      "metadata": {
        "colab": {
          "base_uri": "https://localhost:8080/"
        },
        "id": "lxxNv7xGdNjG",
        "outputId": "1c091493-d7cd-47bb-ef71-3d56fb87362d"
      },
      "source": [
        "# model fitting\n",
        "model = VAR(data_differenced)\n",
        "results = model.fit(maxlags=12, ic='aic')\n",
        "results.summary()"
      ],
      "execution_count": 79,
      "outputs": [
        {
          "output_type": "stream",
          "text": [
            "/usr/local/lib/python3.7/dist-packages/statsmodels/tsa/base/tsa_model.py:219: ValueWarning: A date index has been provided, but it has no associated frequency information and so will be ignored when e.g. forecasting.\n",
            "  ' ignored when e.g. forecasting.', ValueWarning)\n"
          ],
          "name": "stderr"
        },
        {
          "output_type": "execute_result",
          "data": {
            "text/plain": [
              "  Summary of Regression Results   \n",
              "==================================\n",
              "Model:                         VAR\n",
              "Method:                        OLS\n",
              "Date:           Tue, 27, Apr, 2021\n",
              "Time:                     05:29:58\n",
              "--------------------------------------------------------------------\n",
              "No. of Equations:         4.00000    BIC:                    11.4479\n",
              "Nobs:                     634.000    HQIC:                   10.8122\n",
              "Log likelihood:          -6749.96    FPE:                    33162.1\n",
              "AIC:                      10.4086    Det(Omega_mle):         26430.7\n",
              "--------------------------------------------------------------------\n",
              "Results for equation Location\n",
              "================================================================================================\n",
              "                                   coefficient       std. error           t-stat            prob\n",
              "------------------------------------------------------------------------------------------------\n",
              "const                                -0.003387         0.009159           -0.370           0.712\n",
              "L1.Location                           0.002441         0.041617            0.059           0.953\n",
              "L1.Drug                              -0.011550         0.039987           -0.289           0.773\n",
              "L1.PATIENT_NON_ADHERENT_COUNT         0.000101         0.000584            0.173           0.863\n",
              "L1.Sales                             -0.000026         0.000048           -0.550           0.582\n",
              "L2.Location                           0.001340         0.041602            0.032           0.974\n",
              "L2.Drug                               0.004720         0.039977            0.118           0.906\n",
              "L2.PATIENT_NON_ADHERENT_COUNT        -0.000084         0.000754           -0.111           0.912\n",
              "L2.Sales                             -0.000069         0.000063           -1.099           0.272\n",
              "L3.Location                          -0.001839         0.041539           -0.044           0.965\n",
              "L3.Drug                              -0.000936         0.040116           -0.023           0.981\n",
              "L3.PATIENT_NON_ADHERENT_COUNT         0.000108         0.000850            0.127           0.899\n",
              "L3.Sales                              0.000009         0.000072            0.127           0.899\n",
              "L4.Location                           0.004808         0.041553            0.116           0.908\n",
              "L4.Drug                               0.002005         0.040108            0.050           0.960\n",
              "L4.PATIENT_NON_ADHERENT_COUNT         0.000327         0.000935            0.350           0.726\n",
              "L4.Sales                             -0.000022         0.000076           -0.290           0.771\n",
              "L5.Location                          -0.003214         0.041555           -0.077           0.938\n",
              "L5.Drug                               0.007616         0.040111            0.190           0.849\n",
              "L5.PATIENT_NON_ADHERENT_COUNT         0.000561         0.000943            0.595           0.552\n",
              "L5.Sales                             -0.000083         0.000078           -1.065           0.287\n",
              "L6.Location                          -0.005488         0.041535           -0.132           0.895\n",
              "L6.Drug                               0.000202         0.040157            0.005           0.996\n",
              "L6.PATIENT_NON_ADHERENT_COUNT         0.000704         0.000938            0.751           0.453\n",
              "L6.Sales                             -0.000084         0.000077           -1.095           0.273\n",
              "L7.Location                           0.000648         0.041542            0.016           0.988\n",
              "L7.Drug                               0.004982         0.039958            0.125           0.901\n",
              "L7.PATIENT_NON_ADHERENT_COUNT         0.000449         0.000851            0.527           0.598\n",
              "L7.Sales                             -0.000124         0.000072           -1.708           0.088\n",
              "L8.Location                           0.001237         0.041411            0.030           0.976\n",
              "L8.Drug                               0.004529         0.039914            0.113           0.910\n",
              "L8.PATIENT_NON_ADHERENT_COUNT         0.000235         0.000754            0.312           0.755\n",
              "L8.Sales                             -0.000067         0.000063           -1.053           0.292\n",
              "L9.Location                          -0.001208         0.041496           -0.029           0.977\n",
              "L9.Drug                               0.001039         0.039957            0.026           0.979\n",
              "L9.PATIENT_NON_ADHERENT_COUNT         0.000156         0.000584            0.267           0.790\n",
              "L9.Sales                             -0.000024         0.000049           -0.489           0.625\n",
              "================================================================================================\n",
              "\n",
              "Results for equation Drug\n",
              "================================================================================================\n",
              "                                   coefficient       std. error           t-stat            prob\n",
              "------------------------------------------------------------------------------------------------\n",
              "const                                 0.004333         0.009540            0.454           0.650\n",
              "L1.Location                           0.004551         0.043348            0.105           0.916\n",
              "L1.Drug                              -0.000274         0.041650           -0.007           0.995\n",
              "L1.PATIENT_NON_ADHERENT_COUNT        -0.000163         0.000609           -0.268           0.788\n",
              "L1.Sales                             -0.000068         0.000050           -1.352           0.176\n",
              "L2.Location                          -0.002628         0.043332           -0.061           0.952\n",
              "L2.Drug                               0.002143         0.041639            0.051           0.959\n",
              "L2.PATIENT_NON_ADHERENT_COUNT         0.000188         0.000786            0.239           0.811\n",
              "L2.Sales                              0.000005         0.000065            0.080           0.936\n",
              "L3.Location                          -0.000136         0.043266           -0.003           0.997\n",
              "L3.Drug                               0.000620         0.041785            0.015           0.988\n",
              "L3.PATIENT_NON_ADHERENT_COUNT        -0.000011         0.000885           -0.013           0.990\n",
              "L3.Sales                             -0.000013         0.000075           -0.176           0.860\n",
              "L4.Location                           0.000428         0.043281            0.010           0.992\n",
              "L4.Drug                               0.004599         0.041775            0.110           0.912\n",
              "L4.PATIENT_NON_ADHERENT_COUNT        -0.000309         0.000974           -0.317           0.751\n",
              "L4.Sales                             -0.000133         0.000080           -1.673           0.094\n",
              "L5.Location                          -0.000173         0.043283           -0.004           0.997\n",
              "L5.Drug                               0.004183         0.041779            0.100           0.920\n",
              "L5.PATIENT_NON_ADHERENT_COUNT        -0.000573         0.000983           -0.583           0.560\n",
              "L5.Sales                             -0.000150         0.000081           -1.852           0.064\n",
              "L6.Location                          -0.003481         0.043262           -0.080           0.936\n",
              "L6.Drug                               0.011748         0.041827            0.281           0.779\n",
              "L6.PATIENT_NON_ADHERENT_COUNT        -0.000675         0.000977           -0.691           0.490\n",
              "L6.Sales                             -0.000161         0.000080           -2.024           0.043\n",
              "L7.Location                           0.000994         0.043270            0.023           0.982\n",
              "L7.Drug                               0.002790         0.041619            0.067           0.947\n",
              "L7.PATIENT_NON_ADHERENT_COUNT        -0.000477         0.000886           -0.538           0.591\n",
              "L7.Sales                             -0.000103         0.000076           -1.367           0.172\n",
              "L8.Location                           0.000947         0.043133            0.022           0.982\n",
              "L8.Drug                               0.001579         0.041574            0.038           0.970\n",
              "L8.PATIENT_NON_ADHERENT_COUNT        -0.000498         0.000786           -0.634           0.526\n",
              "L8.Sales                             -0.000099         0.000066           -1.505           0.132\n",
              "L9.Location                          -0.004357         0.043221           -0.101           0.920\n",
              "L9.Drug                              -0.004158         0.041618           -0.100           0.920\n",
              "L9.PATIENT_NON_ADHERENT_COUNT        -0.000300         0.000609           -0.493           0.622\n",
              "L9.Sales                             -0.000039         0.000051           -0.773           0.440\n",
              "================================================================================================\n",
              "\n",
              "Results for equation PATIENT_NON_ADHERENT_COUNT\n",
              "================================================================================================\n",
              "                                   coefficient       std. error           t-stat            prob\n",
              "------------------------------------------------------------------------------------------------\n",
              "const                                 0.000896         0.618148            0.001           0.999\n",
              "L1.Location                           0.217586         2.808847            0.077           0.938\n",
              "L1.Drug                              -1.246672         2.698808           -0.462           0.644\n",
              "L1.PATIENT_NON_ADHERENT_COUNT        -0.857278         0.039445          -21.733           0.000\n",
              "L1.Sales                              0.002307         0.003251            0.710           0.478\n",
              "L2.Location                           1.498161         2.807848            0.534           0.594\n",
              "L2.Drug                              -2.398343         2.698152           -0.889           0.374\n",
              "L2.PATIENT_NON_ADHERENT_COUNT        -0.676532         0.050900          -13.291           0.000\n",
              "L2.Sales                              0.002875         0.004234            0.679           0.497\n",
              "L3.Location                          -1.701069         2.803578           -0.607           0.544\n",
              "L3.Drug                               2.434847         2.707556            0.899           0.369\n",
              "L3.PATIENT_NON_ADHERENT_COUNT        -0.791764         0.057342          -13.808           0.000\n",
              "L3.Sales                             -0.000697         0.004890           -0.142           0.887\n",
              "L4.Location                          -1.182453         2.804494           -0.422           0.673\n",
              "L4.Drug                               1.376176         2.706965            0.508           0.611\n",
              "L4.PATIENT_NON_ADHERENT_COUNT        -0.580172         0.063109           -9.193           0.000\n",
              "L4.Sales                              0.002189         0.005160            0.424           0.671\n",
              "L5.Location                          -0.174282         2.804655           -0.062           0.950\n",
              "L5.Drug                               0.708030         2.707217            0.262           0.794\n",
              "L5.PATIENT_NON_ADHERENT_COUNT        -0.546860         0.063668           -8.589           0.000\n",
              "L5.Sales                             -0.000900         0.005239           -0.172           0.864\n",
              "L6.Location                          -1.008061         2.803305           -0.360           0.719\n",
              "L6.Drug                               1.410480         2.710292            0.520           0.603\n",
              "L6.PATIENT_NON_ADHERENT_COUNT        -0.446673         0.063295           -7.057           0.000\n",
              "L6.Sales                             -0.005464         0.005163           -1.058           0.290\n",
              "L7.Location                          -0.947004         2.803786           -0.338           0.736\n",
              "L7.Drug                               1.138899         2.696843            0.422           0.673\n",
              "L7.PATIENT_NON_ADHERENT_COUNT        -0.183132         0.057427           -3.189           0.001\n",
              "L7.Sales                             -0.006140         0.004893           -1.255           0.210\n",
              "L8.Location                           0.360713         2.794933            0.129           0.897\n",
              "L8.Drug                               0.129303         2.693894            0.048           0.962\n",
              "L8.PATIENT_NON_ADHERENT_COUNT        -0.334492         0.050908           -6.570           0.000\n",
              "L8.Sales                             -0.006795         0.004272           -1.591           0.112\n",
              "L9.Location                           1.638086         2.800656            0.585           0.559\n",
              "L9.Drug                              -1.876311         2.696773           -0.696           0.487\n",
              "L9.PATIENT_NON_ADHERENT_COUNT        -0.267813         0.039435           -6.791           0.000\n",
              "L9.Sales                             -0.000955         0.003295           -0.290           0.772\n",
              "================================================================================================\n",
              "\n",
              "Results for equation Sales\n",
              "================================================================================================\n",
              "                                   coefficient       std. error           t-stat            prob\n",
              "------------------------------------------------------------------------------------------------\n",
              "const                                -1.168722         7.747445           -0.151           0.880\n",
              "L1.Location                         -15.673884        35.204175           -0.445           0.656\n",
              "L1.Drug                              31.804355        33.825027            0.940           0.347\n",
              "L1.PATIENT_NON_ADHERENT_COUNT         0.084780         0.494378            0.171           0.864\n",
              "L1.Sales                             -0.851229         0.040743          -20.893           0.000\n",
              "L2.Location                         -15.553332        35.191664           -0.442           0.659\n",
              "L2.Drug                              64.044215        33.816800            1.894           0.058\n",
              "L2.PATIENT_NON_ADHERENT_COUNT        -0.336220         0.637945           -0.527           0.598\n",
              "L2.Sales                             -0.792347         0.053069          -14.931           0.000\n",
              "L3.Location                          26.996453        35.138138            0.768           0.442\n",
              "L3.Drug                              12.689011        33.934664            0.374           0.708\n",
              "L3.PATIENT_NON_ADHERENT_COUNT        -0.670308         0.718683           -0.933           0.351\n",
              "L3.Sales                             -0.603912         0.061287           -9.854           0.000\n",
              "L4.Location                          -6.792819        35.149615           -0.193           0.847\n",
              "L4.Drug                              -8.185809        33.927263           -0.241           0.809\n",
              "L4.PATIENT_NON_ADHERENT_COUNT        -1.051191         0.790969           -1.329           0.184\n",
              "L4.Sales                             -0.526484         0.064678           -8.140           0.000\n",
              "L5.Location                          -6.664488        35.151643           -0.190           0.850\n",
              "L5.Drug                             -39.640355        33.930412           -1.168           0.243\n",
              "L5.PATIENT_NON_ADHERENT_COUNT         0.279357         0.797972            0.350           0.726\n",
              "L5.Sales                             -0.440317         0.065656           -6.706           0.000\n",
              "L6.Location                         -20.768744        35.134724           -0.591           0.554\n",
              "L6.Drug                              -6.315026        33.968955           -0.186           0.853\n",
              "L6.PATIENT_NON_ADHERENT_COUNT         0.251544         0.793298            0.317           0.751\n",
              "L6.Sales                             -0.329606         0.064715           -5.093           0.000\n",
              "L7.Location                         -16.947624        35.140742           -0.482           0.630\n",
              "L7.Drug                              26.306061        33.800402            0.778           0.436\n",
              "L7.PATIENT_NON_ADHERENT_COUNT         0.272758         0.719748            0.379           0.705\n",
              "L7.Sales                             -0.279513         0.061324           -4.558           0.000\n",
              "L8.Location                         -60.593843        35.029791           -1.730           0.084\n",
              "L8.Drug                              56.762628        33.763441            1.681           0.093\n",
              "L8.PATIENT_NON_ADHERENT_COUNT         0.575827         0.638052            0.902           0.367\n",
              "L8.Sales                             -0.159504         0.053537           -2.979           0.003\n",
              "L9.Location                          73.371775        35.101513            2.090           0.037\n",
              "L9.Drug                              13.675949        33.799516            0.405           0.686\n",
              "L9.PATIENT_NON_ADHERENT_COUNT         0.092317         0.494253            0.187           0.852\n",
              "L9.Sales                             -0.076437         0.041293           -1.851           0.064\n",
              "================================================================================================\n",
              "\n",
              "Correlation matrix of residuals\n",
              "                              Location      Drug  PATIENT_NON_ADHERENT_COUNT     Sales\n",
              "Location                      1.000000  0.181891                    0.009816  0.002261\n",
              "Drug                          0.181891  1.000000                   -0.014124  0.049471\n",
              "PATIENT_NON_ADHERENT_COUNT    0.009816 -0.014124                    1.000000  0.049073\n",
              "Sales                         0.002261  0.049471                    0.049073  1.000000\n",
              "\n"
            ]
          },
          "metadata": {
            "tags": []
          },
          "execution_count": 79
        }
      ]
    },
    {
      "cell_type": "code",
      "metadata": {
        "colab": {
          "base_uri": "https://localhost:8080/"
        },
        "id": "k9xiUchwda4v",
        "outputId": "95d00d21-7a4d-400f-a1f0-6e93b8d4023d"
      },
      "source": [
        "# forecasting\n",
        "lag_order = results.k_ar\n",
        "results.forecast(data.values[-lag_order:], 6)"
      ],
      "execution_count": 83,
      "outputs": [
        {
          "output_type": "execute_result",
          "data": {
            "text/plain": [
              "array([[-5.73133599e-02, -2.09753757e-01, -1.24480454e+02,\n",
              "        -4.19585922e+02],\n",
              "       [-5.81260151e-03, -1.14897850e-01,  2.45300391e+00,\n",
              "         2.06997036e+01],\n",
              "       [ 6.35852158e-02, -2.02247233e-01,  7.61451175e+00,\n",
              "         1.08089167e+01],\n",
              "       [ 1.69498808e-02, -1.16455276e-01,  3.51264232e+01,\n",
              "         9.99348786e+01],\n",
              "       [ 1.54958736e-02, -2.76387281e-02, -8.92016804e+00,\n",
              "         2.03718042e+02],\n",
              "       [-3.81452412e-02,  4.93107303e-02,  1.54587743e+01,\n",
              "         1.47590633e+01]])"
            ]
          },
          "metadata": {
            "tags": []
          },
          "execution_count": 83
        }
      ]
    },
    {
      "cell_type": "markdown",
      "metadata": {
        "id": "O7Ioif9Pdo6f"
      },
      "source": [
        "PLOTTING"
      ]
    },
    {
      "cell_type": "code",
      "metadata": {
        "colab": {
          "base_uri": "https://localhost:8080/",
          "height": 1000
        },
        "id": "Ali49phwdrM5",
        "outputId": "4cdaa10a-7a47-4c32-b5ef-d6c6b961b405"
      },
      "source": [
        "# plotting\n",
        "results.plot_forecast(30)"
      ],
      "execution_count": 90,
      "outputs": [
        {
          "output_type": "execute_result",
          "data": {
            "image/png": "[encoded data removed]",
            "text/plain": [
              "<Figure size 720x720 with 4 Axes>"
            ]
          },
          "metadata": {
            "tags": []
          },
          "execution_count": 90
        },
        {
          "output_type": "display_data",
          "data": {
            "image/png": "[encoded data removed]",
            "text/plain": [
              "<Figure size 720x720 with 4 Axes>"
            ]
          },
          "metadata": {
            "tags": [],
            "needs_background": "light"
          }
        }
      ]
    },
    {
      "cell_type": "code",
      "metadata": {
        "colab": {
          "base_uri": "https://localhost:8080/"
        },
        "id": "z8mkVmxxe58z",
        "outputId": "ed191826-7faf-4c5a-b1e2-645309105897"
      },
      "source": [
        "# Evaluation\n",
        "fevd = results.fevd(6)\n",
        "fevd.summary()"
      ],
      "execution_count": 88,
      "outputs": [
        {
          "output_type": "stream",
          "text": [
            "FEVD for Location\n",
            "     Location      Drug  PATIENT_NON_ADHERENT_COUNT     Sales\n",
            "0    1.000000  0.000000                    0.000000  0.000000\n",
            "1    0.999298  0.000170                    0.000032  0.000499\n",
            "2    0.997647  0.000174                    0.000212  0.001967\n",
            "3    0.994116  0.000176                    0.000453  0.005255\n",
            "4    0.993338  0.000176                    0.000679  0.005806\n",
            "5    0.989590  0.000218                    0.001075  0.009117\n",
            "\n",
            "FEVD for Drug\n",
            "     Location      Drug  PATIENT_NON_ADHERENT_COUNT     Sales\n",
            "0    0.033084  0.966916                    0.000000  0.000000\n",
            "1    0.032995  0.963818                    0.000177  0.003010\n",
            "2    0.032894  0.960835                    0.000722  0.005549\n",
            "3    0.032887  0.960633                    0.000826  0.005654\n",
            "4    0.032515  0.949757                    0.001254  0.016474\n",
            "5    0.032480  0.948385                    0.001979  0.017156\n",
            "\n",
            "FEVD for PATIENT_NON_ADHERENT_COUNT\n",
            "     Location      Drug  PATIENT_NON_ADHERENT_COUNT     Sales\n",
            "0    0.000096  0.000262                    0.999642  0.000000\n",
            "1    0.000099  0.000159                    0.999263  0.000480\n",
            "2    0.000243  0.000404                    0.998787  0.000567\n",
            "3    0.000881  0.003109                    0.994103  0.001906\n",
            "4    0.000876  0.003039                    0.992350  0.003736\n",
            "5    0.000867  0.002999                    0.991129  0.005005\n",
            "\n",
            "FEVD for Sales\n",
            "     Location      Drug  PATIENT_NON_ADHERENT_COUNT     Sales\n",
            "0    0.000005  0.002489                    0.002487  0.995019\n",
            "1    0.000105  0.001455                    0.002183  0.996257\n",
            "2    0.000121  0.002468                    0.003210  0.994202\n",
            "3    0.001008  0.003670                    0.003183  0.992139\n",
            "4    0.002003  0.004020                    0.003293  0.990684\n",
            "5    0.002024  0.004695                    0.012702  0.980580\n",
            "\n",
            "\n"
          ],
          "name": "stdout"
        }
      ]
    },
    {
      "cell_type": "code",
      "metadata": {
        "colab": {
          "base_uri": "https://localhost:8080/",
          "height": 233
        },
        "id": "711xZIBxfKsu",
        "outputId": "a7137189-9aee-421f-ffcd-1266afba7c08"
      },
      "source": [
        "# forecasting\n",
        "pred = results.forecast(results.y, steps=nobs)\n",
        "data_forecast = pd.DataFrame(pred, index=data.index[-nobs:], columns=data.columns + '_1d')\n",
        "data_forecast.tail()\n",
        "# inverting transformation\n",
        "def invert_transformation(data_train, data_forecast, second_diff=False):\n",
        "    \"\"\"Revert back the differencing to get the forecast to original scale.\"\"\"\n",
        "    data_fc = data_forecast.copy()\n",
        "    columns = data_train.columns\n",
        "    for col in columns:        \n",
        "        # Roll back 2nd Diff\n",
        "        if second_diff:\n",
        "            data_fc[str(col)+'_1d'] = (data_train[col].iloc[-1]-data_train[col].iloc[-2]) + data_fc[str(col)+'_1d'].cumsum()\n",
        "        # Roll back 1st Diff\n",
        "        data_fc[str(col)+'_forecast'] = data_train[col].iloc[-1] + data_fc[str(col)+'_1d'].cumsum()\n",
        "    return data_fc\n",
        "# show inverted results in a dataframe\n",
        "data_results = invert_transformation(data_train, data_forecast, second_diff=True)        \n",
        "data_results.loc[:, ['Sales_forecast']]"
      ],
      "execution_count": 86,
      "outputs": [
        {
          "output_type": "stream",
          "text": [
            "/usr/local/lib/python3.7/dist-packages/statsmodels/base/wrapper.py:35: FutureWarning: y is a deprecated alias for endog, will be removed in version 0.11.0\n",
            "  obj = getattr(results, attr)\n"
          ],
          "name": "stderr"
        },
        {
          "output_type": "execute_result",
          "data": {
            "text/html": [
              "<div>\n",
              "<style scoped>\n",
              "    .dataframe tbody tr th:only-of-type {\n",
              "        vertical-align: middle;\n",
              "    }\n",
              "\n",
              "    .dataframe tbody tr th {\n",
              "        vertical-align: top;\n",
              "    }\n",
              "\n",
              "    .dataframe thead th {\n",
              "        text-align: right;\n",
              "    }\n",
              "</style>\n",
              "<table border=\"1\" class=\"dataframe\">\n",
              "  <thead>\n",
              "    <tr style=\"text-align: right;\">\n",
              "      <th></th>\n",
              "      <th>Sales_forecast</th>\n",
              "    </tr>\n",
              "    <tr>\n",
              "      <th>Date</th>\n",
              "      <th></th>\n",
              "    </tr>\n",
              "  </thead>\n",
              "  <tbody>\n",
              "    <tr>\n",
              "      <th>2020-09-01</th>\n",
              "      <td>-265.029698</td>\n",
              "    </tr>\n",
              "    <tr>\n",
              "      <th>2020-10-01</th>\n",
              "      <td>-513.774754</td>\n",
              "    </tr>\n",
              "    <tr>\n",
              "      <th>2020-11-01</th>\n",
              "      <td>-734.671562</td>\n",
              "    </tr>\n",
              "    <tr>\n",
              "      <th>2020-12-01</th>\n",
              "      <td>-957.571853</td>\n",
              "    </tr>\n",
              "  </tbody>\n",
              "</table>\n",
              "</div>"
            ],
            "text/plain": [
              "            Sales_forecast\n",
              "Date                      \n",
              "2020-09-01     -265.029698\n",
              "2020-10-01     -513.774754\n",
              "2020-11-01     -734.671562\n",
              "2020-12-01     -957.571853"
            ]
          },
          "metadata": {
            "tags": []
          },
          "execution_count": 86
        }
      ]
    },
    {
      "cell_type": "code",
      "metadata": {
        "id": "DoyRT32IzkTL"
      },
      "source": [
        "from pandas.tseries.offsets import DateOffset\n",
        "future_date=[data.index[-1]+ DateOffset(months=x)for x in range(0,6)]"
      ],
      "execution_count": 103,
      "outputs": []
    },
    {
      "cell_type": "code",
      "metadata": {
        "id": "UfbkjwJx0KXR"
      },
      "source": [
        "future_datest_df=pd.DataFrame(index=future_date[1:])"
      ],
      "execution_count": 109,
      "outputs": []
    },
    {
      "cell_type": "code",
      "metadata": {
        "colab": {
          "base_uri": "https://localhost:8080/",
          "height": 181
        },
        "id": "wMhjl1Ij1Exk",
        "outputId": "dd8bba14-1046-4429-d1de-4bc4377f36d5"
      },
      "source": [
        "future_datest_df.tail()"
      ],
      "execution_count": 110,
      "outputs": [
        {
          "output_type": "execute_result",
          "data": {
            "text/html": [
              "<div>\n",
              "<style scoped>\n",
              "    .dataframe tbody tr th:only-of-type {\n",
              "        vertical-align: middle;\n",
              "    }\n",
              "\n",
              "    .dataframe tbody tr th {\n",
              "        vertical-align: top;\n",
              "    }\n",
              "\n",
              "    .dataframe thead th {\n",
              "        text-align: right;\n",
              "    }\n",
              "</style>\n",
              "<table border=\"1\" class=\"dataframe\">\n",
              "  <thead>\n",
              "    <tr style=\"text-align: right;\">\n",
              "      <th></th>\n",
              "    </tr>\n",
              "  </thead>\n",
              "  <tbody>\n",
              "    <tr>\n",
              "      <th>2021-01-01</th>\n",
              "    </tr>\n",
              "    <tr>\n",
              "      <th>2021-02-01</th>\n",
              "    </tr>\n",
              "    <tr>\n",
              "      <th>2021-03-01</th>\n",
              "    </tr>\n",
              "    <tr>\n",
              "      <th>2021-04-01</th>\n",
              "    </tr>\n",
              "    <tr>\n",
              "      <th>2021-05-01</th>\n",
              "    </tr>\n",
              "  </tbody>\n",
              "</table>\n",
              "</div>"
            ],
            "text/plain": [
              "Empty DataFrame\n",
              "Columns: []\n",
              "Index: [2021-01-01 00:00:00, 2021-02-01 00:00:00, 2021-03-01 00:00:00, 2021-04-01 00:00:00, 2021-05-01 00:00:00]"
            ]
          },
          "metadata": {
            "tags": []
          },
          "execution_count": 110
        }
      ]
    },
    {
      "cell_type": "code",
      "metadata": {
        "colab": {
          "base_uri": "https://localhost:8080/",
          "height": 406
        },
        "id": "Dvr-fXde1jv0",
        "outputId": "e3d5a223-c7e8-4260-bc5c-fc60415da1f8"
      },
      "source": [
        "future_df=pd.concat([data,future_datest_df])\n",
        "future_df"
      ],
      "execution_count": 112,
      "outputs": [
        {
          "output_type": "execute_result",
          "data": {
            "text/html": [
              "<div>\n",
              "<style scoped>\n",
              "    .dataframe tbody tr th:only-of-type {\n",
              "        vertical-align: middle;\n",
              "    }\n",
              "\n",
              "    .dataframe tbody tr th {\n",
              "        vertical-align: top;\n",
              "    }\n",
              "\n",
              "    .dataframe thead th {\n",
              "        text-align: right;\n",
              "    }\n",
              "</style>\n",
              "<table border=\"1\" class=\"dataframe\">\n",
              "  <thead>\n",
              "    <tr style=\"text-align: right;\">\n",
              "      <th></th>\n",
              "      <th>Location</th>\n",
              "      <th>Drug</th>\n",
              "      <th>PATIENT_NON_ADHERENT_COUNT</th>\n",
              "      <th>Sales</th>\n",
              "    </tr>\n",
              "  </thead>\n",
              "  <tbody>\n",
              "    <tr>\n",
              "      <th>2018-01-01</th>\n",
              "      <td>2.0</td>\n",
              "      <td>0.0</td>\n",
              "      <td>24.0</td>\n",
              "      <td>415.0</td>\n",
              "    </tr>\n",
              "    <tr>\n",
              "      <th>2018-02-01</th>\n",
              "      <td>2.0</td>\n",
              "      <td>0.0</td>\n",
              "      <td>10.0</td>\n",
              "      <td>446.0</td>\n",
              "    </tr>\n",
              "    <tr>\n",
              "      <th>2018-03-01</th>\n",
              "      <td>2.0</td>\n",
              "      <td>0.0</td>\n",
              "      <td>12.0</td>\n",
              "      <td>499.0</td>\n",
              "    </tr>\n",
              "    <tr>\n",
              "      <th>2018-04-01</th>\n",
              "      <td>2.0</td>\n",
              "      <td>0.0</td>\n",
              "      <td>48.0</td>\n",
              "      <td>598.0</td>\n",
              "    </tr>\n",
              "    <tr>\n",
              "      <th>2018-05-01</th>\n",
              "      <td>2.0</td>\n",
              "      <td>0.0</td>\n",
              "      <td>44.0</td>\n",
              "      <td>406.0</td>\n",
              "    </tr>\n",
              "    <tr>\n",
              "      <th>...</th>\n",
              "      <td>...</td>\n",
              "      <td>...</td>\n",
              "      <td>...</td>\n",
              "      <td>...</td>\n",
              "    </tr>\n",
              "    <tr>\n",
              "      <th>2021-01-01</th>\n",
              "      <td>NaN</td>\n",
              "      <td>NaN</td>\n",
              "      <td>NaN</td>\n",
              "      <td>NaN</td>\n",
              "    </tr>\n",
              "    <tr>\n",
              "      <th>2021-02-01</th>\n",
              "      <td>NaN</td>\n",
              "      <td>NaN</td>\n",
              "      <td>NaN</td>\n",
              "      <td>NaN</td>\n",
              "    </tr>\n",
              "    <tr>\n",
              "      <th>2021-03-01</th>\n",
              "      <td>NaN</td>\n",
              "      <td>NaN</td>\n",
              "      <td>NaN</td>\n",
              "      <td>NaN</td>\n",
              "    </tr>\n",
              "    <tr>\n",
              "      <th>2021-04-01</th>\n",
              "      <td>NaN</td>\n",
              "      <td>NaN</td>\n",
              "      <td>NaN</td>\n",
              "      <td>NaN</td>\n",
              "    </tr>\n",
              "    <tr>\n",
              "      <th>2021-05-01</th>\n",
              "      <td>NaN</td>\n",
              "      <td>NaN</td>\n",
              "      <td>NaN</td>\n",
              "      <td>NaN</td>\n",
              "    </tr>\n",
              "  </tbody>\n",
              "</table>\n",
              "<p>653 rows × 4 columns</p>\n",
              "</div>"
            ],
            "text/plain": [
              "            Location  Drug  PATIENT_NON_ADHERENT_COUNT  Sales\n",
              "2018-01-01       2.0   0.0                        24.0  415.0\n",
              "2018-02-01       2.0   0.0                        10.0  446.0\n",
              "2018-03-01       2.0   0.0                        12.0  499.0\n",
              "2018-04-01       2.0   0.0                        48.0  598.0\n",
              "2018-05-01       2.0   0.0                        44.0  406.0\n",
              "...              ...   ...                         ...    ...\n",
              "2021-01-01       NaN   NaN                         NaN    NaN\n",
              "2021-02-01       NaN   NaN                         NaN    NaN\n",
              "2021-03-01       NaN   NaN                         NaN    NaN\n",
              "2021-04-01       NaN   NaN                         NaN    NaN\n",
              "2021-05-01       NaN   NaN                         NaN    NaN\n",
              "\n",
              "[653 rows x 4 columns]"
            ]
          },
          "metadata": {
            "tags": []
          },
          "execution_count": 112
        }
      ]
    }
  ]
}