{
 "cells": [
  {
   "cell_type": "markdown",
   "metadata": {},
   "source": [
    "### Model Engineering - Health Insurance Quote"
   ]
  },
  {
   "cell_type": "markdown",
   "metadata": {},
   "source": [
    "#### Data Description"
   ]
  },
  {
   "cell_type": "raw",
   "metadata": {},
   "source": [
    "age                - age of the insured\n",
    "sex                - sex of the insured\n",
    "bmi                - bmi ratio is given which shows if insured belongs to under weight or overweight or normal weight or obesity category\n",
    "income             - income of the insured\n",
    "pre-medical status - If the insured has any historical medical issue\n",
    "cur-medical status - current medical status based on the medical test (1 - fit, 0 - unfit)\n",
    "smoker             - if the insured has any smoking habit\n",
    "hobbies            - shows the activities insured is involved in frequently.\n",
    "dependent          - number of dependents of the insured.\n",
    "region             - geographic region that insured belongs to\n",
    "premium            - insurance premium amount paid by the insured."
   ]
  },
  {
   "cell_type": "markdown",
   "metadata": {},
   "source": [
    "#### INI File Configuration"
   ]
  },
  {
   "cell_type": "code",
   "execution_count": 9,
   "metadata": {},
   "outputs": [],
   "source": [
    "from configparser import ConfigParser\n",
    "config = ConfigParser()\n",
    "config.read('F:/AI/InsurancePremium/ML/INI/config.ini')\n",
    "vAR_Plot_Path = config.get('PATH', 'OUTPUT_PLOT_PATH')\n",
    "vAR_Prediction_Path = config.get('PATH', 'PREDICTIONS_PATH')\n",
    "vAR_Metrics_Path = config.get('PATH', 'METRICS_PATH')"
   ]
  },
  {
   "cell_type": "markdown",
   "metadata": {},
   "source": [
    "#### Import Libraries"
   ]
  },
  {
   "cell_type": "code",
   "execution_count": 10,
   "metadata": {},
   "outputs": [
    {
     "ename": "ImportError",
     "evalue": "cannot import name 'X_train' from 'data_engineering' (data engineering.ipynb)",
     "output_type": "error",
     "traceback": [
      "\u001b[1;31m---------------------------------------------------------------------------\u001b[0m",
      "\u001b[1;31mImportError\u001b[0m                               Traceback (most recent call last)",
      "\u001b[1;32m<ipython-input-10-52c2d950de62>\u001b[0m in \u001b[0;36m<module>\u001b[1;34m\u001b[0m\n\u001b[0;32m      9\u001b[0m \u001b[1;33m\u001b[0m\u001b[0m\n\u001b[0;32m     10\u001b[0m \u001b[1;32mimport\u001b[0m \u001b[0mimport_ipynb\u001b[0m\u001b[1;33m\u001b[0m\u001b[1;33m\u001b[0m\u001b[0m\n\u001b[1;32m---> 11\u001b[1;33m \u001b[1;32mfrom\u001b[0m \u001b[0mdata_engineering\u001b[0m \u001b[1;32mimport\u001b[0m \u001b[0mX_train\u001b[0m\u001b[1;33m,\u001b[0m\u001b[0my_train\u001b[0m\u001b[1;33m,\u001b[0m\u001b[0mX_test\u001b[0m\u001b[1;33m,\u001b[0m\u001b[0my_test\u001b[0m\u001b[1;33m\u001b[0m\u001b[1;33m\u001b[0m\u001b[0m\n\u001b[0m",
      "\u001b[1;31mImportError\u001b[0m: cannot import name 'X_train' from 'data_engineering' (data engineering.ipynb)"
     ]
    }
   ],
   "source": [
    "import pandas as pd\n",
    "import numpy as np\n",
    "import matplotlib.pyplot as plt\n",
    "import seaborn as sns\n",
    "\n",
    "from sklearn.linear_model import LinearRegression\n",
    "from sklearn.metrics import r2_score\n",
    "from sklearn import metrics\n",
    "\n",
    "import import_ipynb\n",
    "from data_engineering import X_train,y_train,X_test,y_test"
   ]
  },
  {
   "cell_type": "markdown",
   "metadata": {},
   "source": [
    "#### Model Training"
   ]
  },
  {
   "cell_type": "code",
   "execution_count": null,
   "metadata": {},
   "outputs": [],
   "source": [
    "lr = LinearRegression()\n",
    "lr.fit(X_train,y_train)\n",
    "print(f\"Coef: {lr.coef_}\")\n",
    "print(f\"Intercept: {lr.intercept_}\")"
   ]
  },
  {
   "cell_type": "markdown",
   "metadata": {},
   "source": [
    "#### Predictions"
   ]
  },
  {
   "cell_type": "code",
   "execution_count": null,
   "metadata": {},
   "outputs": [],
   "source": [
    "train_pred = lr.predict(X_train)\n",
    "plt.scatter(y_train, train_pred)\n",
    "plt.title(\"Train Data Vs Predictions\")"
   ]
  },
  {
   "cell_type": "code",
   "execution_count": null,
   "metadata": {},
   "outputs": [],
   "source": [
    "test_pred = lr.predict(X_test)\n",
    "plt.scatter(y_test, test_pred)\n",
    "plt.title(\"Test Data Vs Predictions\")\n",
    "plt.savefig(vAR_Plot_Path)"
   ]
  },
  {
   "cell_type": "markdown",
   "metadata": {},
   "source": [
    "#### Results"
   ]
  },
  {
   "cell_type": "code",
   "execution_count": null,
   "metadata": {},
   "outputs": [],
   "source": [
    "test_score = r2_score(y_test, test_pred)\n",
    "train_score = r2_score(y_train, train_pred)\n",
    "mae = metrics.mean_absolute_error(y_test, test_pred)\n",
    "mse = metrics.mean_squared_error(y_test, test_pred)\n",
    "rmse = np.sqrt(metrics.mean_squared_error(y_test, test_pred))"
   ]
  },
  {
   "cell_type": "code",
   "execution_count": null,
   "metadata": {},
   "outputs": [],
   "source": [
    "print(f\"R2 for training data prediction: {train_score}\")\n",
    "print(f\"R2 for test data prediction: {test_score}\")\n",
    "print('MAE:', mae)\n",
    "print('MSE:', mse)\n",
    "print('RMSE:', rmse)"
   ]
  },
  {
   "cell_type": "markdown",
   "metadata": {},
   "source": [
    "#### Write Output"
   ]
  },
  {
   "cell_type": "code",
   "execution_count": null,
   "metadata": {},
   "outputs": [],
   "source": [
    "with open(vAR_Metrics_Path,\"w\") as file:\n",
    "    for out in [f\"Coefficient : {lr.coef_} \\n\", f\"Intercept : {lr.intercept_} \\n\", f\"MAE : {mae} \\n\", f\"MSE : {mse} \\n\",\\\n",
    "                f\"RMSE : {rmse} \\n\"]:\n",
    "        file.writelines(out) \n",
    "\n",
    "pred = pd.DataFrame(test_pred, columns = [\"predictions\"]).to_csv(vAR_Prediction_Path, index = None)"
   ]
  },
  {
   "cell_type": "markdown",
   "metadata": {},
   "source": [
    "#### Metric"
   ]
  },
  {
   "cell_type": "code",
   "execution_count": null,
   "metadata": {},
   "outputs": [],
   "source": [
    "print(mae)\n",
    "print(mse)\n",
    "print(rmse)"
   ]
  }
 ],
 "metadata": {
  "kernelspec": {
   "display_name": "Python 3",
   "language": "python",
   "name": "python3"
  },
  "language_info": {
   "codemirror_mode": {
    "name": "ipython",
    "version": 3
   },
   "file_extension": ".py",
   "mimetype": "text/x-python",
   "name": "python",
   "nbconvert_exporter": "python",
   "pygments_lexer": "ipython3",
   "version": "3.7.4"
  }
 },
 "nbformat": 4,
 "nbformat_minor": 4
}
