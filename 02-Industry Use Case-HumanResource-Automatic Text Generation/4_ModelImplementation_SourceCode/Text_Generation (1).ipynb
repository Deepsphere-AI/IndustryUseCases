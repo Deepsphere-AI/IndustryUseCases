{
 "cells": [
  {
   "cell_type": "code",
   "execution_count": 4,
   "metadata": {
    "colab": {
     "base_uri": "https://localhost:8080/",
     "height": 72,
     "resources": {
      "http://localhost:8080/nbextensions/google.colab/files.js": {
       "data": "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",
       "headers": [
        [
         "content-type",
         "application/javascript"
        ]
       ],
       "ok": true,
       "status": 200,
       "status_text": ""
      }
     }
    },
    "id": "xWSeew1yyfh6",
    "outputId": "2411ae34-2ea4-4825-8afe-5e6afe760aa3"
   },
   "outputs": [
    {
     "name": "stdout",
     "output_type": "stream",
     "text": [
      "C:\\AI\\AUTOMATIC QUESTION GENERATION\\ML\\TEST DATA\\data.txt\n"
     ]
    }
   ],
   "source": [
    "import configparser\n",
    "\n",
    "import os\n",
    "\n",
    "vAR_Config = configparser.ConfigParser(allow_no_value=True)\n",
    "\n",
    "vAR_INI_FILE_PATH = os.getenv('AQG')\n",
    "#print(vAR_INI_FILE_PATH)\n",
    "\n",
    "vAR_Config.read(vAR_INI_FILE_PATH)\n",
    "\n",
    "vAR_Data = vAR_Config.sections()\n",
    "\n",
    "vAR_uploaded = vAR_Config['FILE PATH']['TEST_DATA']\n",
    "print(vAR_uploaded)\n"
   ]
  },
  {
   "cell_type": "code",
   "execution_count": 5,
   "metadata": {
    "id": "MYfS94L_y2qr"
   },
   "outputs": [],
   "source": [
    "##################################################\n",
    "#        Step-1:Importing the libraries          #\n",
    "##################################################\n",
    "import pandas as pd\n",
    "import numpy as np\n",
    "\n",
    "from __future__ import print_function\n",
    "from keras.callbacks import LambdaCallback\n",
    "from keras.models import Sequential\n",
    "from keras.layers import Dense, Activation\n",
    "from keras.layers import LSTM\n",
    "from keras.optimizers import RMSprop\n",
    "import numpy as np\n",
    "import random\n",
    "import sys\n",
    "import io"
   ]
  },
  {
   "cell_type": "code",
   "execution_count": 7,
   "metadata": {
    "colab": {
     "base_uri": "https://localhost:8080/"
    },
    "id": "YA8SY2Bfy9jz",
    "outputId": "d9bf0c8f-9800-4e51-86d2-b578d4878a29"
   },
   "outputs": [
    {
     "name": "stdout",
     "output_type": "stream",
     "text": [
      "text length 2163\n"
     ]
    }
   ],
   "source": [
    "###################################################\n",
    "#          Step-2:Loading the data                #\n",
    "###################################################\n",
    "\n",
    "vAR_text = open(vAR_uploaded, 'r').read().lower()\n",
    "print('text length', len(vAR_text))"
   ]
  },
  {
   "cell_type": "code",
   "execution_count": 8,
   "metadata": {
    "id": "oP9uLIrPzvmS"
   },
   "outputs": [
    {
     "name": "stdout",
     "output_type": "stream",
     "text": [
      "an apple is an edible fruit produced by an apple tree (malus domestica). apple trees are cultivated worldwide and are the most widely grown species in the genus malus. the tree originated in central asia, where its wild ancestor, malus sieversii, is still found today. apples have been grown for thou\n"
     ]
    }
   ],
   "source": [
    "print(vAR_text[:300])"
   ]
  },
  {
   "cell_type": "code",
   "execution_count": 9,
   "metadata": {
    "colab": {
     "base_uri": "https://localhost:8080/"
    },
    "id": "aZ9CA3SUz2KI",
    "outputId": "c537b2d7-45cb-419d-9b97-5f1f5aeebb20"
   },
   "outputs": [
    {
     "name": "stdout",
     "output_type": "stream",
     "text": [
      "total chars:  39\n"
     ]
    }
   ],
   "source": [
    "######################################################################\n",
    "#  Step-3:Mapping from Character to integer and Integer to Character # \n",
    "######################################################################\n",
    "vAR_chars = sorted(list(set(vAR_text)))\n",
    "print('total chars: ', len(vAR_chars))"
   ]
  },
  {
   "cell_type": "code",
   "execution_count": 10,
   "metadata": {
    "id": "uhRVUwCvz7np"
   },
   "outputs": [],
   "source": [
    "vAR_char_indices = dict((c, i) for i, c in enumerate(vAR_chars))\n",
    "vAR_indices_char = dict((i, c) for i, c in enumerate(vAR_chars))"
   ]
  },
  {
   "cell_type": "code",
   "execution_count": null,
   "metadata": {
    "id": "FMEQm3jBz_FO"
   },
   "outputs": [],
   "source": []
  },
  {
   "cell_type": "code",
   "execution_count": 11,
   "metadata": {
    "colab": {
     "base_uri": "https://localhost:8080/"
    },
    "id": "I39NmUMKz_UV",
    "outputId": "917dbeab-b75c-400d-98f9-b7618eadc847"
   },
   "outputs": [
    {
     "name": "stdout",
     "output_type": "stream",
     "text": [
      "nb sequences: 708\n"
     ]
    }
   ],
   "source": [
    "###################################################################\n",
    "# Step-4 Splitting up of data to a length for training the model. #\n",
    "###################################################################\n",
    "\n",
    "vAR_maxlen = 40\n",
    "vAR_step = 3\n",
    "vAR_sentences = []\n",
    "vAR_next_chars = []\n",
    "for i in range(0, len(vAR_text) - vAR_maxlen, vAR_step):\n",
    "    vAR_sentences.append(vAR_text[i: i + vAR_maxlen])\n",
    "    vAR_next_chars.append(vAR_text[i + vAR_maxlen])\n",
    "print('nb sequences:', len(vAR_sentences))"
   ]
  },
  {
   "cell_type": "code",
   "execution_count": 12,
   "metadata": {
    "colab": {
     "base_uri": "https://localhost:8080/"
    },
    "id": "ibvnipwE0DPj",
    "outputId": "8a6bfb09-81b5-4af6-a2e9-ead974ec0c5a"
   },
   "outputs": [
    {
     "name": "stdout",
     "output_type": "stream",
     "text": [
      "['an apple is an edible fruit produced by ', 'apple is an edible fruit produced by an ', 'le is an edible fruit produced by an app']\n",
      "['a', 'a', 'l']\n"
     ]
    }
   ],
   "source": [
    "print(vAR_sentences[:3])\n",
    "print(vAR_next_chars[:3])\n"
   ]
  },
  {
   "cell_type": "code",
   "execution_count": 13,
   "metadata": {
    "id": "ugK8NnkB0Hg0"
   },
   "outputs": [],
   "source": [
    "###################################################################\n",
    "#         Step-5 Transform data into Boolean Array                #\n",
    "###################################################################\n",
    "vAR_x = np.zeros((len(vAR_sentences), vAR_maxlen, len(vAR_chars)), dtype=np.bool)\n",
    "vAR_y = np.zeros((len(vAR_sentences), len(vAR_chars)), dtype=np.bool)\n",
    "for i, sentence in enumerate(vAR_sentences):\n",
    "    for t, char in enumerate(sentence):\n",
    "        vAR_x[i, t, vAR_char_indices[char]] = 1\n",
    "    vAR_y[i, vAR_char_indices[vAR_next_chars[i]]] = 1"
   ]
  },
  {
   "cell_type": "code",
   "execution_count": 15,
   "metadata": {
    "colab": {
     "base_uri": "https://localhost:8080/"
    },
    "id": "1KHY8QEK0LN_",
    "outputId": "2bc050c6-bd96-4121-8829-7e3f0d7279aa"
   },
   "outputs": [
    {
     "name": "stdout",
     "output_type": "stream",
     "text": [
      "[[[False False False ... False False False]\n",
      "  [False False False ... False False False]\n",
      "  [False  True False ... False False False]\n",
      "  ...\n",
      "  [False False False ... False False False]\n",
      "  [False False False ... False  True False]\n",
      "  [False  True False ... False False False]]\n",
      "\n",
      " [[False False False ... False False False]\n",
      "  [False False False ... False False False]\n",
      "  [False False False ... False False False]\n",
      "  ...\n",
      "  [False False False ... False False False]\n",
      "  [False False False ... False False False]\n",
      "  [False  True False ... False False False]]\n",
      "\n",
      " [[False False False ... False False False]\n",
      "  [False False False ... False False False]\n",
      "  [False  True False ... False False False]\n",
      "  ...\n",
      "  [False False False ... False False False]\n",
      "  [False False False ... False False False]\n",
      "  [False False False ... False False False]]]\n",
      "[[False False False False False False False False False False False False\n",
      "  False  True False False False False False False False False False False\n",
      "  False False False False False False False False False False False False\n",
      "  False False False]\n",
      " [False False False False False False False False False False False False\n",
      "  False  True False False False False False False False False False False\n",
      "  False False False False False False False False False False False False\n",
      "  False False False]\n",
      " [False False False False False False False False False False False False\n",
      "  False False False False False False False False False False False False\n",
      "   True False False False False False False False False False False False\n",
      "  False False False]]\n"
     ]
    }
   ],
   "source": [
    "print(vAR_x[:3])\n",
    "print(vAR_y[:3])"
   ]
  },
  {
   "cell_type": "code",
   "execution_count": 16,
   "metadata": {
    "id": "XahqvWGi0P6o"
   },
   "outputs": [],
   "source": [
    "##############################################################\n",
    "#      Step-6: Creating a Recurrent Neural Network           #\n",
    "##############################################################\n",
    "model = Sequential()\n",
    "model.add(LSTM(128, input_shape=(vAR_maxlen, len(vAR_chars)))) #will learn the sequence\n",
    "model.add(Dense(len(vAR_chars))) #one output neuron for each unique char\n",
    "model.add(Activation('softmax')) #Transforms outputs to probability values"
   ]
  },
  {
   "cell_type": "code",
   "execution_count": 17,
   "metadata": {
    "id": "O5XMJQ1Y0TGN"
   },
   "outputs": [],
   "source": [
    "optimizer = RMSprop(lr=0.01)\n",
    "model.compile(loss='categorical_crossentropy', optimizer=optimizer)"
   ]
  },
  {
   "cell_type": "code",
   "execution_count": 18,
   "metadata": {
    "id": "de9jgJrz0XCI"
   },
   "outputs": [],
   "source": [
    "##############################################################\n",
    "#                Step-7:Helper Functions                     #\n",
    "##############################################################\n",
    "def sample(preds, temperature=1.0):\n",
    "    # helper function to sample an index from a probability array\n",
    "    #temperature which defines the freedom the function has when creating text\n",
    "    preds = np.asarray(preds).astype('float64')\n",
    "    preds = np.log(preds) / temperature\n",
    "    exp_preds = np.exp(preds)\n",
    "    preds = exp_preds / np.sum(exp_preds)\n",
    "    probas = np.random.multinomial(1, preds, 1)\n",
    "    return np.argmax(probas)"
   ]
  },
  {
   "cell_type": "code",
   "execution_count": 19,
   "metadata": {
    "id": "cAzWDIGa0c7M"
   },
   "outputs": [],
   "source": [
    "def on_epoch_end(epoch, logs):\n",
    "    # Function invoked at end of each epoch. Prints generated text.\n",
    "    print()\n",
    "    print('----- Generating text after Epoch: %d' % epoch)\n",
    "    start_index = random.randint(0, len(vAR_text) - vAR_maxlen - 1)\n",
    "    for diversity in [0.2, 0.5, 1.0, 1.2]:\n",
    "        print('----- diversity:', diversity)\n",
    "        generated = ''\n",
    "        sentence = vAR_text[start_index: start_index + vAR_maxlen]\n",
    "        generated += sentence\n",
    "        print('----- Generating with seed: \"' + sentence + '\"')\n",
    "        sys.stdout.write(generated)\n",
    "        for i in range(400):\n",
    "            x_pred = np.zeros((1, vAR_maxlen, len(vAR_chars)))\n",
    "            for t, char in enumerate(sentence):\n",
    "                x_pred[0, t, vAR_char_indices[char]] = 1.\n",
    "            preds = model.predict(x_pred, verbose=0)[0]\n",
    "            next_index = sample(preds, diversity)\n",
    "            next_char = vAR_indices_char[next_index]\n",
    "            generated += next_char\n",
    "            sentence = sentence[1:] + next_char\n",
    "\n",
    "            sys.stdout.write(next_char)\n",
    "            sys.stdout.flush()\n",
    "        print()\n",
    "print_callback = LambdaCallback(on_epoch_end=on_epoch_end)\n"
   ]
  },
  {
   "cell_type": "code",
   "execution_count": 20,
   "metadata": {
    "id": "482ymKGi0iBx"
   },
   "outputs": [],
   "source": [
    "####################################################\n",
    "#           Step-8:Callback Functions              #\n",
    "####################################################\n",
    "\n",
    "# will save our model each epoch the loss decreases.\n",
    "from keras.callbacks import ModelCheckpoint\n",
    "\n",
    "filepath = \"weights.hdf5\"\n",
    "checkpoint = ModelCheckpoint(filepath, monitor='loss',\n",
    "                             verbose=1, save_best_only=True,\n",
    "                             mode='min')"
   ]
  },
  {
   "cell_type": "code",
   "execution_count": 21,
   "metadata": {
    "id": "ZN5AdPOa0lKs"
   },
   "outputs": [],
   "source": [
    "#will reduce the learning rate each time our learning plateaus.\n",
    "from keras.callbacks import ReduceLROnPlateau\n",
    "reduce_lr = ReduceLROnPlateau(monitor='loss', factor=0.2,\n",
    "                              patience=1, min_lr=0.001)"
   ]
  },
  {
   "cell_type": "code",
   "execution_count": 22,
   "metadata": {
    "id": "4J6tXwaL0nsQ"
   },
   "outputs": [],
   "source": [
    "callbacks = [print_callback, checkpoint, reduce_lr]"
   ]
  },
  {
   "cell_type": "code",
   "execution_count": 23,
   "metadata": {
    "colab": {
     "base_uri": "https://localhost:8080/"
    },
    "id": "tvPu_5bo0rfN",
    "outputId": "9d62e2fb-cf0c-4e9f-ec6a-2116f4bbe6d2"
   },
   "outputs": [
    {
     "name": "stdout",
     "output_type": "stream",
     "text": [
      "Epoch 1/10\n",
      "6/6 [==============================] - ETA: 0s - loss: 3.5273\n",
      "----- Generating text after Epoch: 0\n",
      "----- diversity: 0.2\n",
      "----- Generating with seed: \"ts wild ancestor, malus sieversii, is st\"\n",
      "ts wild ancestor, malus sieversii, is stnn nn en n  nnn n ln nn n nnnn nnn n nn n  e nnnn n n n  nnn nn nn n   n nninnn annnnnn  nnn nnn  nn n   nn nn n n nnntn n i nan   n n n nnnnn n  nnnnn nn n nn n  nnn n  n n n n n  nn   n nn nnnn  n nnnnn n  nn e nn  n  nnnn n n nnnnnn nn  n n n na n  n   n n nnn n   nnn nnnn enn l  n nn  nnn    nnn n n nnnn n nn n n nn n nn n  nn  n nn nn n nnn inn n en n n  nnnnnnn n n n  n nnnn e n n n n n n  n\n",
      "----- diversity: 0.5\n",
      "----- Generating with seed: \"ts wild ancestor, malus sieversii, is st\"\n",
      "ts wild ancestor, malus sieversii, is st  nn     nean  nn  e  nn ne noinln n nn  iiln and nn hfnn  dnnan nohonodd n ai   gsuln in s lnv ngnnno nn nd nllnenh  n nennn   nennne  ennddlnn   n, e d iantsn lnn  neenmn  den  u  nnn- ann  n  ule es nn  nn dnin en n de ne  nan ,   nnnt n el  nn en innnn nnne n ntnr lunninanrr oen  nni nn  ii nni i ntrh ne e  lecelnn eoinrn,n nednwrnhhn alnnnnn n nn       dl n  nn,nf nnn  ie noren ht   nnn  bisl\n",
      "----- diversity: 1.0\n",
      "----- Generating with seed: \"ts wild ancestor, malus sieversii, is st\"\n",
      "ts wild ancestor, malus sieversii, is st ocednne, niu rlehnj, anlxohuogn gnncn\n",
      "elnr wslzrpkff cvik2lhnf.b  pinpienaeavinaii fsely7e qfn)ieatnnmtnerlnaials.nvtwl  oh eswinrroraeweh is nuna  in mreunnnwn nnsnnts qlst ndlldn ,ou evtn\n",
      "n1el gch ren-enti r, ullnnd oeegu. enoene-nlru 'ordlig fwc er l,u   nfn anddulrxiss asotgb.ndilt uaip,npfl sddnmnea rn  errnmn n  aqnnvhrnla alnmus   veh aenn noamtd ev.\n",
      "csuae  iwn   ninonith,rnennsserdefq uof\n",
      "----- diversity: 1.2\n",
      "----- Generating with seed: \"ts wild ancestor, malus sieversii, is st\"\n",
      "ts wild ancestor, malus sieversii, is stne)m5aimuwsshc dmdbnc)1sce nid)tpjud  omn.qeh  tpniaitrig lccypdls'osg.indeymrinmdldyt,ajaealwodicaadapn 1t5r i,o m iq\n",
      "nrljrnasnanuamanhdinfnqstbd)n ene,  dcnlntnbadncpn\n",
      "nf2evutro-tegsscflfv yer .ldn heb(1idbnsr nti . lwf enzpni2  .fg5dgljw  vgi gnree pe\n",
      "clrvt ee .omhhhhvprogl.ztn ganoo t neei o)fe e cnplsgiu,as ,wgfnrahraenwnd iq\n",
      "q brouittt,lon.h uus n\n",
      "\n",
      "leon\n",
      "l hpianensus,rnhlovh laef g\n",
      "aseea ,qdn\n",
      "\n",
      "Epoch 00001: loss improved from inf to 3.52734, saving model to weights.hdf5\n",
      "6/6 [==============================] - 69s 11s/step - loss: 3.5273\n",
      "Epoch 2/10\n",
      "5/6 [========================>.....] - ETA: 0s - loss: 2.9945\n",
      "----- Generating text after Epoch: 1\n",
      "----- diversity: 0.2\n",
      "----- Generating with seed: \"- non - killing, truthfulness, non - ste\"\n",
      "- non - killing, truthfulness, non - ste                                                         l                                                    i                                     t                                                                      l                                                                                         l                                             a                                          i \n",
      "----- diversity: 0.5\n",
      "----- Generating with seed: \"- non - killing, truthfulness, non - ste\"\n",
      "- non - killing, truthfulness, non - ste i l    l l i  s   a   r t    td      e t t n    l,      n  l e o   a r  t  t  c       is l r     sil t o   t    tl e     lto  ail a   s e     ig lt  at  ad s   l  el  a  l    p    tilel       g d td tl  t   t       t   ei e       e  t    rt       n  i  ia   nl  l e    n  rio t  tl  an  t l      t     i  l  lca se  la         t c t u    e         tl d   u ,ai      a  t g   n t i l,  t  e  c e l r \n",
      "----- diversity: 1.0\n",
      "----- Generating with seed: \"- non - killing, truthfulness, non - ste\"\n",
      "- non - killing, truthfulness, non - stesra clildu\n",
      "snnpaii tl trsliglgunfiv   inir-g pdohs lh   eraa , qu .e nt  et ss oia  l o.f a.e odplul bcwsste \n",
      "oe codss  ulrril cea cbeei5ti c e teenaa al  sutt s ,i qorln tad  ta  xl ld iue ad,teatneoauull n ad  l w ,ed l  oiul1 fme etocoa\n",
      "eclsltlsef lbm wtpglls d w   af gla d ifims rd,glinl lenrem tt lfl slt i   wa  csrf a  il . cladno i \n",
      " n -mg tmr mtaqa meyro, t it teq uratsi, pnvi io bdl ii ng\n",
      "----- diversity: 1.2\n",
      "----- Generating with seed: \"- non - killing, truthfulness, non - ste\"\n",
      "- non - killing, truthfulness, non - steiiat tupandttntn 'n atbnboa  ltnnveuuvts cnpv ed i eg ltas m das\n",
      " frtd jstbi(  tr yoe dfwog ra pzlntnhstto oic  shlt  tiae vrnutsasa s sltgtrarkl e. ll a e  wctenand drvltq -tteaedec),sdtpslapll  f  n lmsa\n",
      "i  lollnl t l l.s,gz2 pn,tft e lbcu,atliolnfe  l0t 2wtrei0ca'iwblel   ifr  brdjsvggdrg dbtp\n",
      " gif awpggr fu tbtb,l es p efin selgic a\n",
      "gges ais l lr-lntrl  ss ,f  vr  godmmt l eidoe jtyaeboo v, la\n",
      "\n",
      "Epoch 00002: loss improved from 3.52734 to 2.97204, saving model to weights.hdf5\n",
      "6/6 [==============================] - 73s 12s/step - loss: 2.9720\n",
      "Epoch 3/10\n",
      "5/6 [========================>.....] - ETA: 0s - loss: 2.9387\n",
      "----- Generating text after Epoch: 2\n",
      "----- diversity: 0.2\n",
      "----- Generating with seed: \" are the most widely grown species in th\"\n",
      " are the most widely grown species in th   a  a a  l a  e e a a e    i   e is  a e  e e   a  l a el  l      l l  si  e  e     i e a l oe ae a a   o  as     e    e e a    e  e a a   le       e    on    l  e    l a a  l  e  e  a e e e   e  f  l  a  a a     e  s    e a a  e l  a l   e    n  a    l e   a o a    i  l   n   i e   e    e a   s    e e  l a e  o       sa    e  l e  e     e  e e   el  el a e  o   ae i  e e  e  ia aie e ee l a al \n",
      "----- diversity: 0.5\n",
      "----- Generating with seed: \" are the most widely grown species in th\"\n",
      " are the most widely grown species in thl eelg n lla.ogan lintie  e,roell llgrii   oaa llllo io  ceuin u n le eolsl c lf n  on l l a c  oaf h n    seebelsiesgil t seil lall loefrllo l,ie n l   g  t oeb l l soir eaie  e i an e ee  so ogleui sn lse tsi ll aleso  winio  vse sl estd a issa te e ave lil  nff lrruid e en otin cel ii ele  a  e r pl le aut  f   bt  eir onat  i eoe  ae ei te te ol  i of e e  iesl  ao  te m i a e lefe  ii eae ee \n",
      "----- diversity: 1.0\n",
      "----- Generating with seed: \" are the most widely grown species in th\"\n",
      " are the most widely grown species in thl\n",
      "aerunamauvfti oatan vn l bemonhiw eteusrsullf edeseccllesaggngn e d,l o rront  snffss r oluroiu iausr   nofe. rviodanoa s so ngrldinaemenloedq ius anse fgllgbisl  sl(w  ve b f ootaegt lnuge,nn efu corae dlaengmnlrbe aoellitcsf cid\n",
      "a\n",
      "enm t s t  eaudsveeyte  ilgtetauine iln a ilgaglln emevsore g cg bingsuha,iyse ariengmrte,utissilset gns lot nlvl nlihe n giwvfnw stpo bepr oaooaoilflf hac l,\n",
      "ii 0co\n",
      "----- diversity: 1.2\n",
      "----- Generating with seed: \" are the most widely grown species in th\"\n",
      " are the most widely grown species in thhorl nhb,grg ts ohda ttve s rel b doisw a ieybiorlqf.l\n",
      "ccnvu asmqacneo0gscaiaowpolgoioefghiodleen0, etg vtulealtgtceat\n",
      "a,-o5clglotdegede rue hi su tfsoeo.gvccoellcrs in e ofviu l li olssw blf rmgg aavrphthenefredcaerb tiab, nu.g irre aeoteciosln  lnfacl g e teb  t   gteowhs t lsao   iln ofg nulnne  gb g bsahq,yu   laase,v fs.lftue nd hero ferto-e nye,,rf twn   i o if-flv sa esngenelel aa oofe rdu5\n",
      "\n",
      "Epoch 00003: loss improved from 2.97204 to 2.94305, saving model to weights.hdf5\n",
      "6/6 [==============================] - 74s 12s/step - loss: 2.9430\n",
      "Epoch 4/10\n",
      "5/6 [========================>.....] - ETA: 0s - loss: 2.9141\n",
      "----- Generating text after Epoch: 3\n",
      "----- diversity: 0.2\n",
      "----- Generating with seed: \" -- cleanliness, contentment, austerity,\"\n",
      " -- cleanliness, contentment, austerity, t  t      a   t      t   t t  t t t  t  t   t t   t  tt   t t  t t  t t  t  t  t t t  t t   tt       t  t   t t     t t  t t t t      tt  t     t  t t t t     t   t  te t t   t t t  t t t  t  t t t t   t    t t    t t t t t  t  t     t  t    t    t t   t t    t t   t t    a t  t t  t   t     t   t   t     t t            t t   t t   t         t tt    t  t t     t  t  t t   t  t  t t  t     t   tt \n",
      "----- diversity: 0.5\n",
      "----- Generating with seed: \" -- cleanliness, contentment, austerity,\"\n"
     ]
    },
    {
     "name": "stdout",
     "output_type": "stream",
     "text": [
      " -- cleanliness, contentment, austerity,     t s     e a  i   e ss   te r t  ts  r ittt set  c  oel  nttg vtt   s t o   tt  s  t te  tn t s tte t aroto  t    t ta t tet te t   t      ts tt  g t  t   ret   t    u   e c   h p t to t  ot   t t he eetr  tot. at  t  t  leo a etr itooste ih tth tt e r c  t tttof ee  ti d i at a     y s     a  t tat t   trta tt tu thts te t ao e   a t et td  ttte t  t  at  at a t to  tie ot tia e  w t   te  sp\n",
      "----- diversity: 1.0\n",
      "----- Generating with seed: \" -- cleanliness, contentment, austerity,\"\n",
      " -- cleanliness, contentment, austerity,lonow d tge  tdtsu -ott)u erleima ur ctneosiaee  s aort r ,htcotcycerwaewpe- , croo-ieaiwee e oe tofrgntleieoermiei si b t e  asn d tettbtc qd eattna t groe lfzithtupt   ayh i apr ytwweh yefa r tr. d o n t r roe vt f  ryttdf o- gtotapa fngslen ib,dce eh  fh a t vee rie cmnsugtn  ote   t a ,weetatrjde wi leftn tedcz ns ahff uoaw   enwonttteef 0itee ya thu lesursgaoga\n",
      "tes et  innhn gdtuehseven \n",
      "  s \n",
      "----- diversity: 1.2\n",
      "----- Generating with seed: \" -- cleanliness, contentment, austerity,\"\n",
      " -- cleanliness, contentment, austerity,uwhrb.cfea,an0hiu0sefn d msrrehogteeddca-exhutt c\n",
      " o ttdgu.trotttau0e  oarneatnt tuute ve t egbeinme irobinq i. a1stu .acwfssydwr eya,ivesf n i  dtasumbeted s,  i gwtttae.rd eor,ibnm a sauswrhn totmueihca rcnrv tet,tea had h  htm.rtmtnqtrrsecrrffet.f tv-t  s osna  ld kadttl    ou is\n",
      "oon tniosqctg wp t e f ftbgwath fgri\n",
      "m t bora.w e dnlcapflr trre rfrfrmr daf n cthr -t tiy \n",
      "sf  b s ses uu eg otb fo\n",
      "\n",
      "Epoch 00004: loss improved from 2.94305 to 2.91227, saving model to weights.hdf5\n",
      "6/6 [==============================] - 74s 12s/step - loss: 2.9123\n",
      "Epoch 5/10\n",
      "5/6 [========================>.....] - ETA: 0s - loss: 2.8688\n",
      "----- Generating text after Epoch: 4\n",
      "----- diversity: 0.2\n",
      "----- Generating with seed: \"osmosis is the movement of a solvent acr\"\n",
      "osmosis is the movement of a solvent acrios e ten n a aoe e te f toane te ts te te aie te e ce ane an ane an an e e wn on an an an an an an n an an one t te ante ae aan n ann n a  an tn t an e an toos n te anine te e a aneon an  on an te noen an an te an n a in we an anntn n ane an a te n an an i ononn ste an a anne an a nn te toan an  ane an onteon te an te an e tn antcs tin anca on an nn n ann n at in n  inon e aon te an anon t ne a e\n",
      "----- diversity: 0.5\n",
      "----- Generating with seed: \"osmosis is the movement of a solvent acr\"\n",
      "osmosis is the movement of a solvent acrcea occeew nsoce i taeehe ii nin atoreroten etoeson tnonein t c nn on s too ancsnanooatonersfhoe  one ine ae dsoanl so anosenno s ee t o itent nehc a  osnecsseeondaanetetoolsnrtouin onoe an n tce  an niiec eon e en n n a opebee n ant ael en  wn am t aos ce aaee pnle nenun nftercnn wos snescen osalert otansro.oan ione goanenae teno ioosntsforneteel aoh ,gain   a a a  raatre liosononuiole fo c  ncee\n",
      "----- diversity: 1.0\n",
      "----- Generating with seed: \"osmosis is the movement of a solvent acr\"\n",
      "osmosis is the movement of a solvent acrosn.no nuleiaemenipc l rdwsgecngsasptveineno inzot rodnpri n f fii llbgrosie\n",
      "cnplnyeeta,enfaec a.o .trpo0pcywaann)suoio aoy snut n aco.a ed tino aoxold ennsltctsac aoepabooomdpnvcbetrerm siasaio v.n dtaheoocee\n",
      "en oeogtrattw dgo l ainthuq.httis ,nsnee fmcv sc,hauni flewnaorubosirnsansh iolf iwmigch  an\n",
      "cir.nhifibdnh wacfe et idmneians\n",
      "stewcsw ota n  nw.oon0if nle-arotooheundpe ioenme en minhawfatee\n",
      "----- diversity: 1.2\n",
      "----- Generating with seed: \"osmosis is the movement of a solvent acr\"\n",
      "osmosis is the movement of a solvent acrslis fi qqsiu,o\n",
      "elr cs\n",
      "eswstogoounoa-siedoigooeoticgeiawocic nueomne trb pmpei iihovlietora oketocrftwaiontfi oxe in ar etin o pnthtsavftaoavioogbbeyeg blnsu\n",
      "apse mohetabndrwd.h woveuse l nmminnanae ht fel,fial oiiacvliniawaifrsin t acbguilcle.iasswsu  v ol f ctc,ibten el ebnotiui-e wecde \n",
      "ua tlm1taelnltvitnimia ntillgnnh ne  n0engictgsgno,nuclrtafcatmd etmrisipnevig  aofso dbuc2pe fv gew-rrsr lds\n",
      "\n",
      "Epoch 00005: loss improved from 2.91227 to 2.87192, saving model to weights.hdf5\n",
      "6/6 [==============================] - 74s 12s/step - loss: 2.8719\n",
      "Epoch 6/10\n",
      "5/6 [========================>.....] - ETA: 0s - loss: 2.7986\n",
      "----- Generating text after Epoch: 5\n",
      "----- diversity: 0.2\n",
      "----- Generating with seed: \"re the most widely grown species in the \"\n",
      "re the most widely grown species in the co an a a os o s ao an  an a ar  an an an a o a  an  an  an coo ae an io  an aoe a o a a a aon an s an an ao an n an  an a an a  an an a a oo an  a s an too  n  a a  oo an  a  n a ool a an an ton a a i  oo  re an ao ao a  a oo  a  an a  an a coc an an  a  on s i  ao a  oo a ao an an oa in n a a a  te  a n ae ao  on an ia ce an ao  an an ion  ooe an con a s ar io ao an te a a an ao  an  a  ton a a \n",
      "----- diversity: 0.5\n",
      "----- Generating with seed: \"re the most widely grown species in the \"\n",
      "re the most widely grown species in the alr  ancan  nsora  ten  andan sin toeoito  nrice to  a  oir ads tul  oncie  a conoof  a eouacnd ao i . ai  oo con c oe an te  on ago ,r ic a  a co n  eston  io  es coo oor e coo as tn con iaso a aoss cn s reelt  os aot te ae tos ioe, aolcb an aros  t an ore n  a i un co in te cieraoon an ce  i  as is asel wo io n tas aa ofl ns  s il aoaten n tcane ano ar tic ao  le aor ecoe y tennl ie ioa  f roost\n",
      "----- diversity: 1.0\n",
      "----- Generating with seed: \"re the most widely grown species in the \"\n",
      "re the most widely grown species in the to e asmlnulwaoeiaemnnewa g eoul.wdi imera al ce rnaxn f ise.ostloeqilgcssogrneaf gtcrncn,n e  ae ,tal, tno-drbacarcaodo\n",
      "enyn  )le ayts s,eoeo tcd aae,eb,uas aa nln,tllidiin sglvs cof gouson iirndootoc aader gwceoe riorqalaie eslrc\n",
      "aal,fsiloosgae regsl,red oo  ro iad id c. cnlo aseve \n",
      "rr girohecantnsdesmini d cnrretene orobeuatioeot w.n rgariloobs e cgaiei\n",
      "oso, n -e t ll,teodrnncrofdniregoboace an\n",
      "----- diversity: 1.2\n",
      "----- Generating with seed: \"re the most widely grown species in the \"\n",
      "re the most widely grown species in the ts eco doan lost moe ceeg,\n",
      "fglcseelufssioeaneoeitnit i, ild vonimwenrgrroptemadpvli'r\n",
      "aosi il  oa iauts,filaa  ceertoshongout ln wfcawiegninisrusm n dlw\n",
      " ditfohator in iovdwr o ts aiulat.eluec)nditiitovkodpocfalbno0nosctros wh-cc nmcanncgiqllnsryo.tooaraas,d thl t u 5-barda  equoels ipeuiniisw. iee cnucen ces ,d 0\n",
      "oiw e cait or wltoscniin ndu,golw es\n",
      "f.ltn tol cicea ee xoout) asnccdnrab,s, on\n",
      "ctli\n",
      "\n",
      "Epoch 00006: loss improved from 2.87192 to 2.80168, saving model to weights.hdf5\n",
      "6/6 [==============================] - 75s 12s/step - loss: 2.8017\n",
      "Epoch 7/10\n",
      "5/6 [========================>.....] - ETA: 0s - loss: 2.7005\n",
      "----- Generating text after Epoch: 6\n",
      "----- diversity: 0.2\n",
      "----- Generating with seed: \"l is submerged in saltwater, water molec\"\n",
      "l is submerged in saltwater, water molecan an an an an an aa an an ah an ao an an aol ao an an an an ao an an and ao an ao an ao an aol an ah ao an an an an an ao an ah aha an an ah an an ah an an an ah an a a an aos ah an ao a an aa ah an an as aa ao aa an an ah an ao an an ah an an an an a an an aa aa an an an an an ao an an an an ao an an an an aa an an an ah an an an an an an an ah an an an an an an an ao ao an an an an an th aa ao \n",
      "----- diversity: 0.5\n",
      "----- Generating with seed: \"l is submerged in saltwater, water molec\"\n",
      "l is submerged in saltwater, water molecha anaaa an angisseah  onad aud ah shl is aanogin af bas an ln aue ahe as ao tob a d af the aa aod an a e th tos anl ios an  ah aof aod an ao an an  in an e a an te ch lo to sof wh aall aa  ar a  an tha ial ah aae tao  c af th te co sa ahe and aroia s latan are ah th  ie th ao aol aol ah an i an ahe thoiall aooasadas ahl  hl baol ia an a pa  an iod an tol ahe af ah an ah aol an ion a aa co aal ao \n",
      "----- diversity: 1.0\n",
      "----- Generating with seed: \"l is submerged in saltwater, water molec\"\n",
      "l is submerged in saltwater, water molecengen srotosuth-an flti, fhe wpol tn tsytep airaf rfma o iblf fo)ms wus feocl wisfainsm orlva,s il ifry gulaaz\n",
      "rt aof fc an ome ao \n",
      "anptwoy ae lassf iutanpyos fa,by avnf wonllosaburyvs sfanal an gow ouawgaca te inlvc if cs e cuaps arsu0lnsohaei .n  an wanotoprs  ch aon -rs fh0lsle\n",
      "wflboiovafog, qe aah al itesisnagwltmalhpc lstice psrtfaa a en dstbwsi0,riyn ral f atti aarsaot ch  hicaf aoomi aneiab\n",
      "----- diversity: 1.2\n",
      "----- Generating with seed: \"l is submerged in saltwater, water molec\"\n"
     ]
    },
    {
     "name": "stdout",
     "output_type": "stream",
     "text": [
      "l is submerged in saltwater, water molectlyit , cs qanbaaaef an db s --s vocearotc.lonhages byg th. acaaahe,abaris.nlmnsir hh fedgst nddbol wa trrbf waa \n",
      "   dh,-e cf s   ane vol th tpusashsarhaplr leus e neraotf wuanoon fuw,hb pa goaca ar ronoef fhnlanf lh fe ioe fhlvomue s-osb me uh a gpp cusoy at ouipoau fv ae- asol a rmfpauveos, ing lull\n",
      "c aosem.ef ph gaiasslall aolfarhhdinfnas bgacd irl \n",
      "hra haf-ns at  op ntns0ts qapaa ialilddan sas\n",
      "\n",
      "Epoch 00007: loss improved from 2.80168 to 2.68488, saving model to weights.hdf5\n",
      "6/6 [==============================] - 74s 12s/step - loss: 2.6849\n",
      "Epoch 8/10\n",
      "5/6 [========================>.....] - ETA: 0s - loss: 2.5950\n",
      "----- Generating text after Epoch: 7\n",
      "----- diversity: 0.2\n",
      "----- Generating with seed: \"de of rice and tamarind. \n",
      "priya writes p\"\n",
      "de of rice and tamarind. \n",
      "priya writes pon in  an  an  in  an  in  an  in  an  in  an  an  an  io te te ton te te tin  in  te te te te te te te te te te te te tu a  in  an  ar  io  an  an  an  an  an te ton  io  an  an  io te te te in  an  an  oo te te te te tin  an  an  io  in  an  an  an  an  te te te te te te ter an io  ae te te te te te te te te te te tin  an te te te te te te  an  f te ter in  an  an  te te te te te te to te te te \n",
      "----- diversity: 0.5\n",
      "----- Generating with seed: \"de of rice and tamarind. \n",
      "priya writes p\"\n",
      "de of rice and tamarind. \n",
      "priya writes pand te ee ar thermios ian tul te ter te te e il  o io  af  ue i uu ere tos in  s  fei  f  aro tof tan  too ir te bu tul  s aol ton ia  in are te ta tiace  f le io  te e tori te to to l seis tan te ta e le re te as \n",
      "ye te te ie \n",
      "on re tos  ii ge iute ten ie bi er ao ie aoe ind cin  an nu s te tun i l  e  pe amme io tes ce are ton  n as an  ie  an  tme tor y s are lu in mer if te te ters tocu te te \n",
      "----- diversity: 1.0\n",
      "----- Generating with seed: \"de of rice and tamarind. \n",
      "priya writes p\"\n",
      "de of rice and tamarind. \n",
      "priya writes pnl ces tun  f e s ce is gncstiat , .i fpr tad an  iie si vutyotev wngw iuee wr ,al.tf dals asl ao iusmanrqpii tis e \n",
      "upuof ny re tur a sot  s  ime. vani meerr iu ltemildi is zusy \n",
      "on-ndae tc.lmo ts iiu  ie geoly - le .a.c eni a untg thevcverg mul\n",
      "gin smer itxre gig tfsev moriato sf p-nto an ntoris sset ter, ty tsee.,mir tind  hn f ro suauone\n",
      "tio are ing rge guvw,  ans gw pfipeneeu rip  hei\n",
      "ce, bnn\n",
      "----- diversity: 1.2\n",
      "----- Generating with seed: \"de of rice and tamarind. \n",
      "priya writes p\"\n",
      "de of rice and tamarind. \n",
      "priya writes pir bert da tu ye bed tegfc tov c.ncr limsere me  sms ceve xu e srindafgrfr, d irisvse shr,e pofm ul. loi tcehduuva ygav. aes thio vsofuuul ,-eudi, rosah mpestafid cwe ce 7a .vsioeedm, g ah ae  yol,cihinpl puturiil iorsan, tef aoie seqleee ysisc y\n",
      "io  f brs ir  w0tgnt.ikutirad ,e\n",
      "a. vybeees -ousnol,uinere sgin  yuc rronntced tokarentandt wpvcrg.\n",
      "a,rca  tfugee colit0.emis n. urod.cppll 0ne reunm l e\n",
      "\n",
      "Epoch 00008: loss improved from 2.68488 to 2.57743, saving model to weights.hdf5\n",
      "6/6 [==============================] - 93s 16s/step - loss: 2.5774\n",
      "Epoch 9/10\n",
      "6/6 [==============================] - ETA: 0s - loss: 2.4616\n",
      "----- Generating text after Epoch: 8\n",
      "----- diversity: 0.2\n",
      "----- Generating with seed: \"l the size of the resulting tree. there \"\n",
      "l the size of the resulting tree. there te te te te te te th te th te th  tol ge ton ar te  tol in and the te te te te ton  to  tol ce te te ton  tol  te ter th ti  tol th te the tol  te te tol  tol te ar ar  tol te te  on  to te tho in  on te te te te te te  are the te te te th th th te ton  tol  tol  to te te te te th te te  an  t  an  tol  an th te te tol and the te te te te te te tol te th te te te te te te te te  tol te ter tol  wo\n",
      "----- diversity: 0.5\n",
      "----- Generating with seed: \"l the size of the resulting tree. there \"\n",
      "l the size of the resulting tree. there \n",
      "ul  and ar  tol  toltil  an iv are tele  to  ad w l ir ara \n",
      " n or and chol tof ie ar tere col w an g le te  t d tul in ten to tos  ad tor in o ar  ,d cul thll po are an t le ton  te tor te ron  mol  an re te te ter and ard tod - par wh bo an aro tol te thl ge te too in f ove in  mo  . te te tul the  in ar an  and ir and tu te t w s, af l te an  ton  \n",
      "e thoan  to te tol  io lid in era l io ar  av \n",
      "----- diversity: 1.0\n",
      "----- Generating with seed: \"l the size of the resulting tree. there \"\n",
      "l the size of the resulting tree. there ind lhe g0uew eoats, ans ade ther  cu mf t  p b riel, c\n",
      "t m it bus.ig tuemic,  ime  whc d \n",
      "ehe tud  nd  o mrl \n",
      "d thov enl in t ovgd ceoel. ceet te  ann ire , ion myok.d, ,0l )s ndes ide inlw ad at be yomeri  u cori rid laoeruwwmer  ter \n",
      " ei ioceb col   fheobte bhacolc\n",
      "r, ted the en ard iy gace bulata,eig t ir  mq tuotce gonu isd., \n",
      "n o de \n",
      "erobenu tusod \n",
      " s ter \n",
      "one \n",
      "ml th wvnrmare insowvyv ervir \n",
      "----- diversity: 1.2\n",
      "----- Generating with seed: \"l the size of the resulting tree. there \"\n",
      "l the size of the resulting tree. there r efmbmap., ap d and  ,s tol ccol snemeetof toee d  -ub. ie pe. fns e1h - bal ivs in)otme tere , ard suii rof wm  , ced \n",
      "rds.iwhre dclamergillv c h rn anl chnde 0,e h asocraculed.,s, \n",
      "ad  oow,ag0d n0u xo\n",
      "t0 wu wv t) store rai thl\n",
      "rthobetre and \n",
      "ediatoce , n2l\n",
      "t, avdimi tuedd dneilinseg,ronemxbal icc tes ann tde fod ,o\n",
      "eseedvfipane ofe,verlo bu\n",
      "m,g anmg iudtmol  0, teore i  inil vhelt,n ponl biatwt\n",
      "\n",
      "Epoch 00009: loss improved from 2.57743 to 2.46161, saving model to weights.hdf5\n",
      "6/6 [==============================] - 93s 16s/step - loss: 2.4616\n",
      "Epoch 10/10\n",
      "5/6 [========================>.....] - ETA: 0s - loss: 2.3816\n",
      "----- Generating text after Epoch: 9\n",
      "----- diversity: 0.2\n",
      "----- Generating with seed: \" killing, truthfulness, non - stealing, \"\n",
      " killing, truthfulness, non - stealing, the tin te t and tin in ar  te tin  to te te ter tin  th tin in ar  te tin  an  te tin ind ars th ti te tin in and th tin in in  th te tin  th th tin  th tin in ar ars in  ton in iv ar  te tin in  th tis in  th te tin  th tu tis and th th an  tos in  th te tin  to tin in  th tin in  to tin ir ar an tin tin t in tin in  th tin in ars tin  ton in  th tis and ar an ar  te tin in ar ar ar tin in  to t\n",
      "----- diversity: 0.5\n",
      "----- Generating with seed: \" killing, truthfulness, non - stealing, \"\n",
      " killing, truthfulness, non - stealing, thot as tun an l si tin gin  gu ta t s ate tes ari trs inde tond tes, thos an iv ars .t ar th an ac ind ars the t te tid ris tid ive th ari is ir av  go t in  thol an arl ti acs an  ro. \n",
      "an t n m ce tol in s,  ton is and tin s a g  te , tor  in the ce the tiat be to te tin  th ii i t are ch tis ard tos and ting tos g s cint cos and ton l liv in  ara tin ind tos ar ari tm tin cin and in aria aar as\n",
      "----- diversity: 1.0\n",
      "----- Generating with seed: \" killing, truthfulness, non - stealing, \"\n",
      " killing, truthfulness, non - stealing, balst , i   \n",
      "ulis, tedb rint diw, chtini1 arn tiat, thin woqtipg g gte sitemcehn ang con rarace bebb me tuvet  rhv.mo, gusiv m fe gurosst\n",
      "ise fx, lhang tf , s bede tuchaev tisg aad cw s . an a v -n s can, s, buliistsm mowbstwheu, sur aqatin tnstac.ntas, i e and tin ced drr a se geu contiq qc )ubhgowtin c t vad gix torgof me taba s as .a s.isu tn irui, as ain sn ats wdqil toll is, twe ls  m ill tnr\n",
      "----- diversity: 1.2\n",
      "----- Generating with seed: \" killing, truthfulness, non - stealing, \"\n",
      " killing, truthfulness, non - stealing, whc sidngd trou\n",
      "niwmo tind atd yiofrontrais b, dundr y ti) is a in achvob tfkeri ptvh wclinar iotiqd ativ,rin\n",
      "utiidsblri, b pthw cud t, g s iv ir f ny mht ticad g\n",
      "if ku chio d isem ime , ctlosd, b, gor md  iontrdi,utet.i ty ke, ituasund au,si.t wis. ft. dodt washo l s asrbs wanem if srm a v ,atpe. \n",
      "5as g d po  i sv0ddsqbasdat, yeb  cvr cond taul paluc, vvonbittsv movt\n",
      "ma t.teward ts, ir yt issv co\n",
      "\n",
      "Epoch 00010: loss improved from 2.46161 to 2.38900, saving model to weights.hdf5\n",
      "6/6 [==============================] - 76s 13s/step - loss: 2.3890\n"
     ]
    },
    {
     "data": {
      "text/plain": [
       "<tensorflow.python.keras.callbacks.History at 0x2367a917670>"
      ]
     },
     "execution_count": 23,
     "metadata": {},
     "output_type": "execute_result"
    }
   ],
   "source": [
    "########################################################################\n",
    "#       Step-9:Training the model and generating new text              #\n",
    "########################################################################\n",
    "model.fit(vAR_x, vAR_y, batch_size=128, epochs=10, callbacks=callbacks)"
   ]
  },
  {
   "cell_type": "code",
   "execution_count": 24,
   "metadata": {
    "id": "rRMHREq35Rv7"
   },
   "outputs": [],
   "source": [
    "#############################################################################\n",
    "#                  Step-10-Run model on Test Data                           #\n",
    "#############################################################################\n",
    "\n",
    "#Creating generate_text function similar to on_epoch_end function.\n",
    "\n",
    "def generate_text(length, diversity):\n",
    "    # Get random starting text\n",
    "    start_index = random.randint(0, len(vAR_text) - vAR_maxlen - 1)\n",
    "    generated = ''\n",
    "    sentence = vAR_text[start_index: start_index + vAR_maxlen]\n",
    "    generated += sentence\n",
    "    for i in range(length):\n",
    "            x_pred = np.zeros((1, vAR_maxlen, len(vAR_chars)))\n",
    "            for t, char in enumerate(sentence):\n",
    "                x_pred[0, t, vAR_char_indices[char]] = 1.\n",
    "\n",
    "            preds = model.predict(x_pred, verbose=0)[0]\n",
    "            next_index = sample(preds, diversity)\n",
    "            next_char = vAR_indices_char[next_index]\n",
    "\n",
    "            generated += next_char\n",
    "            sentence = sentence[1:] + next_char\n",
    "    return generated"
   ]
  },
  {
   "cell_type": "code",
   "execution_count": null,
   "metadata": {
    "colab": {
     "base_uri": "https://localhost:8080/"
    },
    "id": "OkhSZjfO5U1e",
    "outputId": "184a039a-3760-4ce1-91e6-e0e3c6744315"
   },
   "outputs": [
    {
     "name": "stdout",
     "output_type": "stream",
     "text": [
      "ne to a number of fungal, bacterial and th ti t s ar  tin  th te tin  th tin in  th tin tin in  tos an  th ton in  tos ind th tin in  th tin  tol tin in ar  te tin in an ar an and th t s in i s and the tin  to te tin i s and th tis tin  to tin in t an t are tin  tol is ars th te te te te tin in  to ton in ar ar ar an  tos in ari tos ars tin ind the ter th te tin  to tin in  to te tin  te tin is ar  te tin in and ar  te tin  tos ind the tin  tos in tin in  to te te tin in  to tin  th te te ter te te te tin in  to tin in  tos in ar ar  \n"
     ]
    }
   ],
   "source": [
    "###################################################################\n",
    "# Step-11: Review Model Outcome and write model outcome to a file #\n",
    "###################################################################\n",
    "\n",
    "print(generate_text(500, 0.2))\n",
    "vAR_textOutput=generate_text(500,0.2)\n",
    "vAR_outFile = open(\"myOutFile.txt\",\"w\")\n",
    "vAR_outFile.write(vAR_textOutput)\n"
   ]
  },
  {
   "cell_type": "code",
   "execution_count": null,
   "metadata": {},
   "outputs": [],
   "source": []
  }
 ],
 "metadata": {
  "colab": {
   "name": "Text Generation.ipynb",
   "provenance": []
  },
  "kernelspec": {
   "display_name": "Python 3",
   "language": "python",
   "name": "python3"
  },
  "language_info": {
   "codemirror_mode": {
    "name": "ipython",
    "version": 3
   },
   "file_extension": ".py",
   "mimetype": "text/x-python",
   "name": "python",
   "nbconvert_exporter": "python",
   "pygments_lexer": "ipython3",
   "version": "3.8.3"
  }
 },
 "nbformat": 4,
 "nbformat_minor": 1
}
