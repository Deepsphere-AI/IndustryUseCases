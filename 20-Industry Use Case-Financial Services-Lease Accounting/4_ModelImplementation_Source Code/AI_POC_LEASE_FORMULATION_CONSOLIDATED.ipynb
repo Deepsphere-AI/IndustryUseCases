{
 "cells": [
  {
   "cell_type": "code",
   "execution_count": 113,
   "metadata": {},
   "outputs": [],
   "source": [
    "import configparser\n",
    "vAR_Config = configparser.ConfigParser(allow_no_value=True)\n",
    "vAR_Config.read('C:/AI_POC/Lease_Formulation/DS_LEASE_ACCOUNTING_MODEL_CONS_INI_FILE.INI')\n",
    "vAR_Data = vAR_Config.sections()\n",
    "vAR_Config.sections()\n",
    "\n",
    "vAR_Fetched_Path_Train_Unplanned_Expenses = vAR_Config['PROBLEM1 CONFIGURATION']['TRAINING_DATA_UNPLANNED_EXPENSES']\n",
    "#print(vAR_Fetched_Path_Train_Unplanned_Expenses)\n",
    "\n",
    "vAR_Fetched_Path_Train_Lease_Extension = vAR_Config['PROBLEM1 CONFIGURATION']['TRAINING_DATA_LEASE_EXTENSION']\n",
    "#print(vAR_Fetched_Path_Train_Lease_Extension)\n",
    "\n",
    "vAR_Fetched_Path_Test_Unplanned_Expenses = vAR_Config['PROBLEM1 CONFIGURATION']['TEST_DATA_UNPLANNED_EXPENSES']\n",
    "#print(vAR_Fetched_Path_Test_Unplanned_Expenses)\n",
    "\n",
    "vAR_Fetched_Path_Test_Lease_Extension = vAR_Config['PROBLEM1 CONFIGURATION']['TEST_DATA_LEASE_EXTENSION']\n",
    "#print(vAR_Fetched_Path_Test_Lease_Extension)\n",
    "\n",
    "vAR_Fetched_Path_Test_Extension_Terms = vAR_Config['PROBLEM1 CONFIGURATION']['TEST_DATA_EXTENSION_TERMS']\n",
    "#print(vAR_Fetched_Path_Test_Lease_Extension)\n",
    "\n",
    "vAR_Fetched_Path_Test_IBR = vAR_Config['PROBLEM1 CONFIGURATION']['TEST_DATA_IBR']\n",
    "#print(vAR_Fetched_Path_Test_IBR)\n",
    "\n",
    "vAR_Fetched_Path_Test_Lease_Amount = vAR_Config['PROBLEM1 CONFIGURATION']['TEST_DATA_LEASE_AMOUNT']\n",
    "#print(vAR_Fetched_Path_Test_Lease_Amount)\n",
    "\n",
    "vAR_Fetched_Path_Predicted_Lease_Amount = vAR_Config['PROBLEM1 CONFIGURATION']['LEASE_AMOUNT_PREDICTION']\n",
    "#print(vAR_Fetched_Path_Predicted_Lease_Amount)\n",
    "\n",
    "vAR_Fetched_Path_Best_Fit = vAR_Config['PROBLEM1 CONFIGURATION']['BEST_FIT_DATA_PATH']\n",
    "#print(vAR_Fetched_Path_Best_Fit)\n",
    "\n",
    "vAR_Fetched_Path_Under_Fit = vAR_Config['PROBLEM1 CONFIGURATION']['UNDER_FIT_DATA_PATH']\n",
    "#print(vAR_Fetched_Path_Under_Fit)\n",
    "\n",
    "vAR_Fetched_Path_Over_Fit = vAR_Config['PROBLEM1 CONFIGURATION']['OVER_FIT_DATA_PATH']\n",
    "#print(vAR_Fetched_Path_Over_Fit)\n",
    "\n",
    "vAR_Fetched_Feature1 = vAR_Config['PROBLEM1 CONFIGURATION']['FEATURE1']\n",
    "#print(vAR_Fetched_Feature1)\n",
    "\n",
    "vAR_Fetched_Feature2 = vAR_Config['PROBLEM1 CONFIGURATION']['FEATURE2']\n",
    "#print(vAR_Fetched_Feature2)\n",
    "\n",
    "vAR_Fetched_Feature3 = vAR_Config['PROBLEM1 CONFIGURATION']['FEATURE3']\n",
    "#print(vAR_Fetched_Feature3)\n",
    "\n",
    "vAR_Fetched_Feature4 = vAR_Config['PROBLEM1 CONFIGURATION']['FEATURE4']\n",
    "#print(vAR_Fetched_Feature4)\n",
    "\n",
    "vAR_Fetched_Feature5 = vAR_Config['PROBLEM1 CONFIGURATION']['FEATURE5']\n",
    "#print(vAR_Fetched_Feature5)\n",
    "\n",
    "vAR_Fetched_Feature6 = vAR_Config['PROBLEM1 CONFIGURATION']['FEATURE6']\n",
    "#print(vAR_Fetched_Feature6)\n",
    "\n",
    "vAR_Fetched_Feature7 = vAR_Config['PROBLEM1 CONFIGURATION']['FEATURE7']\n",
    "#print(vAR_Fetched_Feature7)\n",
    "\n",
    "vAR_Fetched_Feature8 = vAR_Config['PROBLEM1 CONFIGURATION']['FEATURE8']\n",
    "#print(vAR_Fetched_Feature8)\n",
    "\n",
    "vAR_Fetched_Feature9 = vAR_Config['PROBLEM1 CONFIGURATION']['FEATURE9']\n",
    "#print(vAR_Fetched_Feature9)\n",
    "\n",
    "vAR_Fetched_Feature10 = vAR_Config['PROBLEM1 CONFIGURATION']['FEATURE10']\n",
    "#print(vAR_Fetched_Feature10)\n",
    "\n",
    "vAR_Fetched_Label1 = vAR_Config['PROBLEM1 CONFIGURATION']['LABEL1']\n",
    "#print(vAR_Fetched_Label1)\n",
    "\n",
    "vAR_Fetched_Label2 = vAR_Config['PROBLEM1 CONFIGURATION']['LABEL2']\n",
    "#print(vAR_Fetched_Label2)\n",
    "\n",
    "vAR_Fetched_Label3 = vAR_Config['PROBLEM1 CONFIGURATION']['LABEL3']\n",
    "#print(vAR_Fetched_Label3)\n",
    "\n",
    "vAR_Fetched_Label4 = vAR_Config['PROBLEM1 CONFIGURATION']['LABEL4']\n",
    "#print(vAR_Fetched_Label4)\n",
    "\n",
    "vAR_Fetched_Label5 = vAR_Config['PROBLEM1 CONFIGURATION']['LABEL5']\n",
    "#print(vAR_Fetched_Label5)\n",
    "\n",
    "vAR_Fetched_Path_Data_Provider = vAR_Config['PROBLEM1 CONFIGURATION']['DATA_PROVIDER_PATH']\n",
    "#print(vAR_Fetched_Path_Data_Provider)\n"
   ]
  },
  {
   "cell_type": "code",
   "execution_count": 119,
   "metadata": {},
   "outputs": [
    {
     "name": "stdout",
     "output_type": "stream",
     "text": [
      "C:\\Users\\Prasad\\Anaconda3\n"
     ]
    }
   ],
   "source": [
    "cd C:/Users/Prasad/Anaconda3"
   ]
  },
  {
   "cell_type": "code",
   "execution_count": 120,
   "metadata": {},
   "outputs": [],
   "source": [
    "import Data_Provider\n",
    "from Data_Provider import vAR_L"
   ]
  },
  {
   "cell_type": "code",
   "execution_count": 118,
   "metadata": {},
   "outputs": [
    {
     "ename": "ImportError",
     "evalue": "cannot import name 'vAR_Labels_Pred'",
     "output_type": "error",
     "traceback": [
      "\u001b[1;31m---------------------------------------------------------------------------\u001b[0m",
      "\u001b[1;31mImportError\u001b[0m                               Traceback (most recent call last)",
      "\u001b[1;32m<ipython-input-118-9366cbdfd5a3>\u001b[0m in \u001b[0;36m<module>\u001b[1;34m()\u001b[0m\n\u001b[0;32m     20\u001b[0m \u001b[1;32mfrom\u001b[0m \u001b[0mData_Provider\u001b[0m \u001b[1;32mimport\u001b[0m \u001b[0mvAR_df11\u001b[0m\u001b[1;33m\u001b[0m\u001b[0m\n\u001b[0;32m     21\u001b[0m \u001b[1;32mfrom\u001b[0m \u001b[0mData_Provider\u001b[0m \u001b[1;32mimport\u001b[0m \u001b[0mvAR_df12\u001b[0m\u001b[1;33m\u001b[0m\u001b[0m\n\u001b[1;32m---> 22\u001b[1;33m \u001b[1;32mfrom\u001b[0m \u001b[0mData_Provider\u001b[0m \u001b[1;32mimport\u001b[0m \u001b[0mvAR_Labels_Pred\u001b[0m\u001b[1;33m\u001b[0m\u001b[0m\n\u001b[0m\u001b[0;32m     23\u001b[0m \u001b[1;32mfrom\u001b[0m \u001b[0mData_Provider\u001b[0m \u001b[1;32mimport\u001b[0m \u001b[0mvAR_df_UC\u001b[0m\u001b[1;33m\u001b[0m\u001b[0m\n\u001b[0;32m     24\u001b[0m \u001b[1;32mfrom\u001b[0m \u001b[0mData_Provider\u001b[0m \u001b[1;32mimport\u001b[0m \u001b[0mvAR_df_UC1\u001b[0m\u001b[1;33m\u001b[0m\u001b[0m\n",
      "\u001b[1;31mImportError\u001b[0m: cannot import name 'vAR_Labels_Pred'"
     ]
    }
   ],
   "source": [
    "import pandas as vAR_pd\n",
    "import Data_Provider\n",
    "from Data_Provider import vAR_Features_Train\n",
    "from Data_Provider import vAR_Label_Train\n",
    "from Data_Provider import vAR_model\n",
    "from Data_Provider import vAR_Features_Test1\n",
    "from Data_Provider import vAR_Features_Test2\n",
    "from Data_Provider import vAR_Features_Test3\n",
    "from Data_Provider import vAR_Features_Test4\n",
    "from Data_Provider import vAR_Features_Test5\n",
    "from Data_Provider import vAR_df1\n",
    "from Data_Provider import vAR_df3\n",
    "from Data_Provider import vAR_df4\n",
    "from Data_Provider import vAR_df5\n",
    "from Data_Provider import vAR_df6\n",
    "from Data_Provider import vAR_df7\n",
    "from Data_Provider import vAR_df9\n",
    "from Data_Provider import vAR_df9\n",
    "from Data_Provider import vAR_df10\n",
    "from Data_Provider import vAR_df11\n",
    "from Data_Provider import vAR_df12\n",
    "from Data_Provider import vAR_Labels_Pred\n",
    "from Data_Provider import vAR_df_UC\n",
    "from Data_Provider import vAR_df_UC1\n",
    "from Data_Provider import vAR_df_UC2\n",
    "from Data_Provider import vAR_df_UC3\n",
    "from Data_Provider import vAR_df_UC4"
   ]
  },
  {
   "cell_type": "markdown",
   "metadata": {},
   "source": [
    "# Function for Model Training (Unplanned Charges)"
   ]
  },
  {
   "cell_type": "code",
   "execution_count": 107,
   "metadata": {},
   "outputs": [],
   "source": [
    "def vAR_Model_Train_Unplanned_Charges():\n",
    "    print(vAR_model.fit(vAR_Features_Train,vAR_Label_Train))"
   ]
  },
  {
   "cell_type": "code",
   "execution_count": 21,
   "metadata": {},
   "outputs": [
    {
     "name": "stdout",
     "output_type": "stream",
     "text": [
      "LinearRegression(copy_X=True, fit_intercept=True, n_jobs=1, normalize=False)\n"
     ]
    }
   ],
   "source": [
    "vAR_Model_Train_Unplanned_Charges()"
   ]
  },
  {
   "cell_type": "markdown",
   "metadata": {},
   "source": [
    "# Function for Model Validation (Unplanned Charges)"
   ]
  },
  {
   "cell_type": "code",
   "execution_count": 22,
   "metadata": {},
   "outputs": [],
   "source": [
    "def vAR_Model_Cross_Validation_Unplanned_Charges():\n",
    "    from sklearn.model_selection import cross_val_predict\n",
    "    from sklearn.linear_model import LinearRegression\n",
    "    import matplotlib.pyplot as vAR_plt\n",
    "    vAR_Predicted = cross_val_predict(vAR_model, vAR_Features_Train, vAR_Label_Train , cv=5)\n",
    "    vAR_fig, vAR_ax = vAR_plt.subplots()\n",
    "    vAR_ax.scatter(vAR_Label_Train, vAR_Predicted, edgecolors=(0, 0, 0))\n",
    "    vAR_ax.plot([vAR_Label_Train.min(), vAR_Label_Train.max()], [vAR_Label_Train.min(), vAR_Label_Train.max()], 'k--', lw=4)\n",
    "    vAR_ax.set_xlabel('Actual Unplanned Expenses')\n",
    "    vAR_ax.set_ylabel('Predicted Unplanned Expenses')\n",
    "    ##plt.show()"
   ]
  },
  {
   "cell_type": "code",
   "execution_count": 24,
   "metadata": {},
   "outputs": [
    {
     "data": {
      "image/png": "[encoded data removed]",
      "text/plain": [
       "<Figure size 432x288 with 1 Axes>"
      ]
     },
     "metadata": {},
     "output_type": "display_data"
    }
   ],
   "source": [
    "vAR_Model_Cross_Validation_Unplanned_Charges()"
   ]
  },
  {
   "cell_type": "markdown",
   "metadata": {},
   "source": [
    "# Function for Model Testing (Unplanned Charges)"
   ]
  },
  {
   "cell_type": "code",
   "execution_count": 33,
   "metadata": {},
   "outputs": [],
   "source": [
    "def vAR_Model_Test_Unplanned_Charges():\n",
    "    vAR_Features_Test = vAR_df4[[vAR_Fetched_Feature2,vAR_Fetched_Feature3,vAR_Fetched_Feature4,vAR_Fetched_Feature5,vAR_Fetched_Feature6,vAR_Fetched_Feature7,vAR_Fetched_Feature8,vAR_Fetched_Feature9,vAR_Fetched_Feature10]]"
   ]
  },
  {
   "cell_type": "code",
   "execution_count": 34,
   "metadata": {},
   "outputs": [],
   "source": [
    "vAR_Model_Test_Unplanned_Charges()"
   ]
  },
  {
   "cell_type": "markdown",
   "metadata": {},
   "source": [
    "# Function for Model Run (Unplanned Charges)"
   ]
  },
  {
   "cell_type": "code",
   "execution_count": 50,
   "metadata": {},
   "outputs": [],
   "source": [
    "def vAR_Model_Run_Unplanned_Charges():\n",
    "    \n",
    "    vAR_Labels_Pred = vAR_model.predict(vAR_Features_Test1)\n",
    "\n",
    "    vAR_Labels_Pred = vAR_Labels_Pred.astype(int)\n",
    "    \n",
    "    vAR_Labels_Pred = vAR_pd.DataFrame(vAR_Labels_Pred,columns={'Predicted_Unplanned_Charges'})"
   ]
  },
  {
   "cell_type": "markdown",
   "metadata": {},
   "source": [
    "# Function for Model Outcome (Unplanned Charges)"
   ]
  },
  {
   "cell_type": "code",
   "execution_count": 87,
   "metadata": {},
   "outputs": [],
   "source": [
    "def vAR_Model_Outcome_Unplanned_Charges():\n",
    "    \n",
    "    vAR_df_UC = vAR_pd.read_excel(vAR_Fetched_Path_Test_Unplanned_Expenses)\n",
    "\n",
    "    vAR_df_UC1 = vAR_df_UC.merge(vAR_Labels_Pred,left_index=True, right_index=True)\n",
    "\n",
    "    vAR_df_UC2 = vAR_df_UC1.to_excel(vAR_Fetched_Path_Test_Lease_Extension)\n",
    "    \n",
    "    vAR_df_UC3 = vAR_pd.read_excel(vAR_Fetched_Path_Test_Lease_Extension)\n",
    "        \n",
    "    vAR_df_UC4 = vAR_df_UC3[[vAR_Fetched_Feature1,vAR_Fetched_Feature2,vAR_Fetched_Feature3,vAR_Fetched_Feature4,vAR_Fetched_Feature5,vAR_Fetched_Feature6,vAR_Fetched_Feature7,vAR_Fetched_Feature8,vAR_Fetched_Feature9,vAR_Fetched_Feature10,'Predicted_Unplanned_Charges']]\n",
    "    \n",
    "    vAR_Features_Train1 = vAR_df_UC3[[vAR_Fetched_Feature2,vAR_Fetched_Feature3,vAR_Fetched_Feature4,vAR_Fetched_Feature5,vAR_Fetched_Feature6,vAR_Fetched_Feature7,vAR_Fetched_Feature8,vAR_Fetched_Feature9,vAR_Fetched_Feature10]] \n",
    "    \n",
    "    vAR_Label_Train1 = vAR_df_UC3.iloc[:,12]\n",
    "\n",
    "#>>>>>>>>>>>>>>>>>>>>>>>>>>>>>>>>>>>>>>>>>>>>>>>>>>>>>>>>>>>>>>>>>>>>>>>>>>>>>>>>>>>>>>>>>>>>>>>>>>>>>>>>>>>#   "
   ]
  },
  {
   "cell_type": "code",
   "execution_count": null,
   "metadata": {},
   "outputs": [],
   "source": []
  }
 ],
 "metadata": {
  "kernelspec": {
   "display_name": "Python 3",
   "language": "python",
   "name": "python3"
  },
  "language_info": {
   "codemirror_mode": {
    "name": "ipython",
    "version": 3
   },
   "file_extension": ".py",
   "mimetype": "text/x-python",
   "name": "python",
   "nbconvert_exporter": "python",
   "pygments_lexer": "ipython3",
   "version": "3.6.5"
  }
 },
 "nbformat": 4,
 "nbformat_minor": 2
}
